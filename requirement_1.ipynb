{
 "cells": [
  {
   "cell_type": "markdown",
   "id": "9781bba6",
   "metadata": {},
   "source": [
    "# Requirement 1\n",
    "## *Single product and stochastic environment*"
   ]
  },
  {
   "cell_type": "code",
   "execution_count": 1,
   "id": "6add58db",
   "metadata": {},
   "outputs": [],
   "source": [
    "import numpy as np\n",
    "import matplotlib.pyplot as plt\n",
    "from scipy import stats\n",
    "from scipy import optimize"
   ]
  },
  {
   "cell_type": "markdown",
   "id": "e0bebfd1",
   "metadata": {},
   "source": [
    "### Environment\n",
    "A stochastic environment, where we have a distribution over the valuations of a single type of product"
   ]
  },
  {
   "cell_type": "code",
   "execution_count": null,
   "id": "bd70dbcd",
   "metadata": {},
   "outputs": [],
   "source": [
    "class SingleProductStochasticEnvironment:\n",
    "  def __init__(self, T, valuation_distr=stats.uniform):\n",
    "    self.T = T # Number of rounds\n",
    "    self.t = 0 # Starting round\n",
    "\n",
    "    # Valuation of each buyer sampled from the given distribution function\n",
    "    self.valuation = valuation_distr.rvs(size=T)\n",
    "\n",
    "  def round(self, p_t):\n",
    "    # Check if the buyer valuation is higher than product price\n",
    "    r_t = p_t if self.valuation[self.t] >= p_t else 0\n",
    "\n",
    "    # Update round\n",
    "    self.t = self.t + 1\n",
    "\n",
    "    return r_t"
   ]
  },
  {
   "cell_type": "markdown",
   "id": "bdf02f03",
   "metadata": {},
   "source": [
    "### Agent - *UCB1 algorithm* **ignoring the inventory constraint**"
   ]
  },
  {
   "cell_type": "code",
   "execution_count": 4,
   "id": "5977b98e",
   "metadata": {},
   "outputs": [],
   "source": [
    "class UCB1:\n",
    "    def __init__(self, T, P, range=1):\n",
    "        self.range = range # Range of the reward\n",
    "        self.P = P # Prices' set cardinality\n",
    "        self.T = T # Number of rounds\n",
    "        self.pi_t = None # Init price\n",
    "\n",
    "        self.average_rewards = np.zeros(self.P)\n",
    "        self.N_pulls = np.zeros(self.P)\n",
    "\n",
    "        self.t = 0 # Starting round\n",
    "\n",
    "    def pull_arm(self):\n",
    "        # Check if the round is less then number of prices\n",
    "        if self.t < self.P:\n",
    "            # then set it as product_price\n",
    "            self.pi_t = self.t\n",
    "        else:\n",
    "            # Compute UCB1\n",
    "            ucbs = self.average_rewards + self.range * np.sqrt(2 * np.log(self.T)/self.N_pulls)\n",
    "\n",
    "            # Extract the price that maximizes the UCB1\n",
    "            self.pi_t = np.argmax(ucbs)\n",
    "\n",
    "        return self.pi_t\n",
    "\n",
    "    def update(self, reward):\n",
    "        self.N_pulls[self.pi_t] += 1\n",
    "\n",
    "        # As average, we have (total purchasing) / (number of times of purchasing)\n",
    "        self.average_rewards[self.pi_t] += (reward - self.average_rewards[self.pi_t])/self.N_pulls[self.pi_t]\n",
    "        self.t += 1"
   ]
  },
  {
   "cell_type": "markdown",
   "id": "52de4009",
   "metadata": {},
   "source": [
    "### Clairvoyant - **ignoring invetory constraint**"
   ]
  },
  {
   "cell_type": "code",
   "execution_count": 5,
   "id": "b7096ce7",
   "metadata": {},
   "outputs": [],
   "source": [
    "class SingleProductStochasticClairvoyant:\n",
    "    def __init__(self, T, prices, valuation_distr=stats.uniform):\n",
    "        self.T = T\n",
    "        self.prices = prices\n",
    "\n",
    "        # This is probability distributions over valuations (scipy.stats)\n",
    "        self.valuation_distr = valuation_distr\n",
    "\n",
    "    def run(self):\n",
    "        # Probability of selling a product\n",
    "        selling_prob = 1 - self.valuation_distr.cdf(self.prices)\n",
    "\n",
    "        ## Liner programming\n",
    "        c = - self.prices * selling_prob # objective function coefficients\n",
    "\n",
    "        # Constraints\n",
    "        A_eq = [np.ones(len(self.prices))]\n",
    "        b_eq = [1]\n",
    "\n",
    "        # Resolve LP\n",
    "        res = optimize.linprog(\n",
    "            c, \n",
    "            A_eq=A_eq, \n",
    "            b_eq=b_eq, \n",
    "            bounds=(0, 1)\n",
    "        )\n",
    "        expected_utility = np.array([-res.fun for _ in range(self.T)])\n",
    "        \n",
    "        return expected_utility"
   ]
  },
  {
   "cell_type": "markdown",
   "id": "a17361fb",
   "metadata": {},
   "source": [
    "### Execution"
   ]
  },
  {
   "cell_type": "code",
   "execution_count": 9,
   "id": "3396a8c9",
   "metadata": {},
   "outputs": [
    {
     "data": {
      "text/plain": [
       "array([0.        , 0.04641589, 0.09283178, 0.13924767, 0.18566355,\n",
       "       0.23207944, 0.27849533, 0.32491122, 0.37132711, 0.417743  ,\n",
       "       0.46415888, 0.51057477, 0.55699066, 0.60340655, 0.64982244,\n",
       "       0.69623833, 0.74265421, 0.7890701 , 0.83548599, 0.88190188,\n",
       "       0.92831777, 0.97473366])"
      ]
     },
     "execution_count": 9,
     "metadata": {},
     "output_type": "execute_result"
    }
   ],
   "source": [
    "# Parameters\n",
    "T = 10000 # Time horizon\n",
    "\n",
    "# Prices\n",
    "price_step = T ** (-1/3) # From theory\n",
    "prices = np.arange(0, 1, price_step)\n",
    "P = len(prices)\n",
    "\n",
    "# Valuation distribution\n",
    "valuation_distr = stats.norm(loc=0.5, scale=1)"
   ]
  },
  {
   "cell_type": "code",
   "execution_count": 10,
   "id": "c8c9c135",
   "metadata": {},
   "outputs": [
    {
     "data": {
      "text/plain": [
       "array([0.31025298, 0.31025298, 0.31025298, ..., 0.31025298, 0.31025298,\n",
       "       0.31025298], shape=(10000,))"
      ]
     },
     "execution_count": 10,
     "metadata": {},
     "output_type": "execute_result"
    }
   ],
   "source": [
    "# Run clairvoyant\n",
    "clairvoyant = SingleProductStochasticClairvoyant(T, prices, valuation_distr)\n",
    "expected_clairvoyant_utilities = clairvoyant.run()\n",
    "expected_clairvoyant_utilities"
   ]
  },
  {
   "cell_type": "code",
   "execution_count": null,
   "id": "4f213759",
   "metadata": {},
   "outputs": [],
   "source": [
    "n_trials = 10\n",
    "regret_per_trial = []\n",
    "for trial in range(n_trials):\n",
    "\n",
    "  # Define environment and agent\n",
    "  env = SingleProductStochasticEnvironment(T, valuation_distr)\n",
    "  ucb_like_agent = UCB1(T, P, range=1)\n",
    "\n",
    "  agent_rewards = []\n",
    "\n",
    "  for t in range(T):\n",
    "    # This returns the price index\n",
    "    pi_t = ucb_like_agent.pull_arm()\n",
    "\n",
    "    # Get the actual price\n",
    "    p_t = prices[pi_t]\n",
    "\n",
    "    # Get reward\n",
    "    r_t = env.round(p_t)\n",
    "\n",
    "    # Update agent state\n",
    "    ucb_like_agent.update(r_t)\n",
    "\n",
    "    agent_rewards.append(r_t)\n",
    "\n",
    "  agent_rewards = np.array(agent_rewards)\n",
    "  cumulative_regret = np.cumsum(expected_clairvoyant_utilities - agent_rewards)\n",
    "  regret_per_trial.append(cumulative_regret)\n",
    "\n",
    "regret_per_trial = np.array(regret_per_trial)"
   ]
  },
  {
   "cell_type": "markdown",
   "id": "e28f329d",
   "metadata": {},
   "source": [
    "### Results"
   ]
  },
  {
   "cell_type": "code",
   "execution_count": 14,
   "id": "6ca45eb4",
   "metadata": {},
   "outputs": [
    {
     "data": {
      "image/png": "[encoded data removed]",
      "text/plain": [
       "<Figure size 640x480 with 1 Axes>"
      ]
     },
     "metadata": {},
     "output_type": "display_data"
    }
   ],
   "source": [
    "average_regret = regret_per_trial.mean(axis=0)  # media\n",
    "regret_sd = regret_per_trial.std(axis=0)        # deviazione standard\n",
    "\n",
    "t = np.arange(1, T+1)  # inizia da 1 per evitare t^{2/3} = 0^{2/3} = 0\n",
    "regret_theory = t**(2/3)\n",
    "\n",
    "plt.plot(t, average_regret, label=\"Average\")\n",
    "plt.fill_between(\n",
    "    t,\n",
    "    average_regret - regret_sd / np.sqrt(n_trials),\n",
    "    average_regret + regret_sd / np.sqrt(n_trials),\n",
    "    alpha=0.3,\n",
    "    label=\"Uncertainty\"\n",
    ")\n",
    "plt.plot(t, regret_theory, label=r\"$t^{2/3}$\", linestyle='--', color='red')\n",
    "\n",
    "plt.xlabel(\"$t$\")\n",
    "plt.ylabel(\"Regret\")\n",
    "plt.legend()\n",
    "plt.title(\"Regret vs Theoretical $t^{2/3}$ Growth\")\n",
    "plt.grid(True)\n",
    "plt.show()"
   ]
  },
  {
   "cell_type": "markdown",
   "id": "39d10098",
   "metadata": {},
   "source": [
    "### Agent - *UCB1 algorithm* **with the inventory constraint**"
   ]
  },
  {
   "cell_type": "code",
   "execution_count": null,
   "id": "fc0084f0",
   "metadata": {},
   "outputs": [],
   "source": [
    "class UCBLike():\n",
    "    def __init__(self, T, B, P, range=1):\n",
    "        self.T = T\n",
    "        self.P = P\n",
    "        self.range = range\n",
    "\n",
    "        self.pi_t = None\n",
    "        self.avg_f = np.zeros(self.P)\n",
    "        self.avg_c = np.zeros(self.P)\n",
    "        self.N_pulls = np.zeros(self.P)\n",
    "        self.budget = B\n",
    "\n",
    "        self.t = 0\n",
    "\n",
    "    def compute_opt(self, f_ucbs, c_lcbs):\n",
    "        # Per-round budget\n",
    "        rho = self.budget/self.T\n",
    "        \n",
    "        ## Linear programming\n",
    "        c = -f_ucbs\n",
    "\n",
    "        # Constraint\n",
    "        A_ub = [c_lcbs]\n",
    "        b_ub = [rho]\n",
    "\n",
    "        A_eq = [np.ones(self.P)]\n",
    "        b_eq = [1]\n",
    "\n",
    "        # Resolve LP\n",
    "        res = optimize.linprog(\n",
    "            c, \n",
    "            A_ub=A_ub, \n",
    "            b_ub=b_ub, \n",
    "            A_eq=A_eq, \n",
    "            b_eq=b_eq, \n",
    "            bounds=(0,1)\n",
    "        )\n",
    "\n",
    "        # Check if a solution is found\n",
    "        if res.success:\n",
    "            # in case, return it\n",
    "            gamma = res.x\n",
    "        else:\n",
    "            # otherwise, set 1 to UCB-maximizing price\n",
    "            gamma = np.zeros(len(f_ucbs))\n",
    "            gamma[np.argmax(f_ucbs)] = 1\n",
    "            \n",
    "        return gamma\n",
    "\n",
    "    def pull_arm(self):\n",
    "        # Check if budget is depleted\n",
    "        if self.budget < 1:\n",
    "            return None\n",
    "\n",
    "        if self.t < self.P:\n",
    "            self.pi_t = self.t\n",
    "        else:\n",
    "            # Upper Confidence Bound\n",
    "            f_ucbs = self.avg_f + self.range * np.sqrt( 2 * np.log(self.T)/self.N_pulls)\n",
    "\n",
    "            # Lower Confidence Bound\n",
    "            c_lcbs = self.avg_c - self.range * np.sqrt( 2 * np.log(self.T)/self.N_pulls)\n",
    "\n",
    "            # Price optimal distribution\n",
    "            gamma_t = self.compute_opt(f_ucbs, c_lcbs)\n",
    "\n",
    "            # Set current price\n",
    "            self.pi_t = np.random.choice(self.P, p=gamma_t)\n",
    "\n",
    "        return self.pi_t\n",
    "\n",
    "    def update(self, f_t, c_t):\n",
    "        # Update the number of pulled price\n",
    "        self.N_pulls[self.pi_t] += 1\n",
    "\n",
    "        # Update averages\n",
    "        self.avg_f[self.pi_t] = self.avg_f[self.pi_t] + (f_t - self.avg_f[self.pi_t])/self.N_pulls[self.pi_t]\n",
    "        self.avg_c[self.pi_t] = self.avg_c[self.pi_t] + (c_t - self.avg_c[self.pi_t])/self.N_pulls[self.pi_t]\n",
    "\n",
    "        # Update budget\n",
    "        self.budget = self.budget - c_t\n",
    "\n",
    "        self.t += 1"
   ]
  },
  {
   "cell_type": "markdown",
   "id": "2b8417fc",
   "metadata": {},
   "source": [
    "### Clairvoyant - **with inventory constraint**"
   ]
  },
  {
   "cell_type": "code",
   "execution_count": 95,
   "id": "9e8b5bbe",
   "metadata": {},
   "outputs": [],
   "source": [
    "class SingleProductStochasticInventoryClaivoyant:\n",
    "    def __init__(self, T, B, prices, valuation_distr=stats.uniform):\n",
    "        self.T = T\n",
    "        self.prices = prices\n",
    "        self.budget = B\n",
    "\n",
    "        # This is probability distributions over valuations (scipy.stats)\n",
    "        self.valuation_distr = valuation_distr\n",
    "\n",
    "    def run(self):\n",
    "        # Probability of selling a product\n",
    "        selling_prob = 1 - self.valuation_distr.cdf(self.prices)\n",
    "\n",
    "        # Per-round budget\n",
    "        rho = (self.budget / self.T) + 1\n",
    "\n",
    "        ## Liner programming\n",
    "        c = - self.prices * selling_prob # objective function coefficients\n",
    "\n",
    "        # Constraints\n",
    "        A_eq = [np.ones(len(self.prices))]\n",
    "        b_eq = [1]\n",
    "\n",
    "        A_ub = [selling_prob]\n",
    "        b_ub = [rho]\n",
    "\n",
    "        # Resolve LP\n",
    "        res = optimize.linprog(\n",
    "            c, \n",
    "            A_eq=A_eq, \n",
    "            b_eq=b_eq, \n",
    "            A_ub=A_ub, \n",
    "            b_ub=b_ub, \n",
    "            bounds=(0, 1)\n",
    "        )\n",
    "        expected_utility = np.array([-res.fun for _ in range(self.T)])\n",
    "\n",
    "        return expected_utility"
   ]
  },
  {
   "cell_type": "markdown",
   "id": "43777bdd",
   "metadata": {},
   "source": [
    "### Execution"
   ]
  },
  {
   "cell_type": "code",
   "execution_count": 126,
   "id": "15bcd8aa",
   "metadata": {},
   "outputs": [
    {
     "data": {
      "text/plain": [
       "array([0. , 0.2, 0.4, 0.6, 0.8])"
      ]
     },
     "execution_count": 126,
     "metadata": {},
     "output_type": "execute_result"
    }
   ],
   "source": [
    "# Parameters\n",
    "T = 10000\n",
    "B = T * 45/100\n",
    "\n",
    "# Prices\n",
    "price_step = 0.2\n",
    "prices = np.arange(0, 1, price_step)\n",
    "P = len(prices)\n",
    "\n",
    "# Valuation distribution  \n",
    "valuation_distr = stats.beta(a=1, b=1)"
   ]
  },
  {
   "cell_type": "code",
   "execution_count": 129,
   "id": "4e0cadce",
   "metadata": {},
   "outputs": [
    {
     "data": {
      "text/plain": [
       "array([0.24, 0.24, 0.24, ..., 0.24, 0.24, 0.24], shape=(10000,))"
      ]
     },
     "execution_count": 129,
     "metadata": {},
     "output_type": "execute_result"
    }
   ],
   "source": [
    "# Run clairvoyant\n",
    "clairvoyant = SingleProductStochasticInventoryClaivoyant(T, B, prices, valuation_distr)\n",
    "expected_clairvoyant_utilities = clairvoyant.run()\n",
    "expected_clairvoyant_utilities"
   ]
  },
  {
   "cell_type": "code",
   "execution_count": null,
   "id": "f760eb25",
   "metadata": {},
   "outputs": [],
   "source": [
    "n_trials = 30\n",
    "regret_per_trial = []\n",
    "for trial in range(n_trials):\n",
    "\n",
    "  # Define environment and agent\n",
    "  env = SingleProductStochasticEnvironment(T)\n",
    "  ucb_like_agent = UCBLike(T, B, P, range=1)\n",
    "\n",
    "  agent_rewards = []\n",
    "  for t in range(T):\n",
    "    # This returns the price index\n",
    "    pi_t = ucb_like_agent.pull_arm()\n",
    "\n",
    "    # Check if budget is depleted -> reward always 0\n",
    "    if pi_t == None:\n",
    "      r_t = 0.\n",
    "    else:\n",
    "      # Get the actual price\n",
    "      p_t = prices[pi_t]\n",
    "\n",
    "      # Get reward\n",
    "      r_t = env.round(p_t)\n",
    "\n",
    "      # Update agent state\n",
    "      ucb_like_agent.update(r_t, r_t > 0)\n",
    "\n",
    "    agent_rewards.append(r_t)\n",
    "\n",
    "  agent_rewards = np.array(agent_rewards)\n",
    "  cumulative_regret = np.cumsum(expected_clairvoyant_utilities - agent_rewards)\n",
    "  regret_per_trial.append(cumulative_regret)\n",
    "\n",
    "regret_per_trial = np.array(regret_per_trial)\n",
    "average_regret = regret_per_trial.mean(axis=0) # mean\n",
    "regret_sd = regret_per_trial.std(axis=0) # standard deviation"
   ]
  },
  {
   "cell_type": "markdown",
   "id": "5384c6d2",
   "metadata": {},
   "source": [
    "### Results"
   ]
  },
  {
   "cell_type": "code",
   "execution_count": 131,
   "id": "74ee6c12",
   "metadata": {},
   "outputs": [
    {
     "data": {
      "image/png": "[encoded data removed]",
      "text/plain": [
       "<Figure size 640x480 with 1 Axes>"
      ]
     },
     "metadata": {},
     "output_type": "display_data"
    }
   ],
   "source": [
    "plt.plot(np.arange(T), average_regret, label=f'Regret')\n",
    "\n",
    "t = np.arange(1, T + 1)  # da 1 per evitare log(0)\n",
    "theoretical_curve = t**(1/2)\n",
    "plt.plot(t - 1, theoretical_curve, label=\"${t}^{1/2}$\", linestyle=\"--\", color=\"red\")\n",
    "\n",
    "plt.xlabel(\"$t$\")\n",
    "plt.ylabel(\"Regret\")\n",
    "plt.title(\"Regret vs Theoretical ${t}^{1/2}$ Growth\")\n",
    "plt.legend()\n",
    "plt.grid(True)\n",
    "plt.tight_layout()\n",
    "plt.show()"
   ]
  }
 ],
 "metadata": {
  "kernelspec": {
   "display_name": "3.12.7",
   "language": "python",
   "name": "python3"
  },
  "language_info": {
   "codemirror_mode": {
    "name": "ipython",
    "version": 3
   },
   "file_extension": ".py",
   "mimetype": "text/x-python",
   "name": "python",
   "nbconvert_exporter": "python",
   "pygments_lexer": "ipython3",
   "version": "3.12.7"
  }
 },
 "nbformat": 4,
 "nbformat_minor": 5
}
