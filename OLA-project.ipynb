{
 "cells": [
  {
   "cell_type": "code",
   "execution_count": 47,
   "id": "64de8b88",
   "metadata": {},
   "outputs": [],
   "source": [
    "import numpy as np\n",
    "import matplotlib.pyplot as plt\n",
    "from scipy import stats\n",
    "from scipy import optimize\n",
    "from scipy.stats import uniform"
   ]
  },
  {
   "cell_type": "markdown",
   "id": "392e5fba",
   "metadata": {},
   "source": [
    "## General classes"
   ]
  },
  {
   "cell_type": "code",
   "execution_count": 48,
   "id": "5c3542ea",
   "metadata": {},
   "outputs": [],
   "source": [
    "class Environment:\n",
    "    def __init__(self):\n",
    "        pass\n",
    "\n",
    "    def round(self, product_price):\n",
    "        pass"
   ]
  },
  {
   "cell_type": "code",
   "execution_count": 49,
   "id": "25a9ca32",
   "metadata": {},
   "outputs": [],
   "source": [
    "class Agent:\n",
    "    def __init__(self):\n",
    "        pass\n",
    "\n",
    "    def pull_arm(self):\n",
    "        pass\n",
    "\n",
    "    def update(self, reward_t):\n",
    "        pass"
   ]
  },
  {
   "cell_type": "markdown",
   "id": "e7342c66",
   "metadata": {},
   "source": [
    "### Requirement 1: single product and stochastic environment"
   ]
  },
  {
   "cell_type": "code",
   "execution_count": 50,
   "id": "48b6de95",
   "metadata": {},
   "outputs": [],
   "source": [
    "class SingleProductEnvironment(Environment):\n",
    "  def __init__(self, T, max_valuation):\n",
    "    self.T = T # Number of rounds\n",
    "    self.t = 0 # Starting round\n",
    "\n",
    "    # Valuation of each buyer sampled from the given distribution function\n",
    "    self.valuation = np.random.uniform(0, max_valuation, T) \n",
    "\n",
    "  def round(self, p_t):\n",
    "    # Check if the buyer valuation is higher than product price\n",
    "    r_t = p_t if self.valuation[self.t] >= p_t else 0\n",
    "\n",
    "    # Update round\n",
    "    self.t = self.t + 1\n",
    "\n",
    "    return r_t"
   ]
  },
  {
   "cell_type": "code",
   "execution_count": 51,
   "id": "ecf97d4e",
   "metadata": {},
   "outputs": [],
   "source": [
    "class SingleProductUCB1(Agent):\n",
    "    def __init__(self, T, prices, range=1):\n",
    "        self.range = range # Range of the reward\n",
    "        self.P = len(prices) # Prices' set cardinality\n",
    "        self.T = T # Number of rounds\n",
    "        self.pi_t = None # Init price\n",
    "\n",
    "        self.average_rewards = np.zeros(self.P)\n",
    "        self.N_pulls = np.zeros(self.P)\n",
    "\n",
    "        self.t = 0 # Starting round\n",
    "\n",
    "    def pull_arm(self):\n",
    "        # Check if the round is less then number of prices\n",
    "        if self.t < self.P:\n",
    "            # then set it as product_price\n",
    "            self.pi_t = self.t\n",
    "        else:\n",
    "            # Compute UCB1\n",
    "            ucbs = self.average_rewards + self.range * np.sqrt(2 * np.log(self.T)/self.N_pulls)\n",
    "            \n",
    "            # Extract the price that maximizes the UCB1\n",
    "            self.pi_t = np.argmax(ucbs)\n",
    "\n",
    "        return self.pi_t\n",
    "\n",
    "    def update(self, reward):\n",
    "        self.N_pulls[self.pi_t] += 1\n",
    "\n",
    "        # As average, we have (total purchasing) / (number of times of purchasing)\n",
    "        self.average_rewards[self.pi_t] += (reward - self.average_rewards[self.pi_t])/self.N_pulls[self.pi_t]\n",
    "        self.t += 1"
   ]
  },
  {
   "cell_type": "code",
   "execution_count": 52,
   "id": "07c19d34",
   "metadata": {},
   "outputs": [],
   "source": [
    "T = 10000\n",
    "max_valuation = 150\n",
    "price_step = 5\n",
    "max_price = max_valuation + price_step\n",
    "\n",
    "prices = np.arange(0, max_price, price_step)"
   ]
  },
  {
   "cell_type": "markdown",
   "id": "84ec642d",
   "metadata": {},
   "source": [
    "#### Claivoyant"
   ]
  },
  {
   "cell_type": "code",
   "execution_count": 53,
   "id": "adf5a72e",
   "metadata": {},
   "outputs": [],
   "source": [
    "# Linear problem\n",
    "valuation = uniform(loc=0, scale=max_valuation)\n",
    "#selling_prob = 1 - prices / max_valuation\n",
    "selling_prob = 1 - valuation.cdf(prices)"
   ]
  },
  {
   "cell_type": "code",
   "execution_count": 54,
   "id": "5d8ea9c9",
   "metadata": {},
   "outputs": [],
   "source": [
    "# Expected revenue\n",
    "expected_revenue = prices * selling_prob\n",
    "\n",
    "# Expected utility\n",
    "max_expected_revenue = np.max(expected_revenue)\n",
    "optimal_price = prices[np.argmax(expected_revenue)]\n",
    "\n",
    "expected_clairvoyant_utilities = np.full(T, max_expected_revenue)"
   ]
  },
  {
   "cell_type": "code",
   "execution_count": 55,
   "id": "3d9ae74a",
   "metadata": {},
   "outputs": [],
   "source": [
    "# Objective function coeffiecients\n",
    "c = -prices * selling_prob\n",
    "\n",
    "# Constraints\n",
    "A_eq = [np.ones(len(prices))] # matrice dei coeff dei constraint (=) - LHS\n",
    "b_eq = [1] # RHS\n",
    "\n",
    "# Resolve\n",
    "res = optimize.linprog(c, A_eq=A_eq, b_eq=b_eq, bounds=(0, 1))\n",
    "\n",
    "# Optimization problem value\n",
    "expected_clairvoyant_utilities = np.array([-res.fun for u in range(T)])"
   ]
  },
  {
   "cell_type": "code",
   "execution_count": 56,
   "id": "b98f0aac",
   "metadata": {},
   "outputs": [],
   "source": [
    "n_trials = 2\n",
    "regret_per_trial = []\n",
    "\n",
    "for trial in range(n_trials):\n",
    "\n",
    "  # Define environment and agent\n",
    "  env = SingleProductEnvironment(T, max_valuation)\n",
    "  ucb1_agent = SingleProductUCB1(T, prices, range=max_price)\n",
    "\n",
    "  agent_rewards = []\n",
    "\n",
    "  for t in range(T):\n",
    "    # This returns the price index\n",
    "    pi_t = ucb1_agent.pull_arm()\n",
    "\n",
    "    # Get the actual price\n",
    "    p_t = prices[pi_t]\n",
    "\n",
    "    # Get reward\n",
    "    r_t = env.round(p_t)\n",
    "\n",
    "    # Update agent state\n",
    "    ucb1_agent.update(r_t)\n",
    "\n",
    "    agent_rewards.append(r_t)\n",
    "\n",
    "  agent_rewards = np.array(agent_rewards)\n",
    "  cumulative_regret = np.cumsum(expected_clairvoyant_utilities - agent_rewards)\n",
    "\n",
    "  regret_per_trial.append(cumulative_regret)\n",
    "\n",
    "regret_per_trial = np.array(regret_per_trial)"
   ]
  },
  {
   "cell_type": "code",
   "execution_count": 57,
   "id": "32c56a36",
   "metadata": {},
   "outputs": [
    {
     "data": {
      "text/plain": [
       "<matplotlib.legend.Legend at 0x120e53890>"
      ]
     },
     "execution_count": 57,
     "metadata": {},
     "output_type": "execute_result"
    },
    {
     "data": {
      "image/png": "[encoded data removed]",
      "text/plain": [
       "<Figure size 640x480 with 1 Axes>"
      ]
     },
     "metadata": {},
     "output_type": "display_data"
    }
   ],
   "source": [
    "average_regret = regret_per_trial.mean(axis=0) # mean\n",
    "regret_sd = regret_per_trial.std(axis=0) # standard deviation\n",
    "\n",
    "plt.plot(np.arange(T), average_regret, label=\"Average\")\n",
    "plt.fill_between(\n",
    "    np.arange(T), \n",
    "    average_regret-regret_sd/np.sqrt(n_trials), \n",
    "    average_regret+regret_sd/np.sqrt(n_trials),\n",
    "    alpha=0.3,\n",
    "    label=\"Uncertainty\"\n",
    ")\n",
    "plt.xlabel(\"$t$\")\n",
    "plt.legend()"
   ]
  },
  {
   "cell_type": "code",
   "execution_count": 58,
   "id": "0e26057d",
   "metadata": {},
   "outputs": [
    {
     "data": {
      "text/plain": [
       "(array([  0,   5,  10,  15,  20,  25,  30,  35,  40,  45,  50,  55,  60,\n",
       "         65,  70,  75,  80,  85,  90,  95, 100, 105, 110, 115, 120, 125,\n",
       "        130, 135, 140, 145, 150]),\n",
       " array([ 0.,  0.,  0.,  0.,  0.,  0.,  0.,  0.,  0.,  0.,  0.,  0.,  0.,\n",
       "         0., -0.,  1.,  0.,  0.,  0.,  0.,  0.,  0.,  0.,  0.,  0.,  0.,\n",
       "         0.,  0.,  0.,  0.,  0.]))"
      ]
     },
     "execution_count": 58,
     "metadata": {},
     "output_type": "execute_result"
    }
   ],
   "source": [
    "prices, res.x"
   ]
  },
  {
   "cell_type": "code",
   "execution_count": 59,
   "id": "a4a1fa11",
   "metadata": {},
   "outputs": [
    {
     "data": {
      "text/plain": [
       "np.int64(75)"
      ]
     },
     "execution_count": 59,
     "metadata": {},
     "output_type": "execute_result"
    }
   ],
   "source": [
    "prices[np.argmax(ucb1_agent.N_pulls)]"
   ]
  },
  {
   "cell_type": "markdown",
   "id": "f1bd2fb9",
   "metadata": {},
   "source": [
    "### Requirement 2: multiple products and stochastic environment"
   ]
  },
  {
   "cell_type": "code",
   "execution_count": null,
   "id": "12458ee0",
   "metadata": {},
   "outputs": [],
   "source": [
    "class MultipleProductEnvironment(Environment):\n",
    "  def __init__(self, T, N, max_valuation):\n",
    "    self.T = T # Number of buyers (rounds)\n",
    "    self.N = N # Number of types of products\n",
    "    self.t = 0 # Current buyer\n",
    "\n",
    "    # Valuation of each buyer sampled from the given distribution function\n",
    "    self.valuations = np.random.uniform(0, max_valuation, size=(T, N))\n",
    "\n",
    "  def round(self, p_t):\n",
    "    reward = np.array([])\n",
    "\n",
    "    # Check if the buyer valuations are higher than products prices\n",
    "    for valuation, price in zip(self.valuations[self.t, :], p_t):\n",
    "      if valuation >= price:\n",
    "        reward = np.append(reward, price)\n",
    "      else:\n",
    "        reward = np.append(reward, 0.)\n",
    "\n",
    "    # Update round\n",
    "    self.t = self.t + 1\n",
    "    return reward"
   ]
  },
  {
   "cell_type": "markdown",
   "id": "e4e5329c",
   "metadata": {},
   "source": [
    "### Requirement 3: best-of-both-worlds algorithms with a single product"
   ]
  },
  {
   "cell_type": "code",
   "execution_count": null,
   "id": "e501971d",
   "metadata": {},
   "outputs": [],
   "source": []
  },
  {
   "cell_type": "markdown",
   "id": "aecad7b0",
   "metadata": {},
   "source": [
    "### Requirement 4: best-of-both-worlds algorithms with multiple products"
   ]
  },
  {
   "cell_type": "code",
   "execution_count": null,
   "id": "8acf080d",
   "metadata": {},
   "outputs": [],
   "source": []
  },
  {
   "cell_type": "markdown",
   "id": "6bf731ab",
   "metadata": {},
   "source": [
    "### Requirement 5: slightly non-stationary environments with multiple products"
   ]
  },
  {
   "cell_type": "code",
   "execution_count": null,
   "id": "af95329c",
   "metadata": {},
   "outputs": [],
   "source": []
  }
 ],
 "metadata": {
  "kernelspec": {
   "display_name": "Python 3",
   "language": "python",
   "name": "python3"
  },
  "language_info": {
   "codemirror_mode": {
    "name": "ipython",
    "version": 3
   },
   "file_extension": ".py",
   "mimetype": "text/x-python",
   "name": "python",
   "nbconvert_exporter": "python",
   "pygments_lexer": "ipython3",
   "version": "3.12.7"
  }
 },
 "nbformat": 4,
 "nbformat_minor": 5
}
