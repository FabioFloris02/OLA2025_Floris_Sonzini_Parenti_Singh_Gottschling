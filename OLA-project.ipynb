{
  "cells": [
    {
      "cell_type": "code",
      "execution_count": null,
      "id": "64de8b88",
      "metadata": {
        "id": "64de8b88"
      },
      "outputs": [],
      "source": [
        "import numpy as np\n",
        "import matplotlib.pyplot as plt\n",
        "from scipy import stats\n",
        "from scipy import optimize\n",
        "import random"
      ]
    },
    {
      "cell_type": "markdown",
      "id": "392e5fba",
      "metadata": {
        "id": "392e5fba"
      },
      "source": [
        "## General classes"
      ]
    },
    {
      "cell_type": "code",
      "execution_count": null,
      "id": "5c3542ea",
      "metadata": {
        "id": "5c3542ea"
      },
      "outputs": [],
      "source": [
        "class Environment:\n",
        "    def __init__(self):\n",
        "        pass\n",
        "\n",
        "    def round(self, product_price):\n",
        "        pass"
      ]
    },
    {
      "cell_type": "code",
      "execution_count": null,
      "id": "25a9ca32",
      "metadata": {
        "id": "25a9ca32"
      },
      "outputs": [],
      "source": [
        "class Agent:\n",
        "    def __init__(self):\n",
        "        pass\n",
        "\n",
        "    def pull_arm(self):\n",
        "        pass\n",
        "\n",
        "    def update(self, reward_t):\n",
        "        pass"
      ]
    },
    {
      "cell_type": "markdown",
      "id": "e7342c66",
      "metadata": {
        "id": "e7342c66"
      },
      "source": [
        "### Requirement 1: single product and stochastic environment"
      ]
    },
    {
      "cell_type": "markdown",
      "id": "c5c2a790",
      "metadata": {
        "id": "c5c2a790"
      },
      "source": [
        "#### Environment"
      ]
    },
    {
      "cell_type": "code",
      "execution_count": null,
      "id": "48b6de95",
      "metadata": {
        "id": "48b6de95"
      },
      "outputs": [],
      "source": [
        "class SingleProductEnvironment(Environment):\n",
        "  def __init__(self, T, valuation_distr=stats.uniform):\n",
        "    self.T = T # Number of rounds\n",
        "    self.t = 0 # Starting round\n",
        "\n",
        "    # Valuation of each buyer sampled from the given distribution function\n",
        "    self.valuation = valuation_distr.rvs(size=T)\n",
        "\n",
        "  def round(self, p_t):\n",
        "    # Check if the buyer valuation is higher than product price\n",
        "    r_t = p_t if self.valuation[self.t] >= p_t else 0\n",
        "\n",
        "    # Update round\n",
        "    self.t = self.t + 1\n",
        "\n",
        "    return r_t"
      ]
    },
    {
      "cell_type": "markdown",
      "id": "078ff1da",
      "metadata": {
        "id": "078ff1da"
      },
      "source": [
        "#### Agent without inventory constraint - UCB1"
      ]
    },
    {
      "cell_type": "code",
      "execution_count": null,
      "id": "ecf97d4e",
      "metadata": {
        "id": "ecf97d4e"
      },
      "outputs": [],
      "source": [
        "class UCB1(Agent):\n",
        "    def __init__(self, T, prices, range=1):\n",
        "        self.range = range # Range of the reward\n",
        "        self.P = len(prices) # Prices' set cardinality\n",
        "        self.T = T # Number of rounds\n",
        "        self.pi_t = None # Init price\n",
        "\n",
        "        self.average_rewards = np.zeros(self.P)\n",
        "        self.N_pulls = np.zeros(self.P)\n",
        "\n",
        "        self.t = 0 # Starting round\n",
        "\n",
        "    def pull_arm(self):\n",
        "        # Check if the round is less then number of prices\n",
        "        if self.t < self.P:\n",
        "            # then set it as product_price\n",
        "            self.pi_t = self.t\n",
        "        else:\n",
        "            # Compute UCB1\n",
        "            ucbs = self.average_rewards + self.range * np.sqrt(2 * np.log(self.T)/self.N_pulls)\n",
        "\n",
        "            # Extract the price that maximizes the UCB1\n",
        "            self.pi_t = np.argmax(ucbs)\n",
        "\n",
        "        return self.pi_t\n",
        "\n",
        "    def update(self, reward):\n",
        "        self.N_pulls[self.pi_t] += 1\n",
        "\n",
        "        # As average, we have (total purchasing) / (number of times of purchasing)\n",
        "        self.average_rewards[self.pi_t] += (reward - self.average_rewards[self.pi_t])/self.N_pulls[self.pi_t]\n",
        "        self.t += 1"
      ]
    },
    {
      "cell_type": "markdown",
      "id": "45a904c2",
      "metadata": {
        "id": "45a904c2"
      },
      "source": [
        "#### Clairvoyant without inventory constraint"
      ]
    },
    {
      "cell_type": "code",
      "execution_count": null,
      "id": "1feeed44",
      "metadata": {
        "id": "1feeed44"
      },
      "outputs": [],
      "source": [
        "class SingleProductStochasticClairvoyant:\n",
        "    def __init__(self, T, prices, valuation_distr=stats.uniform):\n",
        "        self.T = T\n",
        "        self.prices = prices\n",
        "\n",
        "        # This is probability distributions over valuations (scipy.stats)\n",
        "        self.valuation_distr = valuation_distr\n",
        "\n",
        "    def run(self):\n",
        "        # Probability of selling a product\n",
        "        selling_prob = 1 - self.valuation_distr.cdf(self.prices)\n",
        "\n",
        "        ## Liner programming\n",
        "        c = - self.prices * selling_prob # objective function coefficients\n",
        "\n",
        "        # Constraints\n",
        "        A_eq = [np.ones(len(self.prices))]\n",
        "        b_eq = [1]\n",
        "\n",
        "        # Resolve LP\n",
        "        res = optimize.linprog(c, A_eq=A_eq, b_eq=b_eq, bounds=(0, 1))\n",
        "        expected_utility = np.array([-res.fun for _ in range(self.T)])\n",
        "\n",
        "        return expected_utility"
      ]
    },
    {
      "cell_type": "markdown",
      "id": "fac0956a",
      "metadata": {
        "id": "fac0956a"
      },
      "source": [
        "#### Evaluation"
      ]
    },
    {
      "cell_type": "code",
      "execution_count": null,
      "id": "07c19d34",
      "metadata": {
        "id": "07c19d34"
      },
      "outputs": [],
      "source": [
        "# Parameters\n",
        "T = 10000\n",
        "\n",
        "# Prices\n",
        "max_price = 1\n",
        "price_step = T ** (-1/3)\n",
        "prices = np.arange(0, max_price, price_step)\n",
        "\n",
        "# Valuation prob. distribution\n",
        "max_valuation = 1\n",
        "#valuation_distr = stats.binom(loc=0, n=max_valuation, p=0.5)\n",
        "valuation_distr = stats.uniform(loc=0, scale=max_price)"
      ]
    },
    {
      "cell_type": "code",
      "execution_count": null,
      "id": "b98f0aac",
      "metadata": {
        "id": "b98f0aac"
      },
      "outputs": [],
      "source": [
        "# Run clairvoyant\n",
        "clairvoyant = SingleProductStochasticClairvoyant(T, prices, valuation_distr)\n",
        "expected_clairvoyant_utilities = clairvoyant.run()\n",
        "\n",
        "n_trials = 10\n",
        "regret_per_trial = []\n",
        "for trial in range(n_trials):\n",
        "\n",
        "  # Define environment and agent\n",
        "  env = SingleProductEnvironment(T, valuation_distr)\n",
        "  ucb_like_agent = UCB1(T, prices, range=max_price)\n",
        "\n",
        "  agent_rewards = []\n",
        "\n",
        "  for t in range(T):\n",
        "    # This returns the price index\n",
        "    pi_t = ucb_like_agent.pull_arm()\n",
        "\n",
        "    # Get the actual price\n",
        "    p_t = prices[pi_t]\n",
        "\n",
        "    # Get reward\n",
        "    r_t = env.round(p_t)\n",
        "\n",
        "    # Update agent state\n",
        "    ucb_like_agent.update(r_t)\n",
        "\n",
        "    agent_rewards.append(r_t)\n",
        "\n",
        "  agent_rewards = np.array(agent_rewards)\n",
        "  cumulative_regret = np.cumsum(expected_clairvoyant_utilities - agent_rewards)\n",
        "\n",
        "  regret_per_trial.append(cumulative_regret)\n",
        "\n",
        "regret_per_trial = np.array(regret_per_trial)"
      ]
    },
    {
      "cell_type": "code",
      "execution_count": null,
      "id": "32c56a36",
      "metadata": {
        "colab": {
          "base_uri": "https://localhost:8080/",
          "height": 467
        },
        "id": "32c56a36",
        "outputId": "fcf4f62c-791f-400d-c993-bb3d996df715"
      },
      "outputs": [
        {
          "output_type": "execute_result",
          "data": {
            "text/plain": [
              "<matplotlib.legend.Legend at 0x7b3b0da25090>"
            ]
          },
          "metadata": {},
          "execution_count": 19
        },
        {
          "output_type": "display_data",
          "data": {
            "text/plain": [
              "<Figure size 640x480 with 1 Axes>"
            ],
            "image/png": "[encoded data removed]"
          },
          "metadata": {}
        }
      ],
      "source": [
        "average_regret = regret_per_trial.mean(axis=0) # mean\n",
        "regret_sd = regret_per_trial.std(axis=0) # standard deviation\n",
        "\n",
        "plt.plot(np.arange(T), average_regret, label=\"Average\")\n",
        "plt.fill_between(\n",
        "    np.arange(T),\n",
        "    average_regret-regret_sd/np.sqrt(n_trials),\n",
        "    average_regret+regret_sd/np.sqrt(n_trials),\n",
        "    alpha=0.3,\n",
        "    label=\"Uncertainty\"\n",
        ")\n",
        "plt.xlabel(\"$t$\")\n",
        "plt.legend()"
      ]
    },
    {
      "cell_type": "code",
      "execution_count": null,
      "id": "9cRPSTGbz4PK",
      "metadata": {
        "colab": {
          "base_uri": "https://localhost:8080/",
          "height": 476
        },
        "id": "9cRPSTGbz4PK",
        "outputId": "cda35f79-9699-4cf0-9c7b-1f87dc290ab9"
      },
      "outputs": [
        {
          "output_type": "display_data",
          "data": {
            "text/plain": [
              "<Figure size 640x480 with 1 Axes>"
            ],
            "image/png": "[encoded data removed]"
          },
          "metadata": {}
        }
      ],
      "source": [
        "average_regret = regret_per_trial.mean(axis=0)  # media\n",
        "regret_sd = regret_per_trial.std(axis=0)        # deviazione standard\n",
        "\n",
        "t = np.arange(1, T+1)  # inizia da 1 per evitare t^{2/3} = 0^{2/3} = 0\n",
        "regret_theory = t**(2/3)\n",
        "\n",
        "plt.plot(t, average_regret, label=\"Average\")\n",
        "plt.fill_between(\n",
        "    t,\n",
        "    average_regret - regret_sd / np.sqrt(n_trials),\n",
        "    average_regret + regret_sd / np.sqrt(n_trials),\n",
        "    alpha=0.3,\n",
        "    label=\"Uncertainty\"\n",
        ")\n",
        "plt.plot(t, regret_theory, label=r\"$t^{2/3}$\", linestyle='--', color='red')\n",
        "\n",
        "plt.xlabel(\"$t$\")\n",
        "plt.ylabel(\"Regret\")\n",
        "plt.legend()\n",
        "plt.title(\"Regret vs Theoretical $t^{2/3}$ Growth\")\n",
        "plt.grid(True)\n",
        "plt.show()"
      ]
    },
    {
      "cell_type": "code",
      "execution_count": null,
      "id": "jQxnCLmX7Fgn",
      "metadata": {
        "colab": {
          "base_uri": "https://localhost:8080/",
          "height": 507
        },
        "id": "jQxnCLmX7Fgn",
        "outputId": "87b9e1f3-3450-431b-9ea5-ca3363b27169"
      },
      "outputs": [
        {
          "output_type": "display_data",
          "data": {
            "text/plain": [
              "<Figure size 800x500 with 1 Axes>"
            ],
            "image/png": "[encoded data removed]"
          },
          "metadata": {}
        }
      ],
      "source": [
        "K= 1/price_step\n",
        "t = np.arange(1, T + 1)  # da 1 per evitare log(0)\n",
        "theoretical_curve = np.sqrt(K * t * np.log(t))\n",
        "\n",
        "# Plot\n",
        "plt.figure(figsize=(8, 5))\n",
        "plt.plot(np.arange(T), average_regret, label=\"Average\")\n",
        "plt.fill_between(\n",
        "    np.arange(T),\n",
        "    average_regret - regret_sd / np.sqrt(n_trials),\n",
        "    average_regret + regret_sd / np.sqrt(n_trials),\n",
        "    alpha=0.3,\n",
        "    label=\"Uncertainty\"\n",
        ")\n",
        "\n",
        "# Aggiunta curva asintotica\n",
        "plt.plot(t - 1, theoretical_curve, label=r\"$\\sqrt{K t \\log t}$\", linestyle=\"--\", color=\"red\")\n",
        "\n",
        "plt.xlabel(\"$t$\")\n",
        "plt.ylabel(\"Regret\")\n",
        "plt.title(\"Regret vs Theoretical $\\sqrt{K t \\log t}$ Growth\")\n",
        "plt.legend()\n",
        "plt.grid(True)\n",
        "plt.tight_layout()\n",
        "plt.show()"
      ]
    },
    {
      "cell_type": "markdown",
      "id": "3d3dca35",
      "metadata": {
        "id": "3d3dca35"
      },
      "source": [
        "#### Agent with inventory constraint - UCB-like"
      ]
    },
    {
      "cell_type": "code",
      "execution_count": null,
      "id": "caf21640",
      "metadata": {
        "id": "caf21640"
      },
      "outputs": [],
      "source": [
        "class UCBLike():\n",
        "    def __init__(self, T, B, prices, range=1):\n",
        "        self.T = T\n",
        "        self.P = len(prices)\n",
        "        self.range = range\n",
        "\n",
        "        self.pi_t = None\n",
        "        self.avg_f = np.zeros(self.P)\n",
        "        self.avg_c = np.zeros(self.P)\n",
        "        self.N_pulls = np.zeros(self.P)\n",
        "        self.budget = B\n",
        "\n",
        "        self.t = 0\n",
        "\n",
        "    def pull_arm(self):\n",
        "        # Check if budget is depleted\n",
        "        if self.budget < 1:\n",
        "            self.pi_t = 0\n",
        "            return 0\n",
        "\n",
        "        if self.t < self.P:\n",
        "            self.pi_t = self.t\n",
        "        else:\n",
        "            # Upper Confidence Bound\n",
        "            f_ucbs = self.avg_f + self.range * np.sqrt( 2 * np.log(self.T)/self.N_pulls)\n",
        "\n",
        "            # Lower Confidence Bound\n",
        "            c_lcbs = self.avg_c - self.range * np.sqrt( 2 * np.log(self.T)/self.N_pulls)\n",
        "\n",
        "            # Price optimal distribution\n",
        "            gamma_t = self.compute_opt(f_ucbs, c_lcbs)\n",
        "\n",
        "            # Set current price\n",
        "            self.pi_t = np.random.choice(self.P, p=gamma_t)\n",
        "\n",
        "        return self.pi_t\n",
        "\n",
        "    def compute_opt(self, f_ucbs, c_lcbs):\n",
        "        if np.sum(c_lcbs <= np.zeros(len(c_lcbs))):\n",
        "            gamma = np.zeros(len(f_ucbs))\n",
        "            gamma[np.argmax(f_ucbs)] = 1\n",
        "            return gamma\n",
        "\n",
        "        c = -f_ucbs\n",
        "\n",
        "        A_ub = [c_lcbs]\n",
        "        rho = self.budget/self.T\n",
        "        b_ub = [rho]\n",
        "\n",
        "        A_eq = [np.ones(self.P)]\n",
        "        b_eq = [1]\n",
        "\n",
        "        res = optimize.linprog(c, A_ub=A_ub, b_ub=b_ub, A_eq=A_eq, b_eq=b_eq, bounds=(0,1))\n",
        "\n",
        "        gamma = res.x\n",
        "        return gamma\n",
        "\n",
        "    def update(self, f_t, c_t):\n",
        "        # Update the number of pulled price\n",
        "        self.N_pulls[self.pi_t] += 1\n",
        "\n",
        "        # Update averages\n",
        "        self.avg_f[self.pi_t] = self.avg_f[self.pi_t] + (f_t - self.avg_f[self.pi_t])/self.N_pulls[self.pi_t]\n",
        "        self.avg_c[self.pi_t] = self.avg_c[self.pi_t] + (c_t - self.avg_c[self.pi_t])/self.N_pulls[self.pi_t]\n",
        "\n",
        "        # Update budget\n",
        "        self.budget = self.budget - c_t\n",
        "\n",
        "        self.t += 1"
      ]
    },
    {
      "cell_type": "markdown",
      "id": "c3bd4ece",
      "metadata": {
        "id": "c3bd4ece"
      },
      "source": [
        "#### Clairvoyant with inventory constraint"
      ]
    },
    {
      "cell_type": "code",
      "execution_count": null,
      "id": "310e6385",
      "metadata": {
        "id": "310e6385"
      },
      "outputs": [],
      "source": [
        "class SingleProductStochasticInventoryClaivoyant:\n",
        "    def __init__(self, T, budget, prices, valuation_distr=stats.uniform):\n",
        "        self.T = T\n",
        "        self.prices = prices\n",
        "        self.budget = budget\n",
        "\n",
        "        # This is probability distributions over valuations (scipy.stats)\n",
        "        self.valuation_distr = valuation_distr\n",
        "\n",
        "    def run(self):\n",
        "        # Probability of selling a product\n",
        "        selling_prob = 1 - self.valuation_distr.cdf(self.prices)\n",
        "\n",
        "        ## Liner programming\n",
        "        c = - self.prices * selling_prob # objective function coefficients\n",
        "\n",
        "        # Constraints\n",
        "        A_eq = [np.ones(len(self.prices))]\n",
        "        b_eq = [1]\n",
        "\n",
        "        A_ub = [selling_prob]\n",
        "        rho = self.budget/self.T\n",
        "        b_ub = [rho]\n",
        "\n",
        "        # Resolve LP\n",
        "        res = optimize.linprog(c, A_eq=A_eq, b_eq=b_eq, A_ub=A_ub, b_ub=b_ub, bounds=(0, 1))\n",
        "        expected_utility = np.array([-res.fun for _ in range(self.T)])\n",
        "\n",
        "        return expected_utility"
      ]
    },
    {
      "cell_type": "markdown",
      "id": "b34ee03b",
      "metadata": {
        "id": "b34ee03b"
      },
      "source": [
        "#### Evaluation"
      ]
    },
    {
      "cell_type": "code",
      "execution_count": null,
      "id": "67c981db",
      "metadata": {
        "id": "67c981db"
      },
      "outputs": [],
      "source": [
        "# Parameters\n",
        "T = 10000\n",
        "B = T * 3/4\n",
        "\n",
        "# Prices\n",
        "max_price = 1\n",
        "price_step = 0.2\n",
        "prices = np.arange(0, max_price, price_step)\n",
        "\n",
        "# Valuation prob. distribution\n",
        "max_valuation = 1\n",
        "valuation_distr = stats.uniform(loc=0, scale=max_price)"
      ]
    },
    {
      "cell_type": "code",
      "execution_count": null,
      "id": "8de0e2bd",
      "metadata": {
        "id": "8de0e2bd",
        "outputId": "1b603254-69b2-4cca-83c6-8b80e9c45fa5",
        "colab": {
          "base_uri": "https://localhost:8080/",
          "height": 216
        }
      },
      "outputs": [
        {
          "output_type": "error",
          "ename": "ValueError",
          "evalue": "operands could not be broadcast together with shapes (10000,) (5508,) ",
          "traceback": [
            "\u001b[0;31m---------------------------------------------------------------------------\u001b[0m",
            "\u001b[0;31mValueError\u001b[0m                                Traceback (most recent call last)",
            "\u001b[0;32m/tmp/ipython-input-25-663356082.py\u001b[0m in \u001b[0;36m<cell line: 0>\u001b[0;34m()\u001b[0m\n\u001b[1;32m     33\u001b[0m \u001b[0;34m\u001b[0m\u001b[0m\n\u001b[1;32m     34\u001b[0m   \u001b[0magent_rewards\u001b[0m \u001b[0;34m=\u001b[0m \u001b[0mnp\u001b[0m\u001b[0;34m.\u001b[0m\u001b[0marray\u001b[0m\u001b[0;34m(\u001b[0m\u001b[0magent_rewards\u001b[0m\u001b[0;34m)\u001b[0m\u001b[0;34m\u001b[0m\u001b[0;34m\u001b[0m\u001b[0m\n\u001b[0;32m---> 35\u001b[0;31m   \u001b[0mcumulative_regret\u001b[0m \u001b[0;34m=\u001b[0m \u001b[0mnp\u001b[0m\u001b[0;34m.\u001b[0m\u001b[0mcumsum\u001b[0m\u001b[0;34m(\u001b[0m\u001b[0mexpected_clairvoyant_utilities\u001b[0m \u001b[0;34m-\u001b[0m \u001b[0magent_rewards\u001b[0m\u001b[0;34m)\u001b[0m\u001b[0;34m\u001b[0m\u001b[0;34m\u001b[0m\u001b[0m\n\u001b[0m\u001b[1;32m     36\u001b[0m   \u001b[0mregret_per_trial\u001b[0m\u001b[0;34m.\u001b[0m\u001b[0mappend\u001b[0m\u001b[0;34m(\u001b[0m\u001b[0mcumulative_regret\u001b[0m\u001b[0;34m)\u001b[0m\u001b[0;34m\u001b[0m\u001b[0;34m\u001b[0m\u001b[0m\n\u001b[1;32m     37\u001b[0m \u001b[0;34m\u001b[0m\u001b[0m\n",
            "\u001b[0;31mValueError\u001b[0m: operands could not be broadcast together with shapes (10000,) (5508,) "
          ]
        }
      ],
      "source": [
        "# Run clairvoyant\n",
        "clairvoyant = SingleProductStochasticInventoryClaivoyant(T, B, prices, valuation_distr)\n",
        "\n",
        "expected_clairvoyant_utilities = clairvoyant.run()\n",
        "\n",
        "n_trials = 20\n",
        "regret_per_trial = []\n",
        "for trial in range(n_trials):\n",
        "\n",
        "  # Define environment and agent\n",
        "  env = SingleProductEnvironment(T)\n",
        "  ucb_like_agent = UCBLike(T, B, prices, range=max_price)\n",
        "\n",
        "  agent_rewards = []\n",
        "  for t in range(T):\n",
        "    if(B<=0):\n",
        "      break\n",
        "    # This returns the price index\n",
        "    pi_t = ucb_like_agent.pull_arm()\n",
        "\n",
        "    # Get the actual price\n",
        "    p_t = prices[pi_t]\n",
        "\n",
        "    # Get reward\n",
        "    r_t = env.round(p_t)\n",
        "\n",
        "    # Update agent state\n",
        "    ucb_like_agent.update(r_t, r_t > 0)\n",
        "\n",
        "    agent_rewards.append(r_t)\n",
        "    if(r_t>0):\n",
        "      B = B - 1\n",
        "\n",
        "  agent_rewards = np.array(agent_rewards)\n",
        "  cumulative_regret = np.cumsum(expected_clairvoyant_utilities - agent_rewards)\n",
        "  regret_per_trial.append(cumulative_regret)\n",
        "\n",
        "regret_per_trial = np.array(regret_per_trial)"
      ]
    },
    {
      "cell_type": "code",
      "execution_count": null,
      "id": "102db6d6",
      "metadata": {
        "id": "102db6d6"
      },
      "outputs": [],
      "source": [
        "average_regret = regret_per_trial.mean(axis=0) # mean\n",
        "regret_sd = regret_per_trial.std(axis=0) # standard deviation\n",
        "\n",
        "plt.plot(np.arange(T), average_regret, label=\"Average\")\n",
        "plt.fill_between(\n",
        "    np.arange(T),\n",
        "    average_regret-regret_sd/np.sqrt(n_trials),\n",
        "    average_regret+regret_sd/np.sqrt(n_trials),\n",
        "    alpha=0.3,\n",
        "    label=\"Uncertainty\"\n",
        ")\n",
        "plt.xlabel(\"$t$\")\n",
        "plt.legend()"
      ]
    },
    {
      "cell_type": "code",
      "execution_count": null,
      "id": "LJi_FiWA-uXt",
      "metadata": {
        "id": "LJi_FiWA-uXt"
      },
      "outputs": [],
      "source": [
        "ucb_like_agent.budget"
      ]
    },
    {
      "cell_type": "code",
      "execution_count": null,
      "id": "99f7ZWqrAJWa",
      "metadata": {
        "id": "99f7ZWqrAJWa"
      },
      "outputs": [],
      "source": [
        "t = np.arange(1, T + 1)  # da 1 per evitare log(0)\n",
        "theoretical_curve = np.sqrt(t)\n",
        "average_regret = regret_per_trial.mean(axis=0) # mean\n",
        "regret_sd = regret_per_trial.std(axis=0) # standard deviation\n",
        "\n",
        "plt.plot(np.arange(T), average_regret, label=\"Average\")\n",
        "plt.fill_between(\n",
        "    np.arange(T),\n",
        "    average_regret-regret_sd/np.sqrt(n_trials),\n",
        "    average_regret+regret_sd/np.sqrt(n_trials),\n",
        "    alpha=0.3,\n",
        "    label=\"Uncertainty\"\n",
        ")\n",
        "\n",
        "\n",
        "plt.plot(t - 1, theoretical_curve, label=r\"$\\sqrt{t }$\", linestyle=\"--\", color=\"red\")\n",
        "\n",
        "\n",
        "plt.xlabel(\"$t$\")\n",
        "plt.ylabel(\"Regret\")\n",
        "plt.title(\"Regret vs Theoretical $\\sqrt{ t}$ Growth\")\n",
        "plt.legend()\n",
        "plt.grid(True)\n",
        "plt.tight_layout()\n",
        "plt.show()"
      ]
    },
    {
      "cell_type": "markdown",
      "id": "f1bd2fb9",
      "metadata": {
        "id": "f1bd2fb9"
      },
      "source": [
        "### Requirement 2: multiple products and stochastic environment"
      ]
    },
    {
      "cell_type": "code",
      "execution_count": null,
      "id": "12458ee0",
      "metadata": {
        "id": "12458ee0"
      },
      "outputs": [],
      "source": [
        "class MultipleProductEnvironment(Environment):\n",
        "  def __init__(self, T, N, max_valuation):\n",
        "    self.T = T # Number of buyers (rounds)\n",
        "    self.N = N # Number of types of products\n",
        "    self.t = 0 # Current buyer\n",
        "\n",
        "    # Valuation of each buyer sampled from the given distribution function\n",
        "    self.valuations = np.random.uniform(0, max_valuation, size=(T, N))\n",
        "\n",
        "  def round(self, p_t):\n",
        "    reward = np.array([])\n",
        "\n",
        "    # Check if the buyer valuations are higher than products prices\n",
        "    for valuation, price in zip(self.valuations[self.t, :], p_t):\n",
        "      if valuation >= price:\n",
        "        reward = np.append(reward, price)\n",
        "      else:\n",
        "        reward = np.append(reward, 0.)\n",
        "\n",
        "    # Update round\n",
        "    self.t = self.t + 1\n",
        "    return reward"
      ]
    },
    {
      "cell_type": "markdown",
      "id": "e4e5329c",
      "metadata": {
        "id": "e4e5329c"
      },
      "source": [
        "### Requirement 3: best-of-both-worlds algorithms with a single product"
      ]
    },
    {
      "cell_type": "code",
      "source": [
        "def getDistribution():\n",
        "    arr = np.arange(0.2, 2, 0.2)\n",
        "    random_index_a = random.randint(0, len(arr) - 1)\n",
        "    random_index_b = random.randint(0, len(arr) - 1)\n",
        "\n",
        "    return stats.beta(arr[random_index_a], arr[random_index_b])"
      ],
      "metadata": {
        "id": "5QJm2RT4tMCW"
      },
      "id": "5QJm2RT4tMCW",
      "execution_count": null,
      "outputs": []
    },
    {
      "cell_type": "code",
      "execution_count": null,
      "id": "637d8229",
      "metadata": {
        "id": "637d8229"
      },
      "outputs": [],
      "source": [
        "def getDistribution():\n",
        "    a = stats.uniform(loc=0, scale=2).rvs()\n",
        "    b = stats.uniform(loc=0, scale=2).rvs()\n",
        "\n",
        "    return stats.beta(a,b)"
      ]
    },
    {
      "cell_type": "code",
      "source": [
        "def getDistribution():\n",
        "    choice = np.random.choice(['beta', 'gaussian', 'uniform'])\n",
        "\n",
        "    if choice == 'beta':\n",
        "        arr = np.arange(0.5, 6, 0.5)  # valori tra 0.5 e 5.5\n",
        "        a = np.random.choice(arr)\n",
        "        b = np.random.choice(arr)\n",
        "        return stats.beta(a, b)\n",
        "\n",
        "    elif choice == 'gaussian':\n",
        "        mean = np.random.uniform(0.3, 0.8)\n",
        "        std = np.random.uniform(0.05, 0.2)\n",
        "        a, b = (0 - mean) / std, (1 - mean) / std\n",
        "        return stats.truncnorm(a, b, loc=mean, scale=std)\n",
        "\n",
        "    elif choice == 'uniform':\n",
        "        low = np.random.uniform(0.1, 0.6)\n",
        "        high = np.random.uniform(low + 0.1, 1.0)\n",
        "        return stats.uniform(loc=low, scale=high - low)"
      ],
      "metadata": {
        "id": "RyvkAUpTQdJj"
      },
      "id": "RyvkAUpTQdJj",
      "execution_count": null,
      "outputs": []
    },
    {
      "cell_type": "code",
      "source": [
        "def getDistribution():\n",
        "    arr = np.arange(2, 6, 1)  # valori tra 2 e 7\n",
        "    a = np.random.choice(arr)\n",
        "    b = np.random.choice(arr)\n",
        "    return stats.beta(a, b)"
      ],
      "metadata": {
        "id": "_YtXozfvFyAa"
      },
      "id": "_YtXozfvFyAa",
      "execution_count": null,
      "outputs": []
    },
    {
      "cell_type": "markdown",
      "source": [
        "#### Environment"
      ],
      "metadata": {
        "id": "5Ax1OW8_6jVy"
      },
      "id": "5Ax1OW8_6jVy"
    },
    {
      "cell_type": "code",
      "execution_count": null,
      "id": "e501971d",
      "metadata": {
        "id": "e501971d"
      },
      "outputs": [],
      "source": [
        "class SingleProductHighlyNonStationaryEnvironment(Environment):\n",
        "  def __init__(self, T, valuation_distr):\n",
        "    self.T = T # Number of rounds\n",
        "    self.t = 0 # Starting round\n",
        "\n",
        "    # Valuation of each buyer sampled from the given distribution function\n",
        "    self.valuation = [valuation_distr[i].rvs() for i in range(T)]\n",
        "\n",
        "  def round(self, p_t):\n",
        "    # Check if the buyer valuation is higher than product price\n",
        "    r_t = p_t if self.valuation[self.t] >= p_t else 0\n",
        "\n",
        "    # Update round\n",
        "    self.t = self.t + 1\n",
        "\n",
        "    return r_t"
      ]
    },
    {
      "cell_type": "markdown",
      "source": [
        "#### Clairvoyant"
      ],
      "metadata": {
        "id": "QEB_mdtd61Wm"
      },
      "id": "QEB_mdtd61Wm"
    },
    {
      "cell_type": "code",
      "source": [
        "class SingleProductHighltyNonStationaryClairvoyant:\n",
        "    def __init__(self, T, B, prices, valuation_distr):\n",
        "        self.T = T\n",
        "        self.prices = prices\n",
        "        self.B=B\n",
        "        # This is probability distributions over valuations (scipy.stats)\n",
        "        self.valuation_distr = valuation_distr\n",
        "\n",
        "    def run(self):\n",
        "        # Probability of selling a product\n",
        "\n",
        "        selling_prob = [1 - self.valuation_distr[i].cdf(self.prices) for i in range(T)]\n",
        "        selling_prob_mean=np.mean(selling_prob, axis=0)\n",
        "\n",
        "        ## Liner programming\n",
        "        c = - self.prices * selling_prob_mean # objective function coefficients\n",
        "\n",
        "        # Constraints\n",
        "        A_eq = [np.ones(len(self.prices))]\n",
        "        b_eq = [1]\n",
        "\n",
        "        A_ub = [selling_prob_mean]\n",
        "        rho=self.B/self.T\n",
        "        b_ub = [rho]\n",
        "\n",
        "        # Resolve LP\n",
        "        res = optimize.linprog(c, A_eq=A_eq, b_eq=b_eq, A_ub=A_ub, b_ub=b_ub, bounds=(0,1))\n",
        "        expected_utility = np.array([-res.fun for _ in range(self.T)])\n",
        "\n",
        "        return expected_utility"
      ],
      "metadata": {
        "id": "bxU_YFI_B2pL"
      },
      "id": "bxU_YFI_B2pL",
      "execution_count": null,
      "outputs": []
    },
    {
      "cell_type": "markdown",
      "source": [
        "##### Clairvoyant 2"
      ],
      "metadata": {
        "id": "lZFt8lpvWEx-"
      },
      "id": "lZFt8lpvWEx-"
    },
    {
      "cell_type": "code",
      "source": [
        "import numpy as np\n",
        "from scipy import optimize\n",
        "\n",
        "class WindowedClairvoyant:\n",
        "    def __init__(self, T, B, prices, valuation_distr, window_size=50):\n",
        "        self.T = T\n",
        "        self.B = B\n",
        "        self.prices = prices\n",
        "        self.valuation_distr = valuation_distr\n",
        "        self.window_size = window_size\n",
        "\n",
        "    def run(self):\n",
        "        K = len(self.prices)\n",
        "        x = np.zeros((self.T, K))  # strategia per ogni turno e prezzo\n",
        "        M = self.T // self.window_size\n",
        "        rho = self.B / self.T  # budget medio per turno\n",
        "\n",
        "        for w in range(M):\n",
        "            start = w * self.window_size\n",
        "            end = start + self.window_size\n",
        "\n",
        "            avg_cdf = np.zeros(K)\n",
        "            for t in range(start, end):\n",
        "                avg_cdf += self.valuation_distr[t].cdf(self.prices)\n",
        "            avg_cdf /= self.window_size\n",
        "\n",
        "            selling_prob = 1 - avg_cdf\n",
        "            c = - self.prices * selling_prob\n",
        "\n",
        "            A_eq = [np.ones(K)]\n",
        "            b_eq = [1]\n",
        "            A_ub = [selling_prob]\n",
        "            b_ub = [rho]\n",
        "            bounds = [(0, 1) for _ in range(K)]\n",
        "\n",
        "            res = optimize.linprog(c, A_ub=A_ub, b_ub=b_ub,\n",
        "                                   A_eq=A_eq, b_eq=b_eq, bounds=bounds, method='highs')\n",
        "\n",
        "            if not res.success:\n",
        "                print(f\"Warning: LP non ha convergito per finestra {w}\")\n",
        "                x_w = np.ones(K) / K\n",
        "            else:\n",
        "                x_w = res.x\n",
        "\n",
        "            for t in range(start, end):\n",
        "                x[t, :] = x_w\n",
        "\n",
        "        # Gestione resto se T non multiplo di window_size\n",
        "        if self.T % self.window_size != 0:\n",
        "            start = M * self.window_size\n",
        "            end = self.T\n",
        "            window_len = end - start\n",
        "\n",
        "            avg_cdf = np.zeros(K)\n",
        "            for t in range(start, end):\n",
        "                avg_cdf += self.valuation_distr[t].cdf(self.prices)\n",
        "            avg_cdf /= window_len\n",
        "\n",
        "            selling_prob = 1 - avg_cdf\n",
        "            c = - self.prices * selling_prob\n",
        "\n",
        "            A_eq = [np.ones(K)]\n",
        "            b_eq = [1]\n",
        "            A_ub = [selling_prob]\n",
        "            b_ub = [rho]\n",
        "            bounds = [(0, 1) for _ in range(K)]\n",
        "\n",
        "            res = optimize.linprog(c, A_ub=A_ub, b_ub=b_ub,\n",
        "                                   A_eq=A_eq, b_eq=b_eq, bounds=bounds, method='highs')\n",
        "\n",
        "            if not res.success:\n",
        "                print(\"Warning: LP non ha convergito per finestra finale\")\n",
        "                x_w = np.ones(K) / K\n",
        "            else:\n",
        "                x_w = res.x\n",
        "\n",
        "            for t in range(start, end):\n",
        "                x[t, :] = x_w\n",
        "\n",
        "        # Calcolo expected utilities per turno\n",
        "        expected_utilities = np.zeros(self.T)\n",
        "        for t in range(self.T):\n",
        "            selling_prob_t = 1 - self.valuation_distr[t].cdf(self.prices)\n",
        "            expected_utilities[t] = np.sum(x[t, :] * self.prices * selling_prob_t)\n",
        "\n",
        "        return expected_utilities, x"
      ],
      "metadata": {
        "id": "4mNDy8zXWBDJ"
      },
      "id": "4mNDy8zXWBDJ",
      "execution_count": null,
      "outputs": []
    },
    {
      "cell_type": "markdown",
      "id": "0a88f5a0",
      "metadata": {
        "id": "0a88f5a0"
      },
      "source": [
        "#### Agent"
      ]
    },
    {
      "cell_type": "code",
      "execution_count": null,
      "id": "80a366f0",
      "metadata": {
        "id": "80a366f0"
      },
      "outputs": [],
      "source": [
        "class EXP3Agent(Agent):\n",
        "    def __init__(self, K, learning_rate):\n",
        "        self.K = K\n",
        "        self.learning_rate = learning_rate\n",
        "        self.weights = np.ones(K)\n",
        "        self.a_t = None\n",
        "        self.x_t = np.ones(K)/K\n",
        "        self.N_pulls = np.zeros(K)\n",
        "        self.t = 0\n",
        "\n",
        "    def pull_arm(self):\n",
        "        self.x_t = self.weights/sum(self.weights)\n",
        "        self.a_t = np.random.choice(np.arange(self.K), p=self.x_t)\n",
        "        return self.a_t\n",
        "\n",
        "    def update(self, l_t):\n",
        "        l_t_tilde = l_t/self.x_t[self.a_t]\n",
        "        self.weights[self.a_t] *= np.exp(-self.learning_rate*l_t_tilde)\n",
        "        self.N_pulls[self.a_t] += 1\n",
        "        self.t += 1"
      ]
    },
    {
      "cell_type": "code",
      "execution_count": null,
      "id": "ec2b5d03",
      "metadata": {
        "id": "ec2b5d03"
      },
      "outputs": [],
      "source": [
        "class FFMultiplicativePacingAgent(Agent):\n",
        "    def __init__(self, prices_set, budget, T, eta, learning_rate):\n",
        "        self.prices_set = prices_set\n",
        "        self.K = len(prices_set)\n",
        "        self.learning_rate = learning_rate\n",
        "        self.exp3 = EXP3Agent(self.K, self.learning_rate)\n",
        "        self.budget = budget\n",
        "        self.eta = eta\n",
        "        self.T = T\n",
        "        self.rho = self.budget/self.T + 1.5\n",
        "        self.lmbd = 1\n",
        "        self.t = 0\n",
        "        self.N_pulls = np.zeros(len(prices_set))\n",
        "        self.price_index = 0\n",
        "        self._lambdas = []\n",
        "\n",
        "    def pull_arm(self):\n",
        "        if self.budget < 1:\n",
        "            return 1.1\n",
        "\n",
        "        self.price_index = self.exp3.pull_arm()\n",
        "        return self.prices_set[self.price_index]\n",
        "\n",
        "    def update(self, f_t):\n",
        "        #self.rho = self.budget/(self.T-self.t+1)\n",
        "        c_t = int(f_t > 0)\n",
        "        L = f_t - self.lmbd*(c_t-self.rho)\n",
        "\n",
        "        # linear rescale in the feasible interval\n",
        "        L_up = 1 -(1/self.rho)*(-self.rho)\n",
        "        L_low = 0 -(1/self.rho)*(1-self.rho)\n",
        "        rescaled_L = (L - L_low)/(L_up-L_low)\n",
        "        self.exp3.update(1 - rescaled_L) # we need to maximize L\n",
        "\n",
        "        # update lagrangian multiplier\n",
        "        self.lmbd = np.clip(self.lmbd-self.eta*(self.rho-c_t),\n",
        "                            a_min=0, a_max=1/self.rho)\n",
        "\n",
        "        self._lambdas.append((self.lmbd, c_t))\n",
        "\n",
        "        # update budget\n",
        "        self.budget -= c_t\n",
        "\n",
        "        self.N_pulls[self.price_index] += 1\n",
        "\n",
        "    def get_budget(self):\n",
        "      return self.budget\n",
        "\n",
        "    def lambdas(self):\n",
        "      return self._lambdas"
      ]
    },
    {
      "cell_type": "markdown",
      "source": [
        "#### Prove agent"
      ],
      "metadata": {
        "id": "ZadKxhN16Y2N"
      },
      "id": "ZadKxhN16Y2N"
    },
    {
      "cell_type": "code",
      "source": [
        "class EXP3PAgent(Agent):\n",
        "    def __init__(self, K, T, alpha, gamma):\n",
        "        self.K = K                      # Numero di bracci\n",
        "        self.T = T                      # Orizzonte\n",
        "        self.alpha = alpha              # Parametro α > 0\n",
        "        self.gamma = gamma              # Parametro γ ∈ (0,1]\n",
        "\n",
        "        # Inizializzazione dei pesi\n",
        "        init_weight = np.exp((alpha * gamma / 3) * np.sqrt(T / K))\n",
        "        self.weights = np.full(K, init_weight)\n",
        "\n",
        "        self.t = 0                      # Tempo\n",
        "        self.x_t = np.ones(K) / K      # Distribuzione iniziale\n",
        "        self.a_t = None                # Azione scelta\n",
        "\n",
        "    def pull_arm(self):\n",
        "        # Passo 1: Calcolo delle probabilità p_i(t)\n",
        "        weight_sum = np.sum(self.weights)\n",
        "        self.x_t = (1 - self.gamma) * (self.weights / weight_sum) + self.gamma / self.K\n",
        "\n",
        "        # Passo 2: Seleziona l'azione\n",
        "        self.a_t = np.random.choice(self.K, p=self.x_t)\n",
        "        return self.a_t\n",
        "\n",
        "    def update(self, reward):\n",
        "        # Passo 3: reward osservato ∈ [0,1]\n",
        "        # Passo 4: Stima del reward (importance-weighted)\n",
        "        estimated_reward = np.zeros(self.K)\n",
        "        estimated_reward[self.a_t] = reward / self.x_t[self.a_t]\n",
        "\n",
        "        # Passo 5: Aggiornamento dei pesi\n",
        "        for j in range(self.K):\n",
        "            bonus = self.alpha / self.x_t[j] * np.sqrt(self.K / self.T)\n",
        "            exponent = (self.gamma / (3 * self.K)) * (estimated_reward[j] + bonus)\n",
        "            self.weights[j] *= np.exp(exponent)\n",
        "\n",
        "        self.t += 1"
      ],
      "metadata": {
        "id": "HlsmwCD3CgvV"
      },
      "id": "HlsmwCD3CgvV",
      "execution_count": null,
      "outputs": []
    },
    {
      "cell_type": "code",
      "source": [
        "import numpy as np\n",
        "\n",
        "class EXP3P_Bandit_Agent(Agent):\n",
        "    def __init__(self, N, eta, alpha, gamma):\n",
        "        self.N = N                  # Numero di azioni (bracci)\n",
        "        self.alpha = alpha            # Stabilizzazione\n",
        "        self.eta = eta              # Learning rate\n",
        "        self.gamma = gamma          # Esplorazione\n",
        "        self.weights = np.ones(N)   # Pesi iniziali\n",
        "        self.p = np.ones(N) / N     # Distribuzione iniziale\n",
        "        self.last_action = None\n",
        "        self.t = 0\n",
        "\n",
        "    def pull_arm(self):\n",
        "        self.last_action = np.random.choice(self.N, p=self.p)\n",
        "        return self.last_action\n",
        "\n",
        "    def update(self, observed_reward):\n",
        "        i = self.last_action\n",
        "        g_tilde = np.zeros(self.N)\n",
        "\n",
        "        # Solo il braccio selezionato riceve reward stimato\n",
        "        g_tilde[i] = (observed_reward + self.alpha) / self.p[i]\n",
        "\n",
        "        # Gli altri ricevono solo bonus β / p_i\n",
        "        for j in range(self.N):\n",
        "            if j != i:\n",
        "                g_tilde[j] = self.alpha / self.p[j]\n",
        "\n",
        "        # Aggiorna pesi\n",
        "        self.weights *= np.exp(self.eta * g_tilde)\n",
        "\n",
        "        # Ricalcola distribuzione con smoothing\n",
        "        W_t = np.sum(self.weights)\n",
        "        self.p = (1 - self.gamma) * (self.weights / W_t) + self.gamma / self.N\n",
        "\n",
        "        self.t += 1\n"
      ],
      "metadata": {
        "id": "Vrl5hlxCNK8D"
      },
      "id": "Vrl5hlxCNK8D",
      "execution_count": null,
      "outputs": []
    },
    {
      "cell_type": "code",
      "source": [
        "delta = 0.05\n",
        "alpha = np.sqrt( (1 / (T * K)) * np.log(K / delta) )\n",
        "gamma = (4 * K * alpha) / (3 + alpha)\n",
        "eta = gamma / (2 * K)"
      ],
      "metadata": {
        "id": "uDuuxfOxJ2Cw"
      },
      "id": "uDuuxfOxJ2Cw",
      "execution_count": null,
      "outputs": []
    },
    {
      "cell_type": "markdown",
      "source": [
        "#### Parameters"
      ],
      "metadata": {
        "id": "edRPUchA7Vge"
      },
      "id": "edRPUchA7Vge"
    },
    {
      "cell_type": "code",
      "source": [
        "# Parameters\n",
        "T = 30000\n",
        "B = T * 50/100\n",
        "\n",
        "# Prices\n",
        "max_price = 1.1\n",
        "price_step = 0.1\n",
        "prices = np.arange(0.1, max_price, price_step)\n",
        "K = len(prices)\n",
        "# Valuation prob. distribution\n",
        "max_valuation = 1"
      ],
      "metadata": {
        "id": "HhON4-gPP-5l"
      },
      "id": "HhON4-gPP-5l",
      "execution_count": null,
      "outputs": []
    },
    {
      "cell_type": "code",
      "source": [
        "prices"
      ],
      "metadata": {
        "id": "U6S96D7C7fNS",
        "outputId": "f01af6cf-cf8b-48eb-bc0b-52449aa589bc",
        "colab": {
          "base_uri": "https://localhost:8080/"
        }
      },
      "id": "U6S96D7C7fNS",
      "execution_count": null,
      "outputs": [
        {
          "output_type": "execute_result",
          "data": {
            "text/plain": [
              "array([0.1, 0.2, 0.3, 0.4, 0.5, 0.6, 0.7, 0.8, 0.9, 1. ])"
            ]
          },
          "metadata": {},
          "execution_count": 12
        }
      ]
    },
    {
      "cell_type": "code",
      "execution_count": null,
      "id": "5bde0717",
      "metadata": {
        "id": "5bde0717"
      },
      "outputs": [],
      "source": [
        "#adversarial\n",
        "learning_rate = np.sqrt(np.log(K)/(K*T))  #learning rate EXP3\n",
        "eta=1/np.sqrt(T)   #learing rate Multiplicative pacing\n",
        "\n",
        "valuation_distributions = []\n",
        "for t in range(T):\n",
        "  distr = getDistribution()\n",
        "  valuation_distributions.append(distr)\n"
      ]
    },
    {
      "cell_type": "code",
      "source": [
        "#stationary\n",
        "learning_rate = np.sqrt(np.log(K)/(K*T))  #learning rate EXP3\n",
        "eta=1/np.sqrt(T)   #learing rate Multiplicative pacing\n",
        "\n",
        "distr = getDistribution()\n",
        "valuation_distributions = []\n",
        "for t in range(T):\n",
        "  valuation_distributions.append(distr)"
      ],
      "metadata": {
        "id": "5Kc1ZrqmTtpX"
      },
      "id": "5Kc1ZrqmTtpX",
      "execution_count": null,
      "outputs": []
    },
    {
      "cell_type": "code",
      "source": [
        "from collections import Counter\n",
        "\n",
        "# Calcola media e varianza per ogni distribuzione\n",
        "mean_var_pairs = []\n",
        "\n",
        "for dist in valuation_distributions:\n",
        "    mean, var = dist.stats(moments='mv')\n",
        "    mean = float(np.round(mean, 4))  # arrotondo per evitare problemi di float\n",
        "    var = float(np.round(var, 4))\n",
        "    mean_var_pairs.append((mean, var))\n",
        "\n",
        "# Conta quante volte appaiono le coppie (mean, var)\n",
        "count_mv = Counter(mean_var_pairs)\n",
        "\n",
        "# Stampa solo quelle diverse (una volta ciascuna, con frequenza)\n",
        "print(\"Distribuzioni distinte (media, varianza) e frequenze:\")\n",
        "for (mean, var), count in sorted(count_mv.items()):\n",
        "    print(f\"mean={mean:.4f}, var={var:.4f} → {count} volte\")\n",
        "\n",
        "means = [m for m, v in mean_var_pairs]\n",
        "\n",
        "print(f\"Valore medio sample: {np.mean(means):.3f}\")\n",
        "print(f\"Valore minimo sample: {np.min(means):.3f}\")\n",
        "print(f\"Valore massimo sample: {np.max(means):.3f}\")"
      ],
      "metadata": {
        "id": "gsGYwbch2Zah",
        "outputId": "7964a21d-e6b8-404d-dd9a-03e3979a0adc",
        "colab": {
          "base_uri": "https://localhost:8080/"
        }
      },
      "id": "gsGYwbch2Zah",
      "execution_count": null,
      "outputs": [
        {
          "output_type": "stream",
          "name": "stdout",
          "text": [
            "Distribuzioni distinte (media, varianza) e frequenze:\n",
            "mean=0.6250, var=0.0260 → 30000 volte\n",
            "Valore medio sample: 0.625\n",
            "Valore minimo sample: 0.625\n",
            "Valore massimo sample: 0.625\n"
          ]
        }
      ]
    },
    {
      "cell_type": "code",
      "source": [
        "prices_arr = []\n",
        "rewards = []\n",
        "budget_per_trial =[]\n",
        "\n",
        "residual_budget = []\n",
        "\n",
        "# Run clairvoyant\n",
        "clairvoyant = SingleProductHighltyNonStationaryClairvoyant(T, B, prices, valuation_distributions)\n",
        "expected_clairvoyant_utilities = clairvoyant.run()\n",
        "\n",
        "n_trials = 10\n",
        "regret_per_trial = []\n",
        "for trial in range(n_trials):\n",
        "\n",
        "  # Define environment and agent\n",
        "  env = SingleProductHighlyNonStationaryEnvironment(T, valuation_distributions)\n",
        "  multiplicative_pacing_agent = FFMultiplicativePacingAgent(prices, B, T, eta, learning_rate)\n",
        "  count = 0\n",
        "  agent_rewards = []\n",
        "  budget=[]\n",
        "  for t in range(T):\n",
        "    if(count>=B):\n",
        "      r_t = 0\n",
        "      agent_rewards.append(r_t)\n",
        "    else:\n",
        "      # Get the actual price\n",
        "      p_t = multiplicative_pacing_agent.pull_arm()\n",
        "      # Get reward\n",
        "      r_t = env.round(p_t)\n",
        "\n",
        "      prices_arr.append(p_t)\n",
        "      rewards.append(r_t)\n",
        "\n",
        "      # Update agent state\n",
        "      multiplicative_pacing_agent.update(r_t)\n",
        "\n",
        "      agent_rewards.append(r_t)\n",
        "      if(r_t > 0):\n",
        "        count = count + 1\n",
        "    budget.append(multiplicative_pacing_agent.get_budget())\n",
        "  agent_rewards = np.array(agent_rewards)\n",
        "  cumulative_regret = np.cumsum(expected_clairvoyant_utilities - agent_rewards)\n",
        "  regret_per_trial.append(cumulative_regret)\n",
        "  budget_per_trial.append(budget)\n",
        "\n",
        "  residual_budget.append(multiplicative_pacing_agent.get_budget())\n",
        "\n",
        "regret_per_trial = np.array(regret_per_trial)"
      ],
      "metadata": {
        "id": "OEAKPazvQZqZ"
      },
      "id": "OEAKPazvQZqZ",
      "execution_count": null,
      "outputs": []
    },
    {
      "cell_type": "code",
      "source": [
        "from collections import Counter\n",
        "\n",
        "price_counts = Counter(prices_arr)\n",
        "\n",
        "print(\"Frequenze dei prezzi scelti:\")\n",
        "for price in sorted(price_counts):\n",
        "    print(f\"Prezzo {price:.2f}: scelto {price_counts[price]} volte\")"
      ],
      "metadata": {
        "id": "6TiLyS6YA3Pm",
        "outputId": "bdd2f78c-5680-402b-84b4-79b7317a203a",
        "colab": {
          "base_uri": "https://localhost:8080/"
        }
      },
      "id": "6TiLyS6YA3Pm",
      "execution_count": null,
      "outputs": [
        {
          "output_type": "stream",
          "name": "stdout",
          "text": [
            "Frequenze dei prezzi scelti:\n",
            "Prezzo 0.10: scelto 4440 volte\n",
            "Prezzo 0.20: scelto 7775 volte\n",
            "Prezzo 0.30: scelto 21988 volte\n",
            "Prezzo 0.40: scelto 39677 volte\n",
            "Prezzo 0.50: scelto 71636 volte\n",
            "Prezzo 0.60: scelto 35147 volte\n",
            "Prezzo 0.70: scelto 11713 volte\n",
            "Prezzo 0.80: scelto 4929 volte\n",
            "Prezzo 0.90: scelto 2870 volte\n",
            "Prezzo 1.00: scelto 3329 volte\n"
          ]
        }
      ]
    },
    {
      "cell_type": "code",
      "source": [
        "import matplotlib.pyplot as plt\n",
        "\n",
        "# Ordina per prezzo crescente\n",
        "sorted_prices = sorted(price_counts)\n",
        "counts = [price_counts[p] for p in sorted_prices]\n",
        "\n",
        "plt.figure(figsize=(10, 4))\n",
        "plt.bar([f\"{p:.2f}\" for p in sorted_prices], counts)\n",
        "plt.xlabel(\"Prezzo\")\n",
        "plt.ylabel(\"Numero di volte scelto\")\n",
        "plt.title(\"Distribuzione dei prezzi scelti (su tutti i trial)\")\n",
        "plt.grid(True)\n",
        "plt.tight_layout()\n",
        "plt.show()\n"
      ],
      "metadata": {
        "id": "_XX_CXDHBFej",
        "outputId": "b84b79b6-6ea1-4157-9a63-4d20c30f4275",
        "colab": {
          "base_uri": "https://localhost:8080/",
          "height": 407
        }
      },
      "id": "_XX_CXDHBFej",
      "execution_count": null,
      "outputs": [
        {
          "output_type": "display_data",
          "data": {
            "text/plain": [
              "<Figure size 1000x400 with 1 Axes>"
            ],
            "image/png": "[encoded data removed]"
          },
          "metadata": {}
        }
      ]
    },
    {
      "cell_type": "code",
      "source": [
        "average_regret = regret_per_trial.mean(axis=0) # mean\n",
        "regret_sd = regret_per_trial.std(axis=0) # standard deviation\n",
        "average_budget = np.array(budget_per_trial).mean(axis=0)\n",
        "budget_sd = np.array(budget_per_trial).std(axis=0)\n",
        "\n",
        "plt.plot(np.arange(T), average_regret, label=\"Average\")\n",
        "plt.fill_between(\n",
        "    np.arange(T),\n",
        "    average_regret-regret_sd/np.sqrt(n_trials),\n",
        "    average_regret+regret_sd/np.sqrt(n_trials),\n",
        "    alpha=0.3,\n",
        "    label=\"Uncertainty\"\n",
        ")\n"
      ],
      "metadata": {
        "id": "NUuBOoeHWAUf",
        "outputId": "3485b05e-6a49-437d-cf5e-0391ead0fcf9",
        "colab": {
          "base_uri": "https://localhost:8080/",
          "height": 447
        }
      },
      "id": "NUuBOoeHWAUf",
      "execution_count": null,
      "outputs": [
        {
          "output_type": "execute_result",
          "data": {
            "text/plain": [
              "<matplotlib.collections.FillBetweenPolyCollection at 0x7c70e8ca8050>"
            ]
          },
          "metadata": {},
          "execution_count": 132
        },
        {
          "output_type": "display_data",
          "data": {
            "text/plain": [
              "<Figure size 640x480 with 1 Axes>"
            ],
            "image/png": "[encoded data removed]"
          },
          "metadata": {}
        }
      ]
    },
    {
      "cell_type": "code",
      "source": [
        "plt.xlabel(\"$t$\")\n",
        "plt.legend()\n",
        "\n",
        "plt.plot(np.arange(T), average_budget, label=\"Average\")\n",
        "plt.fill_between(\n",
        "    np.arange(T),\n",
        "    average_budget-budget_sd/np.sqrt(n_trials),\n",
        "    average_budget+budget_sd/np.sqrt(n_trials),\n",
        "    alpha=0.3,\n",
        "    label=\"Uncertainty\"\n",
        ")\n",
        "plt.xlabel(\"$t$\")\n",
        "plt.legend()"
      ],
      "metadata": {
        "id": "56Ijw941D9ST",
        "outputId": "587e753c-7c8b-44bb-c015-e9ab519d8bfd",
        "colab": {
          "base_uri": "https://localhost:8080/",
          "height": 521
        }
      },
      "id": "56Ijw941D9ST",
      "execution_count": null,
      "outputs": [
        {
          "output_type": "stream",
          "name": "stderr",
          "text": [
            "/tmp/ipython-input-133-2470661149.py:2: UserWarning: No artists with labels found to put in legend.  Note that artists whose label start with an underscore are ignored when legend() is called with no argument.\n",
            "  plt.legend()\n"
          ]
        },
        {
          "output_type": "execute_result",
          "data": {
            "text/plain": [
              "<matplotlib.legend.Legend at 0x7c70d39f3810>"
            ]
          },
          "metadata": {},
          "execution_count": 133
        },
        {
          "output_type": "display_data",
          "data": {
            "text/plain": [
              "<Figure size 640x480 with 1 Axes>"
            ],
            "image/png": "[encoded data removed]"
          },
          "metadata": {}
        }
      ]
    },
    {
      "cell_type": "code",
      "source": [
        "average_regret = regret_per_trial.mean(axis=0)  # media\n",
        "regret_sd = regret_per_trial.std(axis=0)        # deviazione standard\n",
        "\n",
        "t = np.arange(1, T+1)  # inizia da 1 per evitare t^{2/3} = 0^{2/3} = 0\n",
        "regret_theory = (900 / np.sqrt(20000*np.log(K))) * np.sqrt(t*np.log(K))\n",
        "\n",
        "plt.plot(t, average_regret, label=\"Average\")\n",
        "plt.fill_between(\n",
        "    t,\n",
        "    average_regret - regret_sd / np.sqrt(n_trials),\n",
        "    average_regret + regret_sd / np.sqrt(n_trials),\n",
        "    alpha=0.3,\n",
        "    label=\"Uncertainty\"\n",
        ")\n",
        "plt.plot(t, regret_theory, label=r\"$(\\sqrt{Tlog(K))}$\", linestyle='--', color='red')\n",
        "\n",
        "plt.xlabel(\"$t$\")\n",
        "plt.ylabel(\"Regret\")\n",
        "plt.legend()\n",
        "plt.grid(True)\n",
        "plt.show()"
      ],
      "metadata": {
        "id": "Rsuvwyr8WL2o",
        "outputId": "98e0f9b8-816e-4965-8903-fd36956cc2ae",
        "colab": {
          "base_uri": "https://localhost:8080/",
          "height": 449
        }
      },
      "id": "Rsuvwyr8WL2o",
      "execution_count": null,
      "outputs": [
        {
          "output_type": "display_data",
          "data": {
            "text/plain": [
              "<Figure size 640x480 with 1 Axes>"
            ],
            "image/png": "[encoded data removed]"
          },
          "metadata": {}
        }
      ]
    },
    {
      "cell_type": "code",
      "source": [
        "diff = average_regret / t\n",
        "plt.plot(t, diff, label=\"andament\")"
      ],
      "metadata": {
        "colab": {
          "base_uri": "https://localhost:8080/",
          "height": 449
        },
        "id": "_kE-4VZzbDMN",
        "outputId": "37eabdeb-1c9b-4b0d-93ef-6b5c488cecff"
      },
      "id": "_kE-4VZzbDMN",
      "execution_count": null,
      "outputs": [
        {
          "output_type": "execute_result",
          "data": {
            "text/plain": [
              "[<matplotlib.lines.Line2D at 0x7c70c38da7d0>]"
            ]
          },
          "metadata": {},
          "execution_count": 26
        },
        {
          "output_type": "display_data",
          "data": {
            "text/plain": [
              "<Figure size 640x480 with 1 Axes>"
            ],
            "image/png": "[encoded data removed]"
          },
          "metadata": {}
        }
      ]
    },
    {
      "cell_type": "code",
      "source": [
        "np.array(residual_budget)"
      ],
      "metadata": {
        "colab": {
          "base_uri": "https://localhost:8080/"
        },
        "id": "CHhf9MsOrHrw",
        "outputId": "49af78a4-5948-4d2e-dd61-c05b247f0d03"
      },
      "id": "CHhf9MsOrHrw",
      "execution_count": null,
      "outputs": [
        {
          "output_type": "execute_result",
          "data": {
            "text/plain": [
              "array([0., 0., 0., 0., 0., 0., 0., 0., 0., 0.])"
            ]
          },
          "metadata": {},
          "execution_count": 120
        }
      ]
    },
    {
      "cell_type": "code",
      "source": [
        "residual_budget_mean = np.array(residual_budget).mean()\n",
        "print(np.sqrt(np.var(residual_budget)))\n",
        "print(residual_budget_mean)\n",
        "\n",
        "print(residual_budget_mean / B)"
      ],
      "metadata": {
        "colab": {
          "base_uri": "https://localhost:8080/"
        },
        "id": "CihFvvm7XgRn",
        "outputId": "0c09a5be-5d5a-47d9-be2a-2a551ba341b0"
      },
      "id": "CihFvvm7XgRn",
      "execution_count": null,
      "outputs": [
        {
          "output_type": "stream",
          "name": "stdout",
          "text": [
            "0.0\n",
            "0.0\n",
            "0.0\n"
          ]
        }
      ]
    },
    {
      "cell_type": "markdown",
      "id": "aecad7b0",
      "metadata": {
        "id": "aecad7b0"
      },
      "source": [
        "### Requirement 4: best-of-both-worlds algorithms with multiple products"
      ]
    },
    {
      "cell_type": "code",
      "execution_count": null,
      "id": "8acf080d",
      "metadata": {
        "id": "8acf080d"
      },
      "outputs": [],
      "source": []
    },
    {
      "cell_type": "markdown",
      "id": "6bf731ab",
      "metadata": {
        "id": "6bf731ab"
      },
      "source": [
        "### Requirement 5: slightly non-stationary environments with multiple products"
      ]
    },
    {
      "cell_type": "code",
      "execution_count": null,
      "id": "af95329c",
      "metadata": {
        "id": "af95329c"
      },
      "outputs": [],
      "source": []
    }
  ],
  "metadata": {
    "colab": {
      "provenance": [],
      "toc_visible": true
    },
    "kernelspec": {
      "display_name": "Python 3",
      "language": "python",
      "name": "python3"
    },
    "language_info": {
      "codemirror_mode": {
        "name": "ipython",
        "version": 3
      },
      "file_extension": ".py",
      "mimetype": "text/x-python",
      "name": "python",
      "nbconvert_exporter": "python",
      "pygments_lexer": "ipython3",
      "version": "3.12.7"
    }
  },
  "nbformat": 4,
  "nbformat_minor": 5
}