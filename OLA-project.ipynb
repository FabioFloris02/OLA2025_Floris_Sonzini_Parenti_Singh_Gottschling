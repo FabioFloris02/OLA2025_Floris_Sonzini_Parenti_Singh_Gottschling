{
  "cells": [
    {
      "cell_type": "code",
      "execution_count": 1,
      "id": "64de8b88",
      "metadata": {
        "id": "64de8b88"
      },
      "outputs": [],
      "source": [
        "import numpy as np\n",
        "import matplotlib.pyplot as plt\n",
        "from scipy import stats\n",
        "from scipy import optimize"
      ]
    },
    {
      "cell_type": "markdown",
      "id": "392e5fba",
      "metadata": {
        "id": "392e5fba"
      },
      "source": [
        "## General classes"
      ]
    },
    {
      "cell_type": "code",
      "execution_count": 2,
      "id": "5c3542ea",
      "metadata": {
        "id": "5c3542ea"
      },
      "outputs": [],
      "source": [
        "class Environment:\n",
        "    def __init__(self):\n",
        "        pass\n",
        "\n",
        "    def round(self, product_price):\n",
        "        pass"
      ]
    },
    {
      "cell_type": "code",
      "execution_count": 3,
      "id": "25a9ca32",
      "metadata": {
        "id": "25a9ca32"
      },
      "outputs": [],
      "source": [
        "class Agent:\n",
        "    def __init__(self):\n",
        "        pass\n",
        "\n",
        "    def pull_arm(self):\n",
        "        pass\n",
        "\n",
        "    def update(self, reward_t):\n",
        "        pass"
      ]
    },
    {
      "cell_type": "markdown",
      "id": "e7342c66",
      "metadata": {
        "id": "e7342c66"
      },
      "source": [
        "### Requirement 1: single product and stochastic environment"
      ]
    },
    {
      "cell_type": "markdown",
      "id": "c5c2a790",
      "metadata": {
        "id": "c5c2a790"
      },
      "source": [
        "#### Environment"
      ]
    },
    {
      "cell_type": "code",
      "execution_count": 4,
      "id": "48b6de95",
      "metadata": {
        "id": "48b6de95"
      },
      "outputs": [],
      "source": [
        "class SingleProductEnvironment(Environment):\n",
        "  def __init__(self, T, valuation_distr=stats.uniform):\n",
        "    self.T = T # Number of rounds\n",
        "    self.t = 0 # Starting round\n",
        "\n",
        "    # Valuation of each buyer sampled from the given distribution function\n",
        "    self.valuation = valuation_distr.rvs(size=T)\n",
        "\n",
        "  def round(self, p_t):\n",
        "    # Check if the buyer valuation is higher than product price\n",
        "    r_t = p_t if self.valuation[self.t] >= p_t else 0\n",
        "\n",
        "    # Update round\n",
        "    self.t = self.t + 1\n",
        "\n",
        "    return r_t"
      ]
    },
    {
      "cell_type": "markdown",
      "id": "078ff1da",
      "metadata": {
        "id": "078ff1da"
      },
      "source": [
        "#### Agent without inventory constraint - UCB1"
      ]
    },
    {
      "cell_type": "code",
      "execution_count": 5,
      "id": "ecf97d4e",
      "metadata": {
        "id": "ecf97d4e"
      },
      "outputs": [],
      "source": [
        "class UCB1(Agent):\n",
        "    def __init__(self, T, P, range=1):\n",
        "        self.range = range # Range of the reward\n",
        "        self.P = P # Prices' set cardinality\n",
        "        self.T = T # Number of rounds\n",
        "        self.pi_t = None # Init price\n",
        "\n",
        "        self.average_rewards = np.zeros(self.P)\n",
        "        self.N_pulls = np.zeros(self.P)\n",
        "\n",
        "        self.t = 0 # Starting round\n",
        "\n",
        "    def pull_arm(self):\n",
        "        # Check if the round is less then number of prices\n",
        "        if self.t < self.P:\n",
        "            # then set it as product_price\n",
        "            self.pi_t = self.t\n",
        "        else:\n",
        "            # Compute UCB1\n",
        "            ucbs = self.average_rewards + self.range * np.sqrt(2 * np.log(self.T)/self.N_pulls)\n",
        "\n",
        "            # Extract the price that maximizes the UCB1\n",
        "            self.pi_t = np.argmax(ucbs)\n",
        "\n",
        "        return self.pi_t\n",
        "\n",
        "    def update(self, reward):\n",
        "        self.N_pulls[self.pi_t] += 1\n",
        "\n",
        "        # As average, we have (total purchasing) / (number of times of purchasing)\n",
        "        self.average_rewards[self.pi_t] += (reward - self.average_rewards[self.pi_t])/self.N_pulls[self.pi_t]\n",
        "        self.t += 1"
      ]
    },
    {
      "cell_type": "markdown",
      "id": "45a904c2",
      "metadata": {
        "id": "45a904c2"
      },
      "source": [
        "#### Clairvoyant without inventory constraint"
      ]
    },
    {
      "cell_type": "code",
      "execution_count": 6,
      "id": "1feeed44",
      "metadata": {
        "id": "1feeed44"
      },
      "outputs": [],
      "source": [
        "class SingleProductStochasticClairvoyant:\n",
        "    def __init__(self, T, prices, valuation_distr=stats.uniform):\n",
        "        self.T = T\n",
        "        self.prices = prices\n",
        "\n",
        "        # This is probability distributions over valuations (scipy.stats)\n",
        "        self.valuation_distr = valuation_distr\n",
        "\n",
        "    def run(self):\n",
        "        # Probability of selling a product\n",
        "        selling_prob = 1 - self.valuation_distr.cdf(self.prices)\n",
        "\n",
        "        ## Liner programming\n",
        "        c = - self.prices * selling_prob # objective function coefficients\n",
        "\n",
        "        # Constraints\n",
        "        A_eq = [np.ones(len(self.prices))]\n",
        "        b_eq = [1]\n",
        "\n",
        "        # Resolve LP\n",
        "        res = optimize.linprog(\n",
        "            c, \n",
        "            A_eq=A_eq, \n",
        "            b_eq=b_eq, \n",
        "            bounds=(0, 1)\n",
        "        )\n",
        "        expected_utility = np.array([-res.fun for _ in range(self.T)])\n",
        "\n",
        "        return expected_utility"
      ]
    },
    {
      "cell_type": "markdown",
      "id": "fac0956a",
      "metadata": {
        "id": "fac0956a"
      },
      "source": [
        "#### Evaluation"
      ]
    },
    {
      "cell_type": "code",
      "execution_count": 7,
      "id": "07c19d34",
      "metadata": {
        "id": "07c19d34"
      },
      "outputs": [],
      "source": [
        "# Parameters\n",
        "T = 10000\n",
        "\n",
        "# Prices\n",
        "max_price = 1\n",
        "price_step = T ** (-1/3)\n",
        "prices = np.arange(0, max_price, price_step)\n",
        "P = len(prices)\n",
        "\n",
        "# Valuation prob. distribution\n",
        "max_valuation = 1\n",
        "#valuation_distr = stats.binom(loc=0, n=max_valuation, p=0.5)\n",
        "valuation_distr = stats.uniform(loc=0, scale=max_price)"
      ]
    },
    {
      "cell_type": "code",
      "execution_count": 8,
      "id": "b98f0aac",
      "metadata": {
        "id": "b98f0aac"
      },
      "outputs": [],
      "source": [
        "# Run clairvoyant\n",
        "clairvoyant = SingleProductStochasticClairvoyant(T, prices, valuation_distr)\n",
        "expected_clairvoyant_utilities = clairvoyant.run()\n",
        "\n",
        "n_trials = 10\n",
        "regret_per_trial = []\n",
        "for trial in range(n_trials):\n",
        "\n",
        "  # Define environment and agent\n",
        "  env = SingleProductEnvironment(T, valuation_distr)\n",
        "  ucb_like_agent = UCB1(T, P, range=max_price)\n",
        "\n",
        "  agent_rewards = []\n",
        "\n",
        "  for t in range(T):\n",
        "    # This returns the price index\n",
        "    pi_t = ucb_like_agent.pull_arm()\n",
        "\n",
        "    # Get the actual price\n",
        "    p_t = prices[pi_t]\n",
        "\n",
        "    # Get reward\n",
        "    r_t = env.round(p_t)\n",
        "\n",
        "    # Update agent state\n",
        "    ucb_like_agent.update(r_t)\n",
        "\n",
        "    agent_rewards.append(r_t)\n",
        "\n",
        "  agent_rewards = np.array(agent_rewards)\n",
        "  cumulative_regret = np.cumsum(expected_clairvoyant_utilities - agent_rewards)\n",
        "\n",
        "  regret_per_trial.append(cumulative_regret)\n",
        "\n",
        "regret_per_trial = np.array(regret_per_trial)"
      ]
    },
    {
      "cell_type": "code",
      "execution_count": 9,
      "id": "32c56a36",
      "metadata": {
        "colab": {
          "base_uri": "https://localhost:8080/",
          "height": 466
        },
        "id": "32c56a36",
        "outputId": "99d8c739-7eee-41c4-c936-066c24278984"
      },
      "outputs": [
        {
          "data": {
            "text/plain": [
              "<matplotlib.legend.Legend at 0x12ae99520>"
            ]
          },
          "execution_count": 9,
          "metadata": {},
          "output_type": "execute_result"
        },
        {
          "data": {
            "image/png": "[encoded data removed]",
            "text/plain": [
              "<Figure size 640x480 with 1 Axes>"
            ]
          },
          "metadata": {},
          "output_type": "display_data"
        }
      ],
      "source": [
        "average_regret = regret_per_trial.mean(axis=0) # mean\n",
        "regret_sd = regret_per_trial.std(axis=0) # standard deviation\n",
        "\n",
        "plt.plot(np.arange(T), average_regret, label=\"Average\")\n",
        "plt.fill_between(\n",
        "    np.arange(T),\n",
        "    average_regret-regret_sd/np.sqrt(n_trials),\n",
        "    average_regret+regret_sd/np.sqrt(n_trials),\n",
        "    alpha=0.3,\n",
        "    label=\"Uncertainty\"\n",
        ")\n",
        "plt.xlabel(\"$t$\")\n",
        "plt.legend()"
      ]
    },
    {
      "cell_type": "code",
      "execution_count": 10,
      "id": "9cRPSTGbz4PK",
      "metadata": {
        "colab": {
          "base_uri": "https://localhost:8080/",
          "height": 476
        },
        "id": "9cRPSTGbz4PK",
        "outputId": "420e783e-6447-4460-e864-754431149153"
      },
      "outputs": [
        {
          "data": {
            "image/png": "[encoded data removed]",
            "text/plain": [
              "<Figure size 640x480 with 1 Axes>"
            ]
          },
          "metadata": {},
          "output_type": "display_data"
        }
      ],
      "source": [
        "average_regret = regret_per_trial.mean(axis=0)  # media\n",
        "regret_sd = regret_per_trial.std(axis=0)        # deviazione standard\n",
        "\n",
        "t = np.arange(1, T+1)  # inizia da 1 per evitare t^{2/3} = 0^{2/3} = 0\n",
        "regret_theory = t**(2/3)\n",
        "\n",
        "plt.plot(t, average_regret, label=\"Average\")\n",
        "plt.fill_between(\n",
        "    t,\n",
        "    average_regret - regret_sd / np.sqrt(n_trials),\n",
        "    average_regret + regret_sd / np.sqrt(n_trials),\n",
        "    alpha=0.3,\n",
        "    label=\"Uncertainty\"\n",
        ")\n",
        "plt.plot(t, regret_theory, label=r\"$t^{2/3}$\", linestyle='--', color='red')\n",
        "\n",
        "plt.xlabel(\"$t$\")\n",
        "plt.ylabel(\"Regret\")\n",
        "plt.legend()\n",
        "plt.title(\"Regret vs Theoretical $t^{2/3}$ Growth\")\n",
        "plt.grid(True)\n",
        "plt.show()"
      ]
    },
    {
      "cell_type": "code",
      "execution_count": 11,
      "id": "jQxnCLmX7Fgn",
      "metadata": {
        "colab": {
          "base_uri": "https://localhost:8080/",
          "height": 507
        },
        "id": "jQxnCLmX7Fgn",
        "outputId": "793d6a94-a3ef-413b-8f58-5dc477d49878"
      },
      "outputs": [
        {
          "name": "stderr",
          "output_type": "stream",
          "text": [
            "<>:21: SyntaxWarning: invalid escape sequence '\\s'\n",
            "<>:21: SyntaxWarning: invalid escape sequence '\\s'\n",
            "/var/folders/32/cjb5rw_97rjb1kkd58x5p4q80000gn/T/ipykernel_24883/658430586.py:21: SyntaxWarning: invalid escape sequence '\\s'\n",
            "  plt.title(\"Regret vs Theoretical $\\sqrt{K t \\log t}$ Growth\")\n"
          ]
        },
        {
          "data": {
            "image/png": "[encoded data removed]",
            "text/plain": [
              "<Figure size 800x500 with 1 Axes>"
            ]
          },
          "metadata": {},
          "output_type": "display_data"
        }
      ],
      "source": [
        "K= 1/price_step\n",
        "t = np.arange(1, T + 1)  # da 1 per evitare log(0)\n",
        "theoretical_curve = np.sqrt(K * t * np.log(t))\n",
        "\n",
        "# Plot\n",
        "plt.figure(figsize=(8, 5))\n",
        "plt.plot(np.arange(T), average_regret, label=\"Average\")\n",
        "plt.fill_between(\n",
        "    np.arange(T),\n",
        "    average_regret - regret_sd / np.sqrt(n_trials),\n",
        "    average_regret + regret_sd / np.sqrt(n_trials),\n",
        "    alpha=0.3,\n",
        "    label=\"Uncertainty\"\n",
        ")\n",
        "\n",
        "# Aggiunta curva asintotica\n",
        "plt.plot(t - 1, theoretical_curve, label=r\"$\\sqrt{K t \\log t}$\", linestyle=\"--\", color=\"red\")\n",
        "\n",
        "plt.xlabel(\"$t$\")\n",
        "plt.ylabel(\"Regret\")\n",
        "plt.title(\"Regret vs Theoretical $\\sqrt{K t \\log t}$ Growth\")\n",
        "plt.legend()\n",
        "plt.grid(True)\n",
        "plt.tight_layout()\n",
        "plt.show()"
      ]
    },
    {
      "cell_type": "markdown",
      "id": "3d3dca35",
      "metadata": {
        "id": "3d3dca35"
      },
      "source": [
        "#### Agent with inventory constraint - UCB-like"
      ]
    },
    {
      "cell_type": "code",
      "execution_count": 12,
      "id": "caf21640",
      "metadata": {
        "id": "caf21640"
      },
      "outputs": [],
      "source": [
        "class UCBLike():\n",
        "    def __init__(self, T, B, P, range=1):\n",
        "        self.T = T\n",
        "        self.P = P\n",
        "        self.range = range\n",
        "\n",
        "        self.pi_t = None\n",
        "        self.avg_f = np.zeros(self.P)\n",
        "        self.avg_c = np.zeros(self.P)\n",
        "        self.N_pulls = np.zeros(self.P)\n",
        "        self.budget = B\n",
        "\n",
        "        self.t = 0\n",
        "\n",
        "    def pull_arm(self):\n",
        "        # Check if budget is depleted\n",
        "        if self.budget < 1:\n",
        "            self.pi_t = 0\n",
        "            return 0\n",
        "\n",
        "        if self.t < self.P:\n",
        "            self.pi_t = self.t\n",
        "        else:\n",
        "            # Upper Confidence Bound\n",
        "            f_ucbs = self.avg_f + self.range * np.sqrt( 2 * np.log(self.T)/self.N_pulls)\n",
        "\n",
        "            # Lower Confidence Bound\n",
        "            c_lcbs = self.avg_c - self.range * np.sqrt( 2 * np.log(self.T)/self.N_pulls)\n",
        "\n",
        "            # Price optimal distribution\n",
        "            gamma_t = self.compute_opt(f_ucbs, c_lcbs)\n",
        "\n",
        "            # Set current price\n",
        "            self.pi_t = np.random.choice(self.P, p=gamma_t)\n",
        "\n",
        "        return self.pi_t\n",
        "\n",
        "    def compute_opt(self, f_ucbs, c_lcbs):\n",
        "        if np.sum(c_lcbs <= np.zeros(len(c_lcbs))):\n",
        "            gamma = np.zeros(len(f_ucbs))\n",
        "            gamma[np.argmax(f_ucbs)] = 1\n",
        "            return gamma\n",
        "\n",
        "        c = -f_ucbs\n",
        "\n",
        "        A_ub = [c_lcbs]\n",
        "        rho = self.budget/self.T\n",
        "        b_ub = [rho]\n",
        "\n",
        "        A_eq = [np.ones(self.P)]\n",
        "        b_eq = [1]\n",
        "\n",
        "        res = optimize.linprog(\n",
        "            c, \n",
        "            A_ub=A_ub, \n",
        "            b_ub=b_ub, \n",
        "            A_eq=A_eq, \n",
        "            b_eq=b_eq, \n",
        "            bounds=(0,1)\n",
        "        )\n",
        "\n",
        "        gamma = res.x\n",
        "        return gamma\n",
        "\n",
        "    def update(self, f_t, c_t):\n",
        "        # Update the number of pulled price\n",
        "        self.N_pulls[self.pi_t] += 1\n",
        "\n",
        "        # Update averages\n",
        "        self.avg_f[self.pi_t] = self.avg_f[self.pi_t] + (f_t - self.avg_f[self.pi_t])/self.N_pulls[self.pi_t]\n",
        "        self.avg_c[self.pi_t] = self.avg_c[self.pi_t] + (c_t - self.avg_c[self.pi_t])/self.N_pulls[self.pi_t]\n",
        "\n",
        "        # Update budget\n",
        "        self.budget = self.budget - c_t\n",
        "\n",
        "        self.t += 1"
      ]
    },
    {
      "cell_type": "markdown",
      "id": "c3bd4ece",
      "metadata": {
        "id": "c3bd4ece"
      },
      "source": [
        "#### Clairvoyant with inventory constraint"
      ]
    },
    {
      "cell_type": "code",
      "execution_count": 13,
      "id": "310e6385",
      "metadata": {
        "id": "310e6385"
      },
      "outputs": [],
      "source": [
        "class SingleProductStochasticInventoryClaivoyant:\n",
        "    def __init__(self, T, B, prices, valuation_distr=stats.uniform):\n",
        "        self.T = T\n",
        "        self.prices = prices\n",
        "        self.budget = B\n",
        "\n",
        "        # This is probability distributions over valuations (scipy.stats)\n",
        "        self.valuation_distr = valuation_distr\n",
        "\n",
        "    def run(self):\n",
        "        # Probability of selling a product\n",
        "        selling_prob = 1 - self.valuation_distr.cdf(self.prices)\n",
        "\n",
        "        ## Liner programming\n",
        "        c = - self.prices * selling_prob # objective function coefficients\n",
        "\n",
        "        # Constraints\n",
        "        A_eq = [np.ones(len(self.prices))]\n",
        "        b_eq = [1]\n",
        "\n",
        "        A_ub = [selling_prob]\n",
        "        rho = self.budget/self.T\n",
        "        b_ub = [rho]\n",
        "\n",
        "        # Resolve LP\n",
        "        res = optimize.linprog(\n",
        "            c, \n",
        "            A_eq=A_eq, \n",
        "            b_eq=b_eq, \n",
        "            A_ub=A_ub, \n",
        "            b_ub=b_ub, \n",
        "            bounds=(0, 1)\n",
        "        )\n",
        "        expected_utility = np.array([-res.fun for _ in range(self.T)])\n",
        "\n",
        "        return expected_utility"
      ]
    },
    {
      "cell_type": "markdown",
      "id": "b34ee03b",
      "metadata": {
        "id": "b34ee03b"
      },
      "source": [
        "#### Evaluation"
      ]
    },
    {
      "cell_type": "code",
      "execution_count": 14,
      "id": "67c981db",
      "metadata": {
        "id": "67c981db"
      },
      "outputs": [],
      "source": [
        "# Parameters\n",
        "T = 10000\n",
        "B = T * 3/4\n",
        "\n",
        "# Prices\n",
        "max_price = 1\n",
        "price_step = 0.2\n",
        "prices = np.arange(0, max_price, price_step)\n",
        "P = len(prices)\n",
        "\n",
        "# Valuation prob. distribution  \n",
        "max_valuation = 1\n",
        "valuation_distr = stats.uniform(loc=0, scale=max_price)"
      ]
    },
    {
      "cell_type": "code",
      "execution_count": 15,
      "id": "8de0e2bd",
      "metadata": {
        "id": "8de0e2bd"
      },
      "outputs": [],
      "source": [
        "# Run clairvoyant\n",
        "clairvoyant = SingleProductStochasticInventoryClaivoyant(T, B, prices, valuation_distr)\n",
        "\n",
        "expected_clairvoyant_utilities = clairvoyant.run()\n",
        "\n",
        "n_trials = 20\n",
        "regret_per_trial = []\n",
        "for trial in range(n_trials):\n",
        "\n",
        "  # Define environment and agent\n",
        "  env = SingleProductEnvironment(T)\n",
        "  ucb_like_agent = UCBLike(T, B, P, range=max_price)\n",
        "\n",
        "  agent_rewards = []\n",
        "  for t in range(T):\n",
        "    # This returns the price index\n",
        "    pi_t = ucb_like_agent.pull_arm()\n",
        "\n",
        "    # Get the actual price\n",
        "    p_t = prices[pi_t]\n",
        "\n",
        "    # Get reward\n",
        "    r_t = env.round(p_t)\n",
        "\n",
        "    # Update agent state\n",
        "    ucb_like_agent.update(r_t, r_t > 0)\n",
        "\n",
        "    agent_rewards.append(r_t)\n",
        "\n",
        "  agent_rewards = np.array(agent_rewards)\n",
        "  cumulative_regret = np.cumsum(expected_clairvoyant_utilities - agent_rewards)\n",
        "  regret_per_trial.append(cumulative_regret)\n",
        "\n",
        "regret_per_trial = np.array(regret_per_trial)"
      ]
    },
    {
      "cell_type": "code",
      "execution_count": 16,
      "id": "102db6d6",
      "metadata": {
        "colab": {
          "base_uri": "https://localhost:8080/",
          "height": 466
        },
        "id": "102db6d6",
        "outputId": "55627a04-f418-4019-b898-fa0efce08e3c"
      },
      "outputs": [
        {
          "data": {
            "text/plain": [
              "<matplotlib.legend.Legend at 0x1385a26f0>"
            ]
          },
          "execution_count": 16,
          "metadata": {},
          "output_type": "execute_result"
        },
        {
          "data": {
            "image/png": "[encoded data removed]",
            "text/plain": [
              "<Figure size 640x480 with 1 Axes>"
            ]
          },
          "metadata": {},
          "output_type": "display_data"
        }
      ],
      "source": [
        "average_regret = regret_per_trial.mean(axis=0) # mean\n",
        "regret_sd = regret_per_trial.std(axis=0) # standard deviation\n",
        "\n",
        "plt.plot(np.arange(T), average_regret, label=\"Average\")\n",
        "plt.fill_between(\n",
        "    np.arange(T),\n",
        "    average_regret-regret_sd/np.sqrt(n_trials),\n",
        "    average_regret+regret_sd/np.sqrt(n_trials),\n",
        "    alpha=0.3,\n",
        "    label=\"Uncertainty\"\n",
        ")\n",
        "plt.xlabel(\"$t$\")\n",
        "plt.legend()"
      ]
    },
    {
      "cell_type": "code",
      "execution_count": 17,
      "id": "99f7ZWqrAJWa",
      "metadata": {
        "colab": {
          "base_uri": "https://localhost:8080/",
          "height": 487
        },
        "id": "99f7ZWqrAJWa",
        "outputId": "ea533475-a892-4c71-d37e-9c224a7d2947"
      },
      "outputs": [
        {
          "name": "stderr",
          "output_type": "stream",
          "text": [
            "<>:21: SyntaxWarning: invalid escape sequence '\\s'\n",
            "<>:21: SyntaxWarning: invalid escape sequence '\\s'\n",
            "/var/folders/32/cjb5rw_97rjb1kkd58x5p4q80000gn/T/ipykernel_24883/3050523360.py:21: SyntaxWarning: invalid escape sequence '\\s'\n",
            "  plt.title(\"Regret vs Theoretical $\\sqrt{ t}$ Growth\")\n"
          ]
        },
        {
          "data": {
            "image/png": "[encoded data removed]",
            "text/plain": [
              "<Figure size 640x480 with 1 Axes>"
            ]
          },
          "metadata": {},
          "output_type": "display_data"
        }
      ],
      "source": [
        "t = np.arange(1, T + 1)  # da 1 per evitare log(0)\n",
        "theoretical_curve = np.sqrt(t)\n",
        "average_regret = regret_per_trial.mean(axis=0) # mean\n",
        "regret_sd = regret_per_trial.std(axis=0) # standard deviation\n",
        "\n",
        "plt.plot(np.arange(T), average_regret, label=\"Average\")\n",
        "plt.fill_between(\n",
        "    np.arange(T),\n",
        "    average_regret-regret_sd/np.sqrt(n_trials),\n",
        "    average_regret+regret_sd/np.sqrt(n_trials),\n",
        "    alpha=0.3,\n",
        "    label=\"Uncertainty\"\n",
        ")\n",
        "\n",
        "\n",
        "plt.plot(t - 1, theoretical_curve, label=r\"$\\sqrt{t }$\", linestyle=\"--\", color=\"red\")\n",
        "\n",
        "\n",
        "plt.xlabel(\"$t$\")\n",
        "plt.ylabel(\"Regret\")\n",
        "plt.title(\"Regret vs Theoretical $\\sqrt{ t}$ Growth\")\n",
        "plt.legend()\n",
        "plt.grid(True)\n",
        "plt.tight_layout()\n",
        "plt.show()"
      ]
    },
    {
      "cell_type": "markdown",
      "id": "f1bd2fb9",
      "metadata": {
        "id": "f1bd2fb9"
      },
      "source": [
        "### Requirement 2: multiple products and stochastic environment"
      ]
    },
    {
      "cell_type": "code",
      "execution_count": 18,
      "id": "12458ee0",
      "metadata": {
        "id": "12458ee0"
      },
      "outputs": [],
      "source": [
        "class MultipleProductEnvironment(Environment):\n",
        "  def __init__(self, T, N, valuations_distr):\n",
        "    self.T = T # Number of buyers (rounds)\n",
        "    self.N = N # Number of types of products\n",
        "    self.t = 0 # Current buyer\n",
        "    # Valuation of each buyer sampled from the given distribution function\n",
        "    self.valuations = []\n",
        "    for distr in valuations_distr:\n",
        "      self.valuations.append(distr.rvs(size=T))\n",
        "\n",
        "    self.valuations = np.array(self.valuations).transpose()\n",
        "\n",
        "  def round(self, p_t):\n",
        "    reward = np.array([])\n",
        "\n",
        "    # Check if the buyer valuations are higher than products prices\n",
        "    for valuation, price in zip(self.valuations[self.t, :], p_t):\n",
        "      if valuation >= price:\n",
        "        reward = np.append(reward, price)\n",
        "      else:\n",
        "        reward = np.append(reward, 0.)\n",
        "\n",
        "    # Update round\n",
        "    self.t = self.t + 1\n",
        "    return reward"
      ]
    },
    {
      "cell_type": "markdown",
      "id": "43a2d076",
      "metadata": {},
      "source": [
        "#### Agent with invetory constraint: Combinatorial-UCB"
      ]
    },
    {
      "cell_type": "code",
      "execution_count": 23,
      "id": "12399f5a",
      "metadata": {},
      "outputs": [],
      "source": [
        "class CombinatorialUCB():\n",
        "    def __init__(self, T, B, P, N, range=1):\n",
        "        self.T = T\n",
        "        self.P = P\n",
        "        self.N = N\n",
        "        self.budget = B\n",
        "        self.range = range\n",
        "\n",
        "        self.avg_f = np.zeros((N, P))\n",
        "        self.avg_c = np.zeros((N, P))\n",
        "        self.N_pulls = np.zeros((N, P))\n",
        "\n",
        "        self.pi_t = None\n",
        "\n",
        "        self.t = 0\n",
        "\n",
        "    def pull_arm(self):\n",
        "        # Check if budget is depleted\n",
        "        if self.budget < 1:\n",
        "            self.pi_t = np.array([self.P - 1 for _ in range(self.N)])\n",
        "            return self.pi_t\n",
        "\n",
        "        # Exploration: try each price vector at least once\n",
        "        if self.t < self.P:\n",
        "            self.pi_t = np.array([self.t for _ in range(self.N)])\n",
        "        else:\n",
        "            # Initialize f_ucb and c_ucb for each arm (matrix)\n",
        "            f_ucbs = np.zeros(self.avg_f.shape, dtype=float)\n",
        "            c_lcbs = np.zeros(self.avg_c.shape, dtype=float)\n",
        "\n",
        "            # For each unexplored arm, set a large value of f_ucb and 0 c_ucb\n",
        "            #large_value = (1 + np.sqrt(2*np.log(self.T)/1))*10\n",
        "            large_value = 1e10\n",
        "            unexplored = (self.N_pulls == 0)\n",
        "            f_ucbs[unexplored] = large_value\n",
        "            c_lcbs[unexplored] = 0\n",
        "\n",
        "            # Get the mask of the arms that have been pulled at least one time\n",
        "            # and then set the f_ucb and c_ucb for these arms\n",
        "            mask = self.N_pulls > 0\n",
        "            f_ucbs[mask] = self.avg_f[mask] + self.range * np.sqrt(2 * np.log(self.T)/self.N_pulls[mask])\n",
        "            c_lcbs[mask] = self.avg_c[mask] - self.range * np.sqrt( 2 * np.log(self.T)/self.N_pulls[mask])\n",
        "            c_lcbs[c_lcbs < 0] = 0\n",
        "\n",
        "            # Optimal distribution over superarms\n",
        "            gamma = self.compute_opt(f_ucbs.reshape(-1), c_lcbs.reshape(-1))\n",
        "\n",
        "            # Set current prices\n",
        "            sampled_indices = []\n",
        "            for i in range(self.N):\n",
        "                sampled_indices.append(np.random.choice(self.P, p=gamma[i]))\n",
        "            self.pi_t = sampled_indices\n",
        "        \n",
        "        return self.pi_t\n",
        "\n",
        "    def compute_opt(self, f_ucbs, c_lcbs):\n",
        "        # Total variables\n",
        "        tot_vars = self.N * self.P\n",
        "\n",
        "        # Per-round budget\n",
        "        rho = (self.budget / (self.T - self.t + 1)) - 0.5\n",
        "\n",
        "        # Variables\n",
        "        c = -f_ucbs\n",
        "\n",
        "        A_ub = [c_lcbs]\n",
        "        b_ub = [rho]\n",
        "\n",
        "        A_eq = []\n",
        "        b_eq = []\n",
        "        var_index = 0\n",
        "        for i in range(self.N):\n",
        "            eq_row = np.zeros(tot_vars)\n",
        "            eq_row[var_index:var_index + self.P] = 1\n",
        "            A_eq.append(eq_row)\n",
        "            b_eq.append(1)\n",
        "            var_index = var_index + self.P\n",
        "\n",
        "        res = optimize.linprog(\n",
        "            c, \n",
        "            A_ub=A_ub, \n",
        "            b_ub=b_ub, \n",
        "            A_eq=A_eq, \n",
        "            b_eq=b_eq, \n",
        "            bounds=[(0, 1) for _ in range(tot_vars)]\n",
        "        )\n",
        "\n",
        "        if res.success:\n",
        "            gamma = []\n",
        "            solution = res.x\n",
        "            var_index = 0\n",
        "            for i in range(self.N): \n",
        "                gamma_i = solution[var_index : var_index + self.P]\n",
        "                gamma_i = gamma_i / gamma_i.sum()  # Ensure normalization\n",
        "                gamma_i = np.abs(gamma_i)\n",
        "                gamma.append(gamma_i)\n",
        "                var_index = var_index + self.P\n",
        "            return gamma\n",
        "        else:\n",
        "            # Select UCB-maximizing price for each product\n",
        "            return [\n",
        "                np.eye(self.P)[np.argmax(f_ucbs[i])] \n",
        "                for i in range(self.N)\n",
        "            ]\n",
        "\n",
        "    def update(self, f_t, c_t):\n",
        "        # Update the number of pulls of each arm in played superarm\n",
        "        for i in range(self.N):\n",
        "            self.N_pulls[i][self.pi_t[i]] += 1\n",
        "\n",
        "            # Update empirical means\n",
        "            self.avg_f[i][self.pi_t[i]] += (f_t[i] - self.avg_f[i][self.pi_t[i]])/self.N_pulls[i][self.pi_t[i]]\n",
        "            self.avg_c[i][self.pi_t[i]] += (c_t[i] - self.avg_c[i][self.pi_t[i]])/self.N_pulls[i][self.pi_t[i]]\n",
        "\n",
        "        # Update budget\n",
        "        self.budget = self.budget - np.sum(c_t)\n",
        "\n",
        "        self.t += 1"
      ]
    },
    {
      "cell_type": "markdown",
      "id": "f6d8f46c",
      "metadata": {},
      "source": [
        "#### Clairvoyant with inventory constraint"
      ]
    },
    {
      "cell_type": "code",
      "execution_count": 24,
      "id": "d7fb0c1a",
      "metadata": {},
      "outputs": [],
      "source": [
        "class MultipleProductInventoryClairvoyant(Environment):\n",
        "    def __init__(self, T, B, N, prices, valuations_distr):\n",
        "        self.T = T\n",
        "        self.prices = prices\n",
        "        self.budget = B\n",
        "        self.N = N\n",
        "        self.P = len(prices)\n",
        "\n",
        "        self.valuations_distr = valuations_distr\n",
        "\n",
        "    def get_selling_probabilities(self):\n",
        "        obj = [1 - distr.cdf(self.prices) for distr in self.valuations_distr]\n",
        "        return np.array(obj)    \n",
        "\n",
        "    def run(self):\n",
        "        # Per-round budget\n",
        "        rho = (self.budget / self.T) + 0.5\n",
        "\n",
        "        # Number of variables\n",
        "        tot_vars = self.N * self.P\n",
        "\n",
        "        # Linear programming \n",
        "        c = -(self.get_selling_probabilities() * self.prices).reshape(-1)\n",
        "\n",
        "        A_ub = [self.get_selling_probabilities().reshape(-1)]\n",
        "        b_ub = [rho]\n",
        "\n",
        "        A_eq = []\n",
        "        b_eq = []\n",
        "        var_index = 0\n",
        "        for i in range(self.N):\n",
        "            eq_row = np.zeros(tot_vars)\n",
        "            eq_row[var_index:var_index + self.P] = 1\n",
        "            A_eq.append(eq_row)\n",
        "            b_eq.append(1)\n",
        "            var_index = var_index + self.P\n",
        "\n",
        "        res = optimize.linprog(\n",
        "            c, \n",
        "            A_ub=A_ub, \n",
        "            b_ub=b_ub, \n",
        "            A_eq=A_eq, \n",
        "            b_eq=b_eq, \n",
        "            bounds=[(0, 1) for _ in range(tot_vars)]\n",
        "        )\n",
        "        expected_utility = np.array([-res.fun for _ in range(self.T)])\n",
        "\n",
        "        return expected_utility\n"
      ]
    },
    {
      "cell_type": "markdown",
      "id": "beab814c",
      "metadata": {},
      "source": [
        "#### Evaluation"
      ]
    },
    {
      "cell_type": "code",
      "execution_count": 25,
      "id": "9d1b6017",
      "metadata": {},
      "outputs": [],
      "source": [
        "# Parameters\n",
        "T = 50000\n",
        "B = T * 3/4\n",
        "\n",
        "# Prices\n",
        "max_price = 1\n",
        "price_step = 0.2\n",
        "prices = np.arange(0, max_price, price_step)\n",
        "P = len(prices)\n",
        "\n",
        "# Valuation prob. distribution  \n",
        "valuations_distr = [\n",
        "    stats.uniform(loc=0, scale=max_price),\n",
        "    stats.truncnorm(0, np.inf, loc=0, scale=1),\n",
        "    stats.beta(a=2, b=5),\n",
        "    stats.expon(scale=1)\n",
        "]\n",
        "\n",
        "N = len(valuations_distr)"
      ]
    },
    {
      "cell_type": "code",
      "execution_count": 26,
      "id": "3cd24d22",
      "metadata": {},
      "outputs": [],
      "source": [
        "# Run clairvoyant\n",
        "clairvoyant = MultipleProductInventoryClairvoyant(T, B, N, prices, valuations_distr)\n",
        "\n",
        "expected_clairvoyant_utilities = clairvoyant.run()\n",
        "\n",
        "n_trials = 5\n",
        "regret_per_trial = []\n",
        "for trial in range(n_trials):\n",
        "\n",
        "  # Define environment and agent\n",
        "  env = MultipleProductEnvironment(T, N, valuations_distr)\n",
        "  combinatorial_ucb_sw = CombinatorialUCB(T, B, P, N, range=max_price)\n",
        "\n",
        "  agent_rewards = []\n",
        "  for t in range(T):\n",
        "    # This returns the price index\n",
        "    pi_t = combinatorial_ucb_sw.pull_arm()\n",
        "\n",
        "    # Get the actual price\n",
        "    p_t = prices[pi_t]\n",
        "\n",
        "    # Get rewardx\n",
        "    r_t = env.round(p_t)\n",
        "\n",
        "    # Update agent state\n",
        "    combinatorial_ucb_sw.update(r_t, r_t > 0.)\n",
        "\n",
        "    agent_rewards.append(np.sum(r_t))\n",
        "\n",
        "  agent_rewards = np.array(agent_rewards)\n",
        "  cumulative_regret = np.cumsum(expected_clairvoyant_utilities - agent_rewards)\n",
        "  regret_per_trial.append(cumulative_regret)\n",
        "\n",
        "regret_per_trial = np.array(regret_per_trial)"
      ]
    },
    {
      "cell_type": "code",
      "execution_count": 27,
      "id": "b3540351",
      "metadata": {},
      "outputs": [
        {
          "data": {
            "text/plain": [
              "<matplotlib.legend.Legend at 0x1383c9370>"
            ]
          },
          "execution_count": 27,
          "metadata": {},
          "output_type": "execute_result"
        },
        {
          "data": {
            "image/png": "[encoded data removed]",
            "text/plain": [
              "<Figure size 640x480 with 1 Axes>"
            ]
          },
          "metadata": {},
          "output_type": "display_data"
        }
      ],
      "source": [
        "average_regret = regret_per_trial.mean(axis=0) # mean\n",
        "regret_sd = regret_per_trial.std(axis=0) # standard deviation\n",
        "\n",
        "plt.plot(np.arange(T), average_regret, label=\"Average\")\n",
        "plt.fill_between(\n",
        "   np.arange(T),\n",
        "   average_regret-regret_sd/np.sqrt(n_trials),\n",
        "   average_regret+regret_sd/np.sqrt(n_trials),\n",
        "   alpha=0.3,\n",
        "   label=\"Uncertainty\"\n",
        ")\n",
        "plt.xlabel(\"$t$\")\n",
        "plt.legend()"
      ]
    },
    {
      "cell_type": "markdown",
      "id": "e4e5329c",
      "metadata": {
        "id": "e4e5329c"
      },
      "source": [
        "### Requirement 3: best-of-both-worlds algorithms with a single product"
      ]
    },
    {
      "cell_type": "code",
      "execution_count": null,
      "id": "e501971d",
      "metadata": {
        "id": "e501971d"
      },
      "outputs": [],
      "source": []
    },
    {
      "cell_type": "markdown",
      "id": "aecad7b0",
      "metadata": {
        "id": "aecad7b0"
      },
      "source": [
        "### Requirement 4: best-of-both-worlds algorithms with multiple products"
      ]
    },
    {
      "cell_type": "code",
      "execution_count": null,
      "id": "8acf080d",
      "metadata": {
        "id": "8acf080d"
      },
      "outputs": [],
      "source": []
    },
    {
      "cell_type": "markdown",
      "id": "6bf731ab",
      "metadata": {
        "id": "6bf731ab"
      },
      "source": [
        "### Requirement 5: slightly non-stationary environments with multiple products"
      ]
    },
    {
      "cell_type": "code",
      "execution_count": 28,
      "id": "af95329c",
      "metadata": {
        "id": "af95329c"
      },
      "outputs": [],
      "source": [
        "class MultipleProductSlightyNonStationaryEnvironment(Environment):\n",
        "  def __init__(self, T, N, distributions):\n",
        "    self.T = T # Number of buyers (rounds)\n",
        "    self.N = N # Number of types of products\n",
        "    self.t = 0 # Current buyer\n",
        "\n",
        "    self.interval_lengths = []\n",
        "    self.interval_distributions = []\n",
        "    self.valuations = []\n",
        "    \n",
        "    self.distributions = np.array(distributions)\n",
        "\n",
        "  def get_interval_distributions(self):\n",
        "    return self.interval_distributions\n",
        "\n",
        "  def get_interval_lengths(self):\n",
        "    return self.interval_lengths\n",
        "\n",
        "  def get_intervals(self):\n",
        "    # Minimum and maximum lengths of intervals\n",
        "    min_len, max_len = 7000, 8000\n",
        "\n",
        "    # Define an array of interval lengths among the time horizon\n",
        "    interval_lengths = []\n",
        "    while sum(interval_lengths) < self.T:\n",
        "      length = np.random.randint(min_len, max_len + 1)\n",
        "      interval_lengths.append(length)\n",
        "\n",
        "    return interval_lengths\n",
        "\n",
        "  def set_intervals_distributions(self, interval_lengths):\n",
        "    # Define an array of distributions to use in each interval\n",
        "    interval_distributions = []\n",
        "\n",
        "    for _ in range(len(interval_lengths)):\n",
        "      dist_i = np.random.choice(len(self.distributions), size=self.N)\n",
        "      interval_distributions.append(self.distributions[dist_i])\n",
        "\n",
        "    return interval_distributions\n",
        "\n",
        "  def init_environment(self):\n",
        "    # Setup environment\n",
        "    self.interval_lengths = self.get_intervals()\n",
        "    self.interval_distributions = self.set_intervals_distributions(self.interval_lengths)\n",
        "\n",
        "    for length, distributions in zip(self.interval_lengths, self.interval_distributions):\n",
        "      for _ in range(length):\n",
        "        self.valuations.append([distr.rvs() for distr in distributions])\n",
        "\n",
        "    self.valuations = np.array(self.valuations)\n",
        "\n",
        "  def round(self, p_t):\n",
        "    reward = np.array([])\n",
        "\n",
        "    # Check if the buyer valuations are higher than products prices\n",
        "    for valuation, price in zip(self.valuations[self.t, :], p_t):\n",
        "      if valuation >= price:\n",
        "        reward = np.append(reward, price)\n",
        "      else:\n",
        "        reward = np.append(reward, 0.)\n",
        "\n",
        "    # Update round\n",
        "    self.t = self.t + 1\n",
        "\n",
        "    return reward"
      ]
    },
    {
      "cell_type": "markdown",
      "id": "0d02ff53",
      "metadata": {},
      "source": [
        "#### Agent with inventory constraint: Combinatorial-UCB with sliding window"
      ]
    },
    {
      "cell_type": "code",
      "execution_count": 34,
      "id": "e33dbab6",
      "metadata": {},
      "outputs": [],
      "source": [
        "class CombinatorialUCB_SW():\n",
        "    def __init__(self, T, B, P, N, W, scale=1):\n",
        "        self.T = T\n",
        "        self.P = P\n",
        "        self.N = N\n",
        "        self.W = W\n",
        "        self.budget = B\n",
        "        self.scale = scale\n",
        "\n",
        "        self.N_pulls = np.zeros((N, P))\n",
        "\n",
        "        self.f_cache = np.repeat(np.nan, repeats=W*N*P).reshape(W, N, P)\n",
        "        self.c_cache = np.repeat(np.nan, repeats=W*N*P).reshape(W, N, P)\n",
        "\n",
        "        self.pi_t = None\n",
        "\n",
        "        self.t = 0\n",
        "\n",
        "    def pull_arm(self):\n",
        "        if self.budget < 1:\n",
        "            return None\n",
        "\n",
        "        # Exploration: try each price vector at least once\n",
        "        if self.t < self.P:\n",
        "            self.pi_t = np.array([self.t for _ in range(self.N)])\n",
        "        else:\n",
        "            # Initialize f_ucb and c_ucb for each arm (matrix)\n",
        "            f_ucbs_last_W = np.zeros((self.N, self.P), dtype=float)\n",
        "            c_lcbs_last_W = np.zeros((self.N, self.P), dtype=float)\n",
        "            avg_f_last_W = np.zeros((self.N, self.P))\n",
        "            avg_c_last_W = np.zeros((self.N, self.P))\n",
        "\n",
        "            N_pulls_last_W = np.array(self.W - np.isnan(self.f_cache).sum(axis=0))\n",
        "\n",
        "            # For each unexplored arm, set a large value of f_ucb and 0 c_ucb\n",
        "            #large_value = (1 + np.sqrt(2*np.log(self.T)/1))*10\n",
        "            large_value = 1e10\n",
        "            unexplored = (N_pulls_last_W == 0)\n",
        "            f_ucbs_last_W[unexplored] = large_value\n",
        "            c_lcbs_last_W[unexplored] = 0\n",
        "\n",
        "            # Get the mask of the arms that have been pulled at least one time\n",
        "            # and then set the f_ucb and c_ucb for these arms\n",
        "            mask = N_pulls_last_W > 0\n",
        "            avg_f_last_W[mask] = np.nanmean(self.f_cache, axis=0)[mask]\n",
        "            \n",
        "            avg_c_last_W[mask] = np.nanmean(self.c_cache, axis=0)[mask]\n",
        "            \n",
        "            f_ucbs_last_W[mask] = avg_f_last_W[mask] + self.scale * np.sqrt(2 * np.log(self.W)/N_pulls_last_W[mask])\n",
        "            c_lcbs_last_W[mask] = avg_c_last_W[mask] - self.scale * np.sqrt( 2 * np.log(self.W)/N_pulls_last_W[mask])\n",
        "            c_lcbs_last_W[c_lcbs_last_W < 0] = 0\n",
        "\n",
        "            # Optimal distribution over superarms\n",
        "            gamma = self.compute_opt(f_ucbs_last_W.reshape(-1), c_lcbs_last_W.reshape(-1))\n",
        "\n",
        "            # Set current prices\n",
        "            sampled_indices = []\n",
        "            for i in range(self.N):\n",
        "                sampled_indices.append(np.random.choice(self.P, p=gamma[i]))\n",
        "            self.pi_t = sampled_indices\n",
        "        \n",
        "        return self.pi_t\n",
        "\n",
        "    def compute_opt(self, f_ucbs, c_lcbs):\n",
        "        # Total variables\n",
        "        tot_vars = self.N * self.P\n",
        "\n",
        "        # Per-round budget\n",
        "        rho = (self.budget / (self.T - self.t + 1))\n",
        "\n",
        "        # Variables\n",
        "        c = -f_ucbs\n",
        "\n",
        "        A_ub = [c_lcbs]\n",
        "        b_ub = [rho]\n",
        "\n",
        "        A_eq = []\n",
        "        b_eq = []\n",
        "        var_index = 0\n",
        "        for i in range(self.N):\n",
        "            eq_row = np.zeros(tot_vars)\n",
        "            eq_row[var_index:var_index + self.P] = 1\n",
        "            A_eq.append(eq_row)\n",
        "            b_eq.append(1)\n",
        "            var_index = var_index + self.P\n",
        "\n",
        "        res = optimize.linprog(\n",
        "            c, \n",
        "            A_ub=A_ub, \n",
        "            b_ub=b_ub, \n",
        "            A_eq=A_eq, \n",
        "            b_eq=b_eq, \n",
        "            bounds=[(0, 1) for _ in range(tot_vars)]\n",
        "        )\n",
        "\n",
        "        if res.success:\n",
        "            gamma = []\n",
        "            solution = res.x\n",
        "            var_index = 0\n",
        "            for i in range(self.N): \n",
        "                gamma_i = solution[var_index : var_index + self.P]\n",
        "                gamma_i = gamma_i / gamma_i.sum()  # Ensure normalization\n",
        "                gamma_i = np.abs(gamma_i)\n",
        "                gamma.append(gamma_i)\n",
        "                var_index = var_index + self.P\n",
        "            return gamma\n",
        "        else:\n",
        "            # Select UCB-maximizing price for each product\n",
        "            return [\n",
        "                np.eye(self.P)[np.argmax(f_ucbs[i])] \n",
        "                for i in range(self.N)\n",
        "            ]\n",
        "\n",
        "    def update(self, f_t, c_t):\n",
        "        # Remove oldest observation\n",
        "        self.f_cache = np.delete(self.f_cache, (0), axis=0)\n",
        "        self.c_cache = np.delete(self.c_cache, (0), axis=0)\n",
        "\n",
        "        f_new_samples = np.repeat(np.nan, repeats=self.N*self.P).reshape(self.N, self.P)\n",
        "        c_new_samples = np.repeat(np.nan, repeats=self.N*self.P).reshape(self.N, self.P)\n",
        "\n",
        "        # Update the number of pulls of each arm in played superarm\n",
        "        for i in range(self.N):\n",
        "            self.N_pulls[i][self.pi_t[i]] += 1\n",
        "\n",
        "            f_new_samples[i][self.pi_t[i]] = f_t[i]            \n",
        "            c_new_samples[i][self.pi_t[i]] = c_t[i]\n",
        "\n",
        "        f_new_samples = np.expand_dims(f_new_samples, axis=0)\n",
        "        c_new_samples = np.expand_dims(c_new_samples, axis=0)\n",
        "\n",
        "        # Add new observation\n",
        "        self.f_cache = np.vstack((self.f_cache, f_new_samples))\n",
        "        self.c_cache = np.vstack((self.c_cache, c_new_samples))\n",
        "\n",
        "        # Update budget\n",
        "        self.budget = self.budget - np.sum(c_t)\n",
        "\n",
        "        self.t += 1"
      ]
    },
    {
      "cell_type": "markdown",
      "id": "3eb36ab5",
      "metadata": {},
      "source": [
        "#### Clairvoyant with inventory constraint"
      ]
    },
    {
      "cell_type": "code",
      "execution_count": 73,
      "id": "bb7a004f",
      "metadata": {},
      "outputs": [],
      "source": [
        "class MultipleProductSlighlyNonStationaryInventoryClairvoyant(Environment):\n",
        "    def __init__(self, T, B, N, prices):\n",
        "        self.T = T\n",
        "        self.prices = prices\n",
        "        self.budget = B\n",
        "        self.N = N\n",
        "        self.P = len(prices)\n",
        "\n",
        "        self.interval_distributions = []\n",
        "        self.interval_lengths = []\n",
        "\n",
        "    def set_interval_lengths(self, interval_lengths):\n",
        "        self.interval_lengths = interval_lengths\n",
        "\n",
        "    def set_interval_distributions(self, interval_distributions):\n",
        "        self.interval_distributions = interval_distributions\n",
        "    \n",
        "    def get_selling_probabilities(self, valuations_distr):\n",
        "        obj = [1 - distr.cdf(self.prices) for distr in valuations_distr]\n",
        "        return np.array(obj)   \n",
        "\n",
        "    def run(self):\n",
        "        # Per-round budget\n",
        "        rho = (self.budget / self.T) + 1.5\n",
        "\n",
        "        # Number of variables\n",
        "        tot_vars = self.N * self.P\n",
        "\n",
        "        interval = 0\n",
        "        expected_utilities = []\n",
        "        for distr in self.interval_distributions:\n",
        "            # Linear programming \n",
        "            selling_prob=self.get_selling_probabilities(distr)\n",
        "\n",
        "            c = -(selling_prob * self.prices).reshape(-1)\n",
        "\n",
        "            A_ub = [selling_prob.reshape(-1)]\n",
        "            b_ub = [rho]\n",
        "\n",
        "            A_eq = []\n",
        "            b_eq = []\n",
        "            var_index = 0\n",
        "            for i in range(self.N):\n",
        "                eq_row = np.zeros(tot_vars)\n",
        "                eq_row[var_index:var_index + self.P] = 1\n",
        "                A_eq.append(eq_row)\n",
        "                b_eq.append(1)\n",
        "                var_index = var_index + self.P\n",
        "\n",
        "            res = optimize.linprog(\n",
        "                c, \n",
        "                A_ub=A_ub, \n",
        "                b_ub=b_ub, \n",
        "                A_eq=A_eq, \n",
        "                b_eq=b_eq, \n",
        "                bounds=[(0, 1) for _ in range(tot_vars)]\n",
        "            )\n",
        "\n",
        "            for _ in range(self.interval_lengths[interval]):\n",
        "                expected_utilities.append(-res.fun)\n",
        "            interval = interval + 1\n",
        "        return expected_utilities\n"
      ]
    },
    {
      "cell_type": "code",
      "execution_count": null,
      "id": "1f6f0bc3",
      "metadata": {},
      "outputs": [],
      "source": [
        "# Parameters\n",
        "T = 50000\n",
        "B = T * 90/100\n",
        "N = 4\n",
        "W = int(2*np.sqrt(T))\n",
        "\n",
        "# Prices\n",
        "max_price = 1.5\n",
        "price_step = 0.15\n",
        "prices = np.arange(0.5, max_price, price_step)\n",
        "P = len(prices)\n",
        "\n",
        "distributions = [\n",
        "    stats.uniform(loc=0, scale=1),\n",
        "    stats.truncnorm(0, np.inf, loc=0, scale=1),\n",
        "    stats.beta(a=1, b=5),\n",
        "    stats.beta(a=5, b=1)\n",
        "]"
      ]
    },
    {
      "cell_type": "code",
      "execution_count": 86,
      "id": "5cebc153",
      "metadata": {},
      "outputs": [],
      "source": [
        "# Run clairvoyant\n",
        "clairvoyant = MultipleProductSlighlyNonStationaryInventoryClairvoyant(T, B, N, prices)\n",
        "\n",
        "n_trials = 3\n",
        "regret_per_trial = []\n",
        "budget_per_trial = []\n",
        "for trial in range(n_trials):\n",
        "\n",
        "  # Define environment and agent\n",
        "  env = MultipleProductSlightyNonStationaryEnvironment(T, N, distributions)\n",
        "  env.init_environment()\n",
        "\n",
        "  clairvoyant.set_interval_distributions(env.get_interval_distributions())\n",
        "  clairvoyant.set_interval_lengths(env.get_interval_lengths())\n",
        "  expected_clairvoyant_utilities = clairvoyant.run()[:T]\n",
        "\n",
        "  combinatorial_ucb_sw = CombinatorialUCB_SW(T, B, P, N, W, scale=max_price)\n",
        "\n",
        "  agent_rewards = []\n",
        "  budget = []\n",
        "  for t in range(T):\n",
        "    # This returns the price index\n",
        "    pi_t = combinatorial_ucb_sw.pull_arm()\n",
        "\n",
        "    # Check if budget is depleted\n",
        "    if combinatorial_ucb_sw.budget < 1:\n",
        "      p_t = [np.inf for _ in range(N)]\n",
        "    else:\n",
        "      # Get the actual price\n",
        "      p_t = prices[pi_t]\n",
        "\n",
        "    # Get rewardx\n",
        "    r_t = env.round(p_t)\n",
        "\n",
        "    # Update agent state\n",
        "    combinatorial_ucb_sw.update(r_t, r_t > 0.)\n",
        "\n",
        "    agent_rewards.append(np.sum(r_t))\n",
        "    budget.append(combinatorial_ucb_sw.budget)\n",
        "\n",
        "  agent_rewards = np.array(agent_rewards)\n",
        "  cumulative_regret = np.cumsum(expected_clairvoyant_utilities - agent_rewards)\n",
        "  regret_per_trial.append(cumulative_regret)\n",
        "  budget_per_trial.append(budget)\n",
        "\n",
        "regret_per_trial = np.array(regret_per_trial)\n",
        "budget_per_trial = np.array(budget_per_trial)"
      ]
    },
    {
      "cell_type": "code",
      "execution_count": 87,
      "id": "d500d860",
      "metadata": {},
      "outputs": [
        {
          "data": {
            "text/plain": [
              "<matplotlib.legend.Legend at 0x13c10dd90>"
            ]
          },
          "execution_count": 87,
          "metadata": {},
          "output_type": "execute_result"
        },
        {
          "data": {
            "image/png": "[encoded data removed]",
            "text/plain": [
              "<Figure size 640x480 with 1 Axes>"
            ]
          },
          "metadata": {},
          "output_type": "display_data"
        }
      ],
      "source": [
        "average_regret = regret_per_trial.mean(axis=0) # mean\n",
        "regret_sd = regret_per_trial.std(axis=0) # standard deviation\n",
        "average_budget = budget_per_trial.mean(axis=0)\n",
        "\n",
        "# plt.plot(np.arange(T), np.cumsum(agent_rewards), label=\"Rewards\")\n",
        "# plt.plot(np.arange(T), np.cumsum(expected_clairvoyant_utilities), label=\"Claivoyant\")\n",
        "# plt.plot(np.arange(T), average_budget, label=\"Budget\")\n",
        "plt.plot(np.arange(T), average_regret, label=\"Average\")\n",
        "plt.fill_between(\n",
        "   np.arange(T),\n",
        "   average_regret-regret_sd/np.sqrt(n_trials),\n",
        "   average_regret+regret_sd/np.sqrt(n_trials),\n",
        "   alpha=0.3,\n",
        "   label=\"Uncertainty\"\n",
        ")\n",
        "plt.xlabel(\"$t$\")\n",
        "plt.legend()"
      ]
    }
  ],
  "metadata": {
    "colab": {
      "provenance": []
    },
    "kernelspec": {
      "display_name": "Python 3",
      "language": "python",
      "name": "python3"
    },
    "language_info": {
      "codemirror_mode": {
        "name": "ipython",
        "version": 3
      },
      "file_extension": ".py",
      "mimetype": "text/x-python",
      "name": "python",
      "nbconvert_exporter": "python",
      "pygments_lexer": "ipython3",
      "version": "3.12.7"
    }
  },
  "nbformat": 4,
  "nbformat_minor": 5
}
