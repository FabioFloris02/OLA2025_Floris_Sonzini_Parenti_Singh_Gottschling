{
 "cells": [
  {
   "cell_type": "code",
   "execution_count": 3,
   "id": "64de8b88",
   "metadata": {},
   "outputs": [],
   "source": [
    "import numpy as np\n",
    "import matplotlib.pyplot as plt\n",
    "from scipy import stats\n",
    "from scipy import optimize"
   ]
  },
  {
   "cell_type": "markdown",
   "id": "392e5fba",
   "metadata": {},
   "source": [
    "## General classes"
   ]
  },
  {
   "cell_type": "code",
   "execution_count": 22,
   "id": "5c3542ea",
   "metadata": {},
   "outputs": [],
   "source": [
    "class Environment:\n",
    "    def __init__(self):\n",
    "        pass\n",
    "\n",
    "    def round(self, product_price):\n",
    "        pass"
   ]
  },
  {
   "cell_type": "code",
   "execution_count": 23,
   "id": "25a9ca32",
   "metadata": {},
   "outputs": [],
   "source": [
    "class Agent:\n",
    "    def __init__(self):\n",
    "        pass\n",
    "\n",
    "    def pull_arm(self):\n",
    "        pass\n",
    "\n",
    "    def update(self, reward_t):\n",
    "        pass"
   ]
  },
  {
   "cell_type": "markdown",
   "id": "e7342c66",
   "metadata": {},
   "source": [
    "### Requirement 1: single product and stochastic environment"
   ]
  },
  {
   "cell_type": "markdown",
   "id": "c5c2a790",
   "metadata": {},
   "source": [
    "#### Environment"
   ]
  },
  {
   "cell_type": "code",
   "execution_count": 24,
   "id": "48b6de95",
   "metadata": {},
   "outputs": [],
   "source": [
    "class SingleProductEnvironment(Environment):\n",
    "  def __init__(self, T, valuation_distr=stats.uniform):\n",
    "    self.T = T # Number of rounds\n",
    "    self.t = 0 # Starting round\n",
    "\n",
    "    # Valuation of each buyer sampled from the given distribution function\n",
    "    self.valuation = valuation_distr.rvs(size=T)\n",
    "\n",
    "  def round(self, p_t):\n",
    "    # Check if the buyer valuation is higher than product price\n",
    "    r_t = p_t if self.valuation[self.t] >= p_t else 0\n",
    "\n",
    "    # Update round\n",
    "    self.t = self.t + 1\n",
    "\n",
    "    return r_t"
   ]
  },
  {
   "cell_type": "markdown",
   "id": "078ff1da",
   "metadata": {},
   "source": [
    "#### Agent without inventory constraint - UCB1"
   ]
  },
  {
   "cell_type": "code",
   "execution_count": 25,
   "id": "ecf97d4e",
   "metadata": {},
   "outputs": [],
   "source": [
    "class UCB1(Agent):\n",
    "    def __init__(self, T, prices, range=1):\n",
    "        self.range = range # Range of the reward\n",
    "        self.P = len(prices) # Prices' set cardinality\n",
    "        self.T = T # Number of rounds\n",
    "        self.pi_t = None # Init price\n",
    "\n",
    "        self.average_rewards = np.zeros(self.P)\n",
    "        self.N_pulls = np.zeros(self.P)\n",
    "\n",
    "        self.t = 0 # Starting round\n",
    "\n",
    "    def pull_arm(self):\n",
    "        # Check if the round is less then number of prices\n",
    "        if self.t < self.P:\n",
    "            # then set it as product_price\n",
    "            self.pi_t = self.t\n",
    "        else:\n",
    "            # Compute UCB1\n",
    "            ucbs = self.average_rewards + self.range * np.sqrt(2 * np.log(self.T)/self.N_pulls)\n",
    "            \n",
    "            # Extract the price that maximizes the UCB1\n",
    "            self.pi_t = np.argmax(ucbs)\n",
    "\n",
    "        return self.pi_t\n",
    "\n",
    "    def update(self, reward):\n",
    "        self.N_pulls[self.pi_t] += 1\n",
    "\n",
    "        # As average, we have (total purchasing) / (number of times of purchasing)\n",
    "        self.average_rewards[self.pi_t] += (reward - self.average_rewards[self.pi_t])/self.N_pulls[self.pi_t]\n",
    "        self.t += 1"
   ]
  },
  {
   "cell_type": "markdown",
   "id": "45a904c2",
   "metadata": {},
   "source": [
    "#### Clairvoyant without inventory constraint"
   ]
  },
  {
   "cell_type": "code",
   "execution_count": 26,
   "id": "1feeed44",
   "metadata": {},
   "outputs": [],
   "source": [
    "class SingleProductStochasticClairvoyant:\n",
    "    def __init__(self, T, prices, valuation_distr=stats.uniform):\n",
    "        self.T = T\n",
    "        self.prices = prices\n",
    "\n",
    "        # This is probability distributions over valuations (scipy.stats)\n",
    "        self.valuation_distr = valuation_distr\n",
    "\n",
    "    def run(self):\n",
    "        # Probability of selling a product\n",
    "        selling_prob = 1 - self.valuation_distr.cdf(self.prices)\n",
    "\n",
    "        ## Liner programming\n",
    "        c = - self.prices * selling_prob # objective function coefficients\n",
    "\n",
    "        # Constraints\n",
    "        A_eq = [np.ones(len(self.prices))]\n",
    "        b_eq = [1]\n",
    "\n",
    "        # Resolve LP\n",
    "        res = optimize.linprog(c, A_eq=A_eq, b_eq=b_eq, bounds=(0, 1))\n",
    "        expected_utility = np.array([-res.fun for _ in range(self.T)])\n",
    "\n",
    "        return expected_utility"
   ]
  },
  {
   "cell_type": "markdown",
   "id": "fac0956a",
   "metadata": {},
   "source": [
    "#### Evaluation"
   ]
  },
  {
   "cell_type": "code",
   "execution_count": null,
   "id": "07c19d34",
   "metadata": {},
   "outputs": [],
   "source": [
    "# Parameters\n",
    "T = 5000\n",
    "\n",
    "# Prices\n",
    "max_price = 150\n",
    "price_step = 5\n",
    "prices = np.arange(0, max_price, price_step)\n",
    "\n",
    "# Valuation prob. distribution\n",
    "max_valuation = 150\n",
    "valuation_distr = stats.binom(loc=0, n=max_valuation, p=0.5)"
   ]
  },
  {
   "cell_type": "code",
   "execution_count": null,
   "id": "b98f0aac",
   "metadata": {},
   "outputs": [],
   "source": [
    "# Run clairvoyant\n",
    "clairvoyant = SingleProductStochasticClairvoyant(T, prices, valuation_distr)\n",
    "expected_clairvoyant_utilities = clairvoyant.run()\n",
    "\n",
    "n_trials = 1\n",
    "regret_per_trial = []\n",
    "for trial in range(n_trials):\n",
    "\n",
    "  # Define environment and agent\n",
    "  env = SingleProductEnvironment(T, valuation_distr)\n",
    "  ucb_like_agent = UCB1(T, prices, range=max_price)\n",
    "\n",
    "  agent_rewards = []\n",
    "\n",
    "  for t in range(T):\n",
    "    # This returns the price index\n",
    "    pi_t = ucb_like_agent.pull_arm()\n",
    "\n",
    "    # Get the actual price\n",
    "    p_t = prices[pi_t]\n",
    "\n",
    "    # Get reward\n",
    "    r_t = env.round(p_t)\n",
    "\n",
    "    # Update agent state\n",
    "    ucb_like_agent.update(r_t)\n",
    "\n",
    "    agent_rewards.append(r_t)\n",
    "\n",
    "  agent_rewards = np.array(agent_rewards)\n",
    "  cumulative_regret = np.cumsum(expected_clairvoyant_utilities - agent_rewards)\n",
    "\n",
    "  regret_per_trial.append(cumulative_regret)\n",
    "\n",
    "regret_per_trial = np.array(regret_per_trial)"
   ]
  },
  {
   "cell_type": "code",
   "execution_count": 50,
   "id": "32c56a36",
   "metadata": {},
   "outputs": [
    {
     "data": {
      "text/plain": [
       "<matplotlib.legend.Legend at 0x121a0dac0>"
      ]
     },
     "execution_count": 50,
     "metadata": {},
     "output_type": "execute_result"
    },
    {
     "data": {
      "image/png": "[encoded data removed]",
      "text/plain": [
       "<Figure size 640x480 with 1 Axes>"
      ]
     },
     "metadata": {},
     "output_type": "display_data"
    }
   ],
   "source": [
    "average_regret = regret_per_trial.mean(axis=0) # mean\n",
    "regret_sd = regret_per_trial.std(axis=0) # standard deviation\n",
    "\n",
    "plt.plot(np.arange(T), average_regret, label=\"Average\")\n",
    "plt.fill_between(\n",
    "    np.arange(T), \n",
    "    average_regret-regret_sd/np.sqrt(n_trials), \n",
    "    average_regret+regret_sd/np.sqrt(n_trials),\n",
    "    alpha=0.3,\n",
    "    label=\"Uncertainty\"\n",
    ")\n",
    "plt.xlabel(\"$t$\")\n",
    "plt.legend()"
   ]
  },
  {
   "cell_type": "markdown",
   "id": "3d3dca35",
   "metadata": {},
   "source": [
    "#### Agent with inventory constraint - UCB-like"
   ]
  },
  {
   "cell_type": "code",
   "execution_count": 97,
   "id": "caf21640",
   "metadata": {},
   "outputs": [],
   "source": [
    "class UCBLike():\n",
    "    def __init__(self, T, B, prices, range=1):\n",
    "        self.T = T\n",
    "        self.P = len(prices)\n",
    "        self.range = range\n",
    "\n",
    "        self.pi_t = None\n",
    "        self.avg_f = np.zeros(self.P)\n",
    "        self.avg_c = np.zeros(self.P)\n",
    "        self.N_pulls = np.zeros(self.P)\n",
    "        self.budget = B\n",
    "\n",
    "        self.t = 0\n",
    "    \n",
    "    def pull_arm(self): \n",
    "        # Check if budget is depleted\n",
    "        if self.budget < 1:\n",
    "            self.pi_t = 0\n",
    "            return 0\n",
    "        \n",
    "        if self.t < self.P:\n",
    "            self.pi_t = self.t \n",
    "        else:\n",
    "            # Upper Confidence Bound\n",
    "            f_ucbs = self.avg_f + self.range * np.sqrt( 2 * np.log(self.T)/self.N_pulls)\n",
    "\n",
    "            # Lower Confidence Bound \n",
    "            c_lcbs = self.avg_c - self.range * np.sqrt( 2 * np.log(self.T)/self.N_pulls)\n",
    "\n",
    "            # Price optimal distribution\n",
    "            gamma_t = self.compute_opt(f_ucbs, c_lcbs)\n",
    "\n",
    "            # Set current price\n",
    "            self.pi_t = np.random.choice(self.P, p=gamma_t)\n",
    "\n",
    "        return self.pi_t\n",
    "\n",
    "    def compute_opt(self, f_ucbs, c_lcbs):\n",
    "        if np.sum(c_lcbs <= np.zeros(len(c_lcbs))):\n",
    "            gamma = np.zeros(len(f_ucbs))\n",
    "            gamma[np.argmax(f_ucbs)] = 1\n",
    "            return gamma\n",
    "        \n",
    "        c = -f_ucbs\n",
    "\n",
    "        A_ub = [c_lcbs]\n",
    "        rho = self.budget/(T)\n",
    "        b_ub = [rho]\n",
    "\n",
    "        A_eq = [np.ones(self.P)]\n",
    "        b_eq = [1]\n",
    "\n",
    "        res = optimize.linprog(c, A_ub=A_ub, b_ub=b_ub, A_eq=A_eq, b_eq=b_eq, bounds=(0,1))\n",
    "        \n",
    "        gamma = res.x\n",
    "        return gamma\n",
    "    \n",
    "    def update(self, f_t, c_t):\n",
    "        # Update the number of pulled price\n",
    "        self.N_pulls[self.pi_t] += 1\n",
    "\n",
    "        # Update averages\n",
    "        self.avg_f[self.pi_t] = self.avg_f[self.pi_t] + (f_t - self.avg_f[self.pi_t])/self.N_pulls[self.pi_t]\n",
    "        self.avg_c[self.pi_t] = self.avg_c[self.pi_t] + (c_t - self.avg_c[self.pi_t])/self.N_pulls[self.pi_t]\n",
    "\n",
    "        # Update budget\n",
    "        self.budget = self.budget - c_t\n",
    "\n",
    "        self.t += 1"
   ]
  },
  {
   "cell_type": "markdown",
   "id": "c3bd4ece",
   "metadata": {},
   "source": [
    "#### Clairvoyant with inventory constraint"
   ]
  },
  {
   "cell_type": "code",
   "execution_count": null,
   "id": "310e6385",
   "metadata": {},
   "outputs": [],
   "source": [
    "class SingleProductStochasticInventoryClaivoyant:\n",
    "    def __init__(self, T, B, prices, valuation_distr=stats.uniform):\n",
    "        self.T = T\n",
    "        self.prices = prices\n",
    "\n",
    "        # This is probability distributions over valuations (scipy.stats)\n",
    "        self.valuation_distr = valuation_distr\n",
    "\n",
    "    def run(self):\n",
    "        # Probability of selling a product\n",
    "        selling_prob = 1 - self.valuation_distr.cdf(self.prices)\n",
    "\n",
    "        ## Liner programming\n",
    "        c = - self.prices * selling_prob # objective function coefficients\n",
    "\n",
    "        # Constraints\n",
    "        A_eq = [np.ones(len(self.prices))]\n",
    "        b_eq = [1]\n",
    "\n",
    "        # Resolve LP\n",
    "        res = optimize.linprog(c, A_eq=A_eq, b_eq=b_eq, bounds=(0, 1))\n",
    "        expected_utility = np.array([-res.fun for _ in range(self.T)])\n",
    "\n",
    "        return expected_utility"
   ]
  },
  {
   "cell_type": "markdown",
   "id": "b34ee03b",
   "metadata": {},
   "source": [
    "#### Evaluation"
   ]
  },
  {
   "cell_type": "code",
   "execution_count": 118,
   "id": "67c981db",
   "metadata": {},
   "outputs": [],
   "source": [
    "# Parameters\n",
    "T = 500\n",
    "B = 500\n",
    "\n",
    "# Prices\n",
    "max_price = 150\n",
    "price_step = 5\n",
    "prices = np.arange(0, max_price, price_step)\n",
    "\n",
    "# Valuation prob. distribution\n",
    "max_valuation = 150\n",
    "valuation_distr = stats.binom(loc=0, n=max_valuation, p=0.5)"
   ]
  },
  {
   "cell_type": "code",
   "execution_count": 119,
   "id": "8de0e2bd",
   "metadata": {},
   "outputs": [],
   "source": [
    "# Run clairvoyant\n",
    "clairvoyant = SingleProductStochasticClairvoyant(T, prices, valuation_distr)\n",
    "expected_clairvoyant_utilities = clairvoyant.run()\n",
    "\n",
    "n_trials = 1\n",
    "regret_per_trial = []\n",
    "for trial in range(n_trials):\n",
    "\n",
    "  # Define environment and agent\n",
    "  env = SingleProductEnvironment(T, valuation_distr)\n",
    "  ucb_like_agent = UCBLike(T, B, prices, range=max_price)\n",
    "\n",
    "  agent_rewards = []\n",
    "  for t in range(T):\n",
    "    # This returns the price index\n",
    "    pi_t = ucb_like_agent.pull_arm()\n",
    "\n",
    "    # Get the actual price\n",
    "    p_t = prices[pi_t]\n",
    "\n",
    "    # Get reward\n",
    "    r_t = env.round(p_t)\n",
    "\n",
    "    # Update agent state\n",
    "    ucb_like_agent.update(r_t, r_t > 0)\n",
    "\n",
    "    agent_rewards.append(r_t)\n",
    "\n",
    "  agent_rewards = np.array(agent_rewards)\n",
    "  cumulative_regret = np.cumsum(expected_clairvoyant_utilities - agent_rewards)\n",
    "  regret_per_trial.append(cumulative_regret)\n",
    "\n",
    "regret_per_trial = np.array(regret_per_trial)"
   ]
  },
  {
   "cell_type": "code",
   "execution_count": 120,
   "id": "b4ed3a38",
   "metadata": {},
   "outputs": [
    {
     "data": {
      "image/png": "[encoded data removed]",
      "text/plain": [
       "<Figure size 640x480 with 1 Axes>"
      ]
     },
     "metadata": {},
     "output_type": "display_data"
    }
   ],
   "source": [
    "# Crea il grafico\n",
    "plt.scatter(np.arange(T),agent_rewards, marker='o', linestyle='-', color='b')\n",
    "\n",
    "# Aggiungi titolo e etichette agli assi\n",
    "plt.title(\"Grafico dei Reward\")\n",
    "plt.xlabel(\"Epoche (o step)\")\n",
    "plt.ylabel(\"Reward\")\n",
    "\n",
    "# Mostra il grafico\n",
    "plt.show()"
   ]
  },
  {
   "cell_type": "code",
   "execution_count": 121,
   "id": "102db6d6",
   "metadata": {},
   "outputs": [
    {
     "data": {
      "text/plain": [
       "<matplotlib.legend.Legend at 0x1083371a0>"
      ]
     },
     "execution_count": 121,
     "metadata": {},
     "output_type": "execute_result"
    },
    {
     "data": {
      "image/png": "[encoded data removed]",
      "text/plain": [
       "<Figure size 640x480 with 1 Axes>"
      ]
     },
     "metadata": {},
     "output_type": "display_data"
    }
   ],
   "source": [
    "average_regret = regret_per_trial.mean(axis=0) # mean\n",
    "regret_sd = regret_per_trial.std(axis=0) # standard deviation\n",
    "\n",
    "plt.plot(np.arange(T), average_regret, label=\"Average\")\n",
    "plt.fill_between(\n",
    "    np.arange(T), \n",
    "    average_regret-regret_sd/np.sqrt(n_trials), \n",
    "    average_regret+regret_sd/np.sqrt(n_trials),\n",
    "    alpha=0.3,\n",
    "    label=\"Uncertainty\"\n",
    ")\n",
    "plt.xlabel(\"$t$\")\n",
    "plt.legend()"
   ]
  },
  {
   "cell_type": "markdown",
   "id": "f1bd2fb9",
   "metadata": {},
   "source": [
    "### Requirement 2: multiple products and stochastic environment"
   ]
  },
  {
   "cell_type": "code",
   "execution_count": null,
   "id": "12458ee0",
   "metadata": {},
   "outputs": [],
   "source": [
    "class MultipleProductEnvironment(Environment):\n",
    "  def __init__(self, T, N, max_valuation):\n",
    "    self.T = T # Number of buyers (rounds)\n",
    "    self.N = N # Number of types of products\n",
    "    self.t = 0 # Current buyer\n",
    "\n",
    "    # Valuation of each buyer sampled from the given distribution function\n",
    "    self.valuations = np.random.uniform(0, max_valuation, size=(T, N))\n",
    "\n",
    "  def round(self, p_t):\n",
    "    reward = np.array([])\n",
    "\n",
    "    # Check if the buyer valuations are higher than products prices\n",
    "    for valuation, price in zip(self.valuations[self.t, :], p_t):\n",
    "      if valuation >= price:\n",
    "        reward = np.append(reward, price)\n",
    "      else:\n",
    "        reward = np.append(reward, 0.)\n",
    "\n",
    "    # Update round\n",
    "    self.t = self.t + 1\n",
    "    return reward"
   ]
  },
  {
   "cell_type": "markdown",
   "id": "e4e5329c",
   "metadata": {},
   "source": [
    "### Requirement 3: best-of-both-worlds algorithms with a single product"
   ]
  },
  {
   "cell_type": "code",
   "execution_count": null,
   "id": "e501971d",
   "metadata": {},
   "outputs": [],
   "source": []
  },
  {
   "cell_type": "markdown",
   "id": "aecad7b0",
   "metadata": {},
   "source": [
    "### Requirement 4: best-of-both-worlds algorithms with multiple products"
   ]
  },
  {
   "cell_type": "code",
   "execution_count": null,
   "id": "8acf080d",
   "metadata": {},
   "outputs": [],
   "source": []
  },
  {
   "cell_type": "markdown",
   "id": "6bf731ab",
   "metadata": {},
   "source": [
    "### Requirement 5: slightly non-stationary environments with multiple products"
   ]
  },
  {
   "cell_type": "code",
   "execution_count": null,
   "id": "af95329c",
   "metadata": {},
   "outputs": [],
   "source": []
  }
 ],
 "metadata": {
  "kernelspec": {
   "display_name": "Python 3",
   "language": "python",
   "name": "python3"
  },
  "language_info": {
   "codemirror_mode": {
    "name": "ipython",
    "version": 3
   },
   "file_extension": ".py",
   "mimetype": "text/x-python",
   "name": "python",
   "nbconvert_exporter": "python",
   "pygments_lexer": "ipython3",
   "version": "3.12.7"
  }
 },
 "nbformat": 4,
 "nbformat_minor": 5
}
