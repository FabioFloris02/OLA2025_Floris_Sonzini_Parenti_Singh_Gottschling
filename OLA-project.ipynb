{
  "cells": [
    {
      "cell_type": "code",
      "execution_count": null,
      "id": "64de8b88",
      "metadata": {
        "id": "64de8b88"
      },
      "outputs": [],
      "source": [
        "import numpy as np\n",
        "import matplotlib.pyplot as plt\n",
        "from scipy import stats\n",
        "from scipy import optimize\n",
        "import random"
      ]
    },
    {
      "cell_type": "markdown",
      "id": "392e5fba",
      "metadata": {
        "id": "392e5fba"
      },
      "source": [
        "## General classes"
      ]
    },
    {
      "cell_type": "code",
      "execution_count": null,
      "id": "5c3542ea",
      "metadata": {
        "id": "5c3542ea"
      },
      "outputs": [],
      "source": [
        "class Environment:\n",
        "    def __init__(self):\n",
        "        pass\n",
        "\n",
        "    def round(self, product_price):\n",
        "        pass"
      ]
    },
    {
      "cell_type": "code",
      "execution_count": null,
      "id": "25a9ca32",
      "metadata": {
        "id": "25a9ca32"
      },
      "outputs": [],
      "source": [
        "class Agent:\n",
        "    def __init__(self):\n",
        "        pass\n",
        "\n",
        "    def pull_arm(self):\n",
        "        pass\n",
        "\n",
        "    def update(self, reward_t):\n",
        "        pass"
      ]
    },
    {
      "cell_type": "markdown",
      "id": "e7342c66",
      "metadata": {
        "id": "e7342c66"
      },
      "source": [
        "### Requirement 1: single product and stochastic environment"
      ]
    },
    {
      "cell_type": "markdown",
      "id": "c5c2a790",
      "metadata": {
        "id": "c5c2a790"
      },
      "source": [
        "#### Environment"
      ]
    },
    {
      "cell_type": "code",
      "execution_count": null,
      "id": "48b6de95",
      "metadata": {
        "id": "48b6de95"
      },
      "outputs": [],
      "source": [
        "class SingleProductEnvironment(Environment):\n",
        "  def __init__(self, T, valuation_distr=stats.uniform):\n",
        "    self.T = T # Number of rounds\n",
        "    self.t = 0 # Starting round\n",
        "\n",
        "    # Valuation of each buyer sampled from the given distribution function\n",
        "    self.valuation = valuation_distr.rvs(size=T)\n",
        "\n",
        "  def round(self, p_t):\n",
        "    # Check if the buyer valuation is higher than product price\n",
        "    r_t = p_t if self.valuation[self.t] >= p_t else 0\n",
        "\n",
        "    # Update round\n",
        "    self.t = self.t + 1\n",
        "\n",
        "    return r_t"
      ]
    },
    {
      "cell_type": "markdown",
      "id": "078ff1da",
      "metadata": {
        "id": "078ff1da"
      },
      "source": [
        "#### Agent without inventory constraint - UCB1"
      ]
    },
    {
      "cell_type": "code",
      "execution_count": null,
      "id": "ecf97d4e",
      "metadata": {
        "id": "ecf97d4e"
      },
      "outputs": [],
      "source": [
        "class UCB1(Agent):\n",
        "    def __init__(self, T, prices, range=1):\n",
        "        self.range = range # Range of the reward\n",
        "        self.P = len(prices) # Prices' set cardinality\n",
        "        self.T = T # Number of rounds\n",
        "        self.pi_t = None # Init price\n",
        "\n",
        "        self.average_rewards = np.zeros(self.P)\n",
        "        self.N_pulls = np.zeros(self.P)\n",
        "\n",
        "        self.t = 0 # Starting round\n",
        "\n",
        "    def pull_arm(self):\n",
        "        # Check if the round is less then number of prices\n",
        "        if self.t < self.P:\n",
        "            # then set it as product_price\n",
        "            self.pi_t = self.t\n",
        "        else:\n",
        "            # Compute UCB1\n",
        "            ucbs = self.average_rewards + self.range * np.sqrt(2 * np.log(self.T)/self.N_pulls)\n",
        "\n",
        "            # Extract the price that maximizes the UCB1\n",
        "            self.pi_t = np.argmax(ucbs)\n",
        "\n",
        "        return self.pi_t\n",
        "\n",
        "    def update(self, reward):\n",
        "        self.N_pulls[self.pi_t] += 1\n",
        "\n",
        "        # As average, we have (total purchasing) / (number of times of purchasing)\n",
        "        self.average_rewards[self.pi_t] += (reward - self.average_rewards[self.pi_t])/self.N_pulls[self.pi_t]\n",
        "        self.t += 1"
      ]
    },
    {
      "cell_type": "markdown",
      "id": "45a904c2",
      "metadata": {
        "id": "45a904c2"
      },
      "source": [
        "#### Clairvoyant without inventory constraint"
      ]
    },
    {
      "cell_type": "code",
      "execution_count": null,
      "id": "1feeed44",
      "metadata": {
        "id": "1feeed44"
      },
      "outputs": [],
      "source": [
        "class SingleProductStochasticClairvoyant:\n",
        "    def __init__(self, T, prices, valuation_distr=stats.uniform):\n",
        "        self.T = T\n",
        "        self.prices = prices\n",
        "\n",
        "        # This is probability distributions over valuations (scipy.stats)\n",
        "        self.valuation_distr = valuation_distr\n",
        "\n",
        "    def run(self):\n",
        "        # Probability of selling a product\n",
        "        selling_prob = 1 - self.valuation_distr.cdf(self.prices)\n",
        "\n",
        "        ## Liner programming\n",
        "        c = - self.prices * selling_prob # objective function coefficients\n",
        "\n",
        "        # Constraints\n",
        "        A_eq = [np.ones(len(self.prices))]\n",
        "        b_eq = [1]\n",
        "\n",
        "        # Resolve LP\n",
        "        res = optimize.linprog(c, A_eq=A_eq, b_eq=b_eq, bounds=(0, 1))\n",
        "        expected_utility = np.array([-res.fun for _ in range(self.T)])\n",
        "\n",
        "        return expected_utility"
      ]
    },
    {
      "cell_type": "markdown",
      "id": "fac0956a",
      "metadata": {
        "id": "fac0956a"
      },
      "source": [
        "#### Evaluation"
      ]
    },
    {
      "cell_type": "code",
      "execution_count": null,
      "id": "07c19d34",
      "metadata": {
        "id": "07c19d34"
      },
      "outputs": [],
      "source": [
        "# Parameters\n",
        "T = 10000\n",
        "\n",
        "# Prices\n",
        "max_price = 1\n",
        "price_step = T ** (-1/3)\n",
        "prices = np.arange(0, max_price, price_step)\n",
        "\n",
        "# Valuation prob. distribution\n",
        "max_valuation = 1\n",
        "#valuation_distr = stats.binom(loc=0, n=max_valuation, p=0.5)\n",
        "valuation_distr = stats.uniform(loc=0, scale=max_price)"
      ]
    },
    {
      "cell_type": "code",
      "execution_count": null,
      "id": "b98f0aac",
      "metadata": {
        "id": "b98f0aac"
      },
      "outputs": [],
      "source": [
        "# Run clairvoyant\n",
        "clairvoyant = SingleProductStochasticClairvoyant(T, prices, valuation_distr)\n",
        "expected_clairvoyant_utilities = clairvoyant.run()\n",
        "\n",
        "n_trials = 10\n",
        "regret_per_trial = []\n",
        "for trial in range(n_trials):\n",
        "\n",
        "  # Define environment and agent\n",
        "  env = SingleProductEnvironment(T, valuation_distr)\n",
        "  ucb_like_agent = UCB1(T, prices, range=max_price)\n",
        "\n",
        "  agent_rewards = []\n",
        "\n",
        "  for t in range(T):\n",
        "    # This returns the price index\n",
        "    pi_t = ucb_like_agent.pull_arm()\n",
        "\n",
        "    # Get the actual price\n",
        "    p_t = prices[pi_t]\n",
        "\n",
        "    # Get reward\n",
        "    r_t = env.round(p_t)\n",
        "\n",
        "    # Update agent state\n",
        "    ucb_like_agent.update(r_t)\n",
        "\n",
        "    agent_rewards.append(r_t)\n",
        "\n",
        "  agent_rewards = np.array(agent_rewards)\n",
        "  cumulative_regret = np.cumsum(expected_clairvoyant_utilities - agent_rewards)\n",
        "\n",
        "  regret_per_trial.append(cumulative_regret)\n",
        "\n",
        "regret_per_trial = np.array(regret_per_trial)"
      ]
    },
    {
      "cell_type": "code",
      "execution_count": null,
      "id": "32c56a36",
      "metadata": {
        "colab": {
          "base_uri": "https://localhost:8080/",
          "height": 467
        },
        "id": "32c56a36",
        "outputId": "fcf4f62c-791f-400d-c993-bb3d996df715"
      },
      "outputs": [
        {
          "output_type": "execute_result",
          "data": {
            "text/plain": [
              "<matplotlib.legend.Legend at 0x7b3b0da25090>"
            ]
          },
          "metadata": {},
          "execution_count": 19
        },
        {
          "output_type": "display_data",
          "data": {
            "text/plain": [
              "<Figure size 640x480 with 1 Axes>"
            ],
            "image/png": "[encoded data removed]"
          },
          "metadata": {}
        }
      ],
      "source": [
        "average_regret = regret_per_trial.mean(axis=0) # mean\n",
        "regret_sd = regret_per_trial.std(axis=0) # standard deviation\n",
        "\n",
        "plt.plot(np.arange(T), average_regret, label=\"Average\")\n",
        "plt.fill_between(\n",
        "    np.arange(T),\n",
        "    average_regret-regret_sd/np.sqrt(n_trials),\n",
        "    average_regret+regret_sd/np.sqrt(n_trials),\n",
        "    alpha=0.3,\n",
        "    label=\"Uncertainty\"\n",
        ")\n",
        "plt.xlabel(\"$t$\")\n",
        "plt.legend()"
      ]
    },
    {
      "cell_type": "code",
      "execution_count": null,
      "id": "9cRPSTGbz4PK",
      "metadata": {
        "colab": {
          "base_uri": "https://localhost:8080/",
          "height": 476
        },
        "id": "9cRPSTGbz4PK",
        "outputId": "cda35f79-9699-4cf0-9c7b-1f87dc290ab9"
      },
      "outputs": [
        {
          "output_type": "display_data",
          "data": {
            "text/plain": [
              "<Figure size 640x480 with 1 Axes>"
            ],
            "image/png": "[encoded data removed]"
          },
          "metadata": {}
        }
      ],
      "source": [
        "average_regret = regret_per_trial.mean(axis=0)  # media\n",
        "regret_sd = regret_per_trial.std(axis=0)        # deviazione standard\n",
        "\n",
        "t = np.arange(1, T+1)  # inizia da 1 per evitare t^{2/3} = 0^{2/3} = 0\n",
        "regret_theory = t**(2/3)\n",
        "\n",
        "plt.plot(t, average_regret, label=\"Average\")\n",
        "plt.fill_between(\n",
        "    t,\n",
        "    average_regret - regret_sd / np.sqrt(n_trials),\n",
        "    average_regret + regret_sd / np.sqrt(n_trials),\n",
        "    alpha=0.3,\n",
        "    label=\"Uncertainty\"\n",
        ")\n",
        "plt.plot(t, regret_theory, label=r\"$t^{2/3}$\", linestyle='--', color='red')\n",
        "\n",
        "plt.xlabel(\"$t$\")\n",
        "plt.ylabel(\"Regret\")\n",
        "plt.legend()\n",
        "plt.title(\"Regret vs Theoretical $t^{2/3}$ Growth\")\n",
        "plt.grid(True)\n",
        "plt.show()"
      ]
    },
    {
      "cell_type": "code",
      "execution_count": null,
      "id": "jQxnCLmX7Fgn",
      "metadata": {
        "colab": {
          "base_uri": "https://localhost:8080/",
          "height": 507
        },
        "id": "jQxnCLmX7Fgn",
        "outputId": "87b9e1f3-3450-431b-9ea5-ca3363b27169"
      },
      "outputs": [
        {
          "output_type": "display_data",
          "data": {
            "text/plain": [
              "<Figure size 800x500 with 1 Axes>"
            ],
            "image/png": "[encoded data removed]"
          },
          "metadata": {}
        }
      ],
      "source": [
        "K= 1/price_step\n",
        "t = np.arange(1, T + 1)  # da 1 per evitare log(0)\n",
        "theoretical_curve = np.sqrt(K * t * np.log(t))\n",
        "\n",
        "# Plot\n",
        "plt.figure(figsize=(8, 5))\n",
        "plt.plot(np.arange(T), average_regret, label=\"Average\")\n",
        "plt.fill_between(\n",
        "    np.arange(T),\n",
        "    average_regret - regret_sd / np.sqrt(n_trials),\n",
        "    average_regret + regret_sd / np.sqrt(n_trials),\n",
        "    alpha=0.3,\n",
        "    label=\"Uncertainty\"\n",
        ")\n",
        "\n",
        "# Aggiunta curva asintotica\n",
        "plt.plot(t - 1, theoretical_curve, label=r\"$\\sqrt{K t \\log t}$\", linestyle=\"--\", color=\"red\")\n",
        "\n",
        "plt.xlabel(\"$t$\")\n",
        "plt.ylabel(\"Regret\")\n",
        "plt.title(\"Regret vs Theoretical $\\sqrt{K t \\log t}$ Growth\")\n",
        "plt.legend()\n",
        "plt.grid(True)\n",
        "plt.tight_layout()\n",
        "plt.show()"
      ]
    },
    {
      "cell_type": "markdown",
      "id": "3d3dca35",
      "metadata": {
        "id": "3d3dca35"
      },
      "source": [
        "#### Agent with inventory constraint - UCB-like"
      ]
    },
    {
      "cell_type": "code",
      "execution_count": null,
      "id": "caf21640",
      "metadata": {
        "id": "caf21640"
      },
      "outputs": [],
      "source": [
        "class UCBLike():\n",
        "    def __init__(self, T, B, prices, range=1):\n",
        "        self.T = T\n",
        "        self.P = len(prices)\n",
        "        self.range = range\n",
        "\n",
        "        self.pi_t = None\n",
        "        self.avg_f = np.zeros(self.P)\n",
        "        self.avg_c = np.zeros(self.P)\n",
        "        self.N_pulls = np.zeros(self.P)\n",
        "        self.budget = B\n",
        "\n",
        "        self.t = 0\n",
        "\n",
        "    def pull_arm(self):\n",
        "        # Check if budget is depleted\n",
        "        if self.budget < 1:\n",
        "            self.pi_t = 0\n",
        "            return 0\n",
        "\n",
        "        if self.t < self.P:\n",
        "            self.pi_t = self.t\n",
        "        else:\n",
        "            # Upper Confidence Bound\n",
        "            f_ucbs = self.avg_f + self.range * np.sqrt( 2 * np.log(self.T)/self.N_pulls)\n",
        "\n",
        "            # Lower Confidence Bound\n",
        "            c_lcbs = self.avg_c - self.range * np.sqrt( 2 * np.log(self.T)/self.N_pulls)\n",
        "\n",
        "            # Price optimal distribution\n",
        "            gamma_t = self.compute_opt(f_ucbs, c_lcbs)\n",
        "\n",
        "            # Set current price\n",
        "            self.pi_t = np.random.choice(self.P, p=gamma_t)\n",
        "\n",
        "        return self.pi_t\n",
        "\n",
        "    def compute_opt(self, f_ucbs, c_lcbs):\n",
        "        if np.sum(c_lcbs <= np.zeros(len(c_lcbs))):\n",
        "            gamma = np.zeros(len(f_ucbs))\n",
        "            gamma[np.argmax(f_ucbs)] = 1\n",
        "            return gamma\n",
        "\n",
        "        c = -f_ucbs\n",
        "\n",
        "        A_ub = [c_lcbs]\n",
        "        rho = self.budget/self.T\n",
        "        b_ub = [rho]\n",
        "\n",
        "        A_eq = [np.ones(self.P)]\n",
        "        b_eq = [1]\n",
        "\n",
        "        res = optimize.linprog(c, A_ub=A_ub, b_ub=b_ub, A_eq=A_eq, b_eq=b_eq, bounds=(0,1))\n",
        "\n",
        "        gamma = res.x\n",
        "        return gamma\n",
        "\n",
        "    def update(self, f_t, c_t):\n",
        "        # Update the number of pulled price\n",
        "        self.N_pulls[self.pi_t] += 1\n",
        "\n",
        "        # Update averages\n",
        "        self.avg_f[self.pi_t] = self.avg_f[self.pi_t] + (f_t - self.avg_f[self.pi_t])/self.N_pulls[self.pi_t]\n",
        "        self.avg_c[self.pi_t] = self.avg_c[self.pi_t] + (c_t - self.avg_c[self.pi_t])/self.N_pulls[self.pi_t]\n",
        "\n",
        "        # Update budget\n",
        "        self.budget = self.budget - c_t\n",
        "\n",
        "        self.t += 1"
      ]
    },
    {
      "cell_type": "markdown",
      "id": "c3bd4ece",
      "metadata": {
        "id": "c3bd4ece"
      },
      "source": [
        "#### Clairvoyant with inventory constraint"
      ]
    },
    {
      "cell_type": "code",
      "execution_count": null,
      "id": "310e6385",
      "metadata": {
        "id": "310e6385"
      },
      "outputs": [],
      "source": [
        "class SingleProductStochasticInventoryClaivoyant:\n",
        "    def __init__(self, T, budget, prices, valuation_distr=stats.uniform):\n",
        "        self.T = T\n",
        "        self.prices = prices\n",
        "        self.budget = budget\n",
        "\n",
        "        # This is probability distributions over valuations (scipy.stats)\n",
        "        self.valuation_distr = valuation_distr\n",
        "\n",
        "    def run(self):\n",
        "        # Probability of selling a product\n",
        "        selling_prob = 1 - self.valuation_distr.cdf(self.prices)\n",
        "\n",
        "        ## Liner programming\n",
        "        c = - self.prices * selling_prob # objective function coefficients\n",
        "\n",
        "        # Constraints\n",
        "        A_eq = [np.ones(len(self.prices))]\n",
        "        b_eq = [1]\n",
        "\n",
        "        A_ub = [selling_prob]\n",
        "        rho = self.budget/self.T\n",
        "        b_ub = [rho]\n",
        "\n",
        "        # Resolve LP\n",
        "        res = optimize.linprog(c, A_eq=A_eq, b_eq=b_eq, A_ub=A_ub, b_ub=b_ub, bounds=(0, 1))\n",
        "        expected_utility = np.array([-res.fun for _ in range(self.T)])\n",
        "\n",
        "        return expected_utility"
      ]
    },
    {
      "cell_type": "markdown",
      "id": "b34ee03b",
      "metadata": {
        "id": "b34ee03b"
      },
      "source": [
        "#### Evaluation"
      ]
    },
    {
      "cell_type": "code",
      "execution_count": null,
      "id": "67c981db",
      "metadata": {
        "id": "67c981db"
      },
      "outputs": [],
      "source": [
        "# Parameters\n",
        "T = 10000\n",
        "B = T * 3/4\n",
        "\n",
        "# Prices\n",
        "max_price = 1\n",
        "price_step = 0.2\n",
        "prices = np.arange(0, max_price, price_step)\n",
        "\n",
        "# Valuation prob. distribution\n",
        "max_valuation = 1\n",
        "valuation_distr = stats.uniform(loc=0, scale=max_price)"
      ]
    },
    {
      "cell_type": "code",
      "execution_count": null,
      "id": "8de0e2bd",
      "metadata": {
        "id": "8de0e2bd",
        "outputId": "1b603254-69b2-4cca-83c6-8b80e9c45fa5",
        "colab": {
          "base_uri": "https://localhost:8080/",
          "height": 216
        }
      },
      "outputs": [
        {
          "output_type": "error",
          "ename": "ValueError",
          "evalue": "operands could not be broadcast together with shapes (10000,) (5508,) ",
          "traceback": [
            "\u001b[0;31m---------------------------------------------------------------------------\u001b[0m",
            "\u001b[0;31mValueError\u001b[0m                                Traceback (most recent call last)",
            "\u001b[0;32m/tmp/ipython-input-25-663356082.py\u001b[0m in \u001b[0;36m<cell line: 0>\u001b[0;34m()\u001b[0m\n\u001b[1;32m     33\u001b[0m \u001b[0;34m\u001b[0m\u001b[0m\n\u001b[1;32m     34\u001b[0m   \u001b[0magent_rewards\u001b[0m \u001b[0;34m=\u001b[0m \u001b[0mnp\u001b[0m\u001b[0;34m.\u001b[0m\u001b[0marray\u001b[0m\u001b[0;34m(\u001b[0m\u001b[0magent_rewards\u001b[0m\u001b[0;34m)\u001b[0m\u001b[0;34m\u001b[0m\u001b[0;34m\u001b[0m\u001b[0m\n\u001b[0;32m---> 35\u001b[0;31m   \u001b[0mcumulative_regret\u001b[0m \u001b[0;34m=\u001b[0m \u001b[0mnp\u001b[0m\u001b[0;34m.\u001b[0m\u001b[0mcumsum\u001b[0m\u001b[0;34m(\u001b[0m\u001b[0mexpected_clairvoyant_utilities\u001b[0m \u001b[0;34m-\u001b[0m \u001b[0magent_rewards\u001b[0m\u001b[0;34m)\u001b[0m\u001b[0;34m\u001b[0m\u001b[0;34m\u001b[0m\u001b[0m\n\u001b[0m\u001b[1;32m     36\u001b[0m   \u001b[0mregret_per_trial\u001b[0m\u001b[0;34m.\u001b[0m\u001b[0mappend\u001b[0m\u001b[0;34m(\u001b[0m\u001b[0mcumulative_regret\u001b[0m\u001b[0;34m)\u001b[0m\u001b[0;34m\u001b[0m\u001b[0;34m\u001b[0m\u001b[0m\n\u001b[1;32m     37\u001b[0m \u001b[0;34m\u001b[0m\u001b[0m\n",
            "\u001b[0;31mValueError\u001b[0m: operands could not be broadcast together with shapes (10000,) (5508,) "
          ]
        }
      ],
      "source": [
        "# Run clairvoyant\n",
        "clairvoyant = SingleProductStochasticInventoryClaivoyant(T, B, prices, valuation_distr)\n",
        "\n",
        "expected_clairvoyant_utilities = clairvoyant.run()\n",
        "\n",
        "n_trials = 20\n",
        "regret_per_trial = []\n",
        "for trial in range(n_trials):\n",
        "\n",
        "  # Define environment and agent\n",
        "  env = SingleProductEnvironment(T)\n",
        "  ucb_like_agent = UCBLike(T, B, prices, range=max_price)\n",
        "\n",
        "  agent_rewards = []\n",
        "  for t in range(T):\n",
        "    if(B<=0):\n",
        "      break\n",
        "    # This returns the price index\n",
        "    pi_t = ucb_like_agent.pull_arm()\n",
        "\n",
        "    # Get the actual price\n",
        "    p_t = prices[pi_t]\n",
        "\n",
        "    # Get reward\n",
        "    r_t = env.round(p_t)\n",
        "\n",
        "    # Update agent state\n",
        "    ucb_like_agent.update(r_t, r_t > 0)\n",
        "\n",
        "    agent_rewards.append(r_t)\n",
        "    if(r_t>0):\n",
        "      B = B - 1\n",
        "\n",
        "  agent_rewards = np.array(agent_rewards)\n",
        "  cumulative_regret = np.cumsum(expected_clairvoyant_utilities - agent_rewards)\n",
        "  regret_per_trial.append(cumulative_regret)\n",
        "\n",
        "regret_per_trial = np.array(regret_per_trial)"
      ]
    },
    {
      "cell_type": "code",
      "execution_count": null,
      "id": "102db6d6",
      "metadata": {
        "id": "102db6d6"
      },
      "outputs": [],
      "source": [
        "average_regret = regret_per_trial.mean(axis=0) # mean\n",
        "regret_sd = regret_per_trial.std(axis=0) # standard deviation\n",
        "\n",
        "plt.plot(np.arange(T), average_regret, label=\"Average\")\n",
        "plt.fill_between(\n",
        "    np.arange(T),\n",
        "    average_regret-regret_sd/np.sqrt(n_trials),\n",
        "    average_regret+regret_sd/np.sqrt(n_trials),\n",
        "    alpha=0.3,\n",
        "    label=\"Uncertainty\"\n",
        ")\n",
        "plt.xlabel(\"$t$\")\n",
        "plt.legend()"
      ]
    },
    {
      "cell_type": "code",
      "execution_count": null,
      "id": "LJi_FiWA-uXt",
      "metadata": {
        "id": "LJi_FiWA-uXt"
      },
      "outputs": [],
      "source": [
        "ucb_like_agent.budget"
      ]
    },
    {
      "cell_type": "code",
      "execution_count": null,
      "id": "99f7ZWqrAJWa",
      "metadata": {
        "id": "99f7ZWqrAJWa"
      },
      "outputs": [],
      "source": [
        "t = np.arange(1, T + 1)  # da 1 per evitare log(0)\n",
        "theoretical_curve = np.sqrt(t)\n",
        "average_regret = regret_per_trial.mean(axis=0) # mean\n",
        "regret_sd = regret_per_trial.std(axis=0) # standard deviation\n",
        "\n",
        "plt.plot(np.arange(T), average_regret, label=\"Average\")\n",
        "plt.fill_between(\n",
        "    np.arange(T),\n",
        "    average_regret-regret_sd/np.sqrt(n_trials),\n",
        "    average_regret+regret_sd/np.sqrt(n_trials),\n",
        "    alpha=0.3,\n",
        "    label=\"Uncertainty\"\n",
        ")\n",
        "\n",
        "\n",
        "plt.plot(t - 1, theoretical_curve, label=r\"$\\sqrt{t }$\", linestyle=\"--\", color=\"red\")\n",
        "\n",
        "\n",
        "plt.xlabel(\"$t$\")\n",
        "plt.ylabel(\"Regret\")\n",
        "plt.title(\"Regret vs Theoretical $\\sqrt{ t}$ Growth\")\n",
        "plt.legend()\n",
        "plt.grid(True)\n",
        "plt.tight_layout()\n",
        "plt.show()"
      ]
    },
    {
      "cell_type": "markdown",
      "id": "f1bd2fb9",
      "metadata": {
        "id": "f1bd2fb9"
      },
      "source": [
        "### Requirement 2: multiple products and stochastic environment"
      ]
    },
    {
      "cell_type": "code",
      "execution_count": null,
      "id": "12458ee0",
      "metadata": {
        "id": "12458ee0"
      },
      "outputs": [],
      "source": [
        "class MultipleProductEnvironment(Environment):\n",
        "  def __init__(self, T, N, max_valuation):\n",
        "    self.T = T # Number of buyers (rounds)\n",
        "    self.N = N # Number of types of products\n",
        "    self.t = 0 # Current buyer\n",
        "\n",
        "    # Valuation of each buyer sampled from the given distribution function\n",
        "    self.valuations = np.random.uniform(0, max_valuation, size=(T, N))\n",
        "\n",
        "  def round(self, p_t):\n",
        "    reward = np.array([])\n",
        "\n",
        "    # Check if the buyer valuations are higher than products prices\n",
        "    for valuation, price in zip(self.valuations[self.t, :], p_t):\n",
        "      if valuation >= price:\n",
        "        reward = np.append(reward, price)\n",
        "      else:\n",
        "        reward = np.append(reward, 0.)\n",
        "\n",
        "    # Update round\n",
        "    self.t = self.t + 1\n",
        "    return reward"
      ]
    },
    {
      "cell_type": "markdown",
      "id": "e4e5329c",
      "metadata": {
        "id": "e4e5329c"
      },
      "source": [
        "### Requirement 3: best-of-both-worlds algorithms with a single product"
      ]
    },
    {
      "cell_type": "code",
      "source": [
        "def getDistribution():\n",
        "    arr = np.arange(0.2, 2, 0.2)\n",
        "    random_index_a = random.randint(0, len(arr) - 1)\n",
        "    random_index_b = random.randint(0, len(arr) - 1)\n",
        "\n",
        "    return stats.beta(arr[random_index_a], arr[random_index_b])"
      ],
      "metadata": {
        "id": "5QJm2RT4tMCW"
      },
      "id": "5QJm2RT4tMCW",
      "execution_count": null,
      "outputs": []
    },
    {
      "cell_type": "code",
      "execution_count": null,
      "id": "637d8229",
      "metadata": {
        "id": "637d8229"
      },
      "outputs": [],
      "source": [
        "def getDistribution():\n",
        "    a = stats.uniform(loc=0, scale=2).rvs()\n",
        "    b = stats.uniform(loc=0, scale=2).rvs()\n",
        "\n",
        "    return stats.beta(a,b)"
      ]
    },
    {
      "cell_type": "code",
      "source": [
        "def getDistribution():\n",
        "    arr = np.arange(2, 6, 1)  # valori tra 2 e 7\n",
        "    a = np.random.choice(arr)\n",
        "    b = np.random.choice(arr)\n",
        "    return stats.beta(a, b)"
      ],
      "metadata": {
        "id": "_YtXozfvFyAa"
      },
      "id": "_YtXozfvFyAa",
      "execution_count": 142,
      "outputs": []
    },
    {
      "cell_type": "markdown",
      "source": [
        "#### Environment"
      ],
      "metadata": {
        "id": "5Ax1OW8_6jVy"
      },
      "id": "5Ax1OW8_6jVy"
    },
    {
      "cell_type": "code",
      "execution_count": null,
      "id": "e501971d",
      "metadata": {
        "id": "e501971d"
      },
      "outputs": [],
      "source": [
        "class SingleProductHighlyNonStationaryEnvironment(Environment):\n",
        "  def __init__(self, T, valuation_distr):\n",
        "    self.T = T # Number of rounds\n",
        "    self.t = 0 # Starting round\n",
        "\n",
        "    # Valuation of each buyer sampled from the given distribution function\n",
        "    #self.valuation = valuation_distr.rvs(size=T)\n",
        "    self.valuation = [valuation_distr[i].rvs() for i in range(T)]\n",
        "\n",
        "  def round(self, p_t):\n",
        "    # Check if the buyer valuation is higher than product price\n",
        "    r_t = p_t if self.valuation[self.t] >= p_t else 0\n",
        "\n",
        "    # Update round\n",
        "    self.t = self.t + 1\n",
        "\n",
        "    return r_t"
      ]
    },
    {
      "cell_type": "markdown",
      "source": [
        "#### Clairvoyant"
      ],
      "metadata": {
        "id": "QEB_mdtd61Wm"
      },
      "id": "QEB_mdtd61Wm"
    },
    {
      "cell_type": "code",
      "source": [
        "class SingleProductHighltyNonStationaryClairvoyant:\n",
        "    def __init__(self, T, B, prices, valuation_distr):\n",
        "        self.T = T\n",
        "        self.prices = prices\n",
        "        self.B=B\n",
        "        # This is probability distributions over valuations (scipy.stats)\n",
        "        self.valuation_distr = valuation_distr\n",
        "\n",
        "    def run(self):\n",
        "        # Probability of selling a product\n",
        "\n",
        "        selling_prob = [1 - self.valuation_distr[i].cdf(self.prices) for i in range(T)]\n",
        "        selling_prob_mean=np.mean(selling_prob, axis=0)\n",
        "\n",
        "        ## Liner programming\n",
        "        c = - self.prices * selling_prob_mean # objective function coefficients\n",
        "\n",
        "        # Constraints\n",
        "        A_eq = [np.ones(len(self.prices))]\n",
        "        b_eq = [1]\n",
        "\n",
        "        A_ub = [selling_prob_mean]\n",
        "        rho=self.B/self.T\n",
        "        b_ub = [rho]\n",
        "\n",
        "        # Resolve LP\n",
        "        res = optimize.linprog(c, A_eq=A_eq, b_eq=b_eq, A_ub=A_ub, b_ub=b_ub, bounds=(0,1))\n",
        "        expected_utility = np.array([-res.fun for _ in range(self.T)])\n",
        "\n",
        "        return expected_utility"
      ],
      "metadata": {
        "id": "bxU_YFI_B2pL"
      },
      "id": "bxU_YFI_B2pL",
      "execution_count": null,
      "outputs": []
    },
    {
      "cell_type": "markdown",
      "id": "0a88f5a0",
      "metadata": {
        "id": "0a88f5a0"
      },
      "source": [
        "#### Agent"
      ]
    },
    {
      "cell_type": "code",
      "execution_count": 143,
      "id": "80a366f0",
      "metadata": {
        "id": "80a366f0"
      },
      "outputs": [],
      "source": [
        "class EXP3Agent(Agent):\n",
        "    def __init__(self, K, learning_rate):\n",
        "        self.K = K\n",
        "        self.learning_rate = learning_rate\n",
        "        self.weights = np.ones(K)\n",
        "        self.a_t = None\n",
        "        self.x_t = np.ones(K)/K\n",
        "        self.N_pulls = np.zeros(K)\n",
        "        self.t = 0\n",
        "\n",
        "    def pull_arm(self):\n",
        "        self.x_t = self.weights/sum(self.weights)\n",
        "        self.a_t = np.random.choice(np.arange(self.K), p=self.x_t)\n",
        "        return self.a_t\n",
        "\n",
        "    def update(self, l_t):\n",
        "        l_t_tilde = l_t/self.x_t[self.a_t]\n",
        "        self.weights[self.a_t] *= np.exp(-self.learning_rate*l_t_tilde)\n",
        "        self.N_pulls[self.a_t] += 1\n",
        "        self.t += 1"
      ]
    },
    {
      "cell_type": "code",
      "execution_count": 167,
      "id": "ec2b5d03",
      "metadata": {
        "id": "ec2b5d03"
      },
      "outputs": [],
      "source": [
        "class FFMultiplicativePacingAgent(Agent):\n",
        "    def __init__(self, prices_set, budget, T, eta, learning_rate):\n",
        "        self.prices_set = prices_set\n",
        "        self.K = len(prices_set)\n",
        "        self.learning_rate = learning_rate\n",
        "        self.exp3 = EXP3Agent(self.K, self.learning_rate)\n",
        "        self.budget = budget\n",
        "        self.eta = eta\n",
        "        self.T = T\n",
        "        self.rho = self.budget/self.T + 1.5\n",
        "        self.lmbd = 1\n",
        "        self.t = 0\n",
        "        self.N_pulls = np.zeros(len(prices_set))\n",
        "        self.price_index = 0\n",
        "        self._lambdas = []\n",
        "\n",
        "    def pull_arm(self):\n",
        "        if self.budget < 1:\n",
        "            #self.price_index = 0\n",
        "            return 1.1\n",
        "\n",
        "       # epsilon = 0.1  # 10% round di esplorazione\n",
        "       # low_price_idxs = [i for i, p in enumerate(self.prices_set) if p <= 0.4]\n",
        "\n",
        "       # if np.random.rand() < epsilon:\n",
        "       #     self.price_index = np.random.choice(low_price_idxs)\n",
        "       # else:\n",
        "       #     self.price_index = self.exp3.pull_arm()\n",
        "\n",
        "        self.price_index = self.exp3.pull_arm()\n",
        "        return self.prices_set[self.price_index]\n",
        "\n",
        "    def update(self, f_t):\n",
        "        #self.rho = self.budget/(self.T-self.t+1)\n",
        "        c_t = int(f_t > 0) # >=\n",
        "        L = f_t - self.lmbd*(c_t-self.rho)\n",
        "\n",
        "\n",
        "\n",
        "# rescale lineare tra min e max possibili\n",
        "        # L_rescaled = (L + self.lmbd) / (max(self.prices_set) + self.lmbd + 1e-12)\n",
        "        # self.exp3.update(1-L_rescaled)\n",
        "\n",
        "        L_up = 1 -(1/self.rho)*(-self.rho)\n",
        "        L_low = 0 -(1/self.rho)*(1-self.rho)\n",
        "        rescaled_L = (L - L_low)/(L_up-L_low)\n",
        "        self.exp3.update(1 - rescaled_L) # we need to maximize L\n",
        "\n",
        "        # update lagrangian multiplier\n",
        "        self.lmbd = np.clip(self.lmbd-self.eta*(self.rho-c_t),\n",
        "                            a_min=0, a_max=1/self.rho)\n",
        "\n",
        "        self._lambdas.append((self.lmbd, c_t))\n",
        "\n",
        "        # update budget\n",
        "        self.budget -= c_t\n",
        "        # log\n",
        "        self.N_pulls[self.price_index] += 1\n",
        "\n",
        "    def get_budget(self):\n",
        "      return self.budget\n",
        "\n",
        "    def lambdas(self):\n",
        "      return self._lambdas"
      ]
    },
    {
      "cell_type": "markdown",
      "source": [
        "#### Prove agent"
      ],
      "metadata": {
        "id": "ZadKxhN16Y2N"
      },
      "id": "ZadKxhN16Y2N"
    },
    {
      "cell_type": "code",
      "source": [
        "class EXP3PAgent(Agent):\n",
        "    def __init__(self, K, T, alpha, gamma):\n",
        "        self.K = K                      # Numero di bracci\n",
        "        self.T = T                      # Orizzonte\n",
        "        self.alpha = alpha              # Parametro α > 0\n",
        "        self.gamma = gamma              # Parametro γ ∈ (0,1]\n",
        "\n",
        "        # Inizializzazione dei pesi\n",
        "        init_weight = np.exp((alpha * gamma / 3) * np.sqrt(T / K))\n",
        "        self.weights = np.full(K, init_weight)\n",
        "\n",
        "        self.t = 0                      # Tempo\n",
        "        self.x_t = np.ones(K) / K      # Distribuzione iniziale\n",
        "        self.a_t = None                # Azione scelta\n",
        "\n",
        "    def pull_arm(self):\n",
        "        # Passo 1: Calcolo delle probabilità p_i(t)\n",
        "        weight_sum = np.sum(self.weights)\n",
        "        self.x_t = (1 - self.gamma) * (self.weights / weight_sum) + self.gamma / self.K\n",
        "\n",
        "        # Passo 2: Seleziona l'azione\n",
        "        self.a_t = np.random.choice(self.K, p=self.x_t)\n",
        "        return self.a_t\n",
        "\n",
        "    def update(self, reward):\n",
        "        # Passo 3: reward osservato ∈ [0,1]\n",
        "        # Passo 4: Stima del reward (importance-weighted)\n",
        "        estimated_reward = np.zeros(self.K)\n",
        "        estimated_reward[self.a_t] = reward / self.x_t[self.a_t]\n",
        "\n",
        "        # Passo 5: Aggiornamento dei pesi\n",
        "        for j in range(self.K):\n",
        "            bonus = self.alpha / self.x_t[j] * np.sqrt(self.K / self.T)\n",
        "            exponent = (self.gamma / (3 * self.K)) * (estimated_reward[j] + bonus)\n",
        "            self.weights[j] *= np.exp(exponent)\n",
        "\n",
        "        self.t += 1"
      ],
      "metadata": {
        "id": "HlsmwCD3CgvV"
      },
      "id": "HlsmwCD3CgvV",
      "execution_count": null,
      "outputs": []
    },
    {
      "cell_type": "code",
      "source": [
        "import numpy as np\n",
        "\n",
        "class EXP3P_Bandit_Agent(Agent):\n",
        "    def __init__(self, N, eta, alpha, gamma):\n",
        "        self.N = N                  # Numero di azioni (bracci)\n",
        "        self.alpha = alpha            # Stabilizzazione\n",
        "        self.eta = eta              # Learning rate\n",
        "        self.gamma = gamma          # Esplorazione\n",
        "        self.weights = np.ones(N)   # Pesi iniziali\n",
        "        self.p = np.ones(N) / N     # Distribuzione iniziale\n",
        "        self.last_action = None\n",
        "        self.t = 0\n",
        "\n",
        "    def pull_arm(self):\n",
        "        self.last_action = np.random.choice(self.N, p=self.p)\n",
        "        return self.last_action\n",
        "\n",
        "    def update(self, observed_reward):\n",
        "        i = self.last_action\n",
        "        g_tilde = np.zeros(self.N)\n",
        "\n",
        "        # Solo il braccio selezionato riceve reward stimato\n",
        "        g_tilde[i] = (observed_reward + self.alpha) / self.p[i]\n",
        "\n",
        "        # Gli altri ricevono solo bonus β / p_i\n",
        "        for j in range(self.N):\n",
        "            if j != i:\n",
        "                g_tilde[j] = self.alpha / self.p[j]\n",
        "\n",
        "        # Aggiorna pesi\n",
        "        self.weights *= np.exp(self.eta * g_tilde)\n",
        "\n",
        "        # Ricalcola distribuzione con smoothing\n",
        "        W_t = np.sum(self.weights)\n",
        "        self.p = (1 - self.gamma) * (self.weights / W_t) + self.gamma / self.N\n",
        "\n",
        "        self.t += 1\n"
      ],
      "metadata": {
        "id": "Vrl5hlxCNK8D"
      },
      "id": "Vrl5hlxCNK8D",
      "execution_count": null,
      "outputs": []
    },
    {
      "cell_type": "code",
      "source": [
        "delta = 0.05\n",
        "alpha = np.sqrt( (1 / (T * K)) * np.log(K / delta) )\n",
        "gamma = (4 * K * alpha) / (3 + alpha)\n",
        "eta = gamma / (2 * K)"
      ],
      "metadata": {
        "id": "uDuuxfOxJ2Cw"
      },
      "id": "uDuuxfOxJ2Cw",
      "execution_count": 145,
      "outputs": []
    },
    {
      "cell_type": "markdown",
      "source": [
        "#### Parameters"
      ],
      "metadata": {
        "id": "edRPUchA7Vge"
      },
      "id": "edRPUchA7Vge"
    },
    {
      "cell_type": "code",
      "source": [
        "# Parameters\n",
        "T = 50000\n",
        "B = T * 75/100\n",
        "\n",
        "# Prices\n",
        "max_price = 1.1\n",
        "price_step = 0.1\n",
        "prices = np.arange(0.1, max_price, price_step)\n",
        "K = len(prices)\n",
        "# Valuation prob. distribution\n",
        "max_valuation = 1"
      ],
      "metadata": {
        "id": "HhON4-gPP-5l"
      },
      "id": "HhON4-gPP-5l",
      "execution_count": 146,
      "outputs": []
    },
    {
      "cell_type": "code",
      "source": [
        "prices"
      ],
      "metadata": {
        "id": "U6S96D7C7fNS",
        "outputId": "565abfc0-d47d-4d6c-cf70-d2441f4971a3",
        "colab": {
          "base_uri": "https://localhost:8080/"
        }
      },
      "id": "U6S96D7C7fNS",
      "execution_count": 147,
      "outputs": [
        {
          "output_type": "execute_result",
          "data": {
            "text/plain": [
              "array([0.1, 0.2, 0.3, 0.4, 0.5, 0.6, 0.7, 0.8, 0.9, 1. ])"
            ]
          },
          "metadata": {},
          "execution_count": 147
        }
      ]
    },
    {
      "cell_type": "code",
      "source": [
        "K"
      ],
      "metadata": {
        "id": "ZAFy3-MM7w3A",
        "outputId": "9192edda-3496-4260-e5ee-d4bff890181d",
        "colab": {
          "base_uri": "https://localhost:8080/"
        }
      },
      "id": "ZAFy3-MM7w3A",
      "execution_count": 148,
      "outputs": [
        {
          "output_type": "execute_result",
          "data": {
            "text/plain": [
              "10"
            ]
          },
          "metadata": {},
          "execution_count": 148
        }
      ]
    },
    {
      "cell_type": "code",
      "execution_count": 149,
      "id": "5bde0717",
      "metadata": {
        "id": "5bde0717"
      },
      "outputs": [],
      "source": [
        "learning_rate = np.sqrt(np.log(K)/(K*T))  #learning rate EXP3\n",
        "eta=1/np.sqrt(T)   #learing rate Multiplicative pacing\n",
        "\n",
        "TIME_INTERVAL = 1    #interval in which the distribution remain the same\n",
        "valuation_distributions = []\n",
        "for t in range(T):\n",
        "  if t % TIME_INTERVAL == 0:\n",
        "    distr = getDistribution()\n",
        "\n",
        "  valuation_distributions.append(distr)\n",
        "\n",
        "# selling_prob = [1 - valuation_distributions[i].cdf(prices) for i in range(T)]\n",
        "# selling_prob_mean=np.mean(selling_prob, axis=0)"
      ]
    },
    {
      "cell_type": "code",
      "source": [
        "sample_vals = [valuation_distributions[t].rvs() for t in range(T)]\n",
        "print(f\"Valore medio sample: {np.mean(sample_vals):.3f}\")\n",
        "print(f\"Valore minimo sample: {np.min(sample_vals):.3f}\")\n",
        "print(f\"Valore massimo sample: {np.max(sample_vals):.3f}\")"
      ],
      "metadata": {
        "id": "wvPJKjJqIT9U",
        "outputId": "f06cd066-6a38-4b79-e8bc-391b14e4c245",
        "colab": {
          "base_uri": "https://localhost:8080/"
        }
      },
      "id": "wvPJKjJqIT9U",
      "execution_count": 150,
      "outputs": [
        {
          "output_type": "stream",
          "name": "stdout",
          "text": [
            "Valore medio sample: 0.501\n",
            "Valore minimo sample: 0.002\n",
            "Valore massimo sample: 0.996\n"
          ]
        }
      ]
    },
    {
      "cell_type": "code",
      "source": [
        "from collections import Counter\n",
        "\n",
        "# Calcola media e varianza per ogni distribuzione\n",
        "mean_var_pairs = []\n",
        "\n",
        "for dist in valuation_distributions:\n",
        "    mean, var = dist.stats(moments='mv')\n",
        "    mean = float(np.round(mean, 4))  # arrotondo per evitare problemi di float\n",
        "    var = float(np.round(var, 4))\n",
        "    mean_var_pairs.append((mean, var))\n",
        "\n",
        "# Conta quante volte appaiono le coppie (mean, var)\n",
        "count_mv = Counter(mean_var_pairs)\n",
        "\n",
        "# Stampa solo quelle diverse (una volta ciascuna, con frequenza)\n",
        "print(\"Distribuzioni distinte (media, varianza) e frequenze:\")\n",
        "for (mean, var), count in sorted(count_mv.items()):\n",
        "    print(f\"mean={mean:.4f}, var={var:.4f} → {count} volte\")\n",
        "\n",
        "means = [m for m, v in mean_var_pairs]\n",
        "\n",
        "print(f\"Valore medio sample: {np.mean(means):.3f}\")\n",
        "print(f\"Valore minimo sample: {np.min(means):.3f}\")\n",
        "print(f\"Valore massimo sample: {np.max(means):.3f}\")"
      ],
      "metadata": {
        "id": "gsGYwbch2Zah",
        "outputId": "d74994e7-84ee-4af9-f147-a3855ac111d9",
        "colab": {
          "base_uri": "https://localhost:8080/"
        }
      },
      "id": "gsGYwbch2Zah",
      "execution_count": 34,
      "outputs": [
        {
          "output_type": "stream",
          "name": "stdout",
          "text": [
            "Distribuzioni distinte (media, varianza) e frequenze:\n",
            "mean=0.2222, var=0.0173 → 1420 volte\n",
            "mean=0.2500, var=0.0208 → 1399 volte\n",
            "mean=0.2857, var=0.0255 → 1374 volte\n",
            "mean=0.3000, var=0.0191 → 1481 volte\n",
            "mean=0.3333, var=0.0222 → 1393 volte\n",
            "mean=0.3333, var=0.0317 → 1343 volte\n",
            "mean=0.3636, var=0.0193 → 1384 volte\n",
            "mean=0.3750, var=0.0260 → 1365 volte\n",
            "mean=0.4000, var=0.0218 → 1368 volte\n",
            "mean=0.4000, var=0.0400 → 1356 volte\n",
            "mean=0.4167, var=0.0187 → 1362 volte\n",
            "mean=0.4286, var=0.0306 → 1461 volte\n",
            "mean=0.4444, var=0.0247 → 1371 volte\n",
            "mean=0.4545, var=0.0207 → 1368 volte\n",
            "mean=0.4615, var=0.0178 → 1369 volte\n",
            "mean=0.5000, var=0.0167 → 1349 volte\n",
            "mean=0.5000, var=0.0192 → 1391 volte\n",
            "mean=0.5000, var=0.0227 → 1401 volte\n",
            "mean=0.5000, var=0.0278 → 1378 volte\n",
            "mean=0.5000, var=0.0357 → 1432 volte\n",
            "mean=0.5000, var=0.0500 → 1405 volte\n",
            "mean=0.5385, var=0.0178 → 1389 volte\n",
            "mean=0.5455, var=0.0207 → 1363 volte\n",
            "mean=0.5556, var=0.0247 → 1349 volte\n",
            "mean=0.5714, var=0.0306 → 1333 volte\n",
            "mean=0.5833, var=0.0187 → 1468 volte\n",
            "mean=0.6000, var=0.0218 → 1396 volte\n",
            "mean=0.6000, var=0.0400 → 1315 volte\n",
            "mean=0.6250, var=0.0260 → 1337 volte\n",
            "mean=0.6364, var=0.0193 → 1357 volte\n",
            "mean=0.6667, var=0.0222 → 1385 volte\n",
            "mean=0.6667, var=0.0317 → 1419 volte\n",
            "mean=0.7000, var=0.0191 → 1469 volte\n",
            "mean=0.7143, var=0.0255 → 1378 volte\n",
            "mean=0.7500, var=0.0208 → 1399 volte\n",
            "mean=0.7778, var=0.0173 → 1473 volte\n",
            "Valore medio sample: 0.500\n",
            "Valore minimo sample: 0.222\n",
            "Valore massimo sample: 0.778\n"
          ]
        }
      ]
    },
    {
      "cell_type": "code",
      "source": [
        "#print of the distributions (only the different values)\n",
        "\n",
        "means = []\n",
        "vars_ = []\n",
        "\n",
        "for i, dist in enumerate(valuation_distributions):\n",
        "    mean, var = dist.stats(moments='mv')\n",
        "    means.append(mean)\n",
        "    vars_.append(var)\n",
        "printed = set()\n",
        "for i, (m, v) in enumerate(zip(means, vars_)):\n",
        "    key = (round(float(m), 6), round(float(v), 6))  # Arrotonda per evitare problemi di floating point\n",
        "    if key not in printed:\n",
        "        print(f\"Distribuzione {i}: mean = {m:.3f}, var = {v:.3f}\")\n",
        "        printed.add(key)"
      ],
      "metadata": {
        "id": "lZrRj_mxUrhl",
        "outputId": "eecbca79-a953-41d0-f195-a4a0b1a3c7ea",
        "colab": {
          "base_uri": "https://localhost:8080/"
        }
      },
      "id": "lZrRj_mxUrhl",
      "execution_count": 35,
      "outputs": [
        {
          "output_type": "stream",
          "name": "stdout",
          "text": [
            "Distribuzione 0: mean = 0.500, var = 0.028\n",
            "Distribuzione 1: mean = 0.375, var = 0.026\n",
            "Distribuzione 2: mean = 0.300, var = 0.019\n",
            "Distribuzione 3: mean = 0.500, var = 0.019\n",
            "Distribuzione 4: mean = 0.364, var = 0.019\n",
            "Distribuzione 6: mean = 0.462, var = 0.018\n",
            "Distribuzione 7: mean = 0.667, var = 0.032\n",
            "Distribuzione 8: mean = 0.571, var = 0.031\n",
            "Distribuzione 9: mean = 0.222, var = 0.017\n",
            "Distribuzione 10: mean = 0.667, var = 0.022\n",
            "Distribuzione 12: mean = 0.778, var = 0.017\n",
            "Distribuzione 13: mean = 0.500, var = 0.017\n",
            "Distribuzione 14: mean = 0.500, var = 0.036\n",
            "Distribuzione 15: mean = 0.545, var = 0.021\n",
            "Distribuzione 17: mean = 0.583, var = 0.019\n",
            "Distribuzione 20: mean = 0.600, var = 0.040\n",
            "Distribuzione 21: mean = 0.636, var = 0.019\n",
            "Distribuzione 22: mean = 0.250, var = 0.021\n",
            "Distribuzione 25: mean = 0.400, var = 0.040\n",
            "Distribuzione 28: mean = 0.286, var = 0.026\n",
            "Distribuzione 29: mean = 0.417, var = 0.019\n",
            "Distribuzione 34: mean = 0.714, var = 0.026\n",
            "Distribuzione 35: mean = 0.538, var = 0.018\n",
            "Distribuzione 36: mean = 0.625, var = 0.026\n",
            "Distribuzione 38: mean = 0.400, var = 0.022\n",
            "Distribuzione 40: mean = 0.600, var = 0.022\n",
            "Distribuzione 58: mean = 0.455, var = 0.021\n",
            "Distribuzione 60: mean = 0.556, var = 0.025\n",
            "Distribuzione 61: mean = 0.500, var = 0.050\n",
            "Distribuzione 67: mean = 0.429, var = 0.031\n",
            "Distribuzione 73: mean = 0.333, var = 0.022\n",
            "Distribuzione 74: mean = 0.444, var = 0.025\n",
            "Distribuzione 80: mean = 0.750, var = 0.021\n",
            "Distribuzione 85: mean = 0.333, var = 0.032\n",
            "Distribuzione 132: mean = 0.700, var = 0.019\n",
            "Distribuzione 152: mean = 0.500, var = 0.023\n"
          ]
        }
      ]
    },
    {
      "cell_type": "code",
      "source": [
        "prices_arr = []\n",
        "rewards = []\n",
        "budget_per_trial =[]\n",
        "\n",
        "residual_budget = []\n",
        "\n",
        "# Run clairvoyant\n",
        "clairvoyant = SingleProductHighltyNonStationaryClairvoyant(T, B, prices, valuation_distributions)\n",
        "expected_clairvoyant_utilities = clairvoyant.run()\n",
        "\n",
        "n_trials = 5\n",
        "regret_per_trial = []\n",
        "for trial in range(n_trials):\n",
        "\n",
        "  # Define environment and agent\n",
        "  env = SingleProductHighlyNonStationaryEnvironment(T, valuation_distributions)\n",
        "  multiplicative_pacing_agent = FFMultiplicativePacingAgent(prices, B, T, eta, learning_rate)\n",
        "  count = 0\n",
        "  agent_rewards = []\n",
        "  budget=[]\n",
        "  for t in range(T):\n",
        "    if(count>=B):\n",
        "      r_t = 0\n",
        "      agent_rewards.append(r_t)\n",
        "    else:\n",
        "      # This returns the price index\n",
        "      #pi_t = multiplicative_pacing_agent.pull_arm()\n",
        "      # Get the actual price\n",
        "      p_t = multiplicative_pacing_agent.pull_arm()\n",
        "      # Get reward\n",
        "      r_t = env.round(p_t)\n",
        "\n",
        "      prices_arr.append(p_t)\n",
        "      rewards.append(r_t)\n",
        "\n",
        "      # Update agent state\n",
        "      multiplicative_pacing_agent.update(r_t)\n",
        "\n",
        "      agent_rewards.append(r_t)\n",
        "      if(r_t > 0):\n",
        "        count = count + 1\n",
        "    budget.append(multiplicative_pacing_agent.get_budget())\n",
        "  agent_rewards = np.array(agent_rewards)\n",
        "  cumulative_regret = np.cumsum(expected_clairvoyant_utilities - agent_rewards)\n",
        "  regret_per_trial.append(cumulative_regret)\n",
        "  budget_per_trial.append(budget)\n",
        "\n",
        "  residual_budget.append(multiplicative_pacing_agent.get_budget())\n",
        "\n",
        "regret_per_trial = np.array(regret_per_trial)"
      ],
      "metadata": {
        "id": "OEAKPazvQZqZ"
      },
      "id": "OEAKPazvQZqZ",
      "execution_count": 168,
      "outputs": []
    },
    {
      "cell_type": "code",
      "source": [
        "from collections import Counter\n",
        "\n",
        "price_counts = Counter(prices_arr)\n",
        "\n",
        "print(\"Frequenze dei prezzi scelti:\")\n",
        "for price in sorted(price_counts):\n",
        "    print(f\"Prezzo {price:.2f}: scelto {price_counts[price]} volte\")"
      ],
      "metadata": {
        "id": "6TiLyS6YA3Pm",
        "outputId": "02eda8f4-b53e-4981-e932-aee45c50895c",
        "colab": {
          "base_uri": "https://localhost:8080/"
        }
      },
      "id": "6TiLyS6YA3Pm",
      "execution_count": 169,
      "outputs": [
        {
          "output_type": "stream",
          "name": "stdout",
          "text": [
            "Frequenze dei prezzi scelti:\n",
            "Prezzo 0.10: scelto 5919 volte\n",
            "Prezzo 0.20: scelto 6790 volte\n",
            "Prezzo 0.30: scelto 36560 volte\n",
            "Prezzo 0.40: scelto 119084 volte\n",
            "Prezzo 0.50: scelto 39778 volte\n",
            "Prezzo 0.60: scelto 22093 volte\n",
            "Prezzo 0.70: scelto 7261 volte\n",
            "Prezzo 0.80: scelto 4130 volte\n",
            "Prezzo 0.90: scelto 4673 volte\n",
            "Prezzo 1.00: scelto 3712 volte\n"
          ]
        }
      ]
    },
    {
      "cell_type": "code",
      "source": [
        "import matplotlib.pyplot as plt\n",
        "\n",
        "# Ordina per prezzo crescente\n",
        "sorted_prices = sorted(price_counts)\n",
        "counts = [price_counts[p] for p in sorted_prices]\n",
        "\n",
        "plt.figure(figsize=(10, 4))\n",
        "plt.bar([f\"{p:.2f}\" for p in sorted_prices], counts)\n",
        "plt.xlabel(\"Prezzo\")\n",
        "plt.ylabel(\"Numero di volte scelto\")\n",
        "plt.title(\"Distribuzione dei prezzi scelti (su tutti i trial)\")\n",
        "plt.grid(True)\n",
        "plt.tight_layout()\n",
        "plt.show()\n"
      ],
      "metadata": {
        "id": "_XX_CXDHBFej",
        "outputId": "971e9109-5d1d-48e7-ce29-adc3d9fa75d2",
        "colab": {
          "base_uri": "https://localhost:8080/",
          "height": 407
        }
      },
      "id": "_XX_CXDHBFej",
      "execution_count": 135,
      "outputs": [
        {
          "output_type": "display_data",
          "data": {
            "text/plain": [
              "<Figure size 1000x400 with 1 Axes>"
            ],
            "image/png": "[encoded data removed]"
          },
          "metadata": {}
        }
      ]
    },
    {
      "cell_type": "code",
      "source": [
        "prices_arr[:50]"
      ],
      "metadata": {
        "colab": {
          "base_uri": "https://localhost:8080/"
        },
        "id": "bdVBy1tmSz9z",
        "outputId": "a493985f-8e7d-43c5-8e97-7d92f727c688"
      },
      "id": "bdVBy1tmSz9z",
      "execution_count": 112,
      "outputs": [
        {
          "output_type": "execute_result",
          "data": {
            "text/plain": [
              "[np.float64(0.2),\n",
              " np.float64(0.4),\n",
              " np.float64(0.7000000000000001),\n",
              " np.float64(0.2),\n",
              " np.float64(0.4),\n",
              " np.float64(0.6),\n",
              " np.float64(0.7000000000000001),\n",
              " np.float64(0.6),\n",
              " np.float64(0.6),\n",
              " np.float64(0.9),\n",
              " np.float64(0.6),\n",
              " np.float64(0.4),\n",
              " np.float64(0.5),\n",
              " np.float64(0.5),\n",
              " np.float64(0.8),\n",
              " np.float64(0.8),\n",
              " np.float64(0.8),\n",
              " np.float64(0.30000000000000004),\n",
              " np.float64(0.2),\n",
              " np.float64(0.1),\n",
              " np.float64(1.0),\n",
              " np.float64(0.30000000000000004),\n",
              " np.float64(0.8),\n",
              " np.float64(0.4),\n",
              " np.float64(0.9),\n",
              " np.float64(0.9),\n",
              " np.float64(0.5),\n",
              " np.float64(0.30000000000000004),\n",
              " np.float64(0.4),\n",
              " np.float64(0.9),\n",
              " np.float64(1.0),\n",
              " np.float64(0.8),\n",
              " np.float64(0.2),\n",
              " np.float64(0.6),\n",
              " np.float64(0.8),\n",
              " np.float64(0.1),\n",
              " np.float64(1.0),\n",
              " np.float64(0.9),\n",
              " np.float64(0.8),\n",
              " np.float64(1.0),\n",
              " np.float64(0.1),\n",
              " np.float64(0.1),\n",
              " np.float64(0.1),\n",
              " np.float64(0.2),\n",
              " np.float64(0.9),\n",
              " np.float64(0.4),\n",
              " np.float64(0.4),\n",
              " np.float64(0.4),\n",
              " np.float64(0.1),\n",
              " np.float64(0.6)]"
            ]
          },
          "metadata": {},
          "execution_count": 112
        }
      ]
    },
    {
      "cell_type": "code",
      "source": [
        "prices_arr[-50 : ]"
      ],
      "metadata": {
        "id": "OKK4_ij0_euP",
        "outputId": "ed4adcaa-0f5b-4a2a-ab96-a796df99553a",
        "colab": {
          "base_uri": "https://localhost:8080/"
        }
      },
      "id": "OKK4_ij0_euP",
      "execution_count": 53,
      "outputs": [
        {
          "output_type": "execute_result",
          "data": {
            "text/plain": [
              "[np.float64(0.4),\n",
              " np.float64(0.4),\n",
              " np.float64(0.4),\n",
              " np.float64(0.4),\n",
              " np.float64(0.4),\n",
              " np.float64(0.4),\n",
              " np.float64(0.4),\n",
              " np.float64(0.4),\n",
              " np.float64(0.4),\n",
              " np.float64(0.30000000000000004),\n",
              " np.float64(0.30000000000000004),\n",
              " np.float64(0.30000000000000004),\n",
              " np.float64(0.4),\n",
              " np.float64(0.2),\n",
              " np.float64(0.4),\n",
              " np.float64(0.30000000000000004),\n",
              " np.float64(0.30000000000000004),\n",
              " np.float64(0.4),\n",
              " np.float64(0.30000000000000004),\n",
              " np.float64(0.5),\n",
              " np.float64(0.4),\n",
              " np.float64(0.4),\n",
              " np.float64(0.4),\n",
              " np.float64(0.4),\n",
              " np.float64(0.4),\n",
              " np.float64(0.4),\n",
              " np.float64(0.4),\n",
              " np.float64(0.4),\n",
              " np.float64(0.30000000000000004),\n",
              " np.float64(0.4),\n",
              " np.float64(0.30000000000000004),\n",
              " np.float64(0.4),\n",
              " np.float64(0.4),\n",
              " np.float64(0.30000000000000004),\n",
              " np.float64(0.4),\n",
              " np.float64(0.4),\n",
              " np.float64(0.4),\n",
              " np.float64(0.4),\n",
              " np.float64(0.4),\n",
              " np.float64(0.30000000000000004),\n",
              " np.float64(0.4),\n",
              " np.float64(0.4),\n",
              " np.float64(0.4),\n",
              " np.float64(0.4),\n",
              " np.float64(0.2),\n",
              " np.float64(0.4),\n",
              " np.float64(0.4),\n",
              " np.float64(0.4),\n",
              " np.float64(0.30000000000000004),\n",
              " np.float64(0.4)]"
            ]
          },
          "metadata": {},
          "execution_count": 53
        }
      ]
    },
    {
      "cell_type": "code",
      "source": [
        "set(prices_arr)"
      ],
      "metadata": {
        "colab": {
          "base_uri": "https://localhost:8080/"
        },
        "id": "Obkl9A2MTeg1",
        "outputId": "aad44016-4e1d-4bd6-b927-dd823e14d247"
      },
      "id": "Obkl9A2MTeg1",
      "execution_count": 40,
      "outputs": [
        {
          "output_type": "execute_result",
          "data": {
            "text/plain": [
              "{np.float64(0.1),\n",
              " np.float64(0.2),\n",
              " np.float64(0.30000000000000004),\n",
              " np.float64(0.4),\n",
              " np.float64(0.5),\n",
              " np.float64(0.6),\n",
              " np.float64(0.7000000000000001),\n",
              " np.float64(0.8),\n",
              " np.float64(0.9),\n",
              " np.float64(1.0)}"
            ]
          },
          "metadata": {},
          "execution_count": 40
        }
      ]
    },
    {
      "cell_type": "code",
      "source": [
        "average_regret = regret_per_trial.mean(axis=0) # mean\n",
        "regret_sd = regret_per_trial.std(axis=0) # standard deviation\n",
        "average_budget = np.array(budget_per_trial).mean(axis=0)\n",
        "budget_sd = np.array(budget_per_trial).std(axis=0)\n",
        "\n",
        "plt.plot(np.arange(T), average_regret, label=\"Average\")\n",
        "plt.fill_between(\n",
        "    np.arange(T),\n",
        "    average_regret-regret_sd/np.sqrt(n_trials),\n",
        "    average_regret+regret_sd/np.sqrt(n_trials),\n",
        "    alpha=0.3,\n",
        "    label=\"Uncertainty\"\n",
        ")\n"
      ],
      "metadata": {
        "id": "NUuBOoeHWAUf",
        "outputId": "31192cf2-aea6-43e2-ad55-d37bab52a2e9",
        "colab": {
          "base_uri": "https://localhost:8080/",
          "height": 448
        }
      },
      "id": "NUuBOoeHWAUf",
      "execution_count": 170,
      "outputs": [
        {
          "output_type": "execute_result",
          "data": {
            "text/plain": [
              "<matplotlib.collections.FillBetweenPolyCollection at 0x7ee4477b7390>"
            ]
          },
          "metadata": {},
          "execution_count": 170
        },
        {
          "output_type": "display_data",
          "data": {
            "text/plain": [
              "<Figure size 640x480 with 1 Axes>"
            ],
            "image/png": "[encoded data removed]"
          },
          "metadata": {}
        }
      ]
    },
    {
      "cell_type": "code",
      "source": [
        "plt.xlabel(\"$t$\")\n",
        "plt.legend()\n",
        "\n",
        "plt.plot(np.arange(T), average_budget, label=\"Average\")\n",
        "plt.fill_between(\n",
        "    np.arange(T),\n",
        "    average_budget-budget_sd/np.sqrt(n_trials),\n",
        "    average_budget+budget_sd/np.sqrt(n_trials),\n",
        "    alpha=0.3,\n",
        "    label=\"Uncertainty\"\n",
        ")\n",
        "plt.xlabel(\"$t$\")\n",
        "plt.legend()"
      ],
      "metadata": {
        "id": "56Ijw941D9ST",
        "outputId": "dde7f941-dd85-4039-fa4d-7da9f0a0b4cd",
        "colab": {
          "base_uri": "https://localhost:8080/",
          "height": 523
        }
      },
      "id": "56Ijw941D9ST",
      "execution_count": 171,
      "outputs": [
        {
          "output_type": "stream",
          "name": "stderr",
          "text": [
            "/tmp/ipython-input-171-2470661149.py:2: UserWarning: No artists with labels found to put in legend.  Note that artists whose label start with an underscore are ignored when legend() is called with no argument.\n",
            "  plt.legend()\n"
          ]
        },
        {
          "output_type": "execute_result",
          "data": {
            "text/plain": [
              "<matplotlib.legend.Legend at 0x7ee484741110>"
            ]
          },
          "metadata": {},
          "execution_count": 171
        },
        {
          "output_type": "display_data",
          "data": {
            "text/plain": [
              "<Figure size 640x480 with 1 Axes>"
            ],
            "image/png": "[encoded data removed]"
          },
          "metadata": {}
        }
      ]
    },
    {
      "cell_type": "code",
      "source": [
        "average_regret = regret_per_trial.mean(axis=0)  # media\n",
        "regret_sd = regret_per_trial.std(axis=0)        # deviazione standard\n",
        "\n",
        "t = np.arange(1, T+1)  # inizia da 1 per evitare t^{2/3} = 0^{2/3} = 0\n",
        "regret_theory = (900 / np.sqrt(20000*np.log(K))) * np.sqrt(t*np.log(K))\n",
        "\n",
        "plt.plot(t, average_regret, label=\"Average\")\n",
        "plt.fill_between(\n",
        "    t,\n",
        "    average_regret - regret_sd / np.sqrt(n_trials),\n",
        "    average_regret + regret_sd / np.sqrt(n_trials),\n",
        "    alpha=0.3,\n",
        "    label=\"Uncertainty\"\n",
        ")\n",
        "plt.plot(t, regret_theory, label=r\"$(\\sqrt{Tlog(K))}$\", linestyle='--', color='red')\n",
        "\n",
        "plt.xlabel(\"$t$\")\n",
        "plt.ylabel(\"Regret\")\n",
        "plt.legend()\n",
        "plt.grid(True)\n",
        "plt.show()"
      ],
      "metadata": {
        "id": "Rsuvwyr8WL2o",
        "outputId": "3be681b6-6729-4667-dc3e-49c1d4fb8f23",
        "colab": {
          "base_uri": "https://localhost:8080/",
          "height": 449
        }
      },
      "id": "Rsuvwyr8WL2o",
      "execution_count": 172,
      "outputs": [
        {
          "output_type": "display_data",
          "data": {
            "text/plain": [
              "<Figure size 640x480 with 1 Axes>"
            ],
            "image/png": "[encoded data removed]"
          },
          "metadata": {}
        }
      ]
    },
    {
      "cell_type": "code",
      "source": [
        "diff = average_regret / t\n",
        "plt.plot(t, diff, label=\"andament\")"
      ],
      "metadata": {
        "colab": {
          "base_uri": "https://localhost:8080/",
          "height": 448
        },
        "id": "_kE-4VZzbDMN",
        "outputId": "6721c522-0edc-456c-c7de-fd77c0a4dd5d"
      },
      "id": "_kE-4VZzbDMN",
      "execution_count": 173,
      "outputs": [
        {
          "output_type": "execute_result",
          "data": {
            "text/plain": [
              "[<matplotlib.lines.Line2D at 0x7ee484bfd6d0>]"
            ]
          },
          "metadata": {},
          "execution_count": 173
        },
        {
          "output_type": "display_data",
          "data": {
            "text/plain": [
              "<Figure size 640x480 with 1 Axes>"
            ],
            "image/png": "[encoded data removed]"
          },
          "metadata": {}
        }
      ]
    },
    {
      "cell_type": "code",
      "source": [
        "np.array(residual_budget)"
      ],
      "metadata": {
        "colab": {
          "base_uri": "https://localhost:8080/"
        },
        "id": "CHhf9MsOrHrw",
        "outputId": "e1110009-6bf4-4722-9632-56b6ae745d75"
      },
      "id": "CHhf9MsOrHrw",
      "execution_count": 174,
      "outputs": [
        {
          "output_type": "execute_result",
          "data": {
            "text/plain": [
              "array([6437., 8076., 7832., 8959., 6257.])"
            ]
          },
          "metadata": {},
          "execution_count": 174
        }
      ]
    },
    {
      "cell_type": "code",
      "source": [
        "residual_budget_mean = np.array(residual_budget).mean()\n",
        "print(np.sqrt(np.var(residual_budget)))\n",
        "print(residual_budget_mean)\n",
        "\n",
        "print(residual_budget_mean / B)"
      ],
      "metadata": {
        "colab": {
          "base_uri": "https://localhost:8080/"
        },
        "id": "CihFvvm7XgRn",
        "outputId": "0072268e-5134-475c-b234-6ec2a5caa6de"
      },
      "id": "CihFvvm7XgRn",
      "execution_count": 175,
      "outputs": [
        {
          "output_type": "stream",
          "name": "stdout",
          "text": [
            "1024.2025971457015\n",
            "7512.2\n",
            "0.20032533333333333\n"
          ]
        }
      ]
    },
    {
      "cell_type": "code",
      "source": [
        "multiplicative_pacing_agent.lambdas()"
      ],
      "metadata": {
        "colab": {
          "base_uri": "https://localhost:8080/"
        },
        "id": "xyGoHNAHLnb7",
        "outputId": "19251647-dc6e-45cd-cbf0-1bd0bf68bcb5"
      },
      "id": "xyGoHNAHLnb7",
      "execution_count": 47,
      "outputs": [
        {
          "output_type": "execute_result",
          "data": {
            "text/plain": [
              "[(np.float64(0.4444444444444444), 1),\n",
              " (np.float64(0.43438213854569535), 0),\n",
              " (np.float64(0.4243198326469463), 0),\n",
              " (np.float64(0.4187296627031968), 1),\n",
              " (np.float64(0.4086673568044477), 0),\n",
              " (np.float64(0.39860505090569864), 0),\n",
              " (np.float64(0.3885427450069496), 0),\n",
              " (np.float64(0.3829525750632001), 1),\n",
              " (np.float64(0.3773624051194506), 1),\n",
              " (np.float64(0.3673000992207015), 0),\n",
              " (np.float64(0.35723779332195243), 0),\n",
              " (np.float64(0.35164762337820293), 1),\n",
              " (np.float64(0.34158531747945386), 0),\n",
              " (np.float64(0.3315230115807048), 0),\n",
              " (np.float64(0.3259328416369553), 1),\n",
              " (np.float64(0.3158705357382062), 0),\n",
              " (np.float64(0.30580822983945716), 0),\n",
              " (np.float64(0.2957459239407081), 0),\n",
              " (np.float64(0.285683618041959), 0),\n",
              " (np.float64(0.2800934480982095), 1),\n",
              " (np.float64(0.27003114219946045), 0),\n",
              " (np.float64(0.26444097225571095), 1),\n",
              " (np.float64(0.2543786663569619), 0),\n",
              " (np.float64(0.2487884964132124), 1),\n",
              " (np.float64(0.23872619051446337), 0),\n",
              " (np.float64(0.2286638846157143), 0),\n",
              " (np.float64(0.21860157871696523), 0),\n",
              " (np.float64(0.20853927281821616), 0),\n",
              " (np.float64(0.1984769669194671), 0),\n",
              " (np.float64(0.18841466102071802), 0),\n",
              " (np.float64(0.18282449107696855), 1),\n",
              " (np.float64(0.1727621851782195), 0),\n",
              " (np.float64(0.16717201523447003), 1),\n",
              " (np.float64(0.16158184529072056), 1),\n",
              " (np.float64(0.1559916753469711), 1),\n",
              " (np.float64(0.1504015054032216), 1),\n",
              " (np.float64(0.14033919950447254), 0),\n",
              " (np.float64(0.13027689360572348), 0),\n",
              " (np.float64(0.124686723661974), 1),\n",
              " (np.float64(0.11909655371822453), 1),\n",
              " (np.float64(0.11350638377447506), 1),\n",
              " (np.float64(0.103444077875726), 0),\n",
              " (np.float64(0.09338177197697695), 0),\n",
              " (np.float64(0.08331946607822789), 0),\n",
              " (np.float64(0.07325716017947884), 0),\n",
              " (np.float64(0.06319485428072978), 0),\n",
              " (np.float64(0.053132548381980726), 0),\n",
              " (np.float64(0.04754237843823125), 1),\n",
              " (np.float64(0.0374800725394822), 0),\n",
              " (np.float64(0.027417766640733143), 0),\n",
              " (np.float64(0.02182759669698367), 1),\n",
              " (np.float64(0.016237426753234196), 1),\n",
              " (np.float64(0.006175120854485142), 0),\n",
              " (np.float64(0.0005849509107356664), 1),\n",
              " (np.float64(0.0), 0),\n",
              " (np.float64(0.0), 1),\n",
              " (np.float64(0.0), 0),\n",
              " (np.float64(0.0), 0),\n",
              " (np.float64(0.0), 1),\n",
              " (np.float64(0.0), 0),\n",
              " (np.float64(0.0), 1),\n",
              " (np.float64(0.0), 1),\n",
              " (np.float64(0.0), 0),\n",
              " (np.float64(0.0), 1),\n",
              " (np.float64(0.0), 0),\n",
              " (np.float64(0.0), 0),\n",
              " (np.float64(0.0), 1),\n",
              " (np.float64(0.0), 1),\n",
              " (np.float64(0.0), 0),\n",
              " (np.float64(0.0), 0),\n",
              " (np.float64(0.0), 1),\n",
              " (np.float64(0.0), 0),\n",
              " (np.float64(0.0), 0),\n",
              " (np.float64(0.0), 0),\n",
              " (np.float64(0.0), 1),\n",
              " (np.float64(0.0), 0),\n",
              " (np.float64(0.0), 1),\n",
              " (np.float64(0.0), 0),\n",
              " (np.float64(0.0), 1),\n",
              " (np.float64(0.0), 0),\n",
              " (np.float64(0.0), 1),\n",
              " (np.float64(0.0), 0),\n",
              " (np.float64(0.0), 1),\n",
              " (np.float64(0.0), 0),\n",
              " (np.float64(0.0), 0),\n",
              " (np.float64(0.0), 1),\n",
              " (np.float64(0.0), 1),\n",
              " (np.float64(0.0), 0),\n",
              " (np.float64(0.0), 0),\n",
              " (np.float64(0.0), 0),\n",
              " (np.float64(0.0), 0),\n",
              " (np.float64(0.0), 0),\n",
              " (np.float64(0.0), 0),\n",
              " (np.float64(0.0), 0),\n",
              " (np.float64(0.0), 0),\n",
              " (np.float64(0.0), 1),\n",
              " (np.float64(0.0), 0),\n",
              " (np.float64(0.0), 1),\n",
              " (np.float64(0.0), 1),\n",
              " (np.float64(0.0), 0),\n",
              " (np.float64(0.0), 0),\n",
              " (np.float64(0.0), 0),\n",
              " (np.float64(0.0), 0),\n",
              " (np.float64(0.0), 1),\n",
              " (np.float64(0.0), 0),\n",
              " (np.float64(0.0), 0),\n",
              " (np.float64(0.0), 0),\n",
              " (np.float64(0.0), 1),\n",
              " (np.float64(0.0), 1),\n",
              " (np.float64(0.0), 0),\n",
              " (np.float64(0.0), 0),\n",
              " (np.float64(0.0), 1),\n",
              " (np.float64(0.0), 1),\n",
              " (np.float64(0.0), 0),\n",
              " (np.float64(0.0), 0),\n",
              " (np.float64(0.0), 0),\n",
              " (np.float64(0.0), 1),\n",
              " (np.float64(0.0), 0),\n",
              " (np.float64(0.0), 1),\n",
              " (np.float64(0.0), 0),\n",
              " (np.float64(0.0), 0),\n",
              " (np.float64(0.0), 1),\n",
              " (np.float64(0.0), 1),\n",
              " (np.float64(0.0), 0),\n",
              " (np.float64(0.0), 0),\n",
              " (np.float64(0.0), 0),\n",
              " (np.float64(0.0), 1),\n",
              " (np.float64(0.0), 1),\n",
              " (np.float64(0.0), 0),\n",
              " (np.float64(0.0), 0),\n",
              " (np.float64(0.0), 0),\n",
              " (np.float64(0.0), 1),\n",
              " (np.float64(0.0), 1),\n",
              " (np.float64(0.0), 1),\n",
              " (np.float64(0.0), 1),\n",
              " (np.float64(0.0), 0),\n",
              " (np.float64(0.0), 1),\n",
              " (np.float64(0.0), 0),\n",
              " (np.float64(0.0), 1),\n",
              " (np.float64(0.0), 0),\n",
              " (np.float64(0.0), 1),\n",
              " (np.float64(0.0), 1),\n",
              " (np.float64(0.0), 0),\n",
              " (np.float64(0.0), 0),\n",
              " (np.float64(0.0), 0),\n",
              " (np.float64(0.0), 1),\n",
              " (np.float64(0.0), 0),\n",
              " (np.float64(0.0), 0),\n",
              " (np.float64(0.0), 0),\n",
              " (np.float64(0.0), 0),\n",
              " (np.float64(0.0), 0),\n",
              " (np.float64(0.0), 0),\n",
              " (np.float64(0.0), 1),\n",
              " (np.float64(0.0), 1),\n",
              " (np.float64(0.0), 1),\n",
              " (np.float64(0.0), 0),\n",
              " (np.float64(0.0), 0),\n",
              " (np.float64(0.0), 0),\n",
              " (np.float64(0.0), 0),\n",
              " (np.float64(0.0), 1),\n",
              " (np.float64(0.0), 0),\n",
              " (np.float64(0.0), 1),\n",
              " (np.float64(0.0), 0),\n",
              " (np.float64(0.0), 1),\n",
              " (np.float64(0.0), 0),\n",
              " (np.float64(0.0), 1),\n",
              " (np.float64(0.0), 1),\n",
              " (np.float64(0.0), 0),\n",
              " (np.float64(0.0), 0),\n",
              " (np.float64(0.0), 0),\n",
              " (np.float64(0.0), 0),\n",
              " (np.float64(0.0), 0),\n",
              " (np.float64(0.0), 1),\n",
              " (np.float64(0.0), 0),\n",
              " (np.float64(0.0), 0),\n",
              " (np.float64(0.0), 0),\n",
              " (np.float64(0.0), 0),\n",
              " (np.float64(0.0), 1),\n",
              " (np.float64(0.0), 0),\n",
              " (np.float64(0.0), 1),\n",
              " (np.float64(0.0), 1),\n",
              " (np.float64(0.0), 0),\n",
              " (np.float64(0.0), 1),\n",
              " (np.float64(0.0), 1),\n",
              " (np.float64(0.0), 0),\n",
              " (np.float64(0.0), 1),\n",
              " (np.float64(0.0), 1),\n",
              " (np.float64(0.0), 0),\n",
              " (np.float64(0.0), 1),\n",
              " (np.float64(0.0), 1),\n",
              " (np.float64(0.0), 1),\n",
              " (np.float64(0.0), 0),\n",
              " (np.float64(0.0), 1),\n",
              " (np.float64(0.0), 1),\n",
              " (np.float64(0.0), 0),\n",
              " (np.float64(0.0), 0),\n",
              " (np.float64(0.0), 1),\n",
              " (np.float64(0.0), 1),\n",
              " (np.float64(0.0), 1),\n",
              " (np.float64(0.0), 1),\n",
              " (np.float64(0.0), 0),\n",
              " (np.float64(0.0), 0),\n",
              " (np.float64(0.0), 0),\n",
              " (np.float64(0.0), 1),\n",
              " (np.float64(0.0), 0),\n",
              " (np.float64(0.0), 0),\n",
              " (np.float64(0.0), 1),\n",
              " (np.float64(0.0), 0),\n",
              " (np.float64(0.0), 0),\n",
              " (np.float64(0.0), 1),\n",
              " (np.float64(0.0), 1),\n",
              " (np.float64(0.0), 1),\n",
              " (np.float64(0.0), 1),\n",
              " (np.float64(0.0), 1),\n",
              " (np.float64(0.0), 1),\n",
              " (np.float64(0.0), 0),\n",
              " (np.float64(0.0), 1),\n",
              " (np.float64(0.0), 0),\n",
              " (np.float64(0.0), 1),\n",
              " (np.float64(0.0), 0),\n",
              " (np.float64(0.0), 0),\n",
              " (np.float64(0.0), 1),\n",
              " (np.float64(0.0), 1),\n",
              " (np.float64(0.0), 1),\n",
              " (np.float64(0.0), 1),\n",
              " (np.float64(0.0), 0),\n",
              " (np.float64(0.0), 0),\n",
              " (np.float64(0.0), 0),\n",
              " (np.float64(0.0), 1),\n",
              " (np.float64(0.0), 1),\n",
              " (np.float64(0.0), 0),\n",
              " (np.float64(0.0), 0),\n",
              " (np.float64(0.0), 1),\n",
              " (np.float64(0.0), 1),\n",
              " (np.float64(0.0), 0),\n",
              " (np.float64(0.0), 0),\n",
              " (np.float64(0.0), 0),\n",
              " (np.float64(0.0), 1),\n",
              " (np.float64(0.0), 1),\n",
              " (np.float64(0.0), 0),\n",
              " (np.float64(0.0), 1),\n",
              " (np.float64(0.0), 0),\n",
              " (np.float64(0.0), 1),\n",
              " (np.float64(0.0), 1),\n",
              " (np.float64(0.0), 1),\n",
              " (np.float64(0.0), 0),\n",
              " (np.float64(0.0), 1),\n",
              " (np.float64(0.0), 0),\n",
              " (np.float64(0.0), 1),\n",
              " (np.float64(0.0), 0),\n",
              " (np.float64(0.0), 0),\n",
              " (np.float64(0.0), 0),\n",
              " (np.float64(0.0), 1),\n",
              " (np.float64(0.0), 0),\n",
              " (np.float64(0.0), 1),\n",
              " (np.float64(0.0), 1),\n",
              " (np.float64(0.0), 1),\n",
              " (np.float64(0.0), 0),\n",
              " (np.float64(0.0), 1),\n",
              " (np.float64(0.0), 0),\n",
              " (np.float64(0.0), 0),\n",
              " (np.float64(0.0), 0),\n",
              " (np.float64(0.0), 0),\n",
              " (np.float64(0.0), 1),\n",
              " (np.float64(0.0), 0),\n",
              " (np.float64(0.0), 0),\n",
              " (np.float64(0.0), 1),\n",
              " (np.float64(0.0), 0),\n",
              " (np.float64(0.0), 1),\n",
              " (np.float64(0.0), 0),\n",
              " (np.float64(0.0), 1),\n",
              " (np.float64(0.0), 0),\n",
              " (np.float64(0.0), 1),\n",
              " (np.float64(0.0), 1),\n",
              " (np.float64(0.0), 0),\n",
              " (np.float64(0.0), 0),\n",
              " (np.float64(0.0), 0),\n",
              " (np.float64(0.0), 1),\n",
              " (np.float64(0.0), 0),\n",
              " (np.float64(0.0), 1),\n",
              " (np.float64(0.0), 1),\n",
              " (np.float64(0.0), 1),\n",
              " (np.float64(0.0), 0),\n",
              " (np.float64(0.0), 1),\n",
              " (np.float64(0.0), 0),\n",
              " (np.float64(0.0), 1),\n",
              " (np.float64(0.0), 1),\n",
              " (np.float64(0.0), 1),\n",
              " (np.float64(0.0), 0),\n",
              " (np.float64(0.0), 1),\n",
              " (np.float64(0.0), 1),\n",
              " (np.float64(0.0), 1),\n",
              " (np.float64(0.0), 0),\n",
              " (np.float64(0.0), 0),\n",
              " (np.float64(0.0), 0),\n",
              " (np.float64(0.0), 0),\n",
              " (np.float64(0.0), 1),\n",
              " (np.float64(0.0), 1),\n",
              " (np.float64(0.0), 1),\n",
              " (np.float64(0.0), 0),\n",
              " (np.float64(0.0), 0),\n",
              " (np.float64(0.0), 1),\n",
              " (np.float64(0.0), 1),\n",
              " (np.float64(0.0), 0),\n",
              " (np.float64(0.0), 0),\n",
              " (np.float64(0.0), 0),\n",
              " (np.float64(0.0), 0),\n",
              " (np.float64(0.0), 0),\n",
              " (np.float64(0.0), 0),\n",
              " (np.float64(0.0), 1),\n",
              " (np.float64(0.0), 1),\n",
              " (np.float64(0.0), 1),\n",
              " (np.float64(0.0), 0),\n",
              " (np.float64(0.0), 0),\n",
              " (np.float64(0.0), 0),\n",
              " (np.float64(0.0), 1),\n",
              " (np.float64(0.0), 0),\n",
              " (np.float64(0.0), 1),\n",
              " (np.float64(0.0), 0),\n",
              " (np.float64(0.0), 0),\n",
              " (np.float64(0.0), 1),\n",
              " (np.float64(0.0), 0),\n",
              " (np.float64(0.0), 0),\n",
              " (np.float64(0.0), 1),\n",
              " (np.float64(0.0), 0),\n",
              " (np.float64(0.0), 0),\n",
              " (np.float64(0.0), 1),\n",
              " (np.float64(0.0), 0),\n",
              " (np.float64(0.0), 1),\n",
              " (np.float64(0.0), 0),\n",
              " (np.float64(0.0), 0),\n",
              " (np.float64(0.0), 0),\n",
              " (np.float64(0.0), 1),\n",
              " (np.float64(0.0), 0),\n",
              " (np.float64(0.0), 1),\n",
              " (np.float64(0.0), 1),\n",
              " (np.float64(0.0), 1),\n",
              " (np.float64(0.0), 0),\n",
              " (np.float64(0.0), 1),\n",
              " (np.float64(0.0), 1),\n",
              " (np.float64(0.0), 1),\n",
              " (np.float64(0.0), 0),\n",
              " (np.float64(0.0), 1),\n",
              " (np.float64(0.0), 0),\n",
              " (np.float64(0.0), 1),\n",
              " (np.float64(0.0), 1),\n",
              " (np.float64(0.0), 0),\n",
              " (np.float64(0.0), 1),\n",
              " (np.float64(0.0), 0),\n",
              " (np.float64(0.0), 0),\n",
              " (np.float64(0.0), 1),\n",
              " (np.float64(0.0), 1),\n",
              " (np.float64(0.0), 1),\n",
              " (np.float64(0.0), 1),\n",
              " (np.float64(0.0), 1),\n",
              " (np.float64(0.0), 1),\n",
              " (np.float64(0.0), 1),\n",
              " (np.float64(0.0), 1),\n",
              " (np.float64(0.0), 0),\n",
              " (np.float64(0.0), 0),\n",
              " (np.float64(0.0), 0),\n",
              " (np.float64(0.0), 1),\n",
              " (np.float64(0.0), 1),\n",
              " (np.float64(0.0), 1),\n",
              " (np.float64(0.0), 1),\n",
              " (np.float64(0.0), 1),\n",
              " (np.float64(0.0), 0),\n",
              " (np.float64(0.0), 1),\n",
              " (np.float64(0.0), 1),\n",
              " (np.float64(0.0), 0),\n",
              " (np.float64(0.0), 1),\n",
              " (np.float64(0.0), 1),\n",
              " (np.float64(0.0), 1),\n",
              " (np.float64(0.0), 0),\n",
              " (np.float64(0.0), 1),\n",
              " (np.float64(0.0), 1),\n",
              " (np.float64(0.0), 0),\n",
              " (np.float64(0.0), 0),\n",
              " (np.float64(0.0), 0),\n",
              " (np.float64(0.0), 0),\n",
              " (np.float64(0.0), 0),\n",
              " (np.float64(0.0), 1),\n",
              " (np.float64(0.0), 0),\n",
              " (np.float64(0.0), 0),\n",
              " (np.float64(0.0), 1),\n",
              " (np.float64(0.0), 1),\n",
              " (np.float64(0.0), 1),\n",
              " (np.float64(0.0), 0),\n",
              " (np.float64(0.0), 1),\n",
              " (np.float64(0.0), 1),\n",
              " (np.float64(0.0), 0),\n",
              " (np.float64(0.0), 1),\n",
              " (np.float64(0.0), 0),\n",
              " (np.float64(0.0), 0),\n",
              " (np.float64(0.0), 0),\n",
              " (np.float64(0.0), 0),\n",
              " (np.float64(0.0), 0),\n",
              " (np.float64(0.0), 0),\n",
              " (np.float64(0.0), 1),\n",
              " (np.float64(0.0), 1),\n",
              " (np.float64(0.0), 1),\n",
              " (np.float64(0.0), 0),\n",
              " (np.float64(0.0), 0),\n",
              " (np.float64(0.0), 0),\n",
              " (np.float64(0.0), 0),\n",
              " (np.float64(0.0), 1),\n",
              " (np.float64(0.0), 0),\n",
              " (np.float64(0.0), 0),\n",
              " (np.float64(0.0), 0),\n",
              " (np.float64(0.0), 1),\n",
              " (np.float64(0.0), 0),\n",
              " (np.float64(0.0), 1),\n",
              " (np.float64(0.0), 1),\n",
              " (np.float64(0.0), 1),\n",
              " (np.float64(0.0), 0),\n",
              " (np.float64(0.0), 0),\n",
              " (np.float64(0.0), 0),\n",
              " (np.float64(0.0), 0),\n",
              " (np.float64(0.0), 1),\n",
              " (np.float64(0.0), 0),\n",
              " (np.float64(0.0), 0),\n",
              " (np.float64(0.0), 1),\n",
              " (np.float64(0.0), 0),\n",
              " (np.float64(0.0), 1),\n",
              " (np.float64(0.0), 0),\n",
              " (np.float64(0.0), 1),\n",
              " (np.float64(0.0), 1),\n",
              " (np.float64(0.0), 1),\n",
              " (np.float64(0.0), 1),\n",
              " (np.float64(0.0), 0),\n",
              " (np.float64(0.0), 1),\n",
              " (np.float64(0.0), 0),\n",
              " (np.float64(0.0), 1),\n",
              " (np.float64(0.0), 1),\n",
              " (np.float64(0.0), 0),\n",
              " (np.float64(0.0), 0),\n",
              " (np.float64(0.0), 1),\n",
              " (np.float64(0.0), 1),\n",
              " (np.float64(0.0), 0),\n",
              " (np.float64(0.0), 1),\n",
              " (np.float64(0.0), 1),\n",
              " (np.float64(0.0), 1),\n",
              " (np.float64(0.0), 1),\n",
              " (np.float64(0.0), 1),\n",
              " (np.float64(0.0), 0),\n",
              " (np.float64(0.0), 0),\n",
              " (np.float64(0.0), 1),\n",
              " (np.float64(0.0), 0),\n",
              " (np.float64(0.0), 0),\n",
              " (np.float64(0.0), 1),\n",
              " (np.float64(0.0), 0),\n",
              " (np.float64(0.0), 1),\n",
              " (np.float64(0.0), 1),\n",
              " (np.float64(0.0), 1),\n",
              " (np.float64(0.0), 1),\n",
              " (np.float64(0.0), 0),\n",
              " (np.float64(0.0), 0),\n",
              " (np.float64(0.0), 1),\n",
              " (np.float64(0.0), 1),\n",
              " (np.float64(0.0), 0),\n",
              " (np.float64(0.0), 1),\n",
              " (np.float64(0.0), 0),\n",
              " (np.float64(0.0), 0),\n",
              " (np.float64(0.0), 1),\n",
              " (np.float64(0.0), 1),\n",
              " (np.float64(0.0), 1),\n",
              " (np.float64(0.0), 1),\n",
              " (np.float64(0.0), 0),\n",
              " (np.float64(0.0), 0),\n",
              " (np.float64(0.0), 0),\n",
              " (np.float64(0.0), 1),\n",
              " (np.float64(0.0), 0),\n",
              " (np.float64(0.0), 0),\n",
              " (np.float64(0.0), 0),\n",
              " (np.float64(0.0), 1),\n",
              " (np.float64(0.0), 1),\n",
              " (np.float64(0.0), 1),\n",
              " (np.float64(0.0), 0),\n",
              " (np.float64(0.0), 0),\n",
              " (np.float64(0.0), 1),\n",
              " (np.float64(0.0), 0),\n",
              " (np.float64(0.0), 0),\n",
              " (np.float64(0.0), 0),\n",
              " (np.float64(0.0), 0),\n",
              " (np.float64(0.0), 1),\n",
              " (np.float64(0.0), 0),\n",
              " (np.float64(0.0), 1),\n",
              " (np.float64(0.0), 1),\n",
              " (np.float64(0.0), 1),\n",
              " (np.float64(0.0), 1),\n",
              " (np.float64(0.0), 0),\n",
              " (np.float64(0.0), 0),\n",
              " (np.float64(0.0), 1),\n",
              " (np.float64(0.0), 1),\n",
              " (np.float64(0.0), 1),\n",
              " (np.float64(0.0), 1),\n",
              " (np.float64(0.0), 0),\n",
              " (np.float64(0.0), 0),\n",
              " (np.float64(0.0), 1),\n",
              " (np.float64(0.0), 1),\n",
              " (np.float64(0.0), 1),\n",
              " (np.float64(0.0), 1),\n",
              " (np.float64(0.0), 0),\n",
              " (np.float64(0.0), 0),\n",
              " (np.float64(0.0), 1),\n",
              " (np.float64(0.0), 0),\n",
              " (np.float64(0.0), 1),\n",
              " (np.float64(0.0), 1),\n",
              " (np.float64(0.0), 1),\n",
              " (np.float64(0.0), 0),\n",
              " (np.float64(0.0), 0),\n",
              " (np.float64(0.0), 0),\n",
              " (np.float64(0.0), 0),\n",
              " (np.float64(0.0), 1),\n",
              " (np.float64(0.0), 0),\n",
              " (np.float64(0.0), 1),\n",
              " (np.float64(0.0), 1),\n",
              " (np.float64(0.0), 0),\n",
              " (np.float64(0.0), 1),\n",
              " (np.float64(0.0), 0),\n",
              " (np.float64(0.0), 1),\n",
              " (np.float64(0.0), 0),\n",
              " (np.float64(0.0), 1),\n",
              " (np.float64(0.0), 1),\n",
              " (np.float64(0.0), 1),\n",
              " (np.float64(0.0), 1),\n",
              " (np.float64(0.0), 0),\n",
              " (np.float64(0.0), 0),\n",
              " (np.float64(0.0), 1),\n",
              " (np.float64(0.0), 0),\n",
              " (np.float64(0.0), 1),\n",
              " (np.float64(0.0), 0),\n",
              " (np.float64(0.0), 1),\n",
              " (np.float64(0.0), 1),\n",
              " (np.float64(0.0), 1),\n",
              " (np.float64(0.0), 0),\n",
              " (np.float64(0.0), 0),\n",
              " (np.float64(0.0), 0),\n",
              " (np.float64(0.0), 1),\n",
              " (np.float64(0.0), 1),\n",
              " (np.float64(0.0), 1),\n",
              " (np.float64(0.0), 1),\n",
              " (np.float64(0.0), 1),\n",
              " (np.float64(0.0), 0),\n",
              " (np.float64(0.0), 1),\n",
              " (np.float64(0.0), 1),\n",
              " (np.float64(0.0), 0),\n",
              " (np.float64(0.0), 0),\n",
              " (np.float64(0.0), 1),\n",
              " (np.float64(0.0), 1),\n",
              " (np.float64(0.0), 1),\n",
              " (np.float64(0.0), 1),\n",
              " (np.float64(0.0), 0),\n",
              " (np.float64(0.0), 1),\n",
              " (np.float64(0.0), 0),\n",
              " (np.float64(0.0), 1),\n",
              " (np.float64(0.0), 1),\n",
              " (np.float64(0.0), 0),\n",
              " (np.float64(0.0), 0),\n",
              " (np.float64(0.0), 0),\n",
              " (np.float64(0.0), 0),\n",
              " (np.float64(0.0), 1),\n",
              " (np.float64(0.0), 0),\n",
              " (np.float64(0.0), 0),\n",
              " (np.float64(0.0), 0),\n",
              " (np.float64(0.0), 1),\n",
              " (np.float64(0.0), 0),\n",
              " (np.float64(0.0), 0),\n",
              " (np.float64(0.0), 1),\n",
              " (np.float64(0.0), 1),\n",
              " (np.float64(0.0), 1),\n",
              " (np.float64(0.0), 1),\n",
              " (np.float64(0.0), 1),\n",
              " (np.float64(0.0), 0),\n",
              " (np.float64(0.0), 0),\n",
              " (np.float64(0.0), 0),\n",
              " (np.float64(0.0), 0),\n",
              " (np.float64(0.0), 1),\n",
              " (np.float64(0.0), 0),\n",
              " (np.float64(0.0), 1),\n",
              " (np.float64(0.0), 0),\n",
              " (np.float64(0.0), 0),\n",
              " (np.float64(0.0), 1),\n",
              " (np.float64(0.0), 0),\n",
              " (np.float64(0.0), 0),\n",
              " (np.float64(0.0), 1),\n",
              " (np.float64(0.0), 1),\n",
              " (np.float64(0.0), 0),\n",
              " (np.float64(0.0), 0),\n",
              " (np.float64(0.0), 0),\n",
              " (np.float64(0.0), 1),\n",
              " (np.float64(0.0), 0),\n",
              " (np.float64(0.0), 0),\n",
              " (np.float64(0.0), 1),\n",
              " (np.float64(0.0), 1),\n",
              " (np.float64(0.0), 0),\n",
              " (np.float64(0.0), 1),\n",
              " (np.float64(0.0), 1),\n",
              " (np.float64(0.0), 0),\n",
              " (np.float64(0.0), 0),\n",
              " (np.float64(0.0), 0),\n",
              " (np.float64(0.0), 1),\n",
              " (np.float64(0.0), 0),\n",
              " (np.float64(0.0), 0),\n",
              " (np.float64(0.0), 0),\n",
              " (np.float64(0.0), 1),\n",
              " (np.float64(0.0), 1),\n",
              " (np.float64(0.0), 1),\n",
              " (np.float64(0.0), 0),\n",
              " (np.float64(0.0), 0),\n",
              " (np.float64(0.0), 1),\n",
              " (np.float64(0.0), 0),\n",
              " (np.float64(0.0), 1),\n",
              " (np.float64(0.0), 0),\n",
              " (np.float64(0.0), 1),\n",
              " (np.float64(0.0), 0),\n",
              " (np.float64(0.0), 0),\n",
              " (np.float64(0.0), 1),\n",
              " (np.float64(0.0), 1),\n",
              " (np.float64(0.0), 0),\n",
              " (np.float64(0.0), 1),\n",
              " (np.float64(0.0), 1),\n",
              " (np.float64(0.0), 0),\n",
              " (np.float64(0.0), 1),\n",
              " (np.float64(0.0), 1),\n",
              " (np.float64(0.0), 1),\n",
              " (np.float64(0.0), 0),\n",
              " (np.float64(0.0), 1),\n",
              " (np.float64(0.0), 0),\n",
              " (np.float64(0.0), 0),\n",
              " (np.float64(0.0), 1),\n",
              " (np.float64(0.0), 0),\n",
              " (np.float64(0.0), 0),\n",
              " (np.float64(0.0), 1),\n",
              " (np.float64(0.0), 1),\n",
              " (np.float64(0.0), 1),\n",
              " (np.float64(0.0), 0),\n",
              " (np.float64(0.0), 1),\n",
              " (np.float64(0.0), 1),\n",
              " (np.float64(0.0), 1),\n",
              " (np.float64(0.0), 1),\n",
              " (np.float64(0.0), 1),\n",
              " (np.float64(0.0), 1),\n",
              " (np.float64(0.0), 1),\n",
              " (np.float64(0.0), 1),\n",
              " (np.float64(0.0), 0),\n",
              " (np.float64(0.0), 0),\n",
              " (np.float64(0.0), 1),\n",
              " (np.float64(0.0), 1),\n",
              " (np.float64(0.0), 1),\n",
              " (np.float64(0.0), 1),\n",
              " (np.float64(0.0), 0),\n",
              " (np.float64(0.0), 0),\n",
              " (np.float64(0.0), 0),\n",
              " (np.float64(0.0), 1),\n",
              " (np.float64(0.0), 0),\n",
              " (np.float64(0.0), 0),\n",
              " (np.float64(0.0), 1),\n",
              " (np.float64(0.0), 1),\n",
              " (np.float64(0.0), 0),\n",
              " (np.float64(0.0), 1),\n",
              " (np.float64(0.0), 0),\n",
              " (np.float64(0.0), 1),\n",
              " (np.float64(0.0), 0),\n",
              " (np.float64(0.0), 0),\n",
              " (np.float64(0.0), 0),\n",
              " (np.float64(0.0), 1),\n",
              " (np.float64(0.0), 0),\n",
              " (np.float64(0.0), 1),\n",
              " (np.float64(0.0), 1),\n",
              " (np.float64(0.0), 1),\n",
              " (np.float64(0.0), 1),\n",
              " (np.float64(0.0), 1),\n",
              " (np.float64(0.0), 0),\n",
              " (np.float64(0.0), 1),\n",
              " (np.float64(0.0), 0),\n",
              " (np.float64(0.0), 1),\n",
              " (np.float64(0.0), 1),\n",
              " (np.float64(0.0), 1),\n",
              " (np.float64(0.0), 1),\n",
              " (np.float64(0.0), 1),\n",
              " (np.float64(0.0), 0),\n",
              " (np.float64(0.0), 1),\n",
              " (np.float64(0.0), 0),\n",
              " (np.float64(0.0), 0),\n",
              " (np.float64(0.0), 1),\n",
              " (np.float64(0.0), 0),\n",
              " (np.float64(0.0), 1),\n",
              " (np.float64(0.0), 0),\n",
              " (np.float64(0.0), 0),\n",
              " (np.float64(0.0), 0),\n",
              " (np.float64(0.0), 0),\n",
              " (np.float64(0.0), 1),\n",
              " (np.float64(0.0), 1),\n",
              " (np.float64(0.0), 0),\n",
              " (np.float64(0.0), 0),\n",
              " (np.float64(0.0), 1),\n",
              " (np.float64(0.0), 0),\n",
              " (np.float64(0.0), 0),\n",
              " (np.float64(0.0), 0),\n",
              " (np.float64(0.0), 0),\n",
              " (np.float64(0.0), 1),\n",
              " (np.float64(0.0), 1),\n",
              " (np.float64(0.0), 0),\n",
              " (np.float64(0.0), 0),\n",
              " (np.float64(0.0), 1),\n",
              " (np.float64(0.0), 1),\n",
              " (np.float64(0.0), 1),\n",
              " (np.float64(0.0), 0),\n",
              " (np.float64(0.0), 0),\n",
              " (np.float64(0.0), 1),\n",
              " (np.float64(0.0), 1),\n",
              " (np.float64(0.0), 0),\n",
              " (np.float64(0.0), 1),\n",
              " (np.float64(0.0), 1),\n",
              " (np.float64(0.0), 1),\n",
              " (np.float64(0.0), 1),\n",
              " (np.float64(0.0), 1),\n",
              " (np.float64(0.0), 0),\n",
              " (np.float64(0.0), 1),\n",
              " (np.float64(0.0), 0),\n",
              " (np.float64(0.0), 0),\n",
              " (np.float64(0.0), 0),\n",
              " (np.float64(0.0), 0),\n",
              " (np.float64(0.0), 0),\n",
              " (np.float64(0.0), 0),\n",
              " (np.float64(0.0), 1),\n",
              " (np.float64(0.0), 0),\n",
              " (np.float64(0.0), 1),\n",
              " (np.float64(0.0), 1),\n",
              " (np.float64(0.0), 1),\n",
              " (np.float64(0.0), 1),\n",
              " (np.float64(0.0), 0),\n",
              " (np.float64(0.0), 1),\n",
              " (np.float64(0.0), 1),\n",
              " (np.float64(0.0), 0),\n",
              " (np.float64(0.0), 0),\n",
              " (np.float64(0.0), 0),\n",
              " (np.float64(0.0), 1),\n",
              " (np.float64(0.0), 1),\n",
              " (np.float64(0.0), 1),\n",
              " (np.float64(0.0), 1),\n",
              " (np.float64(0.0), 0),\n",
              " (np.float64(0.0), 1),\n",
              " (np.float64(0.0), 0),\n",
              " (np.float64(0.0), 0),\n",
              " (np.float64(0.0), 0),\n",
              " (np.float64(0.0), 0),\n",
              " (np.float64(0.0), 1),\n",
              " (np.float64(0.0), 1),\n",
              " (np.float64(0.0), 0),\n",
              " (np.float64(0.0), 0),\n",
              " (np.float64(0.0), 0),\n",
              " (np.float64(0.0), 1),\n",
              " (np.float64(0.0), 1),\n",
              " (np.float64(0.0), 0),\n",
              " (np.float64(0.0), 1),\n",
              " (np.float64(0.0), 0),\n",
              " (np.float64(0.0), 0),\n",
              " (np.float64(0.0), 1),\n",
              " (np.float64(0.0), 0),\n",
              " (np.float64(0.0), 1),\n",
              " (np.float64(0.0), 1),\n",
              " (np.float64(0.0), 0),\n",
              " (np.float64(0.0), 0),\n",
              " (np.float64(0.0), 0),\n",
              " (np.float64(0.0), 0),\n",
              " (np.float64(0.0), 0),\n",
              " (np.float64(0.0), 1),\n",
              " (np.float64(0.0), 0),\n",
              " (np.float64(0.0), 1),\n",
              " (np.float64(0.0), 1),\n",
              " (np.float64(0.0), 0),\n",
              " (np.float64(0.0), 1),\n",
              " (np.float64(0.0), 0),\n",
              " (np.float64(0.0), 1),\n",
              " (np.float64(0.0), 1),\n",
              " (np.float64(0.0), 1),\n",
              " (np.float64(0.0), 0),\n",
              " (np.float64(0.0), 0),\n",
              " (np.float64(0.0), 0),\n",
              " (np.float64(0.0), 0),\n",
              " (np.float64(0.0), 1),\n",
              " (np.float64(0.0), 1),\n",
              " (np.float64(0.0), 0),\n",
              " (np.float64(0.0), 1),\n",
              " (np.float64(0.0), 0),\n",
              " (np.float64(0.0), 1),\n",
              " (np.float64(0.0), 0),\n",
              " (np.float64(0.0), 1),\n",
              " (np.float64(0.0), 0),\n",
              " (np.float64(0.0), 0),\n",
              " (np.float64(0.0), 0),\n",
              " (np.float64(0.0), 1),\n",
              " (np.float64(0.0), 1),\n",
              " (np.float64(0.0), 1),\n",
              " (np.float64(0.0), 1),\n",
              " (np.float64(0.0), 0),\n",
              " (np.float64(0.0), 0),\n",
              " (np.float64(0.0), 1),\n",
              " (np.float64(0.0), 0),\n",
              " (np.float64(0.0), 0),\n",
              " (np.float64(0.0), 1),\n",
              " (np.float64(0.0), 1),\n",
              " (np.float64(0.0), 1),\n",
              " (np.float64(0.0), 0),\n",
              " (np.float64(0.0), 1),\n",
              " (np.float64(0.0), 0),\n",
              " (np.float64(0.0), 0),\n",
              " (np.float64(0.0), 0),\n",
              " (np.float64(0.0), 0),\n",
              " (np.float64(0.0), 0),\n",
              " (np.float64(0.0), 0),\n",
              " (np.float64(0.0), 0),\n",
              " (np.float64(0.0), 1),\n",
              " (np.float64(0.0), 1),\n",
              " (np.float64(0.0), 1),\n",
              " (np.float64(0.0), 0),\n",
              " (np.float64(0.0), 0),\n",
              " (np.float64(0.0), 0),\n",
              " (np.float64(0.0), 1),\n",
              " (np.float64(0.0), 0),\n",
              " (np.float64(0.0), 1),\n",
              " (np.float64(0.0), 1),\n",
              " (np.float64(0.0), 0),\n",
              " (np.float64(0.0), 1),\n",
              " (np.float64(0.0), 0),\n",
              " (np.float64(0.0), 0),\n",
              " (np.float64(0.0), 1),\n",
              " (np.float64(0.0), 1),\n",
              " (np.float64(0.0), 0),\n",
              " (np.float64(0.0), 0),\n",
              " (np.float64(0.0), 1),\n",
              " (np.float64(0.0), 0),\n",
              " (np.float64(0.0), 1),\n",
              " (np.float64(0.0), 1),\n",
              " (np.float64(0.0), 0),\n",
              " (np.float64(0.0), 0),\n",
              " (np.float64(0.0), 1),\n",
              " (np.float64(0.0), 0),\n",
              " (np.float64(0.0), 1),\n",
              " (np.float64(0.0), 0),\n",
              " (np.float64(0.0), 0),\n",
              " (np.float64(0.0), 1),\n",
              " (np.float64(0.0), 0),\n",
              " (np.float64(0.0), 0),\n",
              " (np.float64(0.0), 1),\n",
              " (np.float64(0.0), 0),\n",
              " (np.float64(0.0), 1),\n",
              " (np.float64(0.0), 1),\n",
              " (np.float64(0.0), 0),\n",
              " (np.float64(0.0), 0),\n",
              " (np.float64(0.0), 1),\n",
              " (np.float64(0.0), 1),\n",
              " (np.float64(0.0), 0),\n",
              " (np.float64(0.0), 1),\n",
              " (np.float64(0.0), 1),\n",
              " (np.float64(0.0), 1),\n",
              " (np.float64(0.0), 0),\n",
              " (np.float64(0.0), 1),\n",
              " (np.float64(0.0), 0),\n",
              " (np.float64(0.0), 1),\n",
              " (np.float64(0.0), 0),\n",
              " (np.float64(0.0), 0),\n",
              " (np.float64(0.0), 1),\n",
              " (np.float64(0.0), 0),\n",
              " (np.float64(0.0), 0),\n",
              " (np.float64(0.0), 0),\n",
              " (np.float64(0.0), 0),\n",
              " (np.float64(0.0), 1),\n",
              " (np.float64(0.0), 1),\n",
              " (np.float64(0.0), 1),\n",
              " (np.float64(0.0), 0),\n",
              " (np.float64(0.0), 1),\n",
              " (np.float64(0.0), 1),\n",
              " (np.float64(0.0), 0),\n",
              " (np.float64(0.0), 0),\n",
              " (np.float64(0.0), 0),\n",
              " (np.float64(0.0), 1),\n",
              " (np.float64(0.0), 1),\n",
              " (np.float64(0.0), 1),\n",
              " (np.float64(0.0), 0),\n",
              " (np.float64(0.0), 1),\n",
              " (np.float64(0.0), 0),\n",
              " (np.float64(0.0), 0),\n",
              " (np.float64(0.0), 0),\n",
              " (np.float64(0.0), 1),\n",
              " (np.float64(0.0), 1),\n",
              " (np.float64(0.0), 1),\n",
              " (np.float64(0.0), 1),\n",
              " (np.float64(0.0), 0),\n",
              " (np.float64(0.0), 0),\n",
              " (np.float64(0.0), 1),\n",
              " (np.float64(0.0), 1),\n",
              " (np.float64(0.0), 1),\n",
              " (np.float64(0.0), 1),\n",
              " (np.float64(0.0), 0),\n",
              " (np.float64(0.0), 0),\n",
              " (np.float64(0.0), 0),\n",
              " (np.float64(0.0), 0),\n",
              " (np.float64(0.0), 0),\n",
              " (np.float64(0.0), 0),\n",
              " (np.float64(0.0), 1),\n",
              " (np.float64(0.0), 0),\n",
              " (np.float64(0.0), 1),\n",
              " (np.float64(0.0), 1),\n",
              " (np.float64(0.0), 0),\n",
              " (np.float64(0.0), 0),\n",
              " (np.float64(0.0), 0),\n",
              " (np.float64(0.0), 0),\n",
              " (np.float64(0.0), 0),\n",
              " (np.float64(0.0), 1),\n",
              " (np.float64(0.0), 0),\n",
              " (np.float64(0.0), 0),\n",
              " (np.float64(0.0), 1),\n",
              " (np.float64(0.0), 0),\n",
              " (np.float64(0.0), 1),\n",
              " (np.float64(0.0), 1),\n",
              " (np.float64(0.0), 0),\n",
              " (np.float64(0.0), 0),\n",
              " (np.float64(0.0), 1),\n",
              " (np.float64(0.0), 0),\n",
              " (np.float64(0.0), 1),\n",
              " (np.float64(0.0), 1),\n",
              " (np.float64(0.0), 0),\n",
              " (np.float64(0.0), 1),\n",
              " (np.float64(0.0), 1),\n",
              " (np.float64(0.0), 0),\n",
              " (np.float64(0.0), 0),\n",
              " (np.float64(0.0), 0),\n",
              " (np.float64(0.0), 1),\n",
              " (np.float64(0.0), 1),\n",
              " (np.float64(0.0), 1),\n",
              " (np.float64(0.0), 0),\n",
              " (np.float64(0.0), 0),\n",
              " (np.float64(0.0), 0),\n",
              " (np.float64(0.0), 0),\n",
              " (np.float64(0.0), 0),\n",
              " (np.float64(0.0), 0),\n",
              " (np.float64(0.0), 1),\n",
              " (np.float64(0.0), 1),\n",
              " (np.float64(0.0), 1),\n",
              " (np.float64(0.0), 0),\n",
              " (np.float64(0.0), 0),\n",
              " (np.float64(0.0), 0),\n",
              " (np.float64(0.0), 1),\n",
              " (np.float64(0.0), 0),\n",
              " (np.float64(0.0), 1),\n",
              " (np.float64(0.0), 1),\n",
              " (np.float64(0.0), 0),\n",
              " (np.float64(0.0), 0),\n",
              " (np.float64(0.0), 1),\n",
              " (np.float64(0.0), 1),\n",
              " (np.float64(0.0), 0),\n",
              " (np.float64(0.0), 0),\n",
              " (np.float64(0.0), 0),\n",
              " (np.float64(0.0), 1),\n",
              " (np.float64(0.0), 0),\n",
              " (np.float64(0.0), 0),\n",
              " (np.float64(0.0), 0),\n",
              " (np.float64(0.0), 0),\n",
              " (np.float64(0.0), 0),\n",
              " (np.float64(0.0), 0),\n",
              " (np.float64(0.0), 1),\n",
              " (np.float64(0.0), 1),\n",
              " (np.float64(0.0), 1),\n",
              " (np.float64(0.0), 0),\n",
              " (np.float64(0.0), 0),\n",
              " (np.float64(0.0), 1),\n",
              " (np.float64(0.0), 0),\n",
              " (np.float64(0.0), 1),\n",
              " (np.float64(0.0), 1),\n",
              " (np.float64(0.0), 1),\n",
              " (np.float64(0.0), 0),\n",
              " (np.float64(0.0), 1),\n",
              " (np.float64(0.0), 1),\n",
              " (np.float64(0.0), 1),\n",
              " (np.float64(0.0), 0),\n",
              " (np.float64(0.0), 1),\n",
              " (np.float64(0.0), 0),\n",
              " (np.float64(0.0), 0),\n",
              " (np.float64(0.0), 1),\n",
              " (np.float64(0.0), 0),\n",
              " (np.float64(0.0), 1),\n",
              " (np.float64(0.0), 0),\n",
              " (np.float64(0.0), 1),\n",
              " (np.float64(0.0), 0),\n",
              " (np.float64(0.0), 1),\n",
              " (np.float64(0.0), 1),\n",
              " (np.float64(0.0), 0),\n",
              " (np.float64(0.0), 0),\n",
              " (np.float64(0.0), 0),\n",
              " (np.float64(0.0), 0),\n",
              " (np.float64(0.0), 1),\n",
              " (np.float64(0.0), 1),\n",
              " (np.float64(0.0), 1),\n",
              " (np.float64(0.0), 0),\n",
              " (np.float64(0.0), 1),\n",
              " (np.float64(0.0), 1),\n",
              " (np.float64(0.0), 0),\n",
              " ...]"
            ]
          },
          "metadata": {},
          "execution_count": 47
        }
      ]
    },
    {
      "cell_type": "markdown",
      "id": "aecad7b0",
      "metadata": {
        "id": "aecad7b0"
      },
      "source": [
        "### Requirement 4: best-of-both-worlds algorithms with multiple products"
      ]
    },
    {
      "cell_type": "code",
      "execution_count": null,
      "id": "8acf080d",
      "metadata": {
        "id": "8acf080d"
      },
      "outputs": [],
      "source": []
    },
    {
      "cell_type": "markdown",
      "id": "6bf731ab",
      "metadata": {
        "id": "6bf731ab"
      },
      "source": [
        "### Requirement 5: slightly non-stationary environments with multiple products"
      ]
    },
    {
      "cell_type": "code",
      "execution_count": null,
      "id": "af95329c",
      "metadata": {
        "id": "af95329c"
      },
      "outputs": [],
      "source": []
    }
  ],
  "metadata": {
    "colab": {
      "provenance": []
    },
    "kernelspec": {
      "display_name": "Python 3",
      "language": "python",
      "name": "python3"
    },
    "language_info": {
      "codemirror_mode": {
        "name": "ipython",
        "version": 3
      },
      "file_extension": ".py",
      "mimetype": "text/x-python",
      "name": "python",
      "nbconvert_exporter": "python",
      "pygments_lexer": "ipython3",
      "version": "3.12.7"
    }
  },
  "nbformat": 4,
  "nbformat_minor": 5
}