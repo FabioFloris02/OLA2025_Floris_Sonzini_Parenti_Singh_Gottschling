{
  "cells": [
    {
      "cell_type": "code",
      "execution_count": 1,
      "id": "64de8b88",
      "metadata": {
        "id": "64de8b88"
      },
      "outputs": [],
      "source": [
        "import numpy as np\n",
        "import matplotlib.pyplot as plt\n",
        "from scipy import stats\n",
        "from scipy import optimize\n",
        "import random"
      ]
    },
    {
      "cell_type": "markdown",
      "id": "392e5fba",
      "metadata": {
        "id": "392e5fba"
      },
      "source": [
        "## General classes"
      ]
    },
    {
      "cell_type": "code",
      "execution_count": 2,
      "id": "5c3542ea",
      "metadata": {
        "id": "5c3542ea"
      },
      "outputs": [],
      "source": [
        "class Environment:\n",
        "    def __init__(self):\n",
        "        pass\n",
        "\n",
        "    def round(self, product_price):\n",
        "        pass"
      ]
    },
    {
      "cell_type": "code",
      "execution_count": 3,
      "id": "25a9ca32",
      "metadata": {
        "id": "25a9ca32"
      },
      "outputs": [],
      "source": [
        "class Agent:\n",
        "    def __init__(self):\n",
        "        pass\n",
        "\n",
        "    def pull_arm(self):\n",
        "        pass\n",
        "\n",
        "    def update(self, reward_t):\n",
        "        pass"
      ]
    },
    {
      "cell_type": "markdown",
      "id": "e7342c66",
      "metadata": {
        "id": "e7342c66"
      },
      "source": [
        "### Requirement 1: single product and stochastic environment"
      ]
    },
    {
      "cell_type": "markdown",
      "id": "c5c2a790",
      "metadata": {
        "id": "c5c2a790"
      },
      "source": [
        "#### Environment"
      ]
    },
    {
      "cell_type": "code",
      "execution_count": null,
      "id": "48b6de95",
      "metadata": {
        "id": "48b6de95"
      },
      "outputs": [],
      "source": [
        "class SingleProductEnvironment(Environment):\n",
        "  def __init__(self, T, valuation_distr=stats.uniform):\n",
        "    self.T = T # Number of rounds\n",
        "    self.t = 0 # Starting round\n",
        "\n",
        "    # Valuation of each buyer sampled from the given distribution function\n",
        "    self.valuation = valuation_distr.rvs(size=T)\n",
        "\n",
        "  def round(self, p_t):\n",
        "    # Check if the buyer valuation is higher than product price\n",
        "    r_t = p_t if self.valuation[self.t] >= p_t else 0\n",
        "\n",
        "    # Update round\n",
        "    self.t = self.t + 1\n",
        "\n",
        "    return r_t"
      ]
    },
    {
      "cell_type": "markdown",
      "id": "078ff1da",
      "metadata": {
        "id": "078ff1da"
      },
      "source": [
        "#### Agent without inventory constraint - UCB1"
      ]
    },
    {
      "cell_type": "code",
      "execution_count": null,
      "id": "ecf97d4e",
      "metadata": {
        "id": "ecf97d4e"
      },
      "outputs": [],
      "source": [
        "class UCB1(Agent):\n",
        "    def __init__(self, T, prices, range=1):\n",
        "        self.range = range # Range of the reward\n",
        "        self.P = len(prices) # Prices' set cardinality\n",
        "        self.T = T # Number of rounds\n",
        "        self.pi_t = None # Init price\n",
        "\n",
        "        self.average_rewards = np.zeros(self.P)\n",
        "        self.N_pulls = np.zeros(self.P)\n",
        "\n",
        "        self.t = 0 # Starting round\n",
        "\n",
        "    def pull_arm(self):\n",
        "        # Check if the round is less then number of prices\n",
        "        if self.t < self.P:\n",
        "            # then set it as product_price\n",
        "            self.pi_t = self.t\n",
        "        else:\n",
        "            # Compute UCB1\n",
        "            ucbs = self.average_rewards + self.range * np.sqrt(2 * np.log(self.T)/self.N_pulls)\n",
        "\n",
        "            # Extract the price that maximizes the UCB1\n",
        "            self.pi_t = np.argmax(ucbs)\n",
        "\n",
        "        return self.pi_t\n",
        "\n",
        "    def update(self, reward):\n",
        "        self.N_pulls[self.pi_t] += 1\n",
        "\n",
        "        # As average, we have (total purchasing) / (number of times of purchasing)\n",
        "        self.average_rewards[self.pi_t] += (reward - self.average_rewards[self.pi_t])/self.N_pulls[self.pi_t]\n",
        "        self.t += 1"
      ]
    },
    {
      "cell_type": "markdown",
      "id": "45a904c2",
      "metadata": {
        "id": "45a904c2"
      },
      "source": [
        "#### Clairvoyant without inventory constraint"
      ]
    },
    {
      "cell_type": "code",
      "execution_count": null,
      "id": "1feeed44",
      "metadata": {
        "id": "1feeed44"
      },
      "outputs": [],
      "source": [
        "class SingleProductStochasticClairvoyant:\n",
        "    def __init__(self, T, prices, valuation_distr=stats.uniform):\n",
        "        self.T = T\n",
        "        self.prices = prices\n",
        "\n",
        "        # This is probability distributions over valuations (scipy.stats)\n",
        "        self.valuation_distr = valuation_distr\n",
        "\n",
        "    def run(self):\n",
        "        # Probability of selling a product\n",
        "        selling_prob = 1 - self.valuation_distr.cdf(self.prices)\n",
        "\n",
        "        ## Liner programming\n",
        "        c = - self.prices * selling_prob # objective function coefficients\n",
        "\n",
        "        # Constraints\n",
        "        A_eq = [np.ones(len(self.prices))]\n",
        "        b_eq = [1]\n",
        "\n",
        "        # Resolve LP\n",
        "        res = optimize.linprog(c, A_eq=A_eq, b_eq=b_eq, bounds=(0, 1))\n",
        "        expected_utility = np.array([-res.fun for _ in range(self.T)])\n",
        "\n",
        "        return expected_utility"
      ]
    },
    {
      "cell_type": "markdown",
      "id": "fac0956a",
      "metadata": {
        "id": "fac0956a"
      },
      "source": [
        "#### Evaluation"
      ]
    },
    {
      "cell_type": "code",
      "execution_count": null,
      "id": "07c19d34",
      "metadata": {
        "id": "07c19d34"
      },
      "outputs": [],
      "source": [
        "# Parameters\n",
        "T = 10000\n",
        "\n",
        "# Prices\n",
        "max_price = 1\n",
        "price_step = T ** (-1/3)\n",
        "prices = np.arange(0, max_price, price_step)\n",
        "\n",
        "# Valuation prob. distribution\n",
        "max_valuation = 1\n",
        "#valuation_distr = stats.binom(loc=0, n=max_valuation, p=0.5)\n",
        "valuation_distr = stats.uniform(loc=0, scale=max_price)"
      ]
    },
    {
      "cell_type": "code",
      "execution_count": null,
      "id": "b98f0aac",
      "metadata": {
        "id": "b98f0aac"
      },
      "outputs": [],
      "source": [
        "# Run clairvoyant\n",
        "clairvoyant = SingleProductStochasticClairvoyant(T, prices, valuation_distr)\n",
        "expected_clairvoyant_utilities = clairvoyant.run()\n",
        "\n",
        "n_trials = 10\n",
        "regret_per_trial = []\n",
        "for trial in range(n_trials):\n",
        "\n",
        "  # Define environment and agent\n",
        "  env = SingleProductEnvironment(T, valuation_distr)\n",
        "  ucb_like_agent = UCB1(T, prices, range=max_price)\n",
        "\n",
        "  agent_rewards = []\n",
        "\n",
        "  for t in range(T):\n",
        "    # This returns the price index\n",
        "    pi_t = ucb_like_agent.pull_arm()\n",
        "\n",
        "    # Get the actual price\n",
        "    p_t = prices[pi_t]\n",
        "\n",
        "    # Get reward\n",
        "    r_t = env.round(p_t)\n",
        "\n",
        "    # Update agent state\n",
        "    ucb_like_agent.update(r_t)\n",
        "\n",
        "    agent_rewards.append(r_t)\n",
        "\n",
        "  agent_rewards = np.array(agent_rewards)\n",
        "  cumulative_regret = np.cumsum(expected_clairvoyant_utilities - agent_rewards)\n",
        "\n",
        "  regret_per_trial.append(cumulative_regret)\n",
        "\n",
        "regret_per_trial = np.array(regret_per_trial)"
      ]
    },
    {
      "cell_type": "code",
      "execution_count": null,
      "id": "32c56a36",
      "metadata": {
        "colab": {
          "base_uri": "https://localhost:8080/",
          "height": 467
        },
        "id": "32c56a36",
        "outputId": "fcf4f62c-791f-400d-c993-bb3d996df715"
      },
      "outputs": [
        {
          "output_type": "execute_result",
          "data": {
            "text/plain": [
              "<matplotlib.legend.Legend at 0x7b3b0da25090>"
            ]
          },
          "metadata": {},
          "execution_count": 19
        },
        {
          "output_type": "display_data",
          "data": {
            "text/plain": [
              "<Figure size 640x480 with 1 Axes>"
            ],
            "image/png": "[encoded data removed]"
          },
          "metadata": {}
        }
      ],
      "source": [
        "average_regret = regret_per_trial.mean(axis=0) # mean\n",
        "regret_sd = regret_per_trial.std(axis=0) # standard deviation\n",
        "\n",
        "plt.plot(np.arange(T), average_regret, label=\"Average\")\n",
        "plt.fill_between(\n",
        "    np.arange(T),\n",
        "    average_regret-regret_sd/np.sqrt(n_trials),\n",
        "    average_regret+regret_sd/np.sqrt(n_trials),\n",
        "    alpha=0.3,\n",
        "    label=\"Uncertainty\"\n",
        ")\n",
        "plt.xlabel(\"$t$\")\n",
        "plt.legend()"
      ]
    },
    {
      "cell_type": "code",
      "execution_count": null,
      "id": "9cRPSTGbz4PK",
      "metadata": {
        "colab": {
          "base_uri": "https://localhost:8080/",
          "height": 476
        },
        "id": "9cRPSTGbz4PK",
        "outputId": "cda35f79-9699-4cf0-9c7b-1f87dc290ab9"
      },
      "outputs": [
        {
          "output_type": "display_data",
          "data": {
            "text/plain": [
              "<Figure size 640x480 with 1 Axes>"
            ],
            "image/png": "[encoded data removed]"
          },
          "metadata": {}
        }
      ],
      "source": [
        "average_regret = regret_per_trial.mean(axis=0)  # media\n",
        "regret_sd = regret_per_trial.std(axis=0)        # deviazione standard\n",
        "\n",
        "t = np.arange(1, T+1)  # inizia da 1 per evitare t^{2/3} = 0^{2/3} = 0\n",
        "regret_theory = t**(2/3)\n",
        "\n",
        "plt.plot(t, average_regret, label=\"Average\")\n",
        "plt.fill_between(\n",
        "    t,\n",
        "    average_regret - regret_sd / np.sqrt(n_trials),\n",
        "    average_regret + regret_sd / np.sqrt(n_trials),\n",
        "    alpha=0.3,\n",
        "    label=\"Uncertainty\"\n",
        ")\n",
        "plt.plot(t, regret_theory, label=r\"$t^{2/3}$\", linestyle='--', color='red')\n",
        "\n",
        "plt.xlabel(\"$t$\")\n",
        "plt.ylabel(\"Regret\")\n",
        "plt.legend()\n",
        "plt.title(\"Regret vs Theoretical $t^{2/3}$ Growth\")\n",
        "plt.grid(True)\n",
        "plt.show()"
      ]
    },
    {
      "cell_type": "code",
      "execution_count": null,
      "id": "jQxnCLmX7Fgn",
      "metadata": {
        "colab": {
          "base_uri": "https://localhost:8080/",
          "height": 507
        },
        "id": "jQxnCLmX7Fgn",
        "outputId": "87b9e1f3-3450-431b-9ea5-ca3363b27169"
      },
      "outputs": [
        {
          "output_type": "display_data",
          "data": {
            "text/plain": [
              "<Figure size 800x500 with 1 Axes>"
            ],
            "image/png": "[encoded data removed]"
          },
          "metadata": {}
        }
      ],
      "source": [
        "K= 1/price_step\n",
        "t = np.arange(1, T + 1)  # da 1 per evitare log(0)\n",
        "theoretical_curve = np.sqrt(K * t * np.log(t))\n",
        "\n",
        "# Plot\n",
        "plt.figure(figsize=(8, 5))\n",
        "plt.plot(np.arange(T), average_regret, label=\"Average\")\n",
        "plt.fill_between(\n",
        "    np.arange(T),\n",
        "    average_regret - regret_sd / np.sqrt(n_trials),\n",
        "    average_regret + regret_sd / np.sqrt(n_trials),\n",
        "    alpha=0.3,\n",
        "    label=\"Uncertainty\"\n",
        ")\n",
        "\n",
        "# Aggiunta curva asintotica\n",
        "plt.plot(t - 1, theoretical_curve, label=r\"$\\sqrt{K t \\log t}$\", linestyle=\"--\", color=\"red\")\n",
        "\n",
        "plt.xlabel(\"$t$\")\n",
        "plt.ylabel(\"Regret\")\n",
        "plt.title(\"Regret vs Theoretical $\\sqrt{K t \\log t}$ Growth\")\n",
        "plt.legend()\n",
        "plt.grid(True)\n",
        "plt.tight_layout()\n",
        "plt.show()"
      ]
    },
    {
      "cell_type": "markdown",
      "id": "3d3dca35",
      "metadata": {
        "id": "3d3dca35"
      },
      "source": [
        "#### Agent with inventory constraint - UCB-like"
      ]
    },
    {
      "cell_type": "code",
      "execution_count": null,
      "id": "caf21640",
      "metadata": {
        "id": "caf21640"
      },
      "outputs": [],
      "source": [
        "class UCBLike():\n",
        "    def __init__(self, T, B, prices, range=1):\n",
        "        self.T = T\n",
        "        self.P = len(prices)\n",
        "        self.range = range\n",
        "\n",
        "        self.pi_t = None\n",
        "        self.avg_f = np.zeros(self.P)\n",
        "        self.avg_c = np.zeros(self.P)\n",
        "        self.N_pulls = np.zeros(self.P)\n",
        "        self.budget = B\n",
        "\n",
        "        self.t = 0\n",
        "\n",
        "    def pull_arm(self):\n",
        "        # Check if budget is depleted\n",
        "        if self.budget < 1:\n",
        "            self.pi_t = 0\n",
        "            return 0\n",
        "\n",
        "        if self.t < self.P:\n",
        "            self.pi_t = self.t\n",
        "        else:\n",
        "            # Upper Confidence Bound\n",
        "            f_ucbs = self.avg_f + self.range * np.sqrt( 2 * np.log(self.T)/self.N_pulls)\n",
        "\n",
        "            # Lower Confidence Bound\n",
        "            c_lcbs = self.avg_c - self.range * np.sqrt( 2 * np.log(self.T)/self.N_pulls)\n",
        "\n",
        "            # Price optimal distribution\n",
        "            gamma_t = self.compute_opt(f_ucbs, c_lcbs)\n",
        "\n",
        "            # Set current price\n",
        "            self.pi_t = np.random.choice(self.P, p=gamma_t)\n",
        "\n",
        "        return self.pi_t\n",
        "\n",
        "    def compute_opt(self, f_ucbs, c_lcbs):\n",
        "        if np.sum(c_lcbs <= np.zeros(len(c_lcbs))):\n",
        "            gamma = np.zeros(len(f_ucbs))\n",
        "            gamma[np.argmax(f_ucbs)] = 1\n",
        "            return gamma\n",
        "\n",
        "        c = -f_ucbs\n",
        "\n",
        "        A_ub = [c_lcbs]\n",
        "        rho = self.budget/self.T\n",
        "        b_ub = [rho]\n",
        "\n",
        "        A_eq = [np.ones(self.P)]\n",
        "        b_eq = [1]\n",
        "\n",
        "        res = optimize.linprog(c, A_ub=A_ub, b_ub=b_ub, A_eq=A_eq, b_eq=b_eq, bounds=(0,1))\n",
        "\n",
        "        gamma = res.x\n",
        "        return gamma\n",
        "\n",
        "    def update(self, f_t, c_t):\n",
        "        # Update the number of pulled price\n",
        "        self.N_pulls[self.pi_t] += 1\n",
        "\n",
        "        # Update averages\n",
        "        self.avg_f[self.pi_t] = self.avg_f[self.pi_t] + (f_t - self.avg_f[self.pi_t])/self.N_pulls[self.pi_t]\n",
        "        self.avg_c[self.pi_t] = self.avg_c[self.pi_t] + (c_t - self.avg_c[self.pi_t])/self.N_pulls[self.pi_t]\n",
        "\n",
        "        # Update budget\n",
        "        self.budget = self.budget - c_t\n",
        "\n",
        "        self.t += 1"
      ]
    },
    {
      "cell_type": "markdown",
      "id": "c3bd4ece",
      "metadata": {
        "id": "c3bd4ece"
      },
      "source": [
        "#### Clairvoyant with inventory constraint"
      ]
    },
    {
      "cell_type": "code",
      "execution_count": null,
      "id": "310e6385",
      "metadata": {
        "id": "310e6385"
      },
      "outputs": [],
      "source": [
        "class SingleProductStochasticInventoryClaivoyant:\n",
        "    def __init__(self, T, budget, prices, valuation_distr=stats.uniform):\n",
        "        self.T = T\n",
        "        self.prices = prices\n",
        "        self.budget = budget\n",
        "\n",
        "        # This is probability distributions over valuations (scipy.stats)\n",
        "        self.valuation_distr = valuation_distr\n",
        "\n",
        "    def run(self):\n",
        "        # Probability of selling a product\n",
        "        selling_prob = 1 - self.valuation_distr.cdf(self.prices)\n",
        "\n",
        "        ## Liner programming\n",
        "        c = - self.prices * selling_prob # objective function coefficients\n",
        "\n",
        "        # Constraints\n",
        "        A_eq = [np.ones(len(self.prices))]\n",
        "        b_eq = [1]\n",
        "\n",
        "        A_ub = [selling_prob]\n",
        "        rho = self.budget/self.T\n",
        "        b_ub = [rho]\n",
        "\n",
        "        # Resolve LP\n",
        "        res = optimize.linprog(c, A_eq=A_eq, b_eq=b_eq, A_ub=A_ub, b_ub=b_ub, bounds=(0, 1))\n",
        "        expected_utility = np.array([-res.fun for _ in range(self.T)])\n",
        "\n",
        "        return expected_utility"
      ]
    },
    {
      "cell_type": "markdown",
      "id": "b34ee03b",
      "metadata": {
        "id": "b34ee03b"
      },
      "source": [
        "#### Evaluation"
      ]
    },
    {
      "cell_type": "code",
      "execution_count": null,
      "id": "67c981db",
      "metadata": {
        "id": "67c981db"
      },
      "outputs": [],
      "source": [
        "# Parameters\n",
        "T = 10000\n",
        "B = T * 3/4\n",
        "\n",
        "# Prices\n",
        "max_price = 1\n",
        "price_step = 0.2\n",
        "prices = np.arange(0, max_price, price_step)\n",
        "\n",
        "# Valuation prob. distribution\n",
        "max_valuation = 1\n",
        "valuation_distr = stats.uniform(loc=0, scale=max_price)"
      ]
    },
    {
      "cell_type": "code",
      "execution_count": null,
      "id": "8de0e2bd",
      "metadata": {
        "id": "8de0e2bd",
        "outputId": "1b603254-69b2-4cca-83c6-8b80e9c45fa5",
        "colab": {
          "base_uri": "https://localhost:8080/",
          "height": 216
        }
      },
      "outputs": [
        {
          "output_type": "error",
          "ename": "ValueError",
          "evalue": "operands could not be broadcast together with shapes (10000,) (5508,) ",
          "traceback": [
            "\u001b[0;31m---------------------------------------------------------------------------\u001b[0m",
            "\u001b[0;31mValueError\u001b[0m                                Traceback (most recent call last)",
            "\u001b[0;32m/tmp/ipython-input-25-663356082.py\u001b[0m in \u001b[0;36m<cell line: 0>\u001b[0;34m()\u001b[0m\n\u001b[1;32m     33\u001b[0m \u001b[0;34m\u001b[0m\u001b[0m\n\u001b[1;32m     34\u001b[0m   \u001b[0magent_rewards\u001b[0m \u001b[0;34m=\u001b[0m \u001b[0mnp\u001b[0m\u001b[0;34m.\u001b[0m\u001b[0marray\u001b[0m\u001b[0;34m(\u001b[0m\u001b[0magent_rewards\u001b[0m\u001b[0;34m)\u001b[0m\u001b[0;34m\u001b[0m\u001b[0;34m\u001b[0m\u001b[0m\n\u001b[0;32m---> 35\u001b[0;31m   \u001b[0mcumulative_regret\u001b[0m \u001b[0;34m=\u001b[0m \u001b[0mnp\u001b[0m\u001b[0;34m.\u001b[0m\u001b[0mcumsum\u001b[0m\u001b[0;34m(\u001b[0m\u001b[0mexpected_clairvoyant_utilities\u001b[0m \u001b[0;34m-\u001b[0m \u001b[0magent_rewards\u001b[0m\u001b[0;34m)\u001b[0m\u001b[0;34m\u001b[0m\u001b[0;34m\u001b[0m\u001b[0m\n\u001b[0m\u001b[1;32m     36\u001b[0m   \u001b[0mregret_per_trial\u001b[0m\u001b[0;34m.\u001b[0m\u001b[0mappend\u001b[0m\u001b[0;34m(\u001b[0m\u001b[0mcumulative_regret\u001b[0m\u001b[0;34m)\u001b[0m\u001b[0;34m\u001b[0m\u001b[0;34m\u001b[0m\u001b[0m\n\u001b[1;32m     37\u001b[0m \u001b[0;34m\u001b[0m\u001b[0m\n",
            "\u001b[0;31mValueError\u001b[0m: operands could not be broadcast together with shapes (10000,) (5508,) "
          ]
        }
      ],
      "source": [
        "# Run clairvoyant\n",
        "clairvoyant = SingleProductStochasticInventoryClaivoyant(T, B, prices, valuation_distr)\n",
        "\n",
        "expected_clairvoyant_utilities = clairvoyant.run()\n",
        "\n",
        "n_trials = 20\n",
        "regret_per_trial = []\n",
        "for trial in range(n_trials):\n",
        "\n",
        "  # Define environment and agent\n",
        "  env = SingleProductEnvironment(T)\n",
        "  ucb_like_agent = UCBLike(T, B, prices, range=max_price)\n",
        "\n",
        "  agent_rewards = []\n",
        "  for t in range(T):\n",
        "    if(B<=0):\n",
        "      break\n",
        "    # This returns the price index\n",
        "    pi_t = ucb_like_agent.pull_arm()\n",
        "\n",
        "    # Get the actual price\n",
        "    p_t = prices[pi_t]\n",
        "\n",
        "    # Get reward\n",
        "    r_t = env.round(p_t)\n",
        "\n",
        "    # Update agent state\n",
        "    ucb_like_agent.update(r_t, r_t > 0)\n",
        "\n",
        "    agent_rewards.append(r_t)\n",
        "    if(r_t>0):\n",
        "      B = B - 1\n",
        "\n",
        "  agent_rewards = np.array(agent_rewards)\n",
        "  cumulative_regret = np.cumsum(expected_clairvoyant_utilities - agent_rewards)\n",
        "  regret_per_trial.append(cumulative_regret)\n",
        "\n",
        "regret_per_trial = np.array(regret_per_trial)"
      ]
    },
    {
      "cell_type": "code",
      "execution_count": null,
      "id": "102db6d6",
      "metadata": {
        "id": "102db6d6"
      },
      "outputs": [],
      "source": [
        "average_regret = regret_per_trial.mean(axis=0) # mean\n",
        "regret_sd = regret_per_trial.std(axis=0) # standard deviation\n",
        "\n",
        "plt.plot(np.arange(T), average_regret, label=\"Average\")\n",
        "plt.fill_between(\n",
        "    np.arange(T),\n",
        "    average_regret-regret_sd/np.sqrt(n_trials),\n",
        "    average_regret+regret_sd/np.sqrt(n_trials),\n",
        "    alpha=0.3,\n",
        "    label=\"Uncertainty\"\n",
        ")\n",
        "plt.xlabel(\"$t$\")\n",
        "plt.legend()"
      ]
    },
    {
      "cell_type": "code",
      "execution_count": null,
      "id": "LJi_FiWA-uXt",
      "metadata": {
        "id": "LJi_FiWA-uXt"
      },
      "outputs": [],
      "source": [
        "ucb_like_agent.budget"
      ]
    },
    {
      "cell_type": "code",
      "execution_count": null,
      "id": "99f7ZWqrAJWa",
      "metadata": {
        "id": "99f7ZWqrAJWa"
      },
      "outputs": [],
      "source": [
        "t = np.arange(1, T + 1)  # da 1 per evitare log(0)\n",
        "theoretical_curve = np.sqrt(t)\n",
        "average_regret = regret_per_trial.mean(axis=0) # mean\n",
        "regret_sd = regret_per_trial.std(axis=0) # standard deviation\n",
        "\n",
        "plt.plot(np.arange(T), average_regret, label=\"Average\")\n",
        "plt.fill_between(\n",
        "    np.arange(T),\n",
        "    average_regret-regret_sd/np.sqrt(n_trials),\n",
        "    average_regret+regret_sd/np.sqrt(n_trials),\n",
        "    alpha=0.3,\n",
        "    label=\"Uncertainty\"\n",
        ")\n",
        "\n",
        "\n",
        "plt.plot(t - 1, theoretical_curve, label=r\"$\\sqrt{t }$\", linestyle=\"--\", color=\"red\")\n",
        "\n",
        "\n",
        "plt.xlabel(\"$t$\")\n",
        "plt.ylabel(\"Regret\")\n",
        "plt.title(\"Regret vs Theoretical $\\sqrt{ t}$ Growth\")\n",
        "plt.legend()\n",
        "plt.grid(True)\n",
        "plt.tight_layout()\n",
        "plt.show()"
      ]
    },
    {
      "cell_type": "markdown",
      "id": "f1bd2fb9",
      "metadata": {
        "id": "f1bd2fb9"
      },
      "source": [
        "### Requirement 2: multiple products and stochastic environment"
      ]
    },
    {
      "cell_type": "code",
      "execution_count": 4,
      "id": "12458ee0",
      "metadata": {
        "id": "12458ee0"
      },
      "outputs": [],
      "source": [
        "class MultipleProductEnvironment(Environment):\n",
        "  def __init__(self, T, N, max_valuation):\n",
        "    self.T = T # Number of buyers (rounds)\n",
        "    self.N = N # Number of types of products\n",
        "    self.t = 0 # Current buyer\n",
        "\n",
        "    # Valuation of each buyer sampled from the given distribution function\n",
        "    self.valuations = np.random.uniform(0, max_valuation, size=(T, N))\n",
        "\n",
        "  def round(self, p_t):\n",
        "    reward = np.array([])\n",
        "\n",
        "    # Check if the buyer valuations are higher than products prices\n",
        "    for valuation, price in zip(self.valuations[self.t, :], p_t):\n",
        "      if valuation >= price:\n",
        "        reward = np.append(reward, price)\n",
        "      else:\n",
        "        reward = np.append(reward, 0.)\n",
        "\n",
        "    # Update round\n",
        "    self.t = self.t + 1\n",
        "    return reward"
      ]
    },
    {
      "cell_type": "markdown",
      "id": "e4e5329c",
      "metadata": {
        "id": "e4e5329c"
      },
      "source": [
        "### Requirement 3: best-of-both-worlds algorithms with a single product"
      ]
    },
    {
      "cell_type": "code",
      "source": [
        "def getDistribution():\n",
        "    arr = np.arange(0.2, 2, 0.2)\n",
        "    random_index_a = random.randint(0, len(arr) - 1)\n",
        "    random_index_b = random.randint(0, len(arr) - 1)\n",
        "\n",
        "    return stats.beta(arr[random_index_a], arr[random_index_b])"
      ],
      "metadata": {
        "id": "5QJm2RT4tMCW"
      },
      "id": "5QJm2RT4tMCW",
      "execution_count": 30,
      "outputs": []
    },
    {
      "cell_type": "code",
      "execution_count": 29,
      "id": "637d8229",
      "metadata": {
        "id": "637d8229"
      },
      "outputs": [],
      "source": [
        "def getDistribution():\n",
        "    a = stats.uniform(loc=0, scale=2).rvs()\n",
        "    b = stats.uniform(loc=0, scale=2).rvs()\n",
        "\n",
        "    return stats.beta(a,b)"
      ]
    },
    {
      "cell_type": "code",
      "source": [
        "def getDistribution():\n",
        "    arr = np.arange(2, 8, 1)  # valori tra 2 e 7\n",
        "    a = np.random.choice(arr)\n",
        "    b = np.random.choice(arr)\n",
        "    return stats.beta(a, b)"
      ],
      "metadata": {
        "id": "_YtXozfvFyAa"
      },
      "id": "_YtXozfvFyAa",
      "execution_count": 5,
      "outputs": []
    },
    {
      "cell_type": "markdown",
      "source": [
        "#### Environment"
      ],
      "metadata": {
        "id": "5Ax1OW8_6jVy"
      },
      "id": "5Ax1OW8_6jVy"
    },
    {
      "cell_type": "code",
      "execution_count": 31,
      "id": "e501971d",
      "metadata": {
        "id": "e501971d"
      },
      "outputs": [],
      "source": [
        "class SingleProductHighlyNonStationaryEnvironment(Environment):\n",
        "  def __init__(self, T, valuation_distr):\n",
        "    self.T = T # Number of rounds\n",
        "    self.t = 0 # Starting round\n",
        "\n",
        "    # Valuation of each buyer sampled from the given distribution function\n",
        "    #self.valuation = valuation_distr.rvs(size=T)\n",
        "    self.valuation = [valuation_distr[i].rvs() for i in range(T)]\n",
        "\n",
        "  def round(self, p_t):\n",
        "    # Check if the buyer valuation is higher than product price\n",
        "    r_t = p_t if self.valuation[self.t] >= p_t else 0\n",
        "\n",
        "    # Update round\n",
        "    self.t = self.t + 1\n",
        "\n",
        "    return r_t"
      ]
    },
    {
      "cell_type": "markdown",
      "source": [
        "#### Clairvoyant"
      ],
      "metadata": {
        "id": "QEB_mdtd61Wm"
      },
      "id": "QEB_mdtd61Wm"
    },
    {
      "cell_type": "code",
      "source": [
        "class SingleProductHighltyNonStationaryClairvoyant:\n",
        "    def __init__(self, T, B, prices, valuation_distr):\n",
        "        self.T = T\n",
        "        self.prices = prices\n",
        "        self.B=B\n",
        "        # This is probability distributions over valuations (scipy.stats)\n",
        "        self.valuation_distr = valuation_distr\n",
        "\n",
        "    def run(self):\n",
        "        # Probability of selling a product\n",
        "\n",
        "        selling_prob = [1 - self.valuation_distr[i].cdf(self.prices) for i in range(T)]\n",
        "        selling_prob_mean=np.mean(selling_prob, axis=0)\n",
        "\n",
        "        ## Liner programming\n",
        "        c = - self.prices * selling_prob_mean # objective function coefficients\n",
        "\n",
        "        # Constraints\n",
        "        A_eq = [np.ones(len(self.prices))]\n",
        "        b_eq = [1]\n",
        "\n",
        "        A_ub = [selling_prob_mean]\n",
        "        rho=self.B/self.T\n",
        "        b_ub = [rho]\n",
        "\n",
        "        # Resolve LP\n",
        "        res = optimize.linprog(c, A_eq=A_eq, b_eq=b_eq, A_ub=A_ub, b_ub=b_ub, bounds=(0,1))\n",
        "        expected_utility = np.array([-res.fun for _ in range(self.T)])\n",
        "\n",
        "        return expected_utility"
      ],
      "metadata": {
        "id": "bxU_YFI_B2pL"
      },
      "id": "bxU_YFI_B2pL",
      "execution_count": 32,
      "outputs": []
    },
    {
      "cell_type": "markdown",
      "id": "0a88f5a0",
      "metadata": {
        "id": "0a88f5a0"
      },
      "source": [
        "#### Agent"
      ]
    },
    {
      "cell_type": "code",
      "execution_count": 33,
      "id": "80a366f0",
      "metadata": {
        "id": "80a366f0"
      },
      "outputs": [],
      "source": [
        "class EXP3Agent(Agent):\n",
        "    def __init__(self, K, learning_rate):\n",
        "        self.K = K\n",
        "        self.learning_rate = learning_rate\n",
        "        self.weights = np.ones(K)\n",
        "        self.a_t = None\n",
        "        self.x_t = np.ones(K)/K\n",
        "        self.N_pulls = np.zeros(K)\n",
        "        self.t = 0\n",
        "\n",
        "    def pull_arm(self):\n",
        "        self.x_t = self.weights/sum(self.weights)\n",
        "        self.a_t = np.random.choice(np.arange(self.K), p=self.x_t)\n",
        "        return self.a_t\n",
        "\n",
        "    def update(self, l_t):\n",
        "        l_t_tilde = l_t/self.x_t[self.a_t]\n",
        "        self.weights[self.a_t] *= np.exp(-self.learning_rate*l_t_tilde)\n",
        "        self.N_pulls[self.a_t] += 1\n",
        "        self.t += 1"
      ]
    },
    {
      "cell_type": "code",
      "execution_count": 46,
      "id": "ec2b5d03",
      "metadata": {
        "id": "ec2b5d03"
      },
      "outputs": [],
      "source": [
        "class FFMultiplicativePacingAgent(Agent):\n",
        "    def __init__(self, prices_set, budget, T, eta, learning_rate):\n",
        "        self.prices_set = prices_set\n",
        "        self.K = len(prices_set)\n",
        "        self.learning_rate = learning_rate\n",
        "        self.exp3 = EXP3Agent(self.K, self.learning_rate)\n",
        "        self.budget = budget\n",
        "        self.eta = eta\n",
        "        self.T = T\n",
        "        self.rho = self.budget/self.T + 1.5\n",
        "        self.lmbd = 1\n",
        "        self.t = 0\n",
        "        self.N_pulls = np.zeros(len(prices_set))\n",
        "        self.price_index = 0\n",
        "        self._lambdas = []\n",
        "\n",
        "    def pull_arm(self):\n",
        "        if self.budget < 1:\n",
        "            #self.price_index = 0\n",
        "            return 1.1\n",
        "\n",
        "       # epsilon = 0.1  # 10% round di esplorazione\n",
        "       # low_price_idxs = [i for i, p in enumerate(self.prices_set) if p <= 0.4]\n",
        "\n",
        "       # if np.random.rand() < epsilon:\n",
        "       #     self.price_index = np.random.choice(low_price_idxs)\n",
        "       # else:\n",
        "       #     self.price_index = self.exp3.pull_arm()\n",
        "\n",
        "        self.price_index = self.exp3.pull_arm()\n",
        "        return self.prices_set[self.price_index]\n",
        "\n",
        "    def update(self, f_t):\n",
        "        #self.rho = self.budget/(self.T-self.t+1)\n",
        "        c_t = int(f_t > 0) # >=\n",
        "        L = f_t - self.lmbd*(c_t-self.rho)\n",
        "\n",
        "\n",
        "\n",
        "# rescale lineare tra min e max possibili\n",
        "        # L_rescaled = (L + self.lmbd) / (max(self.prices_set) + self.lmbd + 1e-12)\n",
        "        # self.exp3.update(1-L_rescaled)\n",
        "\n",
        "        L_up = 1 -(1/self.rho)*(-self.rho)\n",
        "        L_low = 0 -(1/self.rho)*(1-self.rho)\n",
        "        rescaled_L = (L - L_low)/(L_up-L_low)\n",
        "        self.exp3.update(1 -L) # we need to maximize L\n",
        "\n",
        "        # update lagrangian multiplier\n",
        "        self.lmbd = np.clip(self.lmbd-self.eta*(self.rho-c_t),\n",
        "                            a_min=0, a_max=1/self.rho)\n",
        "\n",
        "        self._lambdas.append((self.lmbd, c_t))\n",
        "\n",
        "        # update budget\n",
        "        self.budget -= c_t\n",
        "        # log\n",
        "        self.N_pulls[self.price_index] += 1\n",
        "\n",
        "    def get_budget(self):\n",
        "      return self.budget\n",
        "\n",
        "    def lambdas(self):\n",
        "      return self._lambdas"
      ]
    },
    {
      "cell_type": "markdown",
      "source": [
        "#### Prove agent"
      ],
      "metadata": {
        "id": "ZadKxhN16Y2N"
      },
      "id": "ZadKxhN16Y2N"
    },
    {
      "cell_type": "code",
      "source": [
        "class EXP3PAgent(Agent):\n",
        "    def __init__(self, K, T, alpha, gamma):\n",
        "        self.K = K                      # Numero di bracci\n",
        "        self.T = T                      # Orizzonte\n",
        "        self.alpha = alpha              # Parametro α > 0\n",
        "        self.gamma = gamma              # Parametro γ ∈ (0,1]\n",
        "\n",
        "        # Inizializzazione dei pesi\n",
        "        init_weight = np.exp((alpha * gamma / 3) * np.sqrt(T / K))\n",
        "        self.weights = np.full(K, init_weight)\n",
        "\n",
        "        self.t = 0                      # Tempo\n",
        "        self.x_t = np.ones(K) / K      # Distribuzione iniziale\n",
        "        self.a_t = None                # Azione scelta\n",
        "\n",
        "    def pull_arm(self):\n",
        "        # Passo 1: Calcolo delle probabilità p_i(t)\n",
        "        weight_sum = np.sum(self.weights)\n",
        "        self.x_t = (1 - self.gamma) * (self.weights / weight_sum) + self.gamma / self.K\n",
        "\n",
        "        # Passo 2: Seleziona l'azione\n",
        "        self.a_t = np.random.choice(self.K, p=self.x_t)\n",
        "        return self.a_t\n",
        "\n",
        "    def update(self, reward):\n",
        "        # Passo 3: reward osservato ∈ [0,1]\n",
        "        # Passo 4: Stima del reward (importance-weighted)\n",
        "        estimated_reward = np.zeros(self.K)\n",
        "        estimated_reward[self.a_t] = reward / self.x_t[self.a_t]\n",
        "\n",
        "        # Passo 5: Aggiornamento dei pesi\n",
        "        for j in range(self.K):\n",
        "            bonus = self.alpha / self.x_t[j] * np.sqrt(self.K / self.T)\n",
        "            exponent = (self.gamma / (3 * self.K)) * (estimated_reward[j] + bonus)\n",
        "            self.weights[j] *= np.exp(exponent)\n",
        "\n",
        "        self.t += 1"
      ],
      "metadata": {
        "id": "HlsmwCD3CgvV"
      },
      "id": "HlsmwCD3CgvV",
      "execution_count": null,
      "outputs": []
    },
    {
      "cell_type": "code",
      "source": [
        "import numpy as np\n",
        "\n",
        "class EXP3P_Bandit_Agent(Agent):\n",
        "    def __init__(self, N, eta, alpha, gamma):\n",
        "        self.N = N                  # Numero di azioni (bracci)\n",
        "        self.alpha = alpha            # Stabilizzazione\n",
        "        self.eta = eta              # Learning rate\n",
        "        self.gamma = gamma          # Esplorazione\n",
        "        self.weights = np.ones(N)   # Pesi iniziali\n",
        "        self.p = np.ones(N) / N     # Distribuzione iniziale\n",
        "        self.last_action = None\n",
        "        self.t = 0\n",
        "\n",
        "    def pull_arm(self):\n",
        "        self.last_action = np.random.choice(self.N, p=self.p)\n",
        "        return self.last_action\n",
        "\n",
        "    def update(self, observed_reward):\n",
        "        i = self.last_action\n",
        "        g_tilde = np.zeros(self.N)\n",
        "\n",
        "        # Solo il braccio selezionato riceve reward stimato\n",
        "        g_tilde[i] = (observed_reward + self.alpha) / self.p[i]\n",
        "\n",
        "        # Gli altri ricevono solo bonus β / p_i\n",
        "        for j in range(self.N):\n",
        "            if j != i:\n",
        "                g_tilde[j] = self.alpha / self.p[j]\n",
        "\n",
        "        # Aggiorna pesi\n",
        "        self.weights *= np.exp(self.eta * g_tilde)\n",
        "\n",
        "        # Ricalcola distribuzione con smoothing\n",
        "        W_t = np.sum(self.weights)\n",
        "        self.p = (1 - self.gamma) * (self.weights / W_t) + self.gamma / self.N\n",
        "\n",
        "        self.t += 1\n"
      ],
      "metadata": {
        "id": "Vrl5hlxCNK8D"
      },
      "id": "Vrl5hlxCNK8D",
      "execution_count": null,
      "outputs": []
    },
    {
      "cell_type": "code",
      "source": [
        "delta = 0.05\n",
        "alpha = np.sqrt( (1 / (T * K)) * np.log(K / delta) )\n",
        "gamma = (4 * K * alpha) / (3 + alpha)\n",
        "eta = gamma / (2 * K)"
      ],
      "metadata": {
        "id": "uDuuxfOxJ2Cw"
      },
      "id": "uDuuxfOxJ2Cw",
      "execution_count": null,
      "outputs": []
    },
    {
      "cell_type": "markdown",
      "source": [
        "#### Parameters"
      ],
      "metadata": {
        "id": "edRPUchA7Vge"
      },
      "id": "edRPUchA7Vge"
    },
    {
      "cell_type": "code",
      "source": [
        "# Parameters\n",
        "T = 50000\n",
        "B = T * 3/4\n",
        "\n",
        "# Prices\n",
        "max_price = 1.1\n",
        "price_step = 0.1\n",
        "prices = np.arange(0.1, max_price, price_step)\n",
        "K = len(prices)\n",
        "# Valuation prob. distribution\n",
        "max_valuation = 1"
      ],
      "metadata": {
        "id": "HhON4-gPP-5l"
      },
      "id": "HhON4-gPP-5l",
      "execution_count": 80,
      "outputs": []
    },
    {
      "cell_type": "code",
      "source": [
        "prices"
      ],
      "metadata": {
        "id": "U6S96D7C7fNS",
        "outputId": "4975b5af-6570-4a49-af81-2133a1685222",
        "colab": {
          "base_uri": "https://localhost:8080/"
        }
      },
      "id": "U6S96D7C7fNS",
      "execution_count": 81,
      "outputs": [
        {
          "output_type": "execute_result",
          "data": {
            "text/plain": [
              "array([0.1, 0.2, 0.3, 0.4, 0.5, 0.6, 0.7, 0.8, 0.9, 1. ])"
            ]
          },
          "metadata": {},
          "execution_count": 81
        }
      ]
    },
    {
      "cell_type": "code",
      "source": [
        "K"
      ],
      "metadata": {
        "id": "ZAFy3-MM7w3A",
        "outputId": "9cce8fd0-00ac-4774-98d7-8f6e3494e418",
        "colab": {
          "base_uri": "https://localhost:8080/"
        }
      },
      "id": "ZAFy3-MM7w3A",
      "execution_count": null,
      "outputs": [
        {
          "output_type": "execute_result",
          "data": {
            "text/plain": [
              "10"
            ]
          },
          "metadata": {},
          "execution_count": 35
        }
      ]
    },
    {
      "cell_type": "code",
      "execution_count": 73,
      "id": "5bde0717",
      "metadata": {
        "id": "5bde0717"
      },
      "outputs": [],
      "source": [
        "learning_rate = np.sqrt(np.log(K)/(K*T))  #learning rate EXP3\n",
        "eta=1/np.sqrt(T)   #learing rate Multiplicative pacing\n",
        "\n",
        "TIME_INTERVAL = 1    #interval in which the distribution remain the same\n",
        "valuation_distributions = []\n",
        "for t in range(T):\n",
        "  if t % TIME_INTERVAL == 0:\n",
        "    distr = getDistribution()\n",
        "\n",
        "  valuation_distributions.append(distr)\n",
        "\n",
        "# selling_prob = [1 - valuation_distributions[i].cdf(prices) for i in range(T)]\n",
        "# selling_prob_mean=np.mean(selling_prob, axis=0)"
      ]
    },
    {
      "cell_type": "code",
      "source": [
        "sample_vals = [valuation_distributions[t].rvs() for t in range(T)]\n",
        "print(f\"Valore medio sample: {np.mean(sample_vals):.3f}\")\n",
        "print(f\"Valore minimo sample: {np.min(sample_vals):.3f}\")\n",
        "print(f\"Valore massimo sample: {np.max(sample_vals):.3f}\")"
      ],
      "metadata": {
        "id": "wvPJKjJqIT9U",
        "outputId": "9fae2ba9-b0c0-41df-8df9-10d1c607a8aa",
        "colab": {
          "base_uri": "https://localhost:8080/"
        }
      },
      "id": "wvPJKjJqIT9U",
      "execution_count": 49,
      "outputs": [
        {
          "output_type": "stream",
          "name": "stdout",
          "text": [
            "Valore medio sample: 0.499\n",
            "Valore minimo sample: 0.000\n",
            "Valore massimo sample: 1.000\n"
          ]
        }
      ]
    },
    {
      "cell_type": "code",
      "source": [
        "from collections import Counter\n",
        "\n",
        "# Calcola media e varianza per ogni distribuzione\n",
        "mean_var_pairs = []\n",
        "\n",
        "for dist in valuation_distributions:\n",
        "    mean, var = dist.stats(moments='mv')\n",
        "    mean = float(np.round(mean, 4))  # arrotondo per evitare problemi di float\n",
        "    var = float(np.round(var, 4))\n",
        "    mean_var_pairs.append((mean, var))\n",
        "\n",
        "# Conta quante volte appaiono le coppie (mean, var)\n",
        "count_mv = Counter(mean_var_pairs)\n",
        "\n",
        "# Stampa solo quelle diverse (una volta ciascuna, con frequenza)\n",
        "print(\"Distribuzioni distinte (media, varianza) e frequenze:\")\n",
        "for (mean, var), count in sorted(count_mv.items()):\n",
        "    print(f\"mean={mean:.4f}, var={var:.4f} → {count} volte\")\n",
        "\n",
        "means = [m for m, v in mean_var_pairs]\n",
        "\n",
        "print(f\"Valore medio sample: {np.mean(means):.3f}\")\n",
        "print(f\"Valore minimo sample: {np.min(means):.3f}\")\n",
        "print(f\"Valore massimo sample: {np.max(means):.3f}\")"
      ],
      "metadata": {
        "id": "gsGYwbch2Zah",
        "outputId": "1bdea628-13b4-4427-8204-942e7d1ae5da",
        "colab": {
          "base_uri": "https://localhost:8080/"
        }
      },
      "id": "gsGYwbch2Zah",
      "execution_count": 74,
      "outputs": [
        {
          "output_type": "stream",
          "name": "stdout",
          "text": [
            "Distribuzioni distinte (media, varianza) e frequenze:\n",
            "mean=0.1000, var=0.0300 → 589 volte\n",
            "mean=0.1111, var=0.0353 → 652 volte\n",
            "mean=0.1250, var=0.0421 → 656 volte\n",
            "mean=0.1429, var=0.0510 → 629 volte\n",
            "mean=0.1667, var=0.0631 → 620 volte\n",
            "mean=0.1818, var=0.0465 → 608 volte\n",
            "mean=0.2000, var=0.0533 → 576 volte\n",
            "mean=0.2000, var=0.0800 → 618 volte\n",
            "mean=0.2222, var=0.0617 → 686 volte\n",
            "mean=0.2500, var=0.0551 → 624 volte\n",
            "mean=0.2500, var=0.0721 → 597 volte\n",
            "mean=0.2500, var=0.1042 → 581 volte\n",
            "mean=0.2727, var=0.0620 → 609 volte\n",
            "mean=0.2857, var=0.0850 → 649 volte\n",
            "mean=0.3000, var=0.0700 → 611 volte\n",
            "mean=0.3077, var=0.0592 → 629 volte\n",
            "mean=0.3333, var=0.0654 → 625 volte\n",
            "mean=0.3333, var=0.0794 → 600 volte\n",
            "mean=0.3333, var=0.1010 → 608 volte\n",
            "mean=0.3333, var=0.1389 → 604 volte\n",
            "mean=0.3571, var=0.0604 → 619 volte\n",
            "mean=0.3636, var=0.0723 → 617 volte\n",
            "mean=0.3750, var=0.0901 → 592 volte\n",
            "mean=0.3846, var=0.0657 → 623 volte\n",
            "mean=0.4000, var=0.0600 → 581 volte\n",
            "mean=0.4000, var=0.0800 → 616 volte\n",
            "mean=0.4000, var=0.1200 → 614 volte\n",
            "mean=0.4167, var=0.0715 → 638 volte\n",
            "mean=0.4286, var=0.0644 → 595 volte\n",
            "mean=0.4286, var=0.1020 → 617 volte\n",
            "mean=0.4375, var=0.0586 → 641 volte\n",
            "mean=0.4444, var=0.0882 → 647 volte\n",
            "mean=0.4545, var=0.0775 → 653 volte\n",
            "mean=0.4615, var=0.0690 → 655 volte\n",
            "mean=0.4667, var=0.0622 → 604 volte\n",
            "mean=0.4706, var=0.0566 → 634 volte\n",
            "mean=0.5000, var=0.0543 → 631 volte\n",
            "mean=0.5000, var=0.0595 → 622 volte\n",
            "mean=0.5000, var=0.0658 → 614 volte\n",
            "mean=0.5000, var=0.0735 → 581 volte\n",
            "mean=0.5000, var=0.0833 → 612 volte\n",
            "mean=0.5000, var=0.0962 → 609 volte\n",
            "mean=0.5000, var=0.1136 → 649 volte\n",
            "mean=0.5000, var=0.1389 → 642 volte\n",
            "mean=0.5000, var=0.1786 → 613 volte\n",
            "mean=0.5294, var=0.0566 → 631 volte\n",
            "mean=0.5333, var=0.0622 → 631 volte\n",
            "mean=0.5385, var=0.0690 → 596 volte\n",
            "mean=0.5455, var=0.0775 → 607 volte\n",
            "mean=0.5556, var=0.0882 → 603 volte\n",
            "mean=0.5625, var=0.0586 → 630 volte\n",
            "mean=0.5714, var=0.0644 → 632 volte\n",
            "mean=0.5714, var=0.1020 → 619 volte\n",
            "mean=0.5833, var=0.0715 → 587 volte\n",
            "mean=0.6000, var=0.0600 → 616 volte\n",
            "mean=0.6000, var=0.0800 → 629 volte\n",
            "mean=0.6000, var=0.1200 → 604 volte\n",
            "mean=0.6154, var=0.0657 → 597 volte\n",
            "mean=0.6250, var=0.0901 → 607 volte\n",
            "mean=0.6364, var=0.0723 → 582 volte\n",
            "mean=0.6429, var=0.0604 → 616 volte\n",
            "mean=0.6667, var=0.0654 → 621 volte\n",
            "mean=0.6667, var=0.0794 → 648 volte\n",
            "mean=0.6667, var=0.1010 → 633 volte\n",
            "mean=0.6667, var=0.1389 → 619 volte\n",
            "mean=0.6923, var=0.0592 → 594 volte\n",
            "mean=0.7000, var=0.0700 → 624 volte\n",
            "mean=0.7143, var=0.0850 → 614 volte\n",
            "mean=0.7273, var=0.0620 → 608 volte\n",
            "mean=0.7500, var=0.0551 → 580 volte\n",
            "mean=0.7500, var=0.0721 → 608 volte\n",
            "mean=0.7500, var=0.1042 → 638 volte\n",
            "mean=0.7778, var=0.0617 → 634 volte\n",
            "mean=0.8000, var=0.0533 → 643 volte\n",
            "mean=0.8000, var=0.0800 → 630 volte\n",
            "mean=0.8182, var=0.0465 → 599 volte\n",
            "mean=0.8333, var=0.0631 → 623 volte\n",
            "mean=0.8571, var=0.0510 → 611 volte\n",
            "mean=0.8750, var=0.0421 → 587 volte\n",
            "mean=0.8889, var=0.0353 → 628 volte\n",
            "mean=0.9000, var=0.0300 → 581 volte\n",
            "Valore medio sample: 0.499\n",
            "Valore minimo sample: 0.100\n",
            "Valore massimo sample: 0.900\n"
          ]
        }
      ]
    },
    {
      "cell_type": "code",
      "source": [
        "#print of the distributions (only the different values)\n",
        "\n",
        "means = []\n",
        "vars_ = []\n",
        "\n",
        "for i, dist in enumerate(valuation_distributions):\n",
        "    mean, var = dist.stats(moments='mv')\n",
        "    means.append(mean)\n",
        "    vars_.append(var)\n",
        "printed = set()\n",
        "for i, (m, v) in enumerate(zip(means, vars_)):\n",
        "    key = (round(float(m), 6), round(float(v), 6))  # Arrotonda per evitare problemi di floating point\n",
        "    if key not in printed:\n",
        "        print(f\"Distribuzione {i}: mean = {m:.3f}, var = {v:.3f}\")\n",
        "        printed.add(key)"
      ],
      "metadata": {
        "id": "lZrRj_mxUrhl",
        "outputId": "7a23cd53-75ab-4f57-e15a-c2d3649b214a",
        "colab": {
          "base_uri": "https://localhost:8080/"
        }
      },
      "id": "lZrRj_mxUrhl",
      "execution_count": 51,
      "outputs": [
        {
          "output_type": "stream",
          "name": "stdout",
          "text": [
            "Distribuzione 0: mean = 0.250, var = 0.072\n",
            "Distribuzione 1: mean = 0.800, var = 0.053\n",
            "Distribuzione 2: mean = 0.636, var = 0.072\n",
            "Distribuzione 3: mean = 0.500, var = 0.054\n",
            "Distribuzione 4: mean = 0.300, var = 0.070\n",
            "Distribuzione 5: mean = 0.333, var = 0.079\n",
            "Distribuzione 6: mean = 0.818, var = 0.046\n",
            "Distribuzione 7: mean = 0.857, var = 0.051\n",
            "Distribuzione 8: mean = 0.167, var = 0.063\n",
            "Distribuzione 9: mean = 0.700, var = 0.070\n",
            "Distribuzione 10: mean = 0.100, var = 0.030\n",
            "Distribuzione 11: mean = 0.273, var = 0.062\n",
            "Distribuzione 13: mean = 0.538, var = 0.069\n",
            "Distribuzione 14: mean = 0.500, var = 0.083\n",
            "Distribuzione 15: mean = 0.250, var = 0.055\n",
            "Distribuzione 16: mean = 0.545, var = 0.077\n",
            "Distribuzione 17: mean = 0.500, var = 0.060\n",
            "Distribuzione 18: mean = 0.455, var = 0.077\n",
            "Distribuzione 19: mean = 0.400, var = 0.060\n",
            "Distribuzione 21: mean = 0.714, var = 0.085\n",
            "Distribuzione 22: mean = 0.533, var = 0.062\n",
            "Distribuzione 23: mean = 0.500, var = 0.074\n",
            "Distribuzione 24: mean = 0.571, var = 0.064\n",
            "Distribuzione 25: mean = 0.643, var = 0.060\n",
            "Distribuzione 26: mean = 0.200, var = 0.053\n",
            "Distribuzione 27: mean = 0.467, var = 0.062\n",
            "Distribuzione 28: mean = 0.600, var = 0.080\n",
            "Distribuzione 29: mean = 0.111, var = 0.035\n",
            "Distribuzione 30: mean = 0.833, var = 0.063\n",
            "Distribuzione 32: mean = 0.182, var = 0.046\n",
            "Distribuzione 34: mean = 0.667, var = 0.065\n",
            "Distribuzione 36: mean = 0.462, var = 0.069\n",
            "Distribuzione 39: mean = 0.471, var = 0.057\n",
            "Distribuzione 40: mean = 0.500, var = 0.066\n",
            "Distribuzione 41: mean = 0.357, var = 0.060\n",
            "Distribuzione 43: mean = 0.727, var = 0.062\n",
            "Distribuzione 46: mean = 0.750, var = 0.104\n",
            "Distribuzione 47: mean = 0.600, var = 0.120\n",
            "Distribuzione 48: mean = 0.778, var = 0.062\n",
            "Distribuzione 51: mean = 0.429, var = 0.102\n",
            "Distribuzione 52: mean = 0.500, var = 0.179\n",
            "Distribuzione 53: mean = 0.364, var = 0.072\n",
            "Distribuzione 57: mean = 0.800, var = 0.080\n",
            "Distribuzione 58: mean = 0.200, var = 0.080\n",
            "Distribuzione 59: mean = 0.692, var = 0.059\n",
            "Distribuzione 60: mean = 0.400, var = 0.120\n",
            "Distribuzione 62: mean = 0.562, var = 0.059\n",
            "Distribuzione 63: mean = 0.400, var = 0.080\n",
            "Distribuzione 66: mean = 0.375, var = 0.090\n",
            "Distribuzione 67: mean = 0.875, var = 0.042\n",
            "Distribuzione 68: mean = 0.308, var = 0.059\n",
            "Distribuzione 70: mean = 0.583, var = 0.071\n",
            "Distribuzione 73: mean = 0.600, var = 0.060\n",
            "Distribuzione 82: mean = 0.500, var = 0.114\n",
            "Distribuzione 83: mean = 0.250, var = 0.104\n",
            "Distribuzione 90: mean = 0.615, var = 0.066\n",
            "Distribuzione 91: mean = 0.500, var = 0.096\n",
            "Distribuzione 93: mean = 0.625, var = 0.090\n",
            "Distribuzione 97: mean = 0.333, var = 0.101\n",
            "Distribuzione 99: mean = 0.333, var = 0.139\n",
            "Distribuzione 102: mean = 0.556, var = 0.088\n",
            "Distribuzione 116: mean = 0.750, var = 0.055\n",
            "Distribuzione 118: mean = 0.529, var = 0.057\n",
            "Distribuzione 128: mean = 0.900, var = 0.030\n",
            "Distribuzione 129: mean = 0.500, var = 0.139\n",
            "Distribuzione 136: mean = 0.143, var = 0.051\n",
            "Distribuzione 137: mean = 0.889, var = 0.035\n",
            "Distribuzione 140: mean = 0.417, var = 0.071\n",
            "Distribuzione 141: mean = 0.444, var = 0.088\n",
            "Distribuzione 145: mean = 0.125, var = 0.042\n",
            "Distribuzione 155: mean = 0.667, var = 0.101\n",
            "Distribuzione 176: mean = 0.385, var = 0.066\n",
            "Distribuzione 182: mean = 0.429, var = 0.064\n",
            "Distribuzione 188: mean = 0.571, var = 0.102\n",
            "Distribuzione 204: mean = 0.750, var = 0.072\n",
            "Distribuzione 213: mean = 0.333, var = 0.065\n",
            "Distribuzione 216: mean = 0.438, var = 0.059\n",
            "Distribuzione 226: mean = 0.667, var = 0.079\n",
            "Distribuzione 229: mean = 0.222, var = 0.062\n",
            "Distribuzione 404: mean = 0.667, var = 0.139\n",
            "Distribuzione 586: mean = 0.286, var = 0.085\n"
          ]
        }
      ]
    },
    {
      "cell_type": "code",
      "source": [
        "prices_arr = []\n",
        "rewards = []\n",
        "budget_per_trial =[]\n",
        "\n",
        "residual_budget = []\n",
        "\n",
        "# Run clairvoyant\n",
        "clairvoyant = SingleProductHighltyNonStationaryClairvoyant(T, B, prices, valuation_distributions)\n",
        "expected_clairvoyant_utilities = clairvoyant.run()\n",
        "\n",
        "n_trials = 5\n",
        "regret_per_trial = []\n",
        "for trial in range(n_trials):\n",
        "\n",
        "  # Define environment and agent\n",
        "  env = SingleProductHighlyNonStationaryEnvironment(T, valuation_distributions)\n",
        "  multiplicative_pacing_agent = FFMultiplicativePacingAgent(prices, B, T, eta, learning_rate)\n",
        "  count = 0\n",
        "  agent_rewards = []\n",
        "  budget=[]\n",
        "  for t in range(T):\n",
        "    if(count>=B):\n",
        "      r_t = 0\n",
        "      agent_rewards.append(r_t)\n",
        "    else:\n",
        "      # This returns the price index\n",
        "      #pi_t = multiplicative_pacing_agent.pull_arm()\n",
        "      # Get the actual price\n",
        "      p_t = multiplicative_pacing_agent.pull_arm()\n",
        "      # Get reward\n",
        "      r_t = env.round(p_t)\n",
        "\n",
        "      prices_arr.append(p_t)\n",
        "      rewards.append(r_t)\n",
        "\n",
        "      # Update agent state\n",
        "      multiplicative_pacing_agent.update(r_t)\n",
        "\n",
        "      agent_rewards.append(r_t)\n",
        "      if(r_t > 0):\n",
        "        count = count + 1\n",
        "    budget.append(multiplicative_pacing_agent.get_budget())\n",
        "  agent_rewards = np.array(agent_rewards)\n",
        "  cumulative_regret = np.cumsum(expected_clairvoyant_utilities - agent_rewards)\n",
        "  regret_per_trial.append(cumulative_regret)\n",
        "  budget_per_trial.append(budget)\n",
        "\n",
        "  residual_budget.append(multiplicative_pacing_agent.get_budget())\n",
        "\n",
        "regret_per_trial = np.array(regret_per_trial)"
      ],
      "metadata": {
        "id": "OEAKPazvQZqZ"
      },
      "id": "OEAKPazvQZqZ",
      "execution_count": 75,
      "outputs": []
    },
    {
      "cell_type": "code",
      "source": [
        "from collections import Counter\n",
        "\n",
        "price_counts = Counter(prices_arr)\n",
        "\n",
        "print(\"Frequenze dei prezzi scelti:\")\n",
        "for price in sorted(price_counts):\n",
        "    print(f\"Prezzo {price:.2f}: scelto {price_counts[price]} volte\")"
      ],
      "metadata": {
        "id": "6TiLyS6YA3Pm",
        "outputId": "366fe39f-0620-4fce-ede7-21320daee6c8",
        "colab": {
          "base_uri": "https://localhost:8080/"
        }
      },
      "id": "6TiLyS6YA3Pm",
      "execution_count": 62,
      "outputs": [
        {
          "output_type": "stream",
          "name": "stdout",
          "text": [
            "Frequenze dei prezzi scelti:\n",
            "Prezzo 0.10: scelto 2565 volte\n",
            "Prezzo 0.20: scelto 5143 volte\n",
            "Prezzo 0.30: scelto 8468 volte\n",
            "Prezzo 0.40: scelto 32052 volte\n",
            "Prezzo 0.50: scelto 60814 volte\n",
            "Prezzo 0.60: scelto 79246 volte\n",
            "Prezzo 0.70: scelto 40388 volte\n",
            "Prezzo 0.80: scelto 14192 volte\n",
            "Prezzo 0.90: scelto 5544 volte\n",
            "Prezzo 1.00: scelto 1588 volte\n"
          ]
        }
      ]
    },
    {
      "cell_type": "code",
      "source": [
        "import matplotlib.pyplot as plt\n",
        "\n",
        "# Ordina per prezzo crescente\n",
        "sorted_prices = sorted(price_counts)\n",
        "counts = [price_counts[p] for p in sorted_prices]\n",
        "\n",
        "plt.figure(figsize=(10, 4))\n",
        "plt.bar([f\"{p:.2f}\" for p in sorted_prices], counts)\n",
        "plt.xlabel(\"Prezzo\")\n",
        "plt.ylabel(\"Numero di volte scelto\")\n",
        "plt.title(\"Distribuzione dei prezzi scelti (su tutti i trial)\")\n",
        "plt.grid(True)\n",
        "plt.tight_layout()\n",
        "plt.show()\n"
      ],
      "metadata": {
        "id": "_XX_CXDHBFej",
        "outputId": "6f807be0-6240-438e-a235-5be2378ea16f",
        "colab": {
          "base_uri": "https://localhost:8080/",
          "height": 407
        }
      },
      "id": "_XX_CXDHBFej",
      "execution_count": 76,
      "outputs": [
        {
          "output_type": "display_data",
          "data": {
            "text/plain": [
              "<Figure size 1000x400 with 1 Axes>"
            ],
            "image/png": "[encoded data removed]"
          },
          "metadata": {}
        }
      ]
    },
    {
      "cell_type": "code",
      "source": [
        "prices_arr[:50]"
      ],
      "metadata": {
        "colab": {
          "base_uri": "https://localhost:8080/"
        },
        "id": "bdVBy1tmSz9z",
        "outputId": "56906c27-e0af-4e35-bdc0-686a7529bc69"
      },
      "id": "bdVBy1tmSz9z",
      "execution_count": null,
      "outputs": [
        {
          "output_type": "execute_result",
          "data": {
            "text/plain": [
              "[np.float64(0.4),\n",
              " np.float64(0.5),\n",
              " np.float64(1.0),\n",
              " np.float64(0.7000000000000001),\n",
              " np.float64(0.6),\n",
              " np.float64(1.0),\n",
              " np.float64(0.4),\n",
              " np.float64(0.4),\n",
              " np.float64(0.4),\n",
              " np.float64(0.4),\n",
              " np.float64(0.5),\n",
              " np.float64(0.5),\n",
              " np.float64(0.4),\n",
              " np.float64(0.1),\n",
              " np.float64(0.2),\n",
              " np.float64(0.4),\n",
              " np.float64(0.1),\n",
              " np.float64(0.5),\n",
              " np.float64(0.2),\n",
              " np.float64(0.7000000000000001),\n",
              " np.float64(0.2),\n",
              " np.float64(0.4),\n",
              " np.float64(0.5),\n",
              " np.float64(0.2),\n",
              " np.float64(0.9),\n",
              " np.float64(1.0),\n",
              " np.float64(0.4),\n",
              " np.float64(0.9),\n",
              " np.float64(0.1),\n",
              " np.float64(0.9),\n",
              " np.float64(1.0),\n",
              " np.float64(0.6),\n",
              " np.float64(0.5),\n",
              " np.float64(0.6),\n",
              " np.float64(0.30000000000000004),\n",
              " np.float64(0.30000000000000004),\n",
              " np.float64(0.6),\n",
              " np.float64(0.1),\n",
              " np.float64(0.30000000000000004),\n",
              " np.float64(0.1),\n",
              " np.float64(0.9),\n",
              " np.float64(0.8),\n",
              " np.float64(0.4),\n",
              " np.float64(0.7000000000000001),\n",
              " np.float64(0.2),\n",
              " np.float64(0.6),\n",
              " np.float64(0.30000000000000004),\n",
              " np.float64(1.0),\n",
              " np.float64(0.9),\n",
              " np.float64(0.9)]"
            ]
          },
          "metadata": {},
          "execution_count": 105
        }
      ]
    },
    {
      "cell_type": "code",
      "source": [
        "prices_arr[-50 : ]"
      ],
      "metadata": {
        "id": "OKK4_ij0_euP",
        "outputId": "bfe007d0-c0b5-4a9a-e78d-5379c0407b9a",
        "colab": {
          "base_uri": "https://localhost:8080/"
        }
      },
      "id": "OKK4_ij0_euP",
      "execution_count": null,
      "outputs": [
        {
          "output_type": "execute_result",
          "data": {
            "text/plain": [
              "[np.float64(0.6),\n",
              " np.float64(0.8),\n",
              " np.float64(0.4),\n",
              " np.float64(0.7000000000000001),\n",
              " np.float64(0.5),\n",
              " np.float64(0.8),\n",
              " np.float64(0.6),\n",
              " np.float64(0.7000000000000001),\n",
              " np.float64(0.8),\n",
              " np.float64(0.9),\n",
              " np.float64(0.8),\n",
              " np.float64(0.7000000000000001),\n",
              " np.float64(0.6),\n",
              " np.float64(0.8),\n",
              " np.float64(0.7000000000000001),\n",
              " np.float64(1.0),\n",
              " np.float64(0.7000000000000001),\n",
              " np.float64(0.8),\n",
              " np.float64(0.7000000000000001),\n",
              " np.float64(0.9),\n",
              " np.float64(0.9),\n",
              " np.float64(0.5),\n",
              " np.float64(0.7000000000000001),\n",
              " np.float64(0.8),\n",
              " np.float64(0.8),\n",
              " np.float64(0.7000000000000001),\n",
              " np.float64(0.7000000000000001),\n",
              " np.float64(0.8),\n",
              " np.float64(0.9),\n",
              " np.float64(0.7000000000000001),\n",
              " np.float64(0.9),\n",
              " np.float64(0.5),\n",
              " np.float64(0.7000000000000001),\n",
              " np.float64(0.8),\n",
              " np.float64(0.9),\n",
              " np.float64(0.8),\n",
              " np.float64(0.6),\n",
              " np.float64(0.8),\n",
              " np.float64(0.7000000000000001),\n",
              " np.float64(0.7000000000000001),\n",
              " np.float64(0.8),\n",
              " np.float64(0.8),\n",
              " np.float64(0.7000000000000001),\n",
              " np.float64(0.8),\n",
              " np.float64(0.6),\n",
              " np.float64(0.9),\n",
              " np.float64(0.4),\n",
              " np.float64(0.8),\n",
              " np.float64(0.9),\n",
              " np.float64(0.9)]"
            ]
          },
          "metadata": {},
          "execution_count": 106
        }
      ]
    },
    {
      "cell_type": "code",
      "source": [
        "set(prices_arr)"
      ],
      "metadata": {
        "colab": {
          "base_uri": "https://localhost:8080/"
        },
        "id": "Obkl9A2MTeg1",
        "outputId": "1b006b87-eb73-4d62-e5e5-ec29a88318a4"
      },
      "id": "Obkl9A2MTeg1",
      "execution_count": null,
      "outputs": [
        {
          "output_type": "execute_result",
          "data": {
            "text/plain": [
              "{np.float64(0.1),\n",
              " np.float64(0.2),\n",
              " np.float64(0.30000000000000004),\n",
              " np.float64(0.4),\n",
              " np.float64(0.5),\n",
              " np.float64(0.6),\n",
              " np.float64(0.7000000000000001),\n",
              " np.float64(0.8),\n",
              " np.float64(0.9),\n",
              " np.float64(1.0)}"
            ]
          },
          "metadata": {},
          "execution_count": 41
        }
      ]
    },
    {
      "cell_type": "code",
      "source": [
        "average_regret = regret_per_trial.mean(axis=0) # mean\n",
        "regret_sd = regret_per_trial.std(axis=0) # standard deviation\n",
        "average_budget = np.array(budget_per_trial).mean(axis=0)\n",
        "budget_sd = np.array(budget_per_trial).std(axis=0)\n",
        "\n",
        "plt.plot(np.arange(T), average_regret, label=\"Average\")\n",
        "plt.fill_between(\n",
        "    np.arange(T),\n",
        "    average_regret-regret_sd/np.sqrt(n_trials),\n",
        "    average_regret+regret_sd/np.sqrt(n_trials),\n",
        "    alpha=0.3,\n",
        "    label=\"Uncertainty\"\n",
        ")\n"
      ],
      "metadata": {
        "id": "NUuBOoeHWAUf",
        "outputId": "f3281149-ddda-4ed0-c2a7-331b03976197",
        "colab": {
          "base_uri": "https://localhost:8080/",
          "height": 447
        }
      },
      "id": "NUuBOoeHWAUf",
      "execution_count": 77,
      "outputs": [
        {
          "output_type": "execute_result",
          "data": {
            "text/plain": [
              "<matplotlib.collections.FillBetweenPolyCollection at 0x7c2f69532b10>"
            ]
          },
          "metadata": {},
          "execution_count": 77
        },
        {
          "output_type": "display_data",
          "data": {
            "text/plain": [
              "<Figure size 640x480 with 1 Axes>"
            ],
            "image/png": "[encoded data removed]"
          },
          "metadata": {}
        }
      ]
    },
    {
      "cell_type": "code",
      "source": [
        "plt.xlabel(\"$t$\")\n",
        "plt.legend()\n",
        "\n",
        "plt.plot(np.arange(T), average_budget, label=\"Average\")\n",
        "plt.fill_between(\n",
        "    np.arange(T),\n",
        "    average_budget-budget_sd/np.sqrt(n_trials),\n",
        "    average_budget+budget_sd/np.sqrt(n_trials),\n",
        "    alpha=0.3,\n",
        "    label=\"Uncertainty\"\n",
        ")\n",
        "plt.xlabel(\"$t$\")\n",
        "plt.legend()"
      ],
      "metadata": {
        "id": "56Ijw941D9ST",
        "outputId": "83b15bf2-b75e-4a32-bafe-1edf31167a0f",
        "colab": {
          "base_uri": "https://localhost:8080/",
          "height": 521
        }
      },
      "id": "56Ijw941D9ST",
      "execution_count": 65,
      "outputs": [
        {
          "output_type": "stream",
          "name": "stderr",
          "text": [
            "/tmp/ipython-input-65-2470661149.py:2: UserWarning: No artists with labels found to put in legend.  Note that artists whose label start with an underscore are ignored when legend() is called with no argument.\n",
            "  plt.legend()\n"
          ]
        },
        {
          "output_type": "execute_result",
          "data": {
            "text/plain": [
              "<matplotlib.legend.Legend at 0x7c2f5b603810>"
            ]
          },
          "metadata": {},
          "execution_count": 65
        },
        {
          "output_type": "display_data",
          "data": {
            "text/plain": [
              "<Figure size 640x480 with 1 Axes>"
            ],
            "image/png": "[encoded data removed]"
          },
          "metadata": {}
        }
      ]
    },
    {
      "cell_type": "code",
      "source": [
        "average_regret = regret_per_trial.mean(axis=0)  # media\n",
        "regret_sd = regret_per_trial.std(axis=0)        # deviazione standard\n",
        "\n",
        "t = np.arange(1, T+1)  # inizia da 1 per evitare t^{2/3} = 0^{2/3} = 0\n",
        "regret_theory = (900 / np.sqrt(20000*np.log(K))) * np.sqrt(t*np.log(K))\n",
        "\n",
        "plt.plot(t, average_regret, label=\"Average\")\n",
        "plt.fill_between(\n",
        "    t,\n",
        "    average_regret - regret_sd / np.sqrt(n_trials),\n",
        "    average_regret + regret_sd / np.sqrt(n_trials),\n",
        "    alpha=0.3,\n",
        "    label=\"Uncertainty\"\n",
        ")\n",
        "plt.plot(t, regret_theory, label=r\"$(\\sqrt{Tlog(K))}$\", linestyle='--', color='red')\n",
        "\n",
        "plt.xlabel(\"$t$\")\n",
        "plt.ylabel(\"Regret\")\n",
        "plt.legend()\n",
        "plt.grid(True)\n",
        "plt.show()"
      ],
      "metadata": {
        "id": "Rsuvwyr8WL2o",
        "outputId": "5906aa27-11fc-4af5-b462-f3bbd41bbe0f",
        "colab": {
          "base_uri": "https://localhost:8080/",
          "height": 449
        }
      },
      "id": "Rsuvwyr8WL2o",
      "execution_count": 66,
      "outputs": [
        {
          "output_type": "display_data",
          "data": {
            "text/plain": [
              "<Figure size 640x480 with 1 Axes>"
            ],
            "image/png": "[encoded data removed]"
          },
          "metadata": {}
        }
      ]
    },
    {
      "cell_type": "code",
      "source": [
        "diff = average_regret / t\n",
        "plt.plot(t, diff, label=\"andament\")"
      ],
      "metadata": {
        "colab": {
          "base_uri": "https://localhost:8080/",
          "height": 452
        },
        "id": "_kE-4VZzbDMN",
        "outputId": "920fc042-09d9-4e42-8e56-42e7628a3b3b"
      },
      "id": "_kE-4VZzbDMN",
      "execution_count": 67,
      "outputs": [
        {
          "output_type": "execute_result",
          "data": {
            "text/plain": [
              "[<matplotlib.lines.Line2D at 0x7c2f5b1d2490>]"
            ]
          },
          "metadata": {},
          "execution_count": 67
        },
        {
          "output_type": "display_data",
          "data": {
            "text/plain": [
              "<Figure size 640x480 with 1 Axes>"
            ],
            "image/png": "[encoded data removed]"
          },
          "metadata": {}
        }
      ]
    },
    {
      "cell_type": "code",
      "source": [
        "np.array(residual_budget)"
      ],
      "metadata": {
        "colab": {
          "base_uri": "https://localhost:8080/"
        },
        "id": "CHhf9MsOrHrw",
        "outputId": "de765c4b-19d8-471c-d04f-3a9259bda2c7"
      },
      "id": "CHhf9MsOrHrw",
      "execution_count": 68,
      "outputs": [
        {
          "output_type": "execute_result",
          "data": {
            "text/plain": [
              "array([14878., 14921., 14721., 14955., 16130.])"
            ]
          },
          "metadata": {},
          "execution_count": 68
        }
      ]
    },
    {
      "cell_type": "code",
      "source": [
        "residual_budget_mean = np.array(residual_budget).mean()\n",
        "print(np.sqrt(np.var(residual_budget)))\n",
        "print(residual_budget_mean)\n",
        "\n",
        "print(residual_budget_mean / B)"
      ],
      "metadata": {
        "colab": {
          "base_uri": "https://localhost:8080/"
        },
        "id": "CihFvvm7XgRn",
        "outputId": "5afa8251-2de3-4452-f86b-13bb71931d03"
      },
      "id": "CihFvvm7XgRn",
      "execution_count": 78,
      "outputs": [
        {
          "output_type": "stream",
          "name": "stdout",
          "text": [
            "2111.2512498516135\n",
            "10658.6\n",
            "0.28422933333333333\n"
          ]
        }
      ]
    },
    {
      "cell_type": "code",
      "source": [
        "multiplicative_pacing_agent.lambdas()"
      ],
      "metadata": {
        "colab": {
          "base_uri": "https://localhost:8080/"
        },
        "id": "xyGoHNAHLnb7",
        "outputId": "a57818d8-338c-4ce2-8f0a-3a66c2ea95dc"
      },
      "id": "xyGoHNAHLnb7",
      "execution_count": null,
      "outputs": [
        {
          "output_type": "execute_result",
          "data": {
            "text/plain": [
              "[(np.float64(0.9925007499250075), 0),\n",
              " (np.float64(0.985001499850015), 0),\n",
              " (np.float64(0.9775022497750224), 0),\n",
              " (np.float64(0.9800029997000299), 1),\n",
              " (np.float64(0.9825047495250474), 1),\n",
              " (np.float64(0.9850074992500749), 1),\n",
              " (np.float64(0.9775112488751124), 0),\n",
              " (np.float64(0.98001499850015), 1),\n",
              " (np.float64(0.9825197480251975), 1),\n",
              " (np.float64(0.975025497450255), 0),\n",
              " (np.float64(0.9675312468753126), 0),\n",
              " (np.float64(0.9700369963003701), 1),\n",
              " (np.float64(0.9625437456254375), 0),\n",
              " (np.float64(0.965050494950505), 1),\n",
              " (np.float64(0.9575582441755824), 0),\n",
              " (np.float64(0.9500659934006599), 0),\n",
              " (np.float64(0.9425737426257373), 0),\n",
              " (np.float64(0.9350814918508148), 0),\n",
              " (np.float64(0.9375892410758923), 1),\n",
              " (np.float64(0.9300979902009797), 0),\n",
              " (np.float64(0.9226067393260672), 0),\n",
              " (np.float64(0.9251154884511547), 1),\n",
              " (np.float64(0.9276252374762521), 1),\n",
              " (np.float64(0.9301359864013596), 1),\n",
              " (np.float64(0.9326477352264771), 1),\n",
              " (np.float64(0.9251604839516047), 0),\n",
              " (np.float64(0.9176732326767322), 0),\n",
              " (np.float64(0.9101859814018597), 0),\n",
              " (np.float64(0.9026987301269872), 0),\n",
              " (np.float64(0.8952114788521147), 0),\n",
              " (np.float64(0.8877242275772422), 0),\n",
              " (np.float64(0.8802369763023697), 0),\n",
              " (np.float64(0.8727497250274973), 0),\n",
              " (np.float64(0.8652624737526248), 0),\n",
              " (np.float64(0.8577752224777523), 0),\n",
              " (np.float64(0.8502879712028798), 0),\n",
              " (np.float64(0.8428007199280073), 0),\n",
              " (np.float64(0.8453134686531348), 1),\n",
              " (np.float64(0.8478272172782724), 1),\n",
              " (np.float64(0.8403419658034199), 0),\n",
              " (np.float64(0.8328567143285674), 0),\n",
              " (np.float64(0.825371462853715), 0),\n",
              " (np.float64(0.8278862113788624), 1),\n",
              " (np.float64(0.8304019598040199), 1),\n",
              " (np.float64(0.8329187081291873), 1),\n",
              " (np.float64(0.8254364563543648), 0),\n",
              " (np.float64(0.8179542045795423), 0),\n",
              " (np.float64(0.8204719528047197), 1),\n",
              " (np.float64(0.8229907009299072), 1),\n",
              " (np.float64(0.8255104489551047), 1),\n",
              " (np.float64(0.8280311968803122), 1),\n",
              " (np.float64(0.8205529447055298), 0),\n",
              " (np.float64(0.8130746925307473), 0),\n",
              " (np.float64(0.8055964403559648), 0),\n",
              " (np.float64(0.7981181881811823), 0),\n",
              " (np.float64(0.7906399360063998), 0),\n",
              " (np.float64(0.7831616838316173), 0),\n",
              " (np.float64(0.7856834316568349), 1),\n",
              " (np.float64(0.7782061793820624), 0),\n",
              " (np.float64(0.7707289271072899), 0),\n",
              " (np.float64(0.7732516748325173), 1),\n",
              " (np.float64(0.7657754224577548), 0),\n",
              " (np.float64(0.7582991700829922), 0),\n",
              " (np.float64(0.7608229177082296), 1),\n",
              " (np.float64(0.7533476652334771), 0),\n",
              " (np.float64(0.7558724127587245), 1),\n",
              " (np.float64(0.758398160183982), 1),\n",
              " (np.float64(0.7509249075092495), 0),\n",
              " (np.float64(0.7534516548345169), 1),\n",
              " (np.float64(0.7459794020597944), 0),\n",
              " (np.float64(0.7385071492850719), 0),\n",
              " (np.float64(0.7310348965103494), 0),\n",
              " (np.float64(0.7235626437356268), 0),\n",
              " (np.float64(0.7160903909609043), 0),\n",
              " (np.float64(0.7086181381861818), 0),\n",
              " (np.float64(0.7011458854114593), 0),\n",
              " (np.float64(0.6936736326367368), 0),\n",
              " (np.float64(0.6862013798620142), 0),\n",
              " (np.float64(0.6887291270872917), 1),\n",
              " (np.float64(0.6912578742125792), 1),\n",
              " (np.float64(0.6837876212378767), 0),\n",
              " (np.float64(0.6863173682631742), 1),\n",
              " (np.float64(0.6788481151884818), 0),\n",
              " (np.float64(0.6713788621137893), 0),\n",
              " (np.float64(0.6639096090390968), 0),\n",
              " (np.float64(0.6664403559644042), 1),\n",
              " (np.float64(0.6689721027897216), 1),\n",
              " (np.float64(0.6715048495150491), 1),\n",
              " (np.float64(0.6640385961403865), 0),\n",
              " (np.float64(0.656572342765724), 0),\n",
              " (np.float64(0.6591060893910614), 1),\n",
              " (np.float64(0.6616408359164089), 1),\n",
              " (np.float64(0.6641765823417664), 1),\n",
              " (np.float64(0.6667133286671338), 1),\n",
              " (np.float64(0.6592510748925113), 0),\n",
              " (np.float64(0.6517888211178888), 0),\n",
              " (np.float64(0.6443265673432663), 0),\n",
              " (np.float64(0.6468643135686438), 1),\n",
              " (np.float64(0.6494030596940313), 1),\n",
              " (np.float64(0.6519428057194288), 1),\n",
              " (np.float64(0.6544835516448362), 1),\n",
              " (np.float64(0.6470252974702536), 0),\n",
              " (np.float64(0.639567043295671), 0),\n",
              " (np.float64(0.6321087891210885), 0),\n",
              " (np.float64(0.6346505349465059), 1),\n",
              " (np.float64(0.6371932806719334), 1),\n",
              " (np.float64(0.6297370262973708), 0),\n",
              " (np.float64(0.6222807719228083), 0),\n",
              " (np.float64(0.6148245175482457), 0),\n",
              " (np.float64(0.6073682631736832), 0),\n",
              " (np.float64(0.5999120087991207), 0),\n",
              " (np.float64(0.5924557544245581), 0),\n",
              " (np.float64(0.5849995000499956), 0),\n",
              " (np.float64(0.577543245675433), 0),\n",
              " (np.float64(0.5800869913008705), 1),\n",
              " (np.float64(0.582631736826318), 1),\n",
              " (np.float64(0.5751774822517755), 0),\n",
              " (np.float64(0.5677232276772329), 0),\n",
              " (np.float64(0.5602689731026904), 0),\n",
              " (np.float64(0.5528147185281479), 0),\n",
              " (np.float64(0.5453604639536054), 0),\n",
              " (np.float64(0.5479062093790629), 1),\n",
              " (np.float64(0.5504529547045304), 1),\n",
              " (np.float64(0.5430006999300079), 0),\n",
              " (np.float64(0.5455484451554853), 1),\n",
              " (np.float64(0.5380971902809727), 0),\n",
              " (np.float64(0.5306459354064601), 0),\n",
              " (np.float64(0.5231946805319475), 0),\n",
              " (np.float64(0.5157434256574349), 0),\n",
              " (np.float64(0.5182921707829223), 1),\n",
              " (np.float64(0.5108419158084198), 0),\n",
              " (np.float64(0.5133916608339172), 1),\n",
              " (np.float64(0.5059424057594246), 0),\n",
              " (np.float64(0.49849315068493205), 0),\n",
              " (np.float64(0.4910438956104395), 0),\n",
              " (np.float64(0.4935946405359469), 1),\n",
              " (np.float64(0.4961463853614644), 1),\n",
              " (np.float64(0.48869913008699184), 0),\n",
              " (np.float64(0.4812518748125193), 0),\n",
              " (np.float64(0.48380461953804677), 1),\n",
              " (np.float64(0.4863583641635842), 1),\n",
              " (np.float64(0.4789131086891316), 0),\n",
              " (np.float64(0.48146785321467905), 1),\n",
              " (np.float64(0.4840235976402365), 1),\n",
              " (np.float64(0.47658034196580396), 0),\n",
              " (np.float64(0.4791370862913714), 1),\n",
              " (np.float64(0.48169483051694884), 1),\n",
              " (np.float64(0.48425357464253627), 1),\n",
              " (np.float64(0.4868133186681337), 1),\n",
              " (np.float64(0.47937406259374116), 0),\n",
              " (np.float64(0.4819348065193486), 1),\n",
              " (np.float64(0.484496550344966), 1),\n",
              " (np.float64(0.47705929407059344), 0),\n",
              " (np.float64(0.47962203779622087), 1),\n",
              " (np.float64(0.4821857814218583), 1),\n",
              " (np.float64(0.48475052494750576), 1),\n",
              " (np.float64(0.4773162683731632), 0),\n",
              " (np.float64(0.46988201179882066), 0),\n",
              " (np.float64(0.4624477552244781), 0),\n",
              " (np.float64(0.4650134986501355), 1),\n",
              " (np.float64(0.46758024197580295), 1),\n",
              " (np.float64(0.4701479852014804), 1),\n",
              " (np.float64(0.4627167283271678), 0),\n",
              " (np.float64(0.46528547145285526), 1),\n",
              " (np.float64(0.4578552144785527), 0),\n",
              " (np.float64(0.46042495750425017), 1),\n",
              " (np.float64(0.45299570042995757), 0),\n",
              " (np.float64(0.455566443355665), 1),\n",
              " (np.float64(0.4481381861813824), 0),\n",
              " (np.float64(0.45070992900709983), 1),\n",
              " (np.float64(0.45328267173282727), 1),\n",
              " (np.float64(0.4458564143585647), 0),\n",
              " (np.float64(0.44843015698430216), 1),\n",
              " (np.float64(0.4510048995100496), 1),\n",
              " (np.float64(0.443580641935807), 0),\n",
              " (np.float64(0.4361563843615644), 0),\n",
              " (np.float64(0.4287321267873218), 0),\n",
              " (np.float64(0.4213078692130792), 0),\n",
              " (np.float64(0.41388361163883663), 0),\n",
              " (np.float64(0.40645935406459405), 0),\n",
              " (np.float64(0.39903509649035146), 0),\n",
              " (np.float64(0.4016108389161089), 1),\n",
              " (np.float64(0.3941875812418763), 0),\n",
              " (np.float64(0.38676432356764373), 0),\n",
              " (np.float64(0.38934106589341116), 1),\n",
              " (np.float64(0.3819188081191886), 0),\n",
              " (np.float64(0.38449655034496605), 1),\n",
              " (np.float64(0.37707529247075344), 0),\n",
              " (np.float64(0.37965403459654085), 1),\n",
              " (np.float64(0.37223377662233825), 0),\n",
              " (np.float64(0.37481351864813567), 1),\n",
              " (np.float64(0.3773942605739431), 1),\n",
              " (np.float64(0.37997600239976054), 1),\n",
              " (np.float64(0.372558744125588), 0),\n",
              " (np.float64(0.3651414858514154), 0),\n",
              " (np.float64(0.3677242275772428), 1),\n",
              " (np.float64(0.37030796920308023), 1),\n",
              " (np.float64(0.36289271072892765), 0),\n",
              " (np.float64(0.36547745225477507), 1),\n",
              " (np.float64(0.3580631936806325), 0),\n",
              " (np.float64(0.3506489351064899), 0),\n",
              " (np.float64(0.34323467653234735), 0),\n",
              " (np.float64(0.3358204179582048), 0),\n",
              " (np.float64(0.3284061593840622), 0),\n",
              " (np.float64(0.33099190080991964), 1),\n",
              " (np.float64(0.33357864213578703), 1),\n",
              " (np.float64(0.33616638336166443), 1),\n",
              " (np.float64(0.33875512448755185), 1),\n",
              " (np.float64(0.33134486551344927), 0),\n",
              " (np.float64(0.3239346065393467), 0),\n",
              " (np.float64(0.3265243475652441), 1),\n",
              " (np.float64(0.31911508849115156), 0),\n",
              " (np.float64(0.311705829417059), 0),\n",
              " (np.float64(0.3042965703429664), 0),\n",
              " (np.float64(0.29688731126887385), 0),\n",
              " (np.float64(0.2894780521947813), 0),\n",
              " (np.float64(0.2820687931206887), 0),\n",
              " (np.float64(0.27465953404659615), 0),\n",
              " (np.float64(0.27725027497250354), 1),\n",
              " (np.float64(0.26984201579842093), 0),\n",
              " (np.float64(0.27243375662433833), 1),\n",
              " (np.float64(0.26502649735026573), 0),\n",
              " (np.float64(0.26761923807619314), 1),\n",
              " (np.float64(0.26021297870213056), 0),\n",
              " (np.float64(0.262806719328068), 1),\n",
              " (np.float64(0.2554014598540154), 0),\n",
              " (np.float64(0.2579962003799628), 1),\n",
              " (np.float64(0.2605919408059202), 1),\n",
              " (np.float64(0.2631886811318876), 1),\n",
              " (np.float64(0.255786421357865), 0),\n",
              " (np.float64(0.2483841615838424), 0),\n",
              " (np.float64(0.25098190180981983), 1),\n",
              " (np.float64(0.24358064193580722), 0),\n",
              " (np.float64(0.24617938206179463), 1),\n",
              " (np.float64(0.23877912208779203), 0),\n",
              " (np.float64(0.23137886211378944), 0),\n",
              " (np.float64(0.23397860213978683), 1),\n",
              " (np.float64(0.23657934206579423), 1),\n",
              " (np.float64(0.23918108189181161), 1),\n",
              " (np.float64(0.231783821617839), 0),\n",
              " (np.float64(0.2343865613438664), 1),\n",
              " (np.float64(0.23699030096990378), 1),\n",
              " (np.float64(0.22959504049595117), 0),\n",
              " (np.float64(0.22219978002199856), 0),\n",
              " (np.float64(0.21480451954804594), 0),\n",
              " (np.float64(0.21740925907409334), 1),\n",
              " (np.float64(0.21001499850015073), 0),\n",
              " (np.float64(0.21262073792620814), 1),\n",
              " (np.float64(0.21522747725227553), 1),\n",
              " (np.float64(0.20783521647835293), 0),\n",
              " (np.float64(0.20044295570443033), 0),\n",
              " (np.float64(0.20305069493050773), 1),\n",
              " (np.float64(0.1956594340565951), 0),\n",
              " (np.float64(0.1882681731826825), 0),\n",
              " (np.float64(0.19087691230876988), 1),\n",
              " (np.float64(0.18348665133486727), 0),\n",
              " (np.float64(0.17609639036096467), 0),\n",
              " (np.float64(0.17870612938706207), 1),\n",
              " (np.float64(0.17131686831316945), 0),\n",
              " (np.float64(0.16392760723927682), 0),\n",
              " (np.float64(0.1565383461653842), 0),\n",
              " (np.float64(0.14914908509149158), 0),\n",
              " (np.float64(0.14175982401759896), 0),\n",
              " (np.float64(0.13437056294370633), 0),\n",
              " (np.float64(0.13698130186981372), 1),\n",
              " (np.float64(0.1295930406959311), 0),\n",
              " (np.float64(0.1322047795220485), 1),\n",
              " (np.float64(0.1348175182481759), 1),\n",
              " (np.float64(0.1374312568743133), 1),\n",
              " (np.float64(0.13004599540046066), 0),\n",
              " (np.float64(0.13266073392660804), 1),\n",
              " (np.float64(0.12527647235276543), 0),\n",
              " (np.float64(0.12789221077892282), 1),\n",
              " (np.float64(0.1305089491050902), 1),\n",
              " (np.float64(0.1331266873312676), 1),\n",
              " (np.float64(0.13574542545745497), 1),\n",
              " (np.float64(0.12836516348365234), 0),\n",
              " (np.float64(0.12098490150984972), 0),\n",
              " (np.float64(0.1136046395360471), 0),\n",
              " (np.float64(0.10622437756224448), 0),\n",
              " (np.float64(0.09884411558844186), 0),\n",
              " (np.float64(0.09146385361463924), 0),\n",
              " (np.float64(0.08408359164083662), 0),\n",
              " (np.float64(0.076703329667034), 0),\n",
              " (np.float64(0.06932306769323138), 0),\n",
              " (np.float64(0.061942805719428756), 0),\n",
              " (np.float64(0.054562543745626135), 0),\n",
              " (np.float64(0.057182281771823516), 1),\n",
              " (np.float64(0.049803019698030894), 0),\n",
              " (np.float64(0.04242375762423827), 0),\n",
              " (np.float64(0.03504449555044565), 0),\n",
              " (np.float64(0.03766523347665303), 1),\n",
              " (np.float64(0.04028697130287041), 1),\n",
              " (np.float64(0.042909709029097784), 1),\n",
              " (np.float64(0.03553344665533516), 0),\n",
              " (np.float64(0.03815718428157253), 1),\n",
              " (np.float64(0.03078192180781991), 0),\n",
              " (np.float64(0.033406659334067286), 1),\n",
              " (np.float64(0.03603239676032466), 1),\n",
              " (np.float64(0.02865913408659203), 0),\n",
              " (np.float64(0.021285871412859404), 0),\n",
              " (np.float64(0.02391260873912678), 1),\n",
              " (np.float64(0.026540345965404152), 1),\n",
              " (np.float64(0.029169083091691524), 1),\n",
              " (np.float64(0.021798820117988893), 0),\n",
              " (np.float64(0.024428557144286264), 1),\n",
              " (np.float64(0.027059294070593633), 1),\n",
              " (np.float64(0.029691030896911), 1),\n",
              " (np.float64(0.03232376762323837), 1),\n",
              " (np.float64(0.024957504249575733), 0),\n",
              " (np.float64(0.0275912408759131), 1),\n",
              " (np.float64(0.030225977402260462), 1),\n",
              " (np.float64(0.022861713828617826), 0),\n",
              " (np.float64(0.01549745025497519), 0),\n",
              " (np.float64(0.018133186681332555), 1),\n",
              " (np.float64(0.010769923007699918), 0),\n",
              " (np.float64(0.003406659334067281), 0),\n",
              " (np.float64(0.0), 0),\n",
              " (np.float64(0.002636736326367364), 1),\n",
              " (np.float64(0.0052744725527447255), 1),\n",
              " (np.float64(0.007913208679132087), 1),\n",
              " (np.float64(0.010552944705529447), 1),\n",
              " (np.float64(0.0031936806319368067), 0),\n",
              " (np.float64(0.005834416558344166), 1),\n",
              " (np.float64(0.008476152384761525), 1),\n",
              " (np.float64(0.001118888111188883), 0),\n",
              " (np.float64(0.0037616238376162407), 1),\n",
              " (np.float64(0.0), 0),\n",
              " (np.float64(0.002643735626437356), 1),\n",
              " (np.float64(0.005288471152884711), 1),\n",
              " (np.float64(0.007934206579342065), 1),\n",
              " (np.float64(0.0005809419058094177), 0),\n",
              " (np.float64(0.003227677232276771), 1),\n",
              " (np.float64(0.0), 0),\n",
              " (np.float64(0.0026477352264773525), 1),\n",
              " (np.float64(0.005296470352964704), 1),\n",
              " (np.float64(0.0), 0),\n",
              " (np.float64(0.0), 0),\n",
              " (np.float64(0.0), 0),\n",
              " (np.float64(0.0026497350264973506), 1),\n",
              " (np.float64(0.0), 0),\n",
              " (np.float64(0.0), 0),\n",
              " (np.float64(0.0026507349265073488), 1),\n",
              " (np.float64(0.005302469753024697), 1),\n",
              " (np.float64(0.0), 0),\n",
              " (np.float64(0.0026527347265273473), 1),\n",
              " (np.float64(0.005306469353064693), 1),\n",
              " (np.float64(0.0), 0),\n",
              " (np.float64(0.0), 0),\n",
              " (np.float64(0.0), 0),\n",
              " (np.float64(0.0026547345265473454), 1),\n",
              " (np.float64(0.005310468953104689), 1),\n",
              " (np.float64(0.007967203279672033), 1),\n",
              " (np.float64(0.010624937506249375), 1),\n",
              " (np.float64(0.013283671632836716), 1),\n",
              " (np.float64(0.005943405659434056), 0),\n",
              " (np.float64(0.008603139686031396), 1),\n",
              " (np.float64(0.0012638736126387353), 0),\n",
              " (np.float64(0.0), 0),\n",
              " (np.float64(0.0026607339266073392), 1),\n",
              " (np.float64(0.0), 0),\n",
              " (np.float64(0.0026617338266173387), 1),\n",
              " (np.float64(0.005324467553244677), 1),\n",
              " (np.float64(0.0), 0),\n",
              " (np.float64(0.0), 0),\n",
              " (np.float64(0.0), 0),\n",
              " (np.float64(0.002663733626637337), 1),\n",
              " (np.float64(0.0), 0),\n",
              " (np.float64(0.002664733526647335), 1),\n",
              " (np.float64(0.0053304669533046686), 1),\n",
              " (np.float64(0.007997200279972002), 1),\n",
              " (np.float64(0.000664933506649334), 0),\n",
              " (np.float64(0.0), 0),\n",
              " (np.float64(0.0), 0),\n",
              " (np.float64(0.0026677332266773325), 1),\n",
              " (np.float64(0.005336466353364664), 1),\n",
              " (np.float64(0.0), 0),\n",
              " (np.float64(0.0), 0),\n",
              " (np.float64(0.0026697330266973306), 1),\n",
              " (np.float64(0.00534046595340466), 1),\n",
              " (np.float64(0.0), 0),\n",
              " (np.float64(0.0), 0),\n",
              " (np.float64(0.0), 0),\n",
              " (np.float64(0.0), 0),\n",
              " (np.float64(0.002671732826717328), 1),\n",
              " (np.float64(0.0), 0),\n",
              " (np.float64(0.0026727327267273273), 1),\n",
              " (np.float64(0.005346465353464653), 1),\n",
              " (np.float64(0.0), 0),\n",
              " (np.float64(0.0026747325267473254), 1),\n",
              " (np.float64(0.0), 0),\n",
              " (np.float64(0.0026757324267573245), 1),\n",
              " (np.float64(0.0), 0),\n",
              " (np.float64(0.002676732326767324), 1),\n",
              " (np.float64(0.005354464553544646), 1),\n",
              " (np.float64(0.0), 0),\n",
              " (np.float64(0.0), 0),\n",
              " (np.float64(0.002678732126787321), 1),\n",
              " (np.float64(0.005358464153584642), 1),\n",
              " (np.float64(0.00803919608039196), 1),\n",
              " (np.float64(0.0007209279072092787), 0),\n",
              " (np.float64(0.0), 0),\n",
              " (np.float64(0.0), 0),\n",
              " (np.float64(0.0026817318268173187), 1),\n",
              " (np.float64(0.0), 0),\n",
              " (np.float64(0.0), 0),\n",
              " (np.float64(0.0026827317268273178), 1),\n",
              " (np.float64(0.005366463353664634), 1),\n",
              " (np.float64(0.00805119488051195), 1),\n",
              " (np.float64(0.0007369263073692634), 0),\n",
              " (np.float64(0.0), 0),\n",
              " (np.float64(0.002685731426857314), 1),\n",
              " (np.float64(0.0), 0),\n",
              " (np.float64(0.002686731326867313), 1),\n",
              " (np.float64(0.0), 0),\n",
              " (np.float64(0.0), 0),\n",
              " (np.float64(0.0), 0),\n",
              " (np.float64(0.0026877312268773126), 1),\n",
              " (np.float64(0.005376462353764624), 1),\n",
              " (np.float64(0.0), 0),\n",
              " (np.float64(0.0), 0),\n",
              " (np.float64(0.0), 0),\n",
              " (np.float64(0.0), 0),\n",
              " (np.float64(0.0026897310268973107), 1),\n",
              " (np.float64(0.00538046195380462), 1),\n",
              " (np.float64(0.0), 0),\n",
              " (np.float64(0.0), 0),\n",
              " (np.float64(0.0), 0),\n",
              " (np.float64(0.0), 0),\n",
              " (np.float64(0.0), 0),\n",
              " (np.float64(0.002691730826917308), 1),\n",
              " (np.float64(0.005384461553844614), 1),\n",
              " (np.float64(0.00807819218078192), 1),\n",
              " (np.float64(0.0007729227077292256), 0),\n",
              " (np.float64(0.0), 0),\n",
              " (np.float64(0.0), 0),\n",
              " (np.float64(0.0026947305269473055), 1),\n",
              " (np.float64(0.0), 0),\n",
              " (np.float64(0.0026957304269573045), 1),\n",
              " (np.float64(0.0053924607539246085), 1),\n",
              " (np.float64(0.00809019098090191), 1),\n",
              " (np.float64(0.0007889211078892112), 0),\n",
              " (np.float64(0.0), 0),\n",
              " (np.float64(0.0), 0),\n",
              " (np.float64(0.002698730126987301), 1),\n",
              " (np.float64(0.005398460153984602), 1),\n",
              " (np.float64(0.0), 0),\n",
              " (np.float64(0.0027007299270072993), 1),\n",
              " (np.float64(0.005402459754024598), 1),\n",
              " (np.float64(0.008105189481051895), 1),\n",
              " (np.float64(0.0008089191080891921), 0),\n",
              " (np.float64(0.0), 0),\n",
              " (np.float64(0.0), 0),\n",
              " (np.float64(0.002703729627037297), 1),\n",
              " (np.float64(0.0054084591540845914), 1),\n",
              " (np.float64(0.0), 0),\n",
              " (np.float64(0.002705729427057294), 1),\n",
              " (np.float64(0.005412458754124588), 1),\n",
              " (np.float64(0.0), 0),\n",
              " (np.float64(0.0), 0),\n",
              " (np.float64(0.0), 0),\n",
              " (np.float64(0.0027077292270772926), 1),\n",
              " (np.float64(0.005416458354164584), 1),\n",
              " (np.float64(0.008126187381261874), 1),\n",
              " (np.float64(0.0008369163083691627), 0),\n",
              " (np.float64(0.0), 0),\n",
              " (np.float64(0.0), 0),\n",
              " (np.float64(0.002710728927107289), 1),\n",
              " (np.float64(0.0), 0),\n",
              " (np.float64(0.002711728827117288), 1),\n",
              " (np.float64(0.005424457554244574), 1),\n",
              " (np.float64(0.0), 0),\n",
              " (np.float64(0.0), 0),\n",
              " (np.float64(0.0027137286271372864), 1),\n",
              " (np.float64(0.005428457154284572), 1),\n",
              " (np.float64(0.0), 0),\n",
              " (np.float64(0.0), 0),\n",
              " (np.float64(0.0), 0),\n",
              " (np.float64(0.0027157284271572845), 1),\n",
              " (np.float64(0.0), 0),\n",
              " (np.float64(0.0), 0),\n",
              " (np.float64(0.002716728327167284), 1),\n",
              " (np.float64(0.0), 0),\n",
              " (np.float64(0.0), 0),\n",
              " (np.float64(0.0027177282271772817), 1),\n",
              " (np.float64(0.0), 0),\n",
              " (np.float64(0.0), 0),\n",
              " (np.float64(0.0027187281271872812), 1),\n",
              " (np.float64(0.005438456154384562), 1),\n",
              " (np.float64(0.00815918408159184), 1),\n",
              " (np.float64(0.010880911908809118), 1),\n",
              " (np.float64(0.003603639636036396), 0),\n",
              " (np.float64(0.0), 0),\n",
              " (np.float64(0.002722727727227278), 1),\n",
              " (np.float64(0.005446455354464554), 1),\n",
              " (np.float64(0.00817118288171183), 1),\n",
              " (np.float64(0.0008969103089691028), 0),\n",
              " (np.float64(0.003622637736226377), 1),\n",
              " (np.float64(0.0), 0),\n",
              " (np.float64(0.0), 0),\n",
              " (np.float64(0.002726727327267273), 1),\n",
              " (np.float64(0.0), 0),\n",
              " (np.float64(0.0), 0),\n",
              " (np.float64(0.0), 0),\n",
              " (np.float64(0.002727727227277272), 1),\n",
              " (np.float64(0.0), 0),\n",
              " (np.float64(0.0), 0),\n",
              " (np.float64(0.0027287271272872717), 1),\n",
              " (np.float64(0.0), 0),\n",
              " (np.float64(0.0), 0),\n",
              " (np.float64(0.0027297270272972707), 1),\n",
              " (np.float64(0.0), 0),\n",
              " (np.float64(0.002730726927307269), 1),\n",
              " (np.float64(0.005462453754624537), 1),\n",
              " (np.float64(0.008195180481951805), 1),\n",
              " (np.float64(0.0009289071092890705), 0),\n",
              " (np.float64(0.0), 0),\n",
              " (np.float64(0.0027337266273372665), 1),\n",
              " (np.float64(0.0), 0),\n",
              " (np.float64(0.0), 0),\n",
              " (np.float64(0.0), 0),\n",
              " (np.float64(0.0), 0),\n",
              " (np.float64(0.0027347265273472655), 1),\n",
              " (np.float64(0.0), 0),\n",
              " (np.float64(0.0027357264273572646), 1),\n",
              " (np.float64(0.005472452754724529), 1),\n",
              " (np.float64(0.00821017898210179), 1),\n",
              " (np.float64(0.0009489051094890514), 0),\n",
              " (np.float64(0.0), 0),\n",
              " (np.float64(0.0), 0),\n",
              " (np.float64(0.0), 0),\n",
              " (np.float64(0.0), 0),\n",
              " (np.float64(0.0), 0),\n",
              " (np.float64(0.0), 0),\n",
              " (np.float64(0.0), 0),\n",
              " (np.float64(0.002738726127387261), 1),\n",
              " (np.float64(0.005478452154784521), 1),\n",
              " (np.float64(0.0), 0),\n",
              " (np.float64(0.0), 0),\n",
              " (np.float64(0.0), 0),\n",
              " (np.float64(0.0027407259274072593), 1),\n",
              " (np.float64(0.005482451754824518), 1),\n",
              " (np.float64(0.008225177482251777), 1),\n",
              " (np.float64(0.0009689031096890332), 0),\n",
              " (np.float64(0.0), 0),\n",
              " (np.float64(0.002743725627437257), 1),\n",
              " (np.float64(0.0), 0),\n",
              " (np.float64(0.002744725527447255), 1),\n",
              " (np.float64(0.0), 0),\n",
              " (np.float64(0.0), 0),\n",
              " (np.float64(0.0), 0),\n",
              " (np.float64(0.0), 0),\n",
              " (np.float64(0.002745725427457254), 1),\n",
              " (np.float64(0.0), 0),\n",
              " (np.float64(0.0), 0),\n",
              " (np.float64(0.0), 0),\n",
              " (np.float64(0.0), 0),\n",
              " (np.float64(0.002746725327467253), 1),\n",
              " (np.float64(0.005494450554944505), 1),\n",
              " (np.float64(0.0), 0),\n",
              " (np.float64(0.0027487251274872517), 1),\n",
              " (np.float64(0.005498450154984503), 1),\n",
              " (np.float64(0.0), 0),\n",
              " (np.float64(0.0), 0),\n",
              " (np.float64(0.002750724927507249), 1),\n",
              " (np.float64(0.0), 0),\n",
              " (np.float64(0.002751724827517248), 1),\n",
              " (np.float64(0.0055044495550444945), 1),\n",
              " (np.float64(0.0), 0),\n",
              " (np.float64(0.0), 0),\n",
              " (np.float64(0.0), 0),\n",
              " (np.float64(0.0), 0),\n",
              " (np.float64(0.0027537246275372465), 1),\n",
              " (np.float64(0.0055084491550844925), 1),\n",
              " (np.float64(0.008264173582641737), 1),\n",
              " (np.float64(0.00102089791020898), 0),\n",
              " (np.float64(0.0), 0),\n",
              " (np.float64(0.0027567243275672436), 1),\n",
              " (np.float64(0.0), 0),\n",
              " (np.float64(0.002757724227577242), 1),\n",
              " (np.float64(0.0), 0),\n",
              " (np.float64(0.0), 0),\n",
              " (np.float64(0.002758724127587241), 1),\n",
              " (np.float64(0.0), 0),\n",
              " (np.float64(0.0), 0),\n",
              " (np.float64(0.0027597240275972403), 1),\n",
              " (np.float64(0.005520447955204479), 1),\n",
              " (np.float64(0.008282171782821719), 1),\n",
              " (np.float64(0.011044895510448956), 1),\n",
              " (np.float64(0.0038086191380861927), 0),\n",
              " (np.float64(0.0), 0),\n",
              " (np.float64(0.002763723627637237), 1),\n",
              " (np.float64(0.005528447155284472), 1),\n",
              " (np.float64(0.0), 0),\n",
              " (np.float64(0.0), 0),\n",
              " (np.float64(0.002765723427657234), 1),\n",
              " (np.float64(0.0), 0),\n",
              " (np.float64(0.0), 0),\n",
              " (np.float64(0.0), 0),\n",
              " (np.float64(0.0), 0),\n",
              " (np.float64(0.0), 0),\n",
              " (np.float64(0.002766723327667233), 1),\n",
              " (np.float64(0.0), 0),\n",
              " (np.float64(0.0), 0),\n",
              " (np.float64(0.0027677232276772322), 1),\n",
              " (np.float64(0.0), 0),\n",
              " (np.float64(0.0027687231276872317), 1),\n",
              " (np.float64(0.005538446155384463), 1),\n",
              " (np.float64(0.008309169083091691), 1),\n",
              " (np.float64(0.0010808919108089192), 0),\n",
              " (np.float64(0.0038526147385261472), 1),\n",
              " (np.float64(0.006625337466253375), 1),\n",
              " (np.float64(0.0), 0),\n",
              " (np.float64(0.002773722627737226), 1),\n",
              " (np.float64(0.005548445155484452), 1),\n",
              " (np.float64(0.008324167583241676), 1),\n",
              " (np.float64(0.0011008899110088993), 0),\n",
              " (np.float64(0.0), 0),\n",
              " (np.float64(0.0027767223277672236), 1),\n",
              " (np.float64(0.0), 0),\n",
              " (np.float64(0.0), 0),\n",
              " (np.float64(0.0), 0),\n",
              " (np.float64(0.002777722227777222), 1),\n",
              " (np.float64(0.005556444355564443), 1),\n",
              " (np.float64(0.0), 0),\n",
              " (np.float64(0.0), 0),\n",
              " (np.float64(0.0027797220277972204), 1),\n",
              " (np.float64(0.0), 0),\n",
              " (np.float64(0.0), 0),\n",
              " (np.float64(0.0), 0),\n",
              " (np.float64(0.0027807219278072194), 1),\n",
              " (np.float64(0.0), 0),\n",
              " (np.float64(0.0027817218278172184), 1),\n",
              " (np.float64(0.0055644435556444355), 1),\n",
              " (np.float64(0.008348165183481653), 1),\n",
              " (np.float64(0.0011328867113288678), 0),\n",
              " (np.float64(0.003917608239176083), 1),\n",
              " (np.float64(0.006703329667033298), 1),\n",
              " (np.float64(0.00949005099490051), 1),\n",
              " (np.float64(0.0022777722227777233), 0),\n",
              " (np.float64(0.005065493450654936), 1),\n",
              " (np.float64(0.007854214578542148), 1),\n",
              " (np.float64(0.0006439356064393588), 0),\n",
              " (np.float64(0.0), 0),\n",
              " (np.float64(0.002789721027897211), 1),\n",
              " (np.float64(0.0), 0),\n",
              " (np.float64(0.00279072092790721), 1),\n",
              " (np.float64(0.0), 0),\n",
              " (np.float64(0.0), 0),\n",
              " (np.float64(0.002791720827917208), 1),\n",
              " (np.float64(0.0), 0),\n",
              " (np.float64(0.002792720727927207), 1),\n",
              " (np.float64(0.0), 0),\n",
              " (np.float64(0.0), 0),\n",
              " (np.float64(0.002793720627937206), 1),\n",
              " (np.float64(0.005588441155884412), 1),\n",
              " (np.float64(0.0), 0),\n",
              " (np.float64(0.0), 0),\n",
              " (np.float64(0.0), 0),\n",
              " (np.float64(0.0027957204279572046), 1),\n",
              " (np.float64(0.005592440755924409), 1),\n",
              " (np.float64(0.0), 0),\n",
              " (np.float64(0.002797720227977202), 1),\n",
              " (np.float64(0.0), 0),\n",
              " (np.float64(0.0), 0),\n",
              " (np.float64(0.002798720127987201), 1),\n",
              " (np.float64(0.0055984401559844), 1),\n",
              " (np.float64(0.0), 0),\n",
              " (np.float64(0.0), 0),\n",
              " (np.float64(0.0), 0),\n",
              " (np.float64(0.0), 0),\n",
              " (np.float64(0.0028007199280071994), 1),\n",
              " (np.float64(0.005602439756024398), 1),\n",
              " (np.float64(0.0), 0),\n",
              " (np.float64(0.0028027197280271975), 1),\n",
              " (np.float64(0.0), 0),\n",
              " (np.float64(0.0), 0),\n",
              " (np.float64(0.0), 0),\n",
              " (np.float64(0.0), 0),\n",
              " (np.float64(0.0), 0),\n",
              " (np.float64(0.002803719628037197), 1),\n",
              " (np.float64(0.0), 0),\n",
              " (np.float64(0.0028047195280471947), 1),\n",
              " (np.float64(0.005610438956104389), 1),\n",
              " (np.float64(0.0), 0),\n",
              " (np.float64(0.0028067193280671933), 1),\n",
              " (np.float64(0.005614438556144385), 1),\n",
              " (np.float64(0.0), 0),\n",
              " (np.float64(0.0), 0),\n",
              " (np.float64(0.0), 0),\n",
              " (np.float64(0.0), 0),\n",
              " (np.float64(0.0028087191280871913), 1),\n",
              " (np.float64(0.005618438156184382), 1),\n",
              " (np.float64(0.0), 0),\n",
              " (np.float64(0.00281071892810719), 1),\n",
              " (np.float64(0.0), 0),\n",
              " (np.float64(0.002811718828117188), 1),\n",
              " (np.float64(0.0), 0),\n",
              " (np.float64(0.002812718728127187), 1),\n",
              " (np.float64(0.005626437356264374), 1),\n",
              " (np.float64(0.0), 0),\n",
              " (np.float64(0.0028147185281471856), 1),\n",
              " (np.float64(0.00563043695630437), 1),\n",
              " (np.float64(0.008447155284471554), 1),\n",
              " (np.float64(0.011264873512648736), 1),\n",
              " (np.float64(0.004083591640835917), 0),\n",
              " (np.float64(0.0), 0),\n",
              " (np.float64(0.0), 0),\n",
              " (np.float64(0.002818718128187181), 1),\n",
              " (np.float64(0.0056384361563843605), 1),\n",
              " (np.float64(0.00845915408459154), 1),\n",
              " (np.float64(0.0012808719128087186), 0),\n",
              " (np.float64(0.0), 0),\n",
              " (np.float64(0.0), 0),\n",
              " (np.float64(0.0028217178282171785), 1),\n",
              " (np.float64(0.0), 0),\n",
              " (np.float64(0.0), 0),\n",
              " (np.float64(0.0), 0),\n",
              " (np.float64(0.0028227177282271775), 1),\n",
              " (np.float64(0.0), 0),\n",
              " (np.float64(0.0), 0),\n",
              " (np.float64(0.0), 0),\n",
              " (np.float64(0.0), 0),\n",
              " (np.float64(0.0), 0),\n",
              " (np.float64(0.002823717628237177), 1),\n",
              " (np.float64(0.0), 0),\n",
              " (np.float64(0.0028247175282471748), 1),\n",
              " (np.float64(0.0), 0),\n",
              " (np.float64(0.0028257174282571742), 1),\n",
              " (np.float64(0.005652434756524348), 1),\n",
              " (np.float64(0.0), 0),\n",
              " (np.float64(0.0028277172282771723), 1),\n",
              " (np.float64(0.005656434356564344), 1),\n",
              " (np.float64(0.0), 0),\n",
              " (np.float64(0.0), 0),\n",
              " (np.float64(0.0), 0),\n",
              " (np.float64(0.0), 0),\n",
              " (np.float64(0.002829717028297171), 1),\n",
              " (np.float64(0.00566043395660434), 1),\n",
              " (np.float64(0.0), 0),\n",
              " (np.float64(0.002831716828317168), 1),\n",
              " (np.float64(0.005664433556644335), 1),\n",
              " (np.float64(0.008498150184981502), 1),\n",
              " (np.float64(0.0013328667133286672), 0),\n",
              " (np.float64(0.0), 0),\n",
              " (np.float64(0.002834716528347165), 1),\n",
              " (np.float64(0.00567043295670433), 1),\n",
              " (np.float64(0.008507149285071493), 1),\n",
              " (np.float64(0.001344865513448654), 0),\n",
              " (np.float64(0.0041825817418258155), 1),\n",
              " (np.float64(0.0070212978702129765), 1),\n",
              " (np.float64(0.009861013898610136), 1),\n",
              " (np.float64(0.002701729827017295), 0),\n",
              " (np.float64(0.005542445755424454), 1),\n",
              " (np.float64(0.0), 0),\n",
              " (np.float64(0.0), 0),\n",
              " (np.float64(0.0028417158284171585), 1),\n",
              " (np.float64(0.005684431556844316), 1),\n",
              " (np.float64(0.0), 0),\n",
              " (np.float64(0.0028437156284371566), 1),\n",
              " (np.float64(0.005688431156884312), 1),\n",
              " (np.float64(0.008534146585341466), 1),\n",
              " (np.float64(0.0013808619138086188), 0),\n",
              " (np.float64(0.0), 0),\n",
              " (np.float64(0.0028467153284671533), 1),\n",
              " (np.float64(0.0), 0),\n",
              " (np.float64(0.0028477152284771524), 1),\n",
              " (np.float64(0.005696430356964304), 1),\n",
              " (np.float64(0.0), 0),\n",
              " (np.float64(0.002849715028497151), 1),\n",
              " (np.float64(0.0057004299570043), 1),\n",
              " (np.float64(0.0), 0),\n",
              " (np.float64(0.0), 0),\n",
              " (np.float64(0.0), 0),\n",
              " (np.float64(0.002851714828517148), 1),\n",
              " (np.float64(0.005704429557044295), 1),\n",
              " (np.float64(0.008558144185581441), 1),\n",
              " (np.float64(0.011412858714128586), 1),\n",
              " (np.float64(0.014268573142685731), 1),\n",
              " (np.float64(0.0071252874712528745), 0),\n",
              " (np.float64(0.0), 0),\n",
              " (np.float64(0.0028567143285671438), 1),\n",
              " (np.float64(0.005714428557144286), 1),\n",
              " (np.float64(0.0), 0),\n",
              " (np.float64(0.002858714128587141), 1),\n",
              " (np.float64(0.0), 0),\n",
              " (np.float64(0.00285971402859714), 1),\n",
              " (np.float64(0.0), 0),\n",
              " (np.float64(0.0), 0),\n",
              " (np.float64(0.0028607139286071395), 1),\n",
              " (np.float64(0.0), 0),\n",
              " (np.float64(0.0), 0),\n",
              " (np.float64(0.0), 0),\n",
              " (np.float64(0.0028617138286171385), 1),\n",
              " (np.float64(0.005724427557244276), 1),\n",
              " (np.float64(0.0), 0),\n",
              " (np.float64(0.0028637136286371366), 1),\n",
              " (np.float64(0.005728427157284272), 1),\n",
              " (np.float64(0.008594140585941407), 1),\n",
              " (np.float64(0.0014608539146085397), 0),\n",
              " (np.float64(0.004327567243275673), 1),\n",
              " (np.float64(0.007195280471952805), 1),\n",
              " (np.float64(6.399360063993626e-05), 0),\n",
              " (np.float64(0.0), 0),\n",
              " (np.float64(0.0), 0),\n",
              " (np.float64(0.0), 0),\n",
              " (np.float64(0.0), 0),\n",
              " (np.float64(0.0028687131286871314), 1),\n",
              " (np.float64(0.0), 0),\n",
              " (np.float64(0.0), 0),\n",
              " (np.float64(0.0), 0),\n",
              " (np.float64(0.0), 0),\n",
              " (np.float64(0.0), 0),\n",
              " (np.float64(0.0), 0),\n",
              " (np.float64(0.0028697130286971305), 1),\n",
              " (np.float64(0.0), 0),\n",
              " (np.float64(0.0), 0),\n",
              " (np.float64(0.0), 0),\n",
              " (np.float64(0.0), 0),\n",
              " (np.float64(0.0), 0),\n",
              " (np.float64(0.0), 0),\n",
              " (np.float64(0.0), 0),\n",
              " (np.float64(0.00287071292870713), 1),\n",
              " (np.float64(0.005742425757424258), 1),\n",
              " (np.float64(0.0), 0),\n",
              " (np.float64(0.002872712728727127), 1),\n",
              " (np.float64(0.005746425357464254), 1),\n",
              " (np.float64(0.0), 0),\n",
              " (np.float64(0.0028747125287471253), 1),\n",
              " (np.float64(0.00575042495750425), 1),\n",
              " (np.float64(0.008627137286271375), 1),\n",
              " (np.float64(0.011504849515048496), 1),\n",
              " (np.float64(0.014383561643835616), 1),\n",
              " (np.float64(0.017263273672632737), 1),\n",
              " (np.float64(0.010143985601439856), 0),\n",
              " (np.float64(0.013024697530246975), 1),\n",
              " (np.float64(0.005906409359064093), 0),\n",
              " (np.float64(0.0), 0),\n",
              " (np.float64(0.0), 0),\n",
              " (np.float64(0.0), 0),\n",
              " (np.float64(0.0), 0),\n",
              " (np.float64(0.0), 0),\n",
              " (np.float64(0.0028817118288171186), 1),\n",
              " (np.float64(0.005764423557644236), 1),\n",
              " (np.float64(0.008648135186481352), 1),\n",
              " (np.float64(0.011532846715328468), 1),\n",
              " (np.float64(0.014418558144185582), 1),\n",
              " (np.float64(0.007305269473052695), 0),\n",
              " (np.float64(0.010191980801919808), 1),\n",
              " (np.float64(0.013079692030796921), 1),\n",
              " (np.float64(0.015968403159684032), 1),\n",
              " (np.float64(0.008858114188581144), 0),\n",
              " (np.float64(0.0017478252174782547), 0),\n",
              " (np.float64(0.0), 0),\n",
              " (np.float64(0.0), 0),\n",
              " (np.float64(0.0), 0),\n",
              " (np.float64(0.0), 0),\n",
              " (np.float64(0.0), 0),\n",
              " (np.float64(0.0028897110288971105), 1),\n",
              " (np.float64(0.0057804219578042205), 1),\n",
              " (np.float64(0.008672132786721328), 1),\n",
              " (np.float64(0.0015648435156484343), 0),\n",
              " (np.float64(0.0), 0),\n",
              " (np.float64(0.002892710728927107), 1),\n",
              " (np.float64(0.005786421357864214), 1),\n",
              " (np.float64(0.0), 0),\n",
              " (np.float64(0.0), 0),\n",
              " (np.float64(0.0028947105289471053), 1),\n",
              " (np.float64(0.00579042095790421), 1),\n",
              " (np.float64(0.0), 0),\n",
              " (np.float64(0.002896710328967104), 1),\n",
              " (np.float64(0.0), 0),\n",
              " (np.float64(0.002897710228977103), 1),\n",
              " (np.float64(0.0), 0),\n",
              " (np.float64(0.002898710128987101), 1),\n",
              " (np.float64(0.0), 0),\n",
              " (np.float64(0.0028997100289971), 1),\n",
              " (np.float64(0.0058004199580042), 1),\n",
              " (np.float64(0.008702129787021298), 1),\n",
              " (np.float64(0.0016048395160483953), 0),\n",
              " (np.float64(0.0), 0),\n",
              " (np.float64(0.0029027097290270976), 1),\n",
              " (np.float64(0.0), 0),\n",
              " (np.float64(0.0029037096290370967), 1),\n",
              " (np.float64(0.0), 0),\n",
              " (np.float64(0.002904709529047095), 1),\n",
              " (np.float64(0.005810418958104189), 1),\n",
              " (np.float64(0.0), 0),\n",
              " (np.float64(0.0), 0),\n",
              " (np.float64(0.002906709329067093), 1),\n",
              " (np.float64(0.005814418558144185), 1),\n",
              " (np.float64(0.0), 0),\n",
              " (np.float64(0.0029087091290870915), 1),\n",
              " (np.float64(0.005818418158184182), 1),\n",
              " (np.float64(0.008729127087291271), 1),\n",
              " (np.float64(0.01164083591640836), 1),\n",
              " (np.float64(0.004553544645535446), 0),\n",
              " (np.float64(0.0), 0),\n",
              " (np.float64(0.0), 0),\n",
              " (np.float64(0.0), 0),\n",
              " (np.float64(0.0029127087291270872), 1),\n",
              " (np.float64(0.005826417358264174), 1),\n",
              " (np.float64(0.0), 0),\n",
              " (np.float64(0.0029147085291470853), 1),\n",
              " (np.float64(0.0), 0),\n",
              " (np.float64(0.0029157084291570844), 1),\n",
              " (np.float64(0.0), 0),\n",
              " (np.float64(0.002916708329167084), 1),\n",
              " (np.float64(0.0), 0),\n",
              " (np.float64(0.0), 0),\n",
              " (np.float64(0.0), 0),\n",
              " (np.float64(0.0), 0),\n",
              " (np.float64(0.0), 0),\n",
              " (np.float64(0.0), 0),\n",
              " (np.float64(0.002917708229177083), 1),\n",
              " (np.float64(0.0), 0),\n",
              " (np.float64(0.0), 0),\n",
              " (np.float64(0.002918708129187081), 1),\n",
              " (np.float64(0.0), 0),\n",
              " (np.float64(0.0), 0),\n",
              " (np.float64(0.0), 0),\n",
              " (np.float64(0.0), 0),\n",
              " (np.float64(0.00291970802919708), 1),\n",
              " (np.float64(0.0), 0),\n",
              " (np.float64(0.002920707929207079), 1),\n",
              " (np.float64(0.0), 0),\n",
              " (np.float64(0.0), 0),\n",
              " (np.float64(0.0), 0),\n",
              " (np.float64(0.0029217078292170786), 1),\n",
              " (np.float64(0.0), 0),\n",
              " (np.float64(0.0029227077292270777), 1),\n",
              " (np.float64(0.005846415358464155), 1),\n",
              " (np.float64(0.0), 0),\n",
              " (np.float64(0.002924707529247075), 1),\n",
              " (np.float64(0.0), 0),\n",
              " (np.float64(0.0), 0),\n",
              " (np.float64(0.002925707429257074), 1),\n",
              " (np.float64(0.0058524147585241465), 1),\n",
              " (np.float64(0.0), 0),\n",
              " (np.float64(0.0), 0),\n",
              " (np.float64(0.0), 0),\n",
              " (np.float64(0.0), 0),\n",
              " (np.float64(0.0), 0),\n",
              " (np.float64(0.0), 0),\n",
              " (np.float64(0.0029277072292770725), 1),\n",
              " (np.float64(0.0), 0),\n",
              " (np.float64(0.0), 0),\n",
              " (np.float64(0.0029287071292870715), 1),\n",
              " (np.float64(0.005858414158584142), 1),\n",
              " (np.float64(0.0), 0),\n",
              " (np.float64(0.00293070692930707), 1),\n",
              " (np.float64(0.0), 0),\n",
              " (np.float64(0.0029317068293170678), 1),\n",
              " (np.float64(0.0), 0),\n",
              " (np.float64(0.0), 0),\n",
              " (np.float64(0.0029327067293270673), 1),\n",
              " (np.float64(0.0), 0),\n",
              " (np.float64(0.0), 0),\n",
              " (np.float64(0.0), 0),\n",
              " (np.float64(0.0029337066293370663), 1),\n",
              " (np.float64(0.005868413158684131), 1),\n",
              " (np.float64(0.008804119588041195), 1),\n",
              " (np.float64(0.0017408259174082584), 0),\n",
              " (np.float64(0.004677532246775322), 1),\n",
              " (np.float64(0.007615238476152385), 1),\n",
              " (np.float64(0.010553944605539446), 1),\n",
              " (np.float64(0.013493650634936506), 1),\n",
              " (np.float64(0.016434356564343566), 1),\n",
              " (np.float64(0.009376062393760624), 0),\n",
              " (np.float64(0.0023177682231776825), 0),\n",
              " (np.float64(0.0), 0),\n",
              " (np.float64(0.0029417058294170587), 1),\n",
              " (np.float64(0.0), 0),\n",
              " (np.float64(0.0), 0),\n",
              " (np.float64(0.0), 0),\n",
              " (np.float64(0.0029427057294270577), 1),\n",
              " (np.float64(0.0), 0),\n",
              " (np.float64(0.0), 0),\n",
              " (np.float64(0.0), 0),\n",
              " (np.float64(0.0), 0),\n",
              " (np.float64(0.0), 0),\n",
              " (np.float64(0.0), 0),\n",
              " (np.float64(0.0029437056294370567), 1),\n",
              " (np.float64(0.0), 0),\n",
              " (np.float64(0.002944705529447055), 1),\n",
              " (np.float64(0.0), 0),\n",
              " (np.float64(0.0), 0),\n",
              " (np.float64(0.0), 0),\n",
              " (np.float64(0.002945705429457054), 1),\n",
              " (np.float64(0.0), 0),\n",
              " (np.float64(0.0), 0),\n",
              " (np.float64(0.0), 0),\n",
              " (np.float64(0.0), 0),\n",
              " (np.float64(0.002946705329467053), 1),\n",
              " (np.float64(0.0), 0),\n",
              " (np.float64(0.0029477052294770525), 1),\n",
              " (np.float64(0.0058964103589641045), 1),\n",
              " (np.float64(0.008846115388461155), 1),\n",
              " (np.float64(0.011796820317968205), 1),\n",
              " (np.float64(0.014748525147485253), 1),\n",
              " ...]"
            ]
          },
          "metadata": {},
          "execution_count": 47
        }
      ]
    },
    {
      "cell_type": "markdown",
      "id": "aecad7b0",
      "metadata": {
        "id": "aecad7b0"
      },
      "source": [
        "### Requirement 4: best-of-both-worlds algorithms with multiple products"
      ]
    },
    {
      "cell_type": "code",
      "execution_count": null,
      "id": "8acf080d",
      "metadata": {
        "id": "8acf080d"
      },
      "outputs": [],
      "source": []
    },
    {
      "cell_type": "markdown",
      "id": "6bf731ab",
      "metadata": {
        "id": "6bf731ab"
      },
      "source": [
        "### Requirement 5: slightly non-stationary environments with multiple products"
      ]
    },
    {
      "cell_type": "code",
      "execution_count": null,
      "id": "af95329c",
      "metadata": {
        "id": "af95329c"
      },
      "outputs": [],
      "source": []
    }
  ],
  "metadata": {
    "colab": {
      "provenance": []
    },
    "kernelspec": {
      "display_name": "Python 3",
      "language": "python",
      "name": "python3"
    },
    "language_info": {
      "codemirror_mode": {
        "name": "ipython",
        "version": 3
      },
      "file_extension": ".py",
      "mimetype": "text/x-python",
      "name": "python",
      "nbconvert_exporter": "python",
      "pygments_lexer": "ipython3",
      "version": "3.12.7"
    }
  },
  "nbformat": 4,
  "nbformat_minor": 5
}