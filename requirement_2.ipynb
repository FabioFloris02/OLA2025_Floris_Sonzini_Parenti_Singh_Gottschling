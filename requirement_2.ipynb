{
  "cells": [
    {
      "cell_type": "markdown",
      "id": "e9601898",
      "metadata": {
        "id": "e9601898"
      },
      "source": [
        "# Requirement 2\n",
        "## *Multiple product and stochastic environment*"
      ]
    },
    {
      "cell_type": "code",
      "execution_count": 1,
      "id": "aa6f5b88",
      "metadata": {
        "id": "aa6f5b88"
      },
      "outputs": [],
      "source": [
        "import numpy as np\n",
        "import matplotlib.pyplot as plt\n",
        "from scipy import stats\n",
        "from scipy import optimize"
      ]
    },
    {
      "cell_type": "markdown",
      "id": "b2f0ef44",
      "metadata": {
        "id": "b2f0ef44"
      },
      "source": [
        "### Environment\n",
        "A stochastic environment, where we have a joint distribution over the valuations of all the types of products"
      ]
    },
    {
      "cell_type": "code",
      "execution_count": 2,
      "id": "239d6565",
      "metadata": {
        "id": "239d6565"
      },
      "outputs": [],
      "source": [
        "class MultipleProductEnvironment:\n",
        "  def __init__(self, T, N, valuations_distr):\n",
        "    self.T = T # Number of buyers (rounds)\n",
        "    self.N = N # Number of types of products\n",
        "    self.t = 0 # Current buyer\n",
        "    # Valuation of each buyer sampled from the given distribution function\n",
        "    self.valuations = []\n",
        "    for distr in valuations_distr:\n",
        "      self.valuations.append(distr.rvs(size=T))\n",
        "\n",
        "    self.valuations = np.array(self.valuations).transpose()\n",
        "\n",
        "  def round(self, p_t):\n",
        "    reward = np.array([])\n",
        "\n",
        "    # Check if the buyer valuations are higher than products prices\n",
        "    for valuation, price in zip(self.valuations[self.t, :], p_t):\n",
        "      if valuation >= price:\n",
        "        reward = np.append(reward, price)\n",
        "      else:\n",
        "        reward = np.append(reward, 0.)\n",
        "\n",
        "    # Update round\n",
        "    self.t = self.t + 1\n",
        "    return reward"
      ]
    },
    {
      "cell_type": "markdown",
      "id": "61a4eef3",
      "metadata": {
        "id": "61a4eef3"
      },
      "source": [
        "### Agent - *Combinatorial-UCB algorithm* **with inventory constraint**"
      ]
    },
    {
      "cell_type": "code",
      "execution_count": 3,
      "id": "4fc98693",
      "metadata": {
        "id": "4fc98693"
      },
      "outputs": [],
      "source": [
        "class CombinatorialUCB:\n",
        "    def __init__(self, T, B, P, N, range=1):\n",
        "        self.T = T\n",
        "        self.P = P\n",
        "        self.N = N\n",
        "        self.budget = B\n",
        "        self.range = range\n",
        "\n",
        "        self.avg_f = np.zeros((N, P))\n",
        "        self.avg_c = np.zeros((N, P))\n",
        "        self.N_pulls = np.zeros((N, P))\n",
        "\n",
        "        self.pi_t = None\n",
        "\n",
        "        self.t = 0\n",
        "\n",
        "    def compute_opt(self, f_ucbs, c_lcbs):\n",
        "        # Total variables\n",
        "        tot_vars = self.N * self.P\n",
        "\n",
        "        # Per-round budget\n",
        "        rho = (self.budget / (self.T - self.t + 1)) + 1.5\n",
        "\n",
        "        # Variables\n",
        "        c = -f_ucbs\n",
        "\n",
        "        A_ub = [c_lcbs]\n",
        "        b_ub = [rho]\n",
        "\n",
        "        A_eq = []\n",
        "        b_eq = []\n",
        "        var_index = 0\n",
        "        for i in range(self.N):\n",
        "            eq_row = np.zeros(tot_vars)\n",
        "            eq_row[var_index:var_index + self.P] = 1\n",
        "            A_eq.append(eq_row)\n",
        "            b_eq.append(1)\n",
        "            var_index = var_index + self.P\n",
        "\n",
        "        res = optimize.linprog(\n",
        "            c,\n",
        "            A_ub=A_ub,\n",
        "            b_ub=b_ub,\n",
        "            A_eq=A_eq,\n",
        "            b_eq=b_eq,\n",
        "            bounds=[(0, 1) for _ in range(tot_vars)]\n",
        "        )\n",
        "\n",
        "        if res.success:\n",
        "            gamma = []\n",
        "            solution = res.x\n",
        "            var_index = 0\n",
        "            for i in range(self.N):\n",
        "                gamma_i = solution[var_index : var_index + self.P]\n",
        "                gamma_i = gamma_i / gamma_i.sum()  # Ensure normalization\n",
        "                gamma_i = np.abs(gamma_i)\n",
        "                gamma.append(gamma_i)\n",
        "                var_index = var_index + self.P\n",
        "            return gamma\n",
        "        else:\n",
        "            # Select UCB-maximizing price for each product\n",
        "            return [np.eye(self.P)[np.argmax(f_ucbs[i])] for i in range(self.N)]\n",
        "\n",
        "    def pull_arm(self):\n",
        "        # Check if budget is depleted\n",
        "        if self.budget < 1:\n",
        "            return np.array([None  for _ in range(self.N)])\n",
        "\n",
        "        # Exploration: try each price vector at least once\n",
        "        if self.t < self.P:\n",
        "            self.pi_t = np.array([self.t for _ in range(self.N)])\n",
        "        else:\n",
        "            # Initialize f_ucb and c_ucb for each arm (matrix)\n",
        "            f_ucbs = np.zeros(self.avg_f.shape, dtype=float)\n",
        "            c_lcbs = np.zeros(self.avg_c.shape, dtype=float)\n",
        "\n",
        "            # For each unexplored arm, set a large value of f_ucb and 0 c_ucb\n",
        "            #large_value = (1 + np.sqrt(2*np.log(self.T)/1))*10\n",
        "            large_value = 1e10\n",
        "            unexplored = (self.N_pulls == 0)\n",
        "            f_ucbs[unexplored] = large_value\n",
        "            c_lcbs[unexplored] = 0\n",
        "\n",
        "            # Get the mask of the arms that have been pulled at least one time\n",
        "            # and then set the f_ucb and c_ucb for these arms\n",
        "            mask = self.N_pulls > 0\n",
        "            f_ucbs[mask] = self.avg_f[mask] + self.range * np.sqrt(2 * np.log(self.T)/self.N_pulls[mask])\n",
        "            c_lcbs[mask] = self.avg_c[mask] - self.range * np.sqrt( 2 * np.log(self.T)/self.N_pulls[mask])\n",
        "            c_lcbs[c_lcbs < 0] = 0\n",
        "\n",
        "            # Optimal distribution over superarms\n",
        "            gamma = self.compute_opt(f_ucbs.reshape(-1), c_lcbs.reshape(-1))\n",
        "\n",
        "            # Set current prices\n",
        "            sampled_indices = []\n",
        "            for i in range(self.N):\n",
        "                sampled_indices.append(np.random.choice(self.P, p=gamma[i]))\n",
        "            self.pi_t = sampled_indices\n",
        "\n",
        "        return self.pi_t\n",
        "\n",
        "    def update(self, f_t, c_t):\n",
        "        # Update the number of pulls of each arm in played superarm\n",
        "        for i in range(self.N):\n",
        "            self.N_pulls[i][self.pi_t[i]] += 1\n",
        "\n",
        "            # Update empirical means\n",
        "            self.avg_f[i][self.pi_t[i]] += (f_t[i] - self.avg_f[i][self.pi_t[i]])/self.N_pulls[i][self.pi_t[i]]\n",
        "            self.avg_c[i][self.pi_t[i]] += (c_t[i] - self.avg_c[i][self.pi_t[i]])/self.N_pulls[i][self.pi_t[i]]\n",
        "\n",
        "        # Update budget\n",
        "        self.budget = self.budget - np.sum(c_t)\n",
        "\n",
        "        self.t += 1"
      ]
    },
    {
      "cell_type": "markdown",
      "id": "6b0b80cc",
      "metadata": {
        "id": "6b0b80cc"
      },
      "source": [
        "### Clairvoyant - **with inventory constraint**"
      ]
    },
    {
      "cell_type": "code",
      "execution_count": 4,
      "id": "323d2c26",
      "metadata": {
        "id": "323d2c26"
      },
      "outputs": [],
      "source": [
        "class MultipleProductInventoryClairvoyant:\n",
        "    def __init__(self, T, B, N, prices, valuations_distr):\n",
        "        self.T = T\n",
        "        self.prices = prices\n",
        "        self.budget = B\n",
        "        self.N = N\n",
        "        self.P = len(prices)\n",
        "\n",
        "        self.valuations_distr = valuations_distr\n",
        "\n",
        "    def get_selling_probabilities(self):\n",
        "        obj = [1 - distr.cdf(self.prices) for distr in self.valuations_distr]\n",
        "        return np.array(obj)\n",
        "\n",
        "    def run(self):\n",
        "        # Probability of selling of each price for each chosen distributions of product valuations\n",
        "        selling_prob = self.get_selling_probabilities()\n",
        "\n",
        "        # Per-round budget\n",
        "        rho = np.sum(np.min(selling_prob, axis=1)) + 1\n",
        "\n",
        "        # Number of variables\n",
        "        tot_vars = self.N * self.P\n",
        "\n",
        "        # Linear programming\n",
        "        c = -(selling_prob * self.prices).reshape(-1)\n",
        "\n",
        "        A_ub = [selling_prob.reshape(-1)]\n",
        "        b_ub = [rho]\n",
        "\n",
        "        A_eq = []\n",
        "        b_eq = []\n",
        "        var_index = 0\n",
        "        for _ in range(self.N):\n",
        "            eq_row = np.zeros(tot_vars)\n",
        "            eq_row[var_index:var_index + self.P] = 1\n",
        "            A_eq.append(eq_row)\n",
        "            b_eq.append(1)\n",
        "            var_index = var_index + self.P\n",
        "\n",
        "        res = optimize.linprog(\n",
        "            c,\n",
        "            A_ub=A_ub,\n",
        "            b_ub=b_ub,\n",
        "            A_eq=A_eq,\n",
        "            b_eq=b_eq,\n",
        "            bounds=[(0, 1) for _ in range(tot_vars)]\n",
        "        )\n",
        "\n",
        "        expected_utility = np.array([-res.fun for _ in range(self.T)])\n",
        "\n",
        "        return expected_utility"
      ]
    },
    {
      "cell_type": "markdown",
      "id": "b18debb7",
      "metadata": {
        "id": "b18debb7"
      },
      "source": [
        "### Execution"
      ]
    },
    {
      "cell_type": "code",
      "execution_count": 5,
      "id": "3fc08c47",
      "metadata": {
        "id": "3fc08c47"
      },
      "outputs": [],
      "source": [
        "# Parameters\n",
        "T = 10000\n",
        "B = T * 75/100\n",
        "\n",
        "# Prices\n",
        "max_price = 1\n",
        "price_step = 0.2\n",
        "prices = np.arange(0, max_price, price_step)\n",
        "P = len(prices)\n",
        "\n",
        "# Valuation prob. distribution\n",
        "valuations_distr = [\n",
        "    stats.norm(loc=0.5, scale=1),\n",
        "    stats.beta(a=3, b=2),\n",
        "    stats.beta(a=2, b=20),\n",
        "]\n",
        "\n",
        "N = len(valuations_distr)"
      ]
    },
    {
      "cell_type": "code",
      "execution_count": 6,
      "id": "b78b9bb8",
      "metadata": {
        "id": "b78b9bb8",
        "outputId": "b72aba3d-d704-435b-ea9d-2ddec318cc62",
        "colab": {
          "base_uri": "https://localhost:8080/"
        }
      },
      "outputs": [
        {
          "output_type": "execute_result",
          "data": {
            "text/plain": [
              "array([0.64552008, 0.64552008, 0.64552008, ..., 0.64552008, 0.64552008,\n",
              "       0.64552008])"
            ]
          },
          "metadata": {},
          "execution_count": 6
        }
      ],
      "source": [
        "# Run clairvoyant\n",
        "clairvoyant = MultipleProductInventoryClairvoyant(T, B, N, prices, valuations_distr)\n",
        "expected_clairvoyant_utilities = clairvoyant.run()\n",
        "expected_clairvoyant_utilities"
      ]
    },
    {
      "cell_type": "code",
      "execution_count": 7,
      "id": "560a94ad",
      "metadata": {
        "id": "560a94ad"
      },
      "outputs": [],
      "source": [
        "n_trials = 10\n",
        "regret_per_trial = []\n",
        "for trial in range(n_trials):\n",
        "\n",
        "  # Define environment and agent\n",
        "  env = MultipleProductEnvironment(T, N, valuations_distr)\n",
        "  combinatorial_ucb = CombinatorialUCB(T, B, P, N, range=max_price)\n",
        "\n",
        "  agent_rewards = []\n",
        "  for t in range(T):\n",
        "    # This returns the price index\n",
        "    pi_t = combinatorial_ucb.pull_arm()\n",
        "\n",
        "    # Check if budget is depleted -> reward always 0\n",
        "    if np.any(pi_t == None):\n",
        "      r_t = np.zeros(N)\n",
        "    else:\n",
        "      # Get the actual price\n",
        "      p_t = prices[pi_t]\n",
        "\n",
        "      # Get rewardx\n",
        "      r_t = env.round(p_t)\n",
        "\n",
        "      # Update agent state\n",
        "      combinatorial_ucb.update(r_t, r_t > 0.)\n",
        "\n",
        "    agent_rewards.append(np.sum(r_t))\n",
        "\n",
        "  agent_rewards = np.array(agent_rewards)\n",
        "  cumulative_regret = np.cumsum(expected_clairvoyant_utilities - agent_rewards)\n",
        "  regret_per_trial.append(cumulative_regret)\n",
        "\n",
        "regret_per_trial = np.array(regret_per_trial)\n",
        "average_regret = regret_per_trial.mean(axis=0) # mean\n",
        "regret_sd = regret_per_trial.std(axis=0) # standard deviation"
      ]
    },
    {
      "cell_type": "markdown",
      "id": "59d67316",
      "metadata": {
        "id": "59d67316"
      },
      "source": [
        "### Results"
      ]
    },
    {
      "cell_type": "code",
      "execution_count": 12,
      "id": "664a3755",
      "metadata": {
        "id": "664a3755",
        "outputId": "19a4c906-7577-42fc-dc7c-cdc1724e7677",
        "colab": {
          "base_uri": "https://localhost:8080/",
          "height": 487
        }
      },
      "outputs": [
        {
          "output_type": "display_data",
          "data": {
            "text/plain": [
              "<Figure size 640x480 with 1 Axes>"
            ],
            "image/png": "[encoded data removed]"
          },
          "metadata": {}
        }
      ],
      "source": [
        "plt.plot(np.arange(T), average_regret, label=f'Regret')\n",
        "plt.fill_between(\n",
        "    np.arange(T),\n",
        "    average_regret-regret_sd/np.sqrt(n_trials),\n",
        "    average_regret+regret_sd/np.sqrt(n_trials),\n",
        "    alpha=0.3\n",
        ")\n",
        "\n",
        "t = np.arange(1, T + 1)  # start from 1 to avoid log(0)\n",
        "theoretical_curve = (N*P*t*np.log(t))**(1/2) * (550/((N*P*7000*np.log(7000))**(1/2)))\n",
        "plt.plot(t - 1, theoretical_curve, label=\"$(\\sqrt{NPTlog(T)})$\", linestyle=\"--\", color=\"red\")\n",
        "\n",
        "plt.xlabel(\"$t$\")\n",
        "plt.ylabel(\"Regret\")\n",
        "plt.title(\"Regret\")\n",
        "plt.legend()\n",
        "plt.grid(True)\n",
        "plt.tight_layout()\n",
        "plt.show()"
      ]
    }
  ],
  "metadata": {
    "kernelspec": {
      "display_name": "3.12.7",
      "language": "python",
      "name": "python3"
    },
    "language_info": {
      "codemirror_mode": {
        "name": "ipython",
        "version": 3
      },
      "file_extension": ".py",
      "mimetype": "text/x-python",
      "name": "python",
      "nbconvert_exporter": "python",
      "pygments_lexer": "ipython3",
      "version": "3.12.7"
    },
    "colab": {
      "provenance": []
    }
  },
  "nbformat": 4,
  "nbformat_minor": 5
}